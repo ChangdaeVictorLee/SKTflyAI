{
 "cells": [
  {
   "cell_type": "code",
   "execution_count": 1,
   "id": "41299067",
   "metadata": {},
   "outputs": [],
   "source": [
    "import numpy as np\n",
    "import pandas as pd"
   ]
  },
  {
   "cell_type": "code",
   "execution_count": 2,
   "id": "62fc395b",
   "metadata": {},
   "outputs": [],
   "source": [
    "df = pd.read_csv('C:/Users/019/Desktop/df_total.csv')"
   ]
  },
  {
   "cell_type": "code",
   "execution_count": 3,
   "id": "db465c74",
   "metadata": {
    "scrolled": false
   },
   "outputs": [],
   "source": [
    "df[['시도명', '시군구명', '읍면동명', '읍면동구분명', '번지']] = df[['시도명', '시군구명', '읍면동명', '읍면동구분명', '번지']].fillna('')"
   ]
  },
  {
   "cell_type": "code",
   "execution_count": 4,
   "id": "6ccc7e70",
   "metadata": {
    "scrolled": true
   },
   "outputs": [
    {
     "data": {
      "text/plain": [
       "시도명       object\n",
       "시군구명      object\n",
       "읍면동명      object\n",
       "읍면동구분명    object\n",
       "번지        object\n",
       "dtype: object"
      ]
     },
     "execution_count": 4,
     "metadata": {},
     "output_type": "execute_result"
    }
   ],
   "source": [
    "df[['시도명', '시군구명', '읍면동명', '읍면동구분명', '번지']].dtypes"
   ]
  },
  {
   "cell_type": "code",
   "execution_count": 5,
   "id": "d23488e5",
   "metadata": {
    "scrolled": true
   },
   "outputs": [
    {
     "ename": "SyntaxError",
     "evalue": "invalid syntax (1349424390.py, line 1)",
     "output_type": "error",
     "traceback": [
      "\u001b[1;36m  Input \u001b[1;32mIn [5]\u001b[1;36m\u001b[0m\n\u001b[1;33m    df['읍면동명'] + ' ' + df['읍면동구분명'] + ' ' +\u001b[0m\n\u001b[1;37m                                            ^\u001b[0m\n\u001b[1;31mSyntaxError\u001b[0m\u001b[1;31m:\u001b[0m invalid syntax\n"
     ]
    }
   ],
   "source": [
    "df['읍면동명'] + ' ' + df['읍면동구분명'] + ' ' + "
   ]
  },
  {
   "cell_type": "code",
   "execution_count": 8,
   "id": "d087625b",
   "metadata": {},
   "outputs": [],
   "source": [
    "str_list = ['시도명', '시군구명', '읍면동명', '읍면동구분명', '번지']\n",
    "\n",
    "df['address'] = ''\n",
    "\n",
    "for i in str_list:\n",
    "    df['address'] += df[i] +' '\n",
    "    \n"
   ]
  },
  {
   "cell_type": "code",
   "execution_count": 9,
   "id": "5c1d4974",
   "metadata": {},
   "outputs": [
    {
     "data": {
      "text/plain": [
       "0          강원도 강릉시 죽헌동  108-41 \n",
       "1         강원도 양양군 현남면 상월천리 289 \n",
       "2           강원도 강릉시 대전동  147-3 \n",
       "3            강원도 홍천군 내촌면 물걸리 5 \n",
       "4       강원도 원주시 귀래면 귀래리 1894-3 \n",
       "                 ...           \n",
       "1048        강원도 철원군 철원읍 화지리 21 \n",
       "1049            강원도 태백시 하사미동   \n",
       "1050        강원도 횡성군 안흥면 상안리 35 \n",
       "1051      강원도 강릉시 주문진읍 향호리 126 \n",
       "1052     강원도 홍천군 내촌면 화상대리 산9-2 \n",
       "Name: address, Length: 1053, dtype: object"
      ]
     },
     "execution_count": 9,
     "metadata": {},
     "output_type": "execute_result"
    }
   ],
   "source": [
    "df['address']"
   ]
  },
  {
   "cell_type": "code",
   "execution_count": 29,
   "id": "561b06c4",
   "metadata": {},
   "outputs": [
    {
     "data": {
      "text/plain": [
       "0          강원도 강릉시 죽헌동  108-41\n",
       "1         강원도 양양군 현남면 상월천리 289\n",
       "2           강원도 강릉시 대전동  147-3\n",
       "3            강원도 홍천군 내촌면 물걸리 5\n",
       "4       강원도 원주시 귀래면 귀래리 1894-3\n",
       "                 ...          \n",
       "1048        강원도 철원군 철원읍 화지리 21\n",
       "1049            강원도 태백시 하사미동  \n",
       "1050        강원도 횡성군 안흥면 상안리 35\n",
       "1051      강원도 강릉시 주문진읍 향호리 126\n",
       "1052     강원도 홍천군 내촌면 화상대리 산9-2\n",
       "Length: 1053, dtype: object"
      ]
     },
     "execution_count": 29,
     "metadata": {},
     "output_type": "execute_result"
    }
   ],
   "source": [
    "df['시도명'] + ' ' + df['시군구명'] + ' ' + df['읍면동명'] + ' ' + df['읍면동구분명'] + ' ' + df['번지']"
   ]
  },
  {
   "cell_type": "code",
   "execution_count": 31,
   "id": "4ecb7ae7",
   "metadata": {},
   "outputs": [],
   "source": [
    "\n",
    "\n",
    "lst = df['시도명'] + ' ' + df['시군구명'] + ' ' + df['읍면동명'] + ' ' + df['읍면동구분명'] + ' ' + df['번지']"
   ]
  },
  {
   "cell_type": "code",
   "execution_count": 56,
   "id": "869d657d",
   "metadata": {},
   "outputs": [],
   "source": [
    "lst = df['시도명'] + ' ' + df['시군구명'] + ' ' + df['읍면동명']"
   ]
  },
  {
   "cell_type": "code",
   "execution_count": 32,
   "id": "13f9e38b",
   "metadata": {
    "scrolled": true
   },
   "outputs": [
    {
     "data": {
      "text/plain": [
       "0          강원도 강릉시 죽헌동  108-41\n",
       "1         강원도 양양군 현남면 상월천리 289\n",
       "2           강원도 강릉시 대전동  147-3\n",
       "3            강원도 홍천군 내촌면 물걸리 5\n",
       "4       강원도 원주시 귀래면 귀래리 1894-3\n",
       "                 ...          \n",
       "1048        강원도 철원군 철원읍 화지리 21\n",
       "1049            강원도 태백시 하사미동  \n",
       "1050        강원도 횡성군 안흥면 상안리 35\n",
       "1051      강원도 강릉시 주문진읍 향호리 126\n",
       "1052     강원도 홍천군 내촌면 화상대리 산9-2\n",
       "Length: 1053, dtype: object"
      ]
     },
     "execution_count": 32,
     "metadata": {},
     "output_type": "execute_result"
    }
   ],
   "source": [
    "lst"
   ]
  },
  {
   "cell_type": "code",
   "execution_count": 33,
   "id": "bd9e7025",
   "metadata": {},
   "outputs": [],
   "source": [
    "# https://wonhwa.tistory.com/29"
   ]
  },
  {
   "cell_type": "code",
   "execution_count": 34,
   "id": "a68b584a",
   "metadata": {},
   "outputs": [
    {
     "name": "stdout",
     "output_type": "stream",
     "text": [
      "Collecting geopy\n",
      "  Downloading geopy-2.2.0-py3-none-any.whl (118 kB)\n",
      "Collecting geographiclib<2,>=1.49\n",
      "  Downloading geographiclib-1.52-py3-none-any.whl (38 kB)\n",
      "Installing collected packages: geographiclib, geopy\n",
      "Successfully installed geographiclib-1.52 geopy-2.2.0\n"
     ]
    }
   ],
   "source": [
    "!pip install geopy"
   ]
  },
  {
   "cell_type": "code",
   "execution_count": 52,
   "id": "a6593043",
   "metadata": {},
   "outputs": [],
   "source": [
    "from geopy.geocoders import Nominatim\n",
    "geo_local = Nominatim(user_agent='South Korea')\n",
    "# 위도, 경도 반환하는 함수\n",
    "def geocoding(address):\n",
    "    geo = geo_local.geocode(address)\n",
    "    x_y = [geo.latitude, geo.longitude]\n",
    "    return x_y"
   ]
  },
  {
   "cell_type": "code",
   "execution_count": null,
   "id": "93aaef2b",
   "metadata": {
    "scrolled": true
   },
   "outputs": [],
   "source": [
    "#####주소를 위,경도 값으로 변환하기 #####\n",
    "latitude = []\n",
    "longitude =[]\n",
    "\n",
    "for i in lst:\n",
    "    try:\n",
    "        latitude.append(geocoding(i)[0])\n",
    "        longitude.append(geocoding(i)[1])\n",
    "    except:\n",
    "        continue"
   ]
  },
  {
   "cell_type": "code",
   "execution_count": 55,
   "id": "f0014b52",
   "metadata": {},
   "outputs": [
    {
     "data": {
      "text/plain": [
       "[37.79046]"
      ]
     },
     "execution_count": 55,
     "metadata": {},
     "output_type": "execute_result"
    }
   ],
   "source": [
    "latitude"
   ]
  },
  {
   "cell_type": "code",
   "execution_count": 46,
   "id": "8229e101",
   "metadata": {},
   "outputs": [
    {
     "data": {
      "text/plain": [
       "[37.3720694, 127.958236]"
      ]
     },
     "execution_count": 46,
     "metadata": {},
     "output_type": "execute_result"
    }
   ],
   "source": [
    "geocoding(lst[5])"
   ]
  },
  {
   "cell_type": "code",
   "execution_count": 38,
   "id": "fccde24b",
   "metadata": {},
   "outputs": [
    {
     "data": {
      "text/plain": [
       "[128.86459]"
      ]
     },
     "execution_count": 38,
     "metadata": {},
     "output_type": "execute_result"
    }
   ],
   "source": [
    "longitude"
   ]
  },
  {
   "cell_type": "code",
   "execution_count": null,
   "id": "66ea67ef",
   "metadata": {},
   "outputs": [],
   "source": [
    "address_df = pd.DataFrame({'카페이름': csv['사업장명'],'상세주소':csv['소재지도로명주소'],'주소':address,'위도':latitude,'경도':longitude})\n"
   ]
  },
  {
   "cell_type": "code",
   "execution_count": null,
   "id": "dc402e0f",
   "metadata": {},
   "outputs": [],
   "source": []
  },
  {
   "cell_type": "code",
   "execution_count": null,
   "id": "6377cd04",
   "metadata": {},
   "outputs": [],
   "source": []
  },
  {
   "cell_type": "code",
   "execution_count": 14,
   "id": "45a04b30",
   "metadata": {},
   "outputs": [
    {
     "ename": "TypeError",
     "evalue": "can only concatenate str (not \"float\") to str",
     "output_type": "error",
     "traceback": [
      "\u001b[1;31m---------------------------------------------------------------------------\u001b[0m",
      "\u001b[1;31mTypeError\u001b[0m                                 Traceback (most recent call last)",
      "Input \u001b[1;32mIn [14]\u001b[0m, in \u001b[0;36m<cell line: 1>\u001b[1;34m()\u001b[0m\n\u001b[0;32m      1\u001b[0m \u001b[38;5;28;01mfor\u001b[39;00m i \u001b[38;5;129;01min\u001b[39;00m \u001b[38;5;28mrange\u001b[39m(\u001b[38;5;241m10\u001b[39m):\n\u001b[1;32m----> 2\u001b[0m     \u001b[43mdf\u001b[49m\u001b[43m[\u001b[49m\u001b[38;5;124;43m'\u001b[39;49m\u001b[38;5;124;43m시도명\u001b[39;49m\u001b[38;5;124;43m'\u001b[39;49m\u001b[43m]\u001b[49m\u001b[43m[\u001b[49m\u001b[43mi\u001b[49m\u001b[43m]\u001b[49m\u001b[43m \u001b[49m\u001b[38;5;241;43m+\u001b[39;49m\u001b[43m \u001b[49m\u001b[43mdf\u001b[49m\u001b[43m[\u001b[49m\u001b[38;5;124;43m'\u001b[39;49m\u001b[38;5;124;43m시군구명\u001b[39;49m\u001b[38;5;124;43m'\u001b[39;49m\u001b[43m]\u001b[49m\u001b[43m[\u001b[49m\u001b[43mi\u001b[49m\u001b[43m]\u001b[49m\u001b[43m \u001b[49m\u001b[38;5;241;43m+\u001b[39;49m\u001b[43m \u001b[49m\u001b[43mdf\u001b[49m\u001b[43m[\u001b[49m\u001b[38;5;124;43m'\u001b[39;49m\u001b[38;5;124;43m읍면동명\u001b[39;49m\u001b[38;5;124;43m'\u001b[39;49m\u001b[43m]\u001b[49m\u001b[43m[\u001b[49m\u001b[43mi\u001b[49m\u001b[43m]\u001b[49m\u001b[43m \u001b[49m\u001b[38;5;241;43m+\u001b[39;49m\u001b[43m \u001b[49m\u001b[43mdf\u001b[49m\u001b[43m[\u001b[49m\u001b[38;5;124;43m'\u001b[39;49m\u001b[38;5;124;43m읍면동구분명\u001b[39;49m\u001b[38;5;124;43m'\u001b[39;49m\u001b[43m]\u001b[49m\u001b[43m[\u001b[49m\u001b[43mi\u001b[49m\u001b[43m]\u001b[49m \u001b[38;5;241m+\u001b[39m df[\u001b[38;5;124m'\u001b[39m\u001b[38;5;124m번지\u001b[39m\u001b[38;5;124m'\u001b[39m][i]\n",
      "\u001b[1;31mTypeError\u001b[0m: can only concatenate str (not \"float\") to str"
     ]
    }
   ],
   "source": [
    "for i in range(10):\n",
    "    df['시도명'][i] + df['시군구명'][i] + df['읍면동명'][i] + df['읍면동구분명'][i] + df['번지'][i]\n",
    "\n",
    "\n"
   ]
  },
  {
   "cell_type": "code",
   "execution_count": 8,
   "id": "a1dc657f",
   "metadata": {},
   "outputs": [
    {
     "ename": "TypeError",
     "evalue": "merge() missing 1 required positional argument: 'right'",
     "output_type": "error",
     "traceback": [
      "\u001b[1;31m---------------------------------------------------------------------------\u001b[0m",
      "\u001b[1;31mTypeError\u001b[0m                                 Traceback (most recent call last)",
      "Input \u001b[1;32mIn [8]\u001b[0m, in \u001b[0;36m<cell line: 1>\u001b[1;34m()\u001b[0m\n\u001b[1;32m----> 1\u001b[0m \u001b[43mpd\u001b[49m\u001b[38;5;241;43m.\u001b[39;49m\u001b[43mmerge\u001b[49m\u001b[43m(\u001b[49m\u001b[43mdf\u001b[49m\u001b[43m[\u001b[49m\u001b[43m[\u001b[49m\u001b[38;5;124;43m'\u001b[39;49m\u001b[38;5;124;43m시도명\u001b[39;49m\u001b[38;5;124;43m'\u001b[39;49m\u001b[43m,\u001b[49m\u001b[43m \u001b[49m\u001b[38;5;124;43m'\u001b[39;49m\u001b[38;5;124;43m시군구명\u001b[39;49m\u001b[38;5;124;43m'\u001b[39;49m\u001b[43m,\u001b[49m\u001b[43m \u001b[49m\u001b[38;5;124;43m'\u001b[39;49m\u001b[38;5;124;43m읍면동명\u001b[39;49m\u001b[38;5;124;43m'\u001b[39;49m\u001b[43m,\u001b[49m\u001b[43m \u001b[49m\u001b[38;5;124;43m'\u001b[39;49m\u001b[38;5;124;43m읍면동구분명\u001b[39;49m\u001b[38;5;124;43m'\u001b[39;49m\u001b[43m,\u001b[49m\u001b[43m \u001b[49m\u001b[38;5;124;43m'\u001b[39;49m\u001b[38;5;124;43m번지\u001b[39;49m\u001b[38;5;124;43m'\u001b[39;49m\u001b[43m]\u001b[49m\u001b[43m]\u001b[49m\u001b[43m,\u001b[49m\u001b[43m \u001b[49m\u001b[43mhow\u001b[49m\u001b[43m \u001b[49m\u001b[38;5;241;43m=\u001b[39;49m\u001b[43m \u001b[49m\u001b[38;5;124;43m'\u001b[39;49m\u001b[38;5;124;43mright\u001b[39;49m\u001b[38;5;124;43m'\u001b[39;49m\u001b[43m)\u001b[49m\n",
      "\u001b[1;31mTypeError\u001b[0m: merge() missing 1 required positional argument: 'right'"
     ]
    }
   ],
   "source": [
    "pd.merge(df[['시도명', '시군구명', '읍면동명', '읍면동구분명', '번지']], how = 'right')"
   ]
  },
  {
   "cell_type": "code",
   "execution_count": 10,
   "id": "d8b28990",
   "metadata": {},
   "outputs": [
    {
     "ename": "TypeError",
     "evalue": "merge() got multiple values for argument 'how'",
     "output_type": "error",
     "traceback": [
      "\u001b[1;31m---------------------------------------------------------------------------\u001b[0m",
      "\u001b[1;31mTypeError\u001b[0m                                 Traceback (most recent call last)",
      "Input \u001b[1;32mIn [10]\u001b[0m, in \u001b[0;36m<cell line: 1>\u001b[1;34m()\u001b[0m\n\u001b[1;32m----> 1\u001b[0m \u001b[43mpd\u001b[49m\u001b[38;5;241;43m.\u001b[39;49m\u001b[43mmerge\u001b[49m\u001b[43m(\u001b[49m\u001b[43mdf\u001b[49m\u001b[43m[\u001b[49m\u001b[38;5;124;43m'\u001b[39;49m\u001b[38;5;124;43m시도명\u001b[39;49m\u001b[38;5;124;43m'\u001b[39;49m\u001b[43m]\u001b[49m\u001b[43m,\u001b[49m\u001b[43m \u001b[49m\u001b[43mdf\u001b[49m\u001b[43m[\u001b[49m\u001b[38;5;124;43m'\u001b[39;49m\u001b[38;5;124;43m시군구명\u001b[39;49m\u001b[38;5;124;43m'\u001b[39;49m\u001b[43m]\u001b[49m\u001b[43m,\u001b[49m\u001b[43m \u001b[49m\u001b[43mdf\u001b[49m\u001b[43m[\u001b[49m\u001b[38;5;124;43m'\u001b[39;49m\u001b[38;5;124;43m읍면동명\u001b[39;49m\u001b[38;5;124;43m'\u001b[39;49m\u001b[43m]\u001b[49m\u001b[43m,\u001b[49m\u001b[43m \u001b[49m\u001b[43mdf\u001b[49m\u001b[43m[\u001b[49m\u001b[38;5;124;43m'\u001b[39;49m\u001b[38;5;124;43m읍면동구분명\u001b[39;49m\u001b[38;5;124;43m'\u001b[39;49m\u001b[43m]\u001b[49m\u001b[43m,\u001b[49m\u001b[43m \u001b[49m\u001b[43mdf\u001b[49m\u001b[43m[\u001b[49m\u001b[38;5;124;43m'\u001b[39;49m\u001b[38;5;124;43m번지\u001b[39;49m\u001b[38;5;124;43m'\u001b[39;49m\u001b[43m]\u001b[49m\u001b[43m,\u001b[49m\u001b[43m \u001b[49m\u001b[43mhow\u001b[49m\u001b[38;5;241;43m=\u001b[39;49m\u001b[38;5;124;43m'\u001b[39;49m\u001b[38;5;124;43minner\u001b[39;49m\u001b[38;5;124;43m'\u001b[39;49m\u001b[43m)\u001b[49m\n",
      "\u001b[1;31mTypeError\u001b[0m: merge() got multiple values for argument 'how'"
     ]
    }
   ],
   "source": [
    "pd.merge(df['시도명'], df['시군구명'], df['읍면동명'], df['읍면동구분명'], df['번지'], how='inner')"
   ]
  },
  {
   "cell_type": "code",
   "execution_count": null,
   "id": "7633906e",
   "metadata": {},
   "outputs": [],
   "source": []
  }
 ],
 "metadata": {
  "kernelspec": {
   "display_name": "Python 3 (ipykernel)",
   "language": "python",
   "name": "python3"
  },
  "language_info": {
   "codemirror_mode": {
    "name": "ipython",
    "version": 3
   },
   "file_extension": ".py",
   "mimetype": "text/x-python",
   "name": "python",
   "nbconvert_exporter": "python",
   "pygments_lexer": "ipython3",
   "version": "3.9.12"
  }
 },
 "nbformat": 4,
 "nbformat_minor": 5
}
