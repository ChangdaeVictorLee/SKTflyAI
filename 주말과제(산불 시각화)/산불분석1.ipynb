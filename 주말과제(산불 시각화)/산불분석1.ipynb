{
 "cells": [
  {
   "cell_type": "code",
   "execution_count": null,
   "metadata": {
    "id": "ZSJNspRDX4jv"
   },
   "outputs": [],
   "source": [
    "from google.colab import drive\n",
    "drive.mount('/content/gdrive/')"
   ]
  },
  {
   "cell_type": "code",
   "execution_count": null,
   "metadata": {
    "id": "aiyIoB6bOIkZ"
   },
   "outputs": [],
   "source": [
    "import pandas as pd\n",
    "import matplotlib.pyplot as plt"
   ]
  },
  {
   "cell_type": "code",
   "execution_count": null,
   "metadata": {
    "id": "yPfRogTWxcBg"
   },
   "outputs": [],
   "source": []
  },
  {
   "cell_type": "markdown",
   "metadata": {
    "id": "GKTpmBX1N_Pw"
   },
   "source": [
    "# 파일합치기"
   ]
  },
  {
   "cell_type": "code",
   "execution_count": null,
   "metadata": {
    "id": "99pPwpbwaMoU"
   },
   "outputs": [],
   "source": [
    "df_list = []\n",
    "year = ['/content/강원도 산불 현황 데이터_20' + str(i) + '.csv' for i in range(11,22)]"
   ]
  },
  {
   "cell_type": "code",
   "execution_count": null,
   "metadata": {
    "colab": {
     "base_uri": "https://localhost:8080/"
    },
    "executionInfo": {
     "elapsed": 318,
     "status": "ok",
     "timestamp": 1657881146027,
     "user": {
      "displayName": "손상원",
      "userId": "14039168859267171092"
     },
     "user_tz": -540
    },
    "id": "iiIkiZb2an7z",
    "outputId": "b461805a-0054-445c-9db8-8f4144862863"
   },
   "outputs": [
    {
     "data": {
      "text/plain": [
       "['/content/강원도 산불 현황 데이터_202011.csv',\n",
       " '/content/강원도 산불 현황 데이터_202012.csv',\n",
       " '/content/강원도 산불 현황 데이터_202013.csv',\n",
       " '/content/강원도 산불 현황 데이터_202014.csv',\n",
       " '/content/강원도 산불 현황 데이터_202015.csv',\n",
       " '/content/강원도 산불 현황 데이터_202016.csv',\n",
       " '/content/강원도 산불 현황 데이터_202017.csv',\n",
       " '/content/강원도 산불 현황 데이터_202018.csv',\n",
       " '/content/강원도 산불 현황 데이터_202019.csv',\n",
       " '/content/강원도 산불 현황 데이터_202020.csv',\n",
       " '/content/강원도 산불 현황 데이터_202021.csv']"
      ]
     },
     "execution_count": 7,
     "metadata": {},
     "output_type": "execute_result"
    }
   ],
   "source": [
    "year"
   ]
  },
  {
   "cell_type": "code",
   "execution_count": null,
   "metadata": {
    "id": "YJR7J4iaa1fp"
   },
   "outputs": [],
   "source": [
    "'/content/강원도 산불 현황 데이터_2011.csv'"
   ]
  },
  {
   "cell_type": "code",
   "execution_count": null,
   "metadata": {
    "id": "V5nmF-HBarnM"
   },
   "outputs": [],
   "source": [
    "for i in year:\n",
    "  df = pd.read_csv(i)\n",
    "  df_list.append(df)"
   ]
  },
  {
   "cell_type": "code",
   "execution_count": null,
   "metadata": {
    "colab": {
     "base_uri": "https://localhost:8080/",
     "height": 404
    },
    "executionInfo": {
     "elapsed": 414,
     "status": "ok",
     "timestamp": 1657881279841,
     "user": {
      "displayName": "손상원",
      "userId": "14039168859267171092"
     },
     "user_tz": -540
    },
    "id": "3Le_Qh9Sa6Rf",
    "outputId": "cee33952-5e65-4e20-9a18-15df907bf80f"
   },
   "outputs": [
    {
     "data": {
      "text/html": [
       "\n",
       "  <div id=\"df-e3611874-80b7-47b8-ab27-bf47fa4340ce\">\n",
       "    <div class=\"colab-df-container\">\n",
       "      <div>\n",
       "<style scoped>\n",
       "    .dataframe tbody tr th:only-of-type {\n",
       "        vertical-align: middle;\n",
       "    }\n",
       "\n",
       "    .dataframe tbody tr th {\n",
       "        vertical-align: top;\n",
       "    }\n",
       "\n",
       "    .dataframe thead th {\n",
       "        text-align: right;\n",
       "    }\n",
       "</style>\n",
       "<table border=\"1\" class=\"dataframe\">\n",
       "  <thead>\n",
       "    <tr style=\"text-align: right;\">\n",
       "      <th></th>\n",
       "      <th>SN</th>\n",
       "      <th>WRINVSTG_NO</th>\n",
       "      <th>DPRS_CNT</th>\n",
       "      <th>INJPSN_CNT</th>\n",
       "      <th>HNL_DMGE_CNT</th>\n",
       "      <th>PRPRTY_DMGE_AMT</th>\n",
       "      <th>UPRINSTT_NM</th>\n",
       "      <th>FRSTT_NM</th>\n",
       "      <th>WARD_NM</th>\n",
       "      <th>LFDAU_NM</th>\n",
       "      <th>...</th>\n",
       "      <th>SOLDIER_CNT</th>\n",
       "      <th>ELCTY_GAS_INSTT_CNT</th>\n",
       "      <th>ETC_CNT</th>\n",
       "      <th>MBLZ_EQPMN_CNT</th>\n",
       "      <th>WETHR</th>\n",
       "      <th>TP</th>\n",
       "      <th>HUMIDITY</th>\n",
       "      <th>TIME_UNIT_WS</th>\n",
       "      <th>TIME_UNIT_WD</th>\n",
       "      <th>SPCNWS_CN</th>\n",
       "    </tr>\n",
       "  </thead>\n",
       "  <tbody>\n",
       "    <tr>\n",
       "      <th>0</th>\n",
       "      <td>1</td>\n",
       "      <td>1.101230e+14</td>\n",
       "      <td>0</td>\n",
       "      <td>0</td>\n",
       "      <td>0</td>\n",
       "      <td>0</td>\n",
       "      <td>강원소방본부</td>\n",
       "      <td>강릉소방서</td>\n",
       "      <td>경포119안전센터</td>\n",
       "      <td>NaN</td>\n",
       "      <td>...</td>\n",
       "      <td>0</td>\n",
       "      <td>0</td>\n",
       "      <td>0</td>\n",
       "      <td>8</td>\n",
       "      <td>맑음</td>\n",
       "      <td>-1.0</td>\n",
       "      <td>30</td>\n",
       "      <td>45.0</td>\n",
       "      <td>8.0</td>\n",
       "      <td>NaN</td>\n",
       "    </tr>\n",
       "    <tr>\n",
       "      <th>1</th>\n",
       "      <td>2</td>\n",
       "      <td>1.102010e+14</td>\n",
       "      <td>0</td>\n",
       "      <td>0</td>\n",
       "      <td>0</td>\n",
       "      <td>184330</td>\n",
       "      <td>강원소방본부</td>\n",
       "      <td>양양소방서</td>\n",
       "      <td>하조대119안전센터</td>\n",
       "      <td>NaN</td>\n",
       "      <td>...</td>\n",
       "      <td>0</td>\n",
       "      <td>8</td>\n",
       "      <td>549</td>\n",
       "      <td>71</td>\n",
       "      <td>맑음</td>\n",
       "      <td>1.0</td>\n",
       "      <td>10</td>\n",
       "      <td>225.0</td>\n",
       "      <td>8.0</td>\n",
       "      <td>건조경보</td>\n",
       "    </tr>\n",
       "    <tr>\n",
       "      <th>2</th>\n",
       "      <td>3</td>\n",
       "      <td>1.102020e+14</td>\n",
       "      <td>0</td>\n",
       "      <td>0</td>\n",
       "      <td>0</td>\n",
       "      <td>0</td>\n",
       "      <td>강원소방본부</td>\n",
       "      <td>강릉소방서</td>\n",
       "      <td>경포119안전센터</td>\n",
       "      <td>NaN</td>\n",
       "      <td>...</td>\n",
       "      <td>0</td>\n",
       "      <td>0</td>\n",
       "      <td>0</td>\n",
       "      <td>15</td>\n",
       "      <td>맑음</td>\n",
       "      <td>1.0</td>\n",
       "      <td>550</td>\n",
       "      <td>135.0</td>\n",
       "      <td>4.0</td>\n",
       "      <td>NaN</td>\n",
       "    </tr>\n",
       "    <tr>\n",
       "      <th>3</th>\n",
       "      <td>4</td>\n",
       "      <td>1.102110e+14</td>\n",
       "      <td>0</td>\n",
       "      <td>0</td>\n",
       "      <td>0</td>\n",
       "      <td>4864</td>\n",
       "      <td>강원소방본부</td>\n",
       "      <td>홍천소방서</td>\n",
       "      <td>서석119안전센터</td>\n",
       "      <td>내촌119지역대</td>\n",
       "      <td>...</td>\n",
       "      <td>0</td>\n",
       "      <td>33</td>\n",
       "      <td>0</td>\n",
       "      <td>9</td>\n",
       "      <td>구름많음</td>\n",
       "      <td>-2.0</td>\n",
       "      <td>29</td>\n",
       "      <td>225.0</td>\n",
       "      <td>4.0</td>\n",
       "      <td>NaN</td>\n",
       "    </tr>\n",
       "    <tr>\n",
       "      <th>4</th>\n",
       "      <td>5</td>\n",
       "      <td>1.102120e+14</td>\n",
       "      <td>0</td>\n",
       "      <td>0</td>\n",
       "      <td>0</td>\n",
       "      <td>50</td>\n",
       "      <td>강원소방본부</td>\n",
       "      <td>원주소방서</td>\n",
       "      <td>흥업119안전센터</td>\n",
       "      <td>귀래119지역대</td>\n",
       "      <td>...</td>\n",
       "      <td>0</td>\n",
       "      <td>38</td>\n",
       "      <td>15</td>\n",
       "      <td>9</td>\n",
       "      <td>구름많음</td>\n",
       "      <td>-6.0</td>\n",
       "      <td>44</td>\n",
       "      <td>225.0</td>\n",
       "      <td>4.0</td>\n",
       "      <td>NaN</td>\n",
       "    </tr>\n",
       "  </tbody>\n",
       "</table>\n",
       "<p>5 rows × 67 columns</p>\n",
       "</div>\n",
       "      <button class=\"colab-df-convert\" onclick=\"convertToInteractive('df-e3611874-80b7-47b8-ab27-bf47fa4340ce')\"\n",
       "              title=\"Convert this dataframe to an interactive table.\"\n",
       "              style=\"display:none;\">\n",
       "        \n",
       "  <svg xmlns=\"http://www.w3.org/2000/svg\" height=\"24px\"viewBox=\"0 0 24 24\"\n",
       "       width=\"24px\">\n",
       "    <path d=\"M0 0h24v24H0V0z\" fill=\"none\"/>\n",
       "    <path d=\"M18.56 5.44l.94 2.06.94-2.06 2.06-.94-2.06-.94-.94-2.06-.94 2.06-2.06.94zm-11 1L8.5 8.5l.94-2.06 2.06-.94-2.06-.94L8.5 2.5l-.94 2.06-2.06.94zm10 10l.94 2.06.94-2.06 2.06-.94-2.06-.94-.94-2.06-.94 2.06-2.06.94z\"/><path d=\"M17.41 7.96l-1.37-1.37c-.4-.4-.92-.59-1.43-.59-.52 0-1.04.2-1.43.59L10.3 9.45l-7.72 7.72c-.78.78-.78 2.05 0 2.83L4 21.41c.39.39.9.59 1.41.59.51 0 1.02-.2 1.41-.59l7.78-7.78 2.81-2.81c.8-.78.8-2.07 0-2.86zM5.41 20L4 18.59l7.72-7.72 1.47 1.35L5.41 20z\"/>\n",
       "  </svg>\n",
       "      </button>\n",
       "      \n",
       "  <style>\n",
       "    .colab-df-container {\n",
       "      display:flex;\n",
       "      flex-wrap:wrap;\n",
       "      gap: 12px;\n",
       "    }\n",
       "\n",
       "    .colab-df-convert {\n",
       "      background-color: #E8F0FE;\n",
       "      border: none;\n",
       "      border-radius: 50%;\n",
       "      cursor: pointer;\n",
       "      display: none;\n",
       "      fill: #1967D2;\n",
       "      height: 32px;\n",
       "      padding: 0 0 0 0;\n",
       "      width: 32px;\n",
       "    }\n",
       "\n",
       "    .colab-df-convert:hover {\n",
       "      background-color: #E2EBFA;\n",
       "      box-shadow: 0px 1px 2px rgba(60, 64, 67, 0.3), 0px 1px 3px 1px rgba(60, 64, 67, 0.15);\n",
       "      fill: #174EA6;\n",
       "    }\n",
       "\n",
       "    [theme=dark] .colab-df-convert {\n",
       "      background-color: #3B4455;\n",
       "      fill: #D2E3FC;\n",
       "    }\n",
       "\n",
       "    [theme=dark] .colab-df-convert:hover {\n",
       "      background-color: #434B5C;\n",
       "      box-shadow: 0px 1px 3px 1px rgba(0, 0, 0, 0.15);\n",
       "      filter: drop-shadow(0px 1px 2px rgba(0, 0, 0, 0.3));\n",
       "      fill: #FFFFFF;\n",
       "    }\n",
       "  </style>\n",
       "\n",
       "      <script>\n",
       "        const buttonEl =\n",
       "          document.querySelector('#df-e3611874-80b7-47b8-ab27-bf47fa4340ce button.colab-df-convert');\n",
       "        buttonEl.style.display =\n",
       "          google.colab.kernel.accessAllowed ? 'block' : 'none';\n",
       "\n",
       "        async function convertToInteractive(key) {\n",
       "          const element = document.querySelector('#df-e3611874-80b7-47b8-ab27-bf47fa4340ce');\n",
       "          const dataTable =\n",
       "            await google.colab.kernel.invokeFunction('convertToInteractive',\n",
       "                                                     [key], {});\n",
       "          if (!dataTable) return;\n",
       "\n",
       "          const docLinkHtml = 'Like what you see? Visit the ' +\n",
       "            '<a target=\"_blank\" href=https://colab.research.google.com/notebooks/data_table.ipynb>data table notebook</a>'\n",
       "            + ' to learn more about interactive tables.';\n",
       "          element.innerHTML = '';\n",
       "          dataTable['output_type'] = 'display_data';\n",
       "          await google.colab.output.renderOutput(dataTable, element);\n",
       "          const docLink = document.createElement('div');\n",
       "          docLink.innerHTML = docLinkHtml;\n",
       "          element.appendChild(docLink);\n",
       "        }\n",
       "      </script>\n",
       "    </div>\n",
       "  </div>\n",
       "  "
      ],
      "text/plain": [
       "   SN   WRINVSTG_NO  DPRS_CNT  INJPSN_CNT  HNL_DMGE_CNT  PRPRTY_DMGE_AMT  \\\n",
       "0   1  1.101230e+14         0           0             0                0   \n",
       "1   2  1.102010e+14         0           0             0           184330   \n",
       "2   3  1.102020e+14         0           0             0                0   \n",
       "3   4  1.102110e+14         0           0             0             4864   \n",
       "4   5  1.102120e+14         0           0             0               50   \n",
       "\n",
       "  UPRINSTT_NM FRSTT_NM     WARD_NM  LFDAU_NM  ...  SOLDIER_CNT  \\\n",
       "0      강원소방본부    강릉소방서   경포119안전센터       NaN  ...            0   \n",
       "1      강원소방본부    양양소방서  하조대119안전센터       NaN  ...            0   \n",
       "2      강원소방본부    강릉소방서   경포119안전센터       NaN  ...            0   \n",
       "3      강원소방본부    홍천소방서   서석119안전센터  내촌119지역대  ...            0   \n",
       "4      강원소방본부    원주소방서   흥업119안전센터  귀래119지역대  ...            0   \n",
       "\n",
       "   ELCTY_GAS_INSTT_CNT  ETC_CNT  MBLZ_EQPMN_CNT  WETHR   TP  HUMIDITY  \\\n",
       "0                    0        0               8     맑음 -1.0        30   \n",
       "1                    8      549              71     맑음  1.0        10   \n",
       "2                    0        0              15     맑음  1.0       550   \n",
       "3                   33        0               9   구름많음 -2.0        29   \n",
       "4                   38       15               9   구름많음 -6.0        44   \n",
       "\n",
       "   TIME_UNIT_WS  TIME_UNIT_WD  SPCNWS_CN  \n",
       "0          45.0           8.0        NaN  \n",
       "1         225.0           8.0       건조경보  \n",
       "2         135.0           4.0        NaN  \n",
       "3         225.0           4.0        NaN  \n",
       "4         225.0           4.0        NaN  \n",
       "\n",
       "[5 rows x 67 columns]"
      ]
     },
     "execution_count": 16,
     "metadata": {},
     "output_type": "execute_result"
    }
   ],
   "source": [
    "org_df = pd.DataFrame()\n",
    "for i in df_list:\n",
    "  org_df = pd.concat([org_df, i], axis=0)\n",
    "org_df.head()"
   ]
  },
  {
   "cell_type": "code",
   "execution_count": null,
   "metadata": {
    "id": "U9V35FJEbEEO"
   },
   "outputs": [],
   "source": [
    "org_df.to_csv('/content/df_total.csv', index=False,  encoding=\"utf-8-sig\")"
   ]
  },
  {
   "cell_type": "markdown",
   "metadata": {
    "id": "xxBsqKl7OCbA"
   },
   "source": [
    "# 시각화"
   ]
  },
  {
   "cell_type": "code",
   "execution_count": 1,
   "metadata": {
    "id": "7CNZosoF_UjU"
   },
   "outputs": [],
   "source": [
    "import pandas as pd\n",
    "import matplotlib.pyplot as plt\n",
    "import numpy as np\n",
    "import warnings\n",
    "warnings.filterwarnings(action='ignore')\n",
    "plt.rc('font', family='NanumBarunGothic') "
   ]
  },
  {
   "cell_type": "code",
   "execution_count": 2,
   "metadata": {},
   "outputs": [],
   "source": [
    "import matplotlib.pyplot as plt\n",
    " \n",
    "# 한글 폰트 사용을 위해서 세팅\n",
    "from matplotlib import font_manager, rc\n",
    "font_path = \"C:/Windows/Fonts/NGULIM.TTF\"\n",
    "font = font_manager.FontProperties(fname=font_path).get_name()\n",
    "rc('font', family=font)"
   ]
  },
  {
   "cell_type": "code",
   "execution_count": 3,
   "metadata": {
    "colab": {
     "base_uri": "https://localhost:8080/",
     "height": 659
    },
    "executionInfo": {
     "elapsed": 508,
     "status": "ok",
     "timestamp": 1657979158816,
     "user": {
      "displayName": "손상원",
      "userId": "14039168859267171092"
     },
     "user_tz": -540
    },
    "id": "Ldw8h7kJbYYG",
    "outputId": "f59c20e9-a1aa-40b2-b5e7-3511b943e9c4"
   },
   "outputs": [],
   "source": [
    "df = pd.read_csv('df.csv')"
   ]
  },
  {
   "cell_type": "code",
   "execution_count": 50,
   "metadata": {
    "colab": {
     "base_uri": "https://localhost:8080/"
    },
    "executionInfo": {
     "elapsed": 10,
     "status": "ok",
     "timestamp": 1657974645500,
     "user": {
      "displayName": "손상원",
      "userId": "14039168859267171092"
     },
     "user_tz": -540
    },
    "id": "Lyna5Sa4FEC3",
    "outputId": "a378b337-86f2-4fda-ae83-50d0d1087a2f"
   },
   "outputs": [
    {
     "data": {
      "text/plain": [
       "일련번호           int64\n",
       "인명피해수          int64\n",
       "재산피해금액         int64\n",
       "소방서명          object\n",
       "서센터명          object\n",
       "소방지역대명        object\n",
       "화재발생일자         int64\n",
       "화재발생시간         int64\n",
       "접수일자           int64\n",
       "접수시각           int64\n",
       "출동일자           int64\n",
       "출동시각           int64\n",
       "현장도착일자         int64\n",
       "현장도착시각         int64\n",
       "초진일자           int64\n",
       "초진시각           int64\n",
       "완진일자           int64\n",
       "완진시간           int64\n",
       "출동소요시간         int64\n",
       "화재진압시간         int64\n",
       "현장소방서거리        int64\n",
       "현장안전센터거리       int64\n",
       "현장소방지역대거리    float64\n",
       "시군구명          object\n",
       "읍면동명          object\n",
       "시설장소소분류명      object\n",
       "화재유형명         object\n",
       "발화지점          object\n",
       "발화원인          object\n",
       "발화요인대분류명      object\n",
       "전체인력수합계        int64\n",
       "동원장비수          int64\n",
       "날씨            object\n",
       "온도           float64\n",
       "습도             int64\n",
       "시간단위풍속       float64\n",
       "시간단위풍향       float64\n",
       "특보내용          object\n",
       "dtype: object"
      ]
     },
     "execution_count": 50,
     "metadata": {},
     "output_type": "execute_result"
    }
   ],
   "source": [
    "df.dtypes"
   ]
  },
  {
   "cell_type": "code",
   "execution_count": 5,
   "metadata": {
    "id": "ii5-cAcbFEAM"
   },
   "outputs": [],
   "source": [
    "df_add = df[['화재진압시간','특보내용','발화요인대분류명','출동소요시간']]"
   ]
  },
  {
   "cell_type": "code",
   "execution_count": 6,
   "metadata": {
    "colab": {
     "base_uri": "https://localhost:8080/",
     "height": 394
    },
    "executionInfo": {
     "elapsed": 552,
     "status": "ok",
     "timestamp": 1657979171877,
     "user": {
      "displayName": "손상원",
      "userId": "14039168859267171092"
     },
     "user_tz": -540
    },
    "id": "65UaVI6FAr0n",
    "outputId": "e9bc2fb7-d43d-4a7e-ffdf-7b92801f050b"
   },
   "outputs": [
    {
     "data": {
      "text/html": [
       "<div>\n",
       "<style scoped>\n",
       "    .dataframe tbody tr th:only-of-type {\n",
       "        vertical-align: middle;\n",
       "    }\n",
       "\n",
       "    .dataframe tbody tr th {\n",
       "        vertical-align: top;\n",
       "    }\n",
       "\n",
       "    .dataframe thead th {\n",
       "        text-align: right;\n",
       "    }\n",
       "</style>\n",
       "<table border=\"1\" class=\"dataframe\">\n",
       "  <thead>\n",
       "    <tr style=\"text-align: right;\">\n",
       "      <th></th>\n",
       "      <th>화재진압시간</th>\n",
       "      <th>출동소요시간</th>\n",
       "    </tr>\n",
       "    <tr>\n",
       "      <th>발화요인대분류명</th>\n",
       "      <th></th>\n",
       "      <th></th>\n",
       "    </tr>\n",
       "  </thead>\n",
       "  <tbody>\n",
       "    <tr>\n",
       "      <th>교통사고</th>\n",
       "      <td>11805.000000</td>\n",
       "      <td>1749.000000</td>\n",
       "    </tr>\n",
       "    <tr>\n",
       "      <th>기계적요인</th>\n",
       "      <td>21861.250000</td>\n",
       "      <td>1864.000000</td>\n",
       "    </tr>\n",
       "    <tr>\n",
       "      <th>기타</th>\n",
       "      <td>19413.130435</td>\n",
       "      <td>1669.652174</td>\n",
       "    </tr>\n",
       "    <tr>\n",
       "      <th>미상</th>\n",
       "      <td>28060.981818</td>\n",
       "      <td>1869.745455</td>\n",
       "    </tr>\n",
       "    <tr>\n",
       "      <th>방화</th>\n",
       "      <td>5113.333333</td>\n",
       "      <td>819.000000</td>\n",
       "    </tr>\n",
       "    <tr>\n",
       "      <th>방화의심</th>\n",
       "      <td>4200.800000</td>\n",
       "      <td>797.000000</td>\n",
       "    </tr>\n",
       "    <tr>\n",
       "      <th>부주의</th>\n",
       "      <td>16282.068000</td>\n",
       "      <td>1458.865333</td>\n",
       "    </tr>\n",
       "    <tr>\n",
       "      <th>자연적인요인</th>\n",
       "      <td>30516.347826</td>\n",
       "      <td>1893.782609</td>\n",
       "    </tr>\n",
       "    <tr>\n",
       "      <th>전기적요인</th>\n",
       "      <td>34187.045455</td>\n",
       "      <td>1554.500000</td>\n",
       "    </tr>\n",
       "    <tr>\n",
       "      <th>화학적요인</th>\n",
       "      <td>29844.857143</td>\n",
       "      <td>1568.285714</td>\n",
       "    </tr>\n",
       "  </tbody>\n",
       "</table>\n",
       "</div>"
      ],
      "text/plain": [
       "                화재진압시간       출동소요시간\n",
       "발화요인대분류명                           \n",
       "교통사고      11805.000000  1749.000000\n",
       "기계적요인     21861.250000  1864.000000\n",
       "기타        19413.130435  1669.652174\n",
       "미상        28060.981818  1869.745455\n",
       "방화         5113.333333   819.000000\n",
       "방화의심       4200.800000   797.000000\n",
       "부주의       16282.068000  1458.865333\n",
       "자연적인요인    30516.347826  1893.782609\n",
       "전기적요인     34187.045455  1554.500000\n",
       "화학적요인     29844.857143  1568.285714"
      ]
     },
     "execution_count": 6,
     "metadata": {},
     "output_type": "execute_result"
    }
   ],
   "source": [
    "df_add.groupby('발화요인대분류명').mean()"
   ]
  },
  {
   "cell_type": "markdown",
   "metadata": {
    "id": "Ur_hgksLDN3J"
   },
   "source": [
    "교통사고는 단 한건으로, 무시해도 될 것 같다. 방화 요인의 경우엔 상대적으로 진압시간이 짧은 것으로 확인되고, 전기적요인(전신주 스파크로 인한 불씨)와 같은 자연 발생 요인일 수록 화재진압시간이 상당히 증가한다."
   ]
  },
  {
   "cell_type": "code",
   "execution_count": 7,
   "metadata": {
    "colab": {
     "base_uri": "https://localhost:8080/",
     "height": 394
    },
    "executionInfo": {
     "elapsed": 840,
     "status": "ok",
     "timestamp": 1657979176809,
     "user": {
      "displayName": "손상원",
      "userId": "14039168859267171092"
     },
     "user_tz": -540
    },
    "id": "AmHKKynkIbrX",
    "outputId": "068a4d32-d537-4ef9-8307-da0677a2e457",
    "scrolled": false
   },
   "outputs": [
    {
     "data": {
      "text/html": [
       "<div>\n",
       "<style scoped>\n",
       "    .dataframe tbody tr th:only-of-type {\n",
       "        vertical-align: middle;\n",
       "    }\n",
       "\n",
       "    .dataframe tbody tr th {\n",
       "        vertical-align: top;\n",
       "    }\n",
       "\n",
       "    .dataframe thead th {\n",
       "        text-align: right;\n",
       "    }\n",
       "</style>\n",
       "<table border=\"1\" class=\"dataframe\">\n",
       "  <thead>\n",
       "    <tr style=\"text-align: right;\">\n",
       "      <th></th>\n",
       "      <th>화재진압시간</th>\n",
       "      <th>출동소요시간</th>\n",
       "    </tr>\n",
       "    <tr>\n",
       "      <th>발화요인대분류명</th>\n",
       "      <th></th>\n",
       "      <th></th>\n",
       "    </tr>\n",
       "  </thead>\n",
       "  <tbody>\n",
       "    <tr>\n",
       "      <th>교통사고</th>\n",
       "      <td>11805.000000</td>\n",
       "      <td>1749.000000</td>\n",
       "    </tr>\n",
       "    <tr>\n",
       "      <th>기계적요인</th>\n",
       "      <td>21861.250000</td>\n",
       "      <td>1864.000000</td>\n",
       "    </tr>\n",
       "    <tr>\n",
       "      <th>기타</th>\n",
       "      <td>19413.130435</td>\n",
       "      <td>1669.652174</td>\n",
       "    </tr>\n",
       "    <tr>\n",
       "      <th>미상</th>\n",
       "      <td>28060.981818</td>\n",
       "      <td>1869.745455</td>\n",
       "    </tr>\n",
       "    <tr>\n",
       "      <th>방화</th>\n",
       "      <td>5113.333333</td>\n",
       "      <td>819.000000</td>\n",
       "    </tr>\n",
       "    <tr>\n",
       "      <th>방화의심</th>\n",
       "      <td>4200.800000</td>\n",
       "      <td>797.000000</td>\n",
       "    </tr>\n",
       "    <tr>\n",
       "      <th>부주의</th>\n",
       "      <td>16282.068000</td>\n",
       "      <td>1458.865333</td>\n",
       "    </tr>\n",
       "    <tr>\n",
       "      <th>자연적인요인</th>\n",
       "      <td>30516.347826</td>\n",
       "      <td>1893.782609</td>\n",
       "    </tr>\n",
       "    <tr>\n",
       "      <th>전기적요인</th>\n",
       "      <td>34187.045455</td>\n",
       "      <td>1554.500000</td>\n",
       "    </tr>\n",
       "    <tr>\n",
       "      <th>화학적요인</th>\n",
       "      <td>29844.857143</td>\n",
       "      <td>1568.285714</td>\n",
       "    </tr>\n",
       "  </tbody>\n",
       "</table>\n",
       "</div>"
      ],
      "text/plain": [
       "                화재진압시간       출동소요시간\n",
       "발화요인대분류명                           \n",
       "교통사고      11805.000000  1749.000000\n",
       "기계적요인     21861.250000  1864.000000\n",
       "기타        19413.130435  1669.652174\n",
       "미상        28060.981818  1869.745455\n",
       "방화         5113.333333   819.000000\n",
       "방화의심       4200.800000   797.000000\n",
       "부주의       16282.068000  1458.865333\n",
       "자연적인요인    30516.347826  1893.782609\n",
       "전기적요인     34187.045455  1554.500000\n",
       "화학적요인     29844.857143  1568.285714"
      ]
     },
     "execution_count": 7,
     "metadata": {},
     "output_type": "execute_result"
    }
   ],
   "source": [
    "df_add.groupby('발화요인대분류명').mean()"
   ]
  },
  {
   "cell_type": "code",
   "execution_count": 37,
   "metadata": {},
   "outputs": [],
   "source": [
    "time = df_add.groupby('발화요인대분류명').mean()"
   ]
  },
  {
   "cell_type": "code",
   "execution_count": 39,
   "metadata": {
    "scrolled": true
   },
   "outputs": [
    {
     "data": {
      "text/html": [
       "<div>\n",
       "<style scoped>\n",
       "    .dataframe tbody tr th:only-of-type {\n",
       "        vertical-align: middle;\n",
       "    }\n",
       "\n",
       "    .dataframe tbody tr th {\n",
       "        vertical-align: top;\n",
       "    }\n",
       "\n",
       "    .dataframe thead th {\n",
       "        text-align: right;\n",
       "    }\n",
       "</style>\n",
       "<table border=\"1\" class=\"dataframe\">\n",
       "  <thead>\n",
       "    <tr style=\"text-align: right;\">\n",
       "      <th></th>\n",
       "      <th>화재진압시간</th>\n",
       "      <th>출동소요시간</th>\n",
       "    </tr>\n",
       "    <tr>\n",
       "      <th>발화요인대분류명</th>\n",
       "      <th></th>\n",
       "      <th></th>\n",
       "    </tr>\n",
       "  </thead>\n",
       "  <tbody>\n",
       "    <tr>\n",
       "      <th>교통사고</th>\n",
       "      <td>11805.000000</td>\n",
       "      <td>1749.000000</td>\n",
       "    </tr>\n",
       "    <tr>\n",
       "      <th>기계적요인</th>\n",
       "      <td>21861.250000</td>\n",
       "      <td>1864.000000</td>\n",
       "    </tr>\n",
       "    <tr>\n",
       "      <th>기타</th>\n",
       "      <td>19413.130435</td>\n",
       "      <td>1669.652174</td>\n",
       "    </tr>\n",
       "    <tr>\n",
       "      <th>미상</th>\n",
       "      <td>28060.981818</td>\n",
       "      <td>1869.745455</td>\n",
       "    </tr>\n",
       "    <tr>\n",
       "      <th>방화</th>\n",
       "      <td>5113.333333</td>\n",
       "      <td>819.000000</td>\n",
       "    </tr>\n",
       "    <tr>\n",
       "      <th>방화의심</th>\n",
       "      <td>4200.800000</td>\n",
       "      <td>797.000000</td>\n",
       "    </tr>\n",
       "    <tr>\n",
       "      <th>부주의</th>\n",
       "      <td>16282.068000</td>\n",
       "      <td>1458.865333</td>\n",
       "    </tr>\n",
       "    <tr>\n",
       "      <th>자연적인요인</th>\n",
       "      <td>30516.347826</td>\n",
       "      <td>1893.782609</td>\n",
       "    </tr>\n",
       "    <tr>\n",
       "      <th>전기적요인</th>\n",
       "      <td>34187.045455</td>\n",
       "      <td>1554.500000</td>\n",
       "    </tr>\n",
       "    <tr>\n",
       "      <th>화학적요인</th>\n",
       "      <td>29844.857143</td>\n",
       "      <td>1568.285714</td>\n",
       "    </tr>\n",
       "  </tbody>\n",
       "</table>\n",
       "</div>"
      ],
      "text/plain": [
       "                화재진압시간       출동소요시간\n",
       "발화요인대분류명                           \n",
       "교통사고      11805.000000  1749.000000\n",
       "기계적요인     21861.250000  1864.000000\n",
       "기타        19413.130435  1669.652174\n",
       "미상        28060.981818  1869.745455\n",
       "방화         5113.333333   819.000000\n",
       "방화의심       4200.800000   797.000000\n",
       "부주의       16282.068000  1458.865333\n",
       "자연적인요인    30516.347826  1893.782609\n",
       "전기적요인     34187.045455  1554.500000\n",
       "화학적요인     29844.857143  1568.285714"
      ]
     },
     "execution_count": 39,
     "metadata": {},
     "output_type": "execute_result"
    }
   ],
   "source": [
    "time"
   ]
  },
  {
   "cell_type": "code",
   "execution_count": 45,
   "metadata": {},
   "outputs": [],
   "source": [
    "time = time.sort_values('화재진압시간',ascending = False)"
   ]
  },
  {
   "cell_type": "code",
   "execution_count": 48,
   "metadata": {},
   "outputs": [
    {
     "data": {
      "text/html": [
       "<div>\n",
       "<style scoped>\n",
       "    .dataframe tbody tr th:only-of-type {\n",
       "        vertical-align: middle;\n",
       "    }\n",
       "\n",
       "    .dataframe tbody tr th {\n",
       "        vertical-align: top;\n",
       "    }\n",
       "\n",
       "    .dataframe thead th {\n",
       "        text-align: right;\n",
       "    }\n",
       "</style>\n",
       "<table border=\"1\" class=\"dataframe\">\n",
       "  <thead>\n",
       "    <tr style=\"text-align: right;\">\n",
       "      <th></th>\n",
       "      <th>화재진압시간</th>\n",
       "      <th>출동소요시간</th>\n",
       "    </tr>\n",
       "    <tr>\n",
       "      <th>발화요인대분류명</th>\n",
       "      <th></th>\n",
       "      <th></th>\n",
       "    </tr>\n",
       "  </thead>\n",
       "  <tbody>\n",
       "    <tr>\n",
       "      <th>전기적요인</th>\n",
       "      <td>34187.045455</td>\n",
       "      <td>1554.500000</td>\n",
       "    </tr>\n",
       "    <tr>\n",
       "      <th>자연적인요인</th>\n",
       "      <td>30516.347826</td>\n",
       "      <td>1893.782609</td>\n",
       "    </tr>\n",
       "    <tr>\n",
       "      <th>화학적요인</th>\n",
       "      <td>29844.857143</td>\n",
       "      <td>1568.285714</td>\n",
       "    </tr>\n",
       "    <tr>\n",
       "      <th>미상</th>\n",
       "      <td>28060.981818</td>\n",
       "      <td>1869.745455</td>\n",
       "    </tr>\n",
       "    <tr>\n",
       "      <th>기계적요인</th>\n",
       "      <td>21861.250000</td>\n",
       "      <td>1864.000000</td>\n",
       "    </tr>\n",
       "    <tr>\n",
       "      <th>기타</th>\n",
       "      <td>19413.130435</td>\n",
       "      <td>1669.652174</td>\n",
       "    </tr>\n",
       "    <tr>\n",
       "      <th>부주의</th>\n",
       "      <td>16282.068000</td>\n",
       "      <td>1458.865333</td>\n",
       "    </tr>\n",
       "    <tr>\n",
       "      <th>교통사고</th>\n",
       "      <td>11805.000000</td>\n",
       "      <td>1749.000000</td>\n",
       "    </tr>\n",
       "    <tr>\n",
       "      <th>방화</th>\n",
       "      <td>5113.333333</td>\n",
       "      <td>819.000000</td>\n",
       "    </tr>\n",
       "    <tr>\n",
       "      <th>방화의심</th>\n",
       "      <td>4200.800000</td>\n",
       "      <td>797.000000</td>\n",
       "    </tr>\n",
       "  </tbody>\n",
       "</table>\n",
       "</div>"
      ],
      "text/plain": [
       "                화재진압시간       출동소요시간\n",
       "발화요인대분류명                           \n",
       "전기적요인     34187.045455  1554.500000\n",
       "자연적인요인    30516.347826  1893.782609\n",
       "화학적요인     29844.857143  1568.285714\n",
       "미상        28060.981818  1869.745455\n",
       "기계적요인     21861.250000  1864.000000\n",
       "기타        19413.130435  1669.652174\n",
       "부주의       16282.068000  1458.865333\n",
       "교통사고      11805.000000  1749.000000\n",
       "방화         5113.333333   819.000000\n",
       "방화의심       4200.800000   797.000000"
      ]
     },
     "execution_count": 48,
     "metadata": {},
     "output_type": "execute_result"
    }
   ],
   "source": [
    "time"
   ]
  },
  {
   "cell_type": "code",
   "execution_count": 49,
   "metadata": {},
   "outputs": [
    {
     "data": {
      "image/png": "[encoded data removed]",
      "text/plain": [
       "<Figure size 720x576 with 1 Axes>"
      ]
     },
     "metadata": {
      "needs_background": "light"
     },
     "output_type": "display_data"
    }
   ],
   "source": [
    "plt.figure(figsize=(10,8))\n",
    "plt.xticks(rotation = 45, size=15)\n",
    "plt.yticks(size=15)\n",
    "plt.bar(time.index, time['화재진압시간'])\n",
    "plt.show()"
   ]
  },
  {
   "cell_type": "markdown",
   "metadata": {
    "id": "dLBCYQQTLfKH"
   },
   "source": [
    "# 경보 시각화 및 진압시간 상관성 확인(평균값 사용)"
   ]
  },
  {
   "cell_type": "code",
   "execution_count": null,
   "metadata": {
    "colab": {
     "base_uri": "https://localhost:8080/",
     "height": 424
    },
    "executionInfo": {
     "elapsed": 695,
     "status": "ok",
     "timestamp": 1657979181977,
     "user": {
      "displayName": "손상원",
      "userId": "14039168859267171092"
     },
     "user_tz": -540
    },
    "id": "H7CVu5oSK0Wg",
    "outputId": "6121632e-9e80-4b1b-f21b-ac31fa0e75f7"
   },
   "outputs": [
    {
     "data": {
      "text/html": [
       "\n",
       "  <div id=\"df-f9df609e-1bd4-438c-bd0e-2f0cd95d0d36\">\n",
       "    <div class=\"colab-df-container\">\n",
       "      <div>\n",
       "<style scoped>\n",
       "    .dataframe tbody tr th:only-of-type {\n",
       "        vertical-align: middle;\n",
       "    }\n",
       "\n",
       "    .dataframe tbody tr th {\n",
       "        vertical-align: top;\n",
       "    }\n",
       "\n",
       "    .dataframe thead th {\n",
       "        text-align: right;\n",
       "    }\n",
       "</style>\n",
       "<table border=\"1\" class=\"dataframe\">\n",
       "  <thead>\n",
       "    <tr style=\"text-align: right;\">\n",
       "      <th></th>\n",
       "      <th>특보내용</th>\n",
       "      <th>화재진압시간</th>\n",
       "    </tr>\n",
       "  </thead>\n",
       "  <tbody>\n",
       "    <tr>\n",
       "      <th>1</th>\n",
       "      <td>건조경보</td>\n",
       "      <td>155952</td>\n",
       "    </tr>\n",
       "    <tr>\n",
       "      <th>14</th>\n",
       "      <td>건조주의보</td>\n",
       "      <td>1600</td>\n",
       "    </tr>\n",
       "    <tr>\n",
       "      <th>18</th>\n",
       "      <td>건조주의보</td>\n",
       "      <td>11931</td>\n",
       "    </tr>\n",
       "    <tr>\n",
       "      <th>22</th>\n",
       "      <td>건조주의보</td>\n",
       "      <td>200</td>\n",
       "    </tr>\n",
       "    <tr>\n",
       "      <th>54</th>\n",
       "      <td>건조주의보</td>\n",
       "      <td>1100</td>\n",
       "    </tr>\n",
       "    <tr>\n",
       "      <th>...</th>\n",
       "      <td>...</td>\n",
       "      <td>...</td>\n",
       "    </tr>\n",
       "    <tr>\n",
       "      <th>1018</th>\n",
       "      <td>건조경보</td>\n",
       "      <td>55140</td>\n",
       "    </tr>\n",
       "    <tr>\n",
       "      <th>1021</th>\n",
       "      <td>건조주의보</td>\n",
       "      <td>4716</td>\n",
       "    </tr>\n",
       "    <tr>\n",
       "      <th>1027</th>\n",
       "      <td>건조주의보</td>\n",
       "      <td>205045</td>\n",
       "    </tr>\n",
       "    <tr>\n",
       "      <th>1044</th>\n",
       "      <td>풍랑주의보</td>\n",
       "      <td>20940</td>\n",
       "    </tr>\n",
       "    <tr>\n",
       "      <th>1045</th>\n",
       "      <td>풍랑주의보</td>\n",
       "      <td>12506</td>\n",
       "    </tr>\n",
       "  </tbody>\n",
       "</table>\n",
       "<p>141 rows × 2 columns</p>\n",
       "</div>\n",
       "      <button class=\"colab-df-convert\" onclick=\"convertToInteractive('df-f9df609e-1bd4-438c-bd0e-2f0cd95d0d36')\"\n",
       "              title=\"Convert this dataframe to an interactive table.\"\n",
       "              style=\"display:none;\">\n",
       "        \n",
       "  <svg xmlns=\"http://www.w3.org/2000/svg\" height=\"24px\"viewBox=\"0 0 24 24\"\n",
       "       width=\"24px\">\n",
       "    <path d=\"M0 0h24v24H0V0z\" fill=\"none\"/>\n",
       "    <path d=\"M18.56 5.44l.94 2.06.94-2.06 2.06-.94-2.06-.94-.94-2.06-.94 2.06-2.06.94zm-11 1L8.5 8.5l.94-2.06 2.06-.94-2.06-.94L8.5 2.5l-.94 2.06-2.06.94zm10 10l.94 2.06.94-2.06 2.06-.94-2.06-.94-.94-2.06-.94 2.06-2.06.94z\"/><path d=\"M17.41 7.96l-1.37-1.37c-.4-.4-.92-.59-1.43-.59-.52 0-1.04.2-1.43.59L10.3 9.45l-7.72 7.72c-.78.78-.78 2.05 0 2.83L4 21.41c.39.39.9.59 1.41.59.51 0 1.02-.2 1.41-.59l7.78-7.78 2.81-2.81c.8-.78.8-2.07 0-2.86zM5.41 20L4 18.59l7.72-7.72 1.47 1.35L5.41 20z\"/>\n",
       "  </svg>\n",
       "      </button>\n",
       "      \n",
       "  <style>\n",
       "    .colab-df-container {\n",
       "      display:flex;\n",
       "      flex-wrap:wrap;\n",
       "      gap: 12px;\n",
       "    }\n",
       "\n",
       "    .colab-df-convert {\n",
       "      background-color: #E8F0FE;\n",
       "      border: none;\n",
       "      border-radius: 50%;\n",
       "      cursor: pointer;\n",
       "      display: none;\n",
       "      fill: #1967D2;\n",
       "      height: 32px;\n",
       "      padding: 0 0 0 0;\n",
       "      width: 32px;\n",
       "    }\n",
       "\n",
       "    .colab-df-convert:hover {\n",
       "      background-color: #E2EBFA;\n",
       "      box-shadow: 0px 1px 2px rgba(60, 64, 67, 0.3), 0px 1px 3px 1px rgba(60, 64, 67, 0.15);\n",
       "      fill: #174EA6;\n",
       "    }\n",
       "\n",
       "    [theme=dark] .colab-df-convert {\n",
       "      background-color: #3B4455;\n",
       "      fill: #D2E3FC;\n",
       "    }\n",
       "\n",
       "    [theme=dark] .colab-df-convert:hover {\n",
       "      background-color: #434B5C;\n",
       "      box-shadow: 0px 1px 3px 1px rgba(0, 0, 0, 0.15);\n",
       "      filter: drop-shadow(0px 1px 2px rgba(0, 0, 0, 0.3));\n",
       "      fill: #FFFFFF;\n",
       "    }\n",
       "  </style>\n",
       "\n",
       "      <script>\n",
       "        const buttonEl =\n",
       "          document.querySelector('#df-f9df609e-1bd4-438c-bd0e-2f0cd95d0d36 button.colab-df-convert');\n",
       "        buttonEl.style.display =\n",
       "          google.colab.kernel.accessAllowed ? 'block' : 'none';\n",
       "\n",
       "        async function convertToInteractive(key) {\n",
       "          const element = document.querySelector('#df-f9df609e-1bd4-438c-bd0e-2f0cd95d0d36');\n",
       "          const dataTable =\n",
       "            await google.colab.kernel.invokeFunction('convertToInteractive',\n",
       "                                                     [key], {});\n",
       "          if (!dataTable) return;\n",
       "\n",
       "          const docLinkHtml = 'Like what you see? Visit the ' +\n",
       "            '<a target=\"_blank\" href=https://colab.research.google.com/notebooks/data_table.ipynb>data table notebook</a>'\n",
       "            + ' to learn more about interactive tables.';\n",
       "          element.innerHTML = '';\n",
       "          dataTable['output_type'] = 'display_data';\n",
       "          await google.colab.output.renderOutput(dataTable, element);\n",
       "          const docLink = document.createElement('div');\n",
       "          docLink.innerHTML = docLinkHtml;\n",
       "          element.appendChild(docLink);\n",
       "        }\n",
       "      </script>\n",
       "    </div>\n",
       "  </div>\n",
       "  "
      ],
      "text/plain": [
       "       특보내용  화재진압시간\n",
       "1      건조경보  155952\n",
       "14    건조주의보    1600\n",
       "18    건조주의보   11931\n",
       "22    건조주의보     200\n",
       "54    건조주의보    1100\n",
       "...     ...     ...\n",
       "1018   건조경보   55140\n",
       "1021  건조주의보    4716\n",
       "1027  건조주의보  205045\n",
       "1044  풍랑주의보   20940\n",
       "1045  풍랑주의보   12506\n",
       "\n",
       "[141 rows x 2 columns]"
      ]
     },
     "execution_count": 8,
     "metadata": {},
     "output_type": "execute_result"
    }
   ],
   "source": [
    "df_warn = df[['특보내용','화재진압시간']].dropna()\n",
    "df_warn"
   ]
  },
  {
   "cell_type": "code",
   "execution_count": null,
   "metadata": {
    "colab": {
     "base_uri": "https://localhost:8080/",
     "height": 283
    },
    "executionInfo": {
     "elapsed": 805,
     "status": "ok",
     "timestamp": 1657979252678,
     "user": {
      "displayName": "손상원",
      "userId": "14039168859267171092"
     },
     "user_tz": -540
    },
    "id": "cyXKCEYWJsOs",
    "outputId": "1ce0bf43-3f4e-4178-df51-3fe7ce5b613c"
   },
   "outputs": [
    {
     "data": {
      "text/plain": [
       "<BarContainer object of 9 artists>"
      ]
     },
     "execution_count": 14,
     "metadata": {},
     "output_type": "execute_result"
    },
    {
     "data": {
      "image/png": "[encoded data removed]",
      "text/plain": [
       "<Figure size 432x288 with 1 Axes>"
      ]
     },
     "metadata": {
      "needs_background": "light"
     },
     "output_type": "display_data"
    }
   ],
   "source": [
    "plt.bar(np.sort(df_warn['특보내용'].unique()), df_warn.groupby('특보내용').mean()['화재진압시간'])"
   ]
  },
  {
   "cell_type": "markdown",
   "metadata": {
    "id": "gRoaqZ6eLJjX"
   },
   "source": [
    "풍속 관련 경보가 났을 떄 화재지연시간이 크게 늘어남을 알 수 있고, 이를 통해 풍속과 화재의 심각성간 비례관계를 유추할 수 있다."
   ]
  },
  {
   "cell_type": "markdown",
   "metadata": {
    "id": "LUu0AAa9Lzl5"
   },
   "source": [
    "# 출동시간 확인해보자"
   ]
  },
  {
   "cell_type": "code",
   "execution_count": null,
   "metadata": {
    "id": "JsnD5SgYL4tz"
   },
   "outputs": [],
   "source": [
    "df_add = df[['특보내용','발화요인대분류명','출동소요시간']]"
   ]
  },
  {
   "cell_type": "code",
   "execution_count": null,
   "metadata": {
    "colab": {
     "base_uri": "https://localhost:8080/",
     "height": 394
    },
    "executionInfo": {
     "elapsed": 114,
     "status": "ok",
     "timestamp": 1657979265614,
     "user": {
      "displayName": "손상원",
      "userId": "14039168859267171092"
     },
     "user_tz": -540
    },
    "id": "h2ivV-AUL4rD",
    "outputId": "266b50f8-76a5-4952-e5c0-cb35cc19385f"
   },
   "outputs": [
    {
     "data": {
      "text/html": [
       "\n",
       "  <div id=\"df-65054ed1-30e2-4559-b534-ccdc38f1e4cb\">\n",
       "    <div class=\"colab-df-container\">\n",
       "      <div>\n",
       "<style scoped>\n",
       "    .dataframe tbody tr th:only-of-type {\n",
       "        vertical-align: middle;\n",
       "    }\n",
       "\n",
       "    .dataframe tbody tr th {\n",
       "        vertical-align: top;\n",
       "    }\n",
       "\n",
       "    .dataframe thead th {\n",
       "        text-align: right;\n",
       "    }\n",
       "</style>\n",
       "<table border=\"1\" class=\"dataframe\">\n",
       "  <thead>\n",
       "    <tr style=\"text-align: right;\">\n",
       "      <th></th>\n",
       "      <th>출동소요시간</th>\n",
       "    </tr>\n",
       "    <tr>\n",
       "      <th>발화요인대분류명</th>\n",
       "      <th></th>\n",
       "    </tr>\n",
       "  </thead>\n",
       "  <tbody>\n",
       "    <tr>\n",
       "      <th>교통사고</th>\n",
       "      <td>1749.000000</td>\n",
       "    </tr>\n",
       "    <tr>\n",
       "      <th>기계적요인</th>\n",
       "      <td>1864.000000</td>\n",
       "    </tr>\n",
       "    <tr>\n",
       "      <th>기타</th>\n",
       "      <td>1669.652174</td>\n",
       "    </tr>\n",
       "    <tr>\n",
       "      <th>미상</th>\n",
       "      <td>1869.745455</td>\n",
       "    </tr>\n",
       "    <tr>\n",
       "      <th>방화</th>\n",
       "      <td>819.000000</td>\n",
       "    </tr>\n",
       "    <tr>\n",
       "      <th>방화의심</th>\n",
       "      <td>797.000000</td>\n",
       "    </tr>\n",
       "    <tr>\n",
       "      <th>부주의</th>\n",
       "      <td>1458.865333</td>\n",
       "    </tr>\n",
       "    <tr>\n",
       "      <th>자연적인요인</th>\n",
       "      <td>1893.782609</td>\n",
       "    </tr>\n",
       "    <tr>\n",
       "      <th>전기적요인</th>\n",
       "      <td>1554.500000</td>\n",
       "    </tr>\n",
       "    <tr>\n",
       "      <th>화학적요인</th>\n",
       "      <td>1568.285714</td>\n",
       "    </tr>\n",
       "  </tbody>\n",
       "</table>\n",
       "</div>\n",
       "      <button class=\"colab-df-convert\" onclick=\"convertToInteractive('df-65054ed1-30e2-4559-b534-ccdc38f1e4cb')\"\n",
       "              title=\"Convert this dataframe to an interactive table.\"\n",
       "              style=\"display:none;\">\n",
       "        \n",
       "  <svg xmlns=\"http://www.w3.org/2000/svg\" height=\"24px\"viewBox=\"0 0 24 24\"\n",
       "       width=\"24px\">\n",
       "    <path d=\"M0 0h24v24H0V0z\" fill=\"none\"/>\n",
       "    <path d=\"M18.56 5.44l.94 2.06.94-2.06 2.06-.94-2.06-.94-.94-2.06-.94 2.06-2.06.94zm-11 1L8.5 8.5l.94-2.06 2.06-.94-2.06-.94L8.5 2.5l-.94 2.06-2.06.94zm10 10l.94 2.06.94-2.06 2.06-.94-2.06-.94-.94-2.06-.94 2.06-2.06.94z\"/><path d=\"M17.41 7.96l-1.37-1.37c-.4-.4-.92-.59-1.43-.59-.52 0-1.04.2-1.43.59L10.3 9.45l-7.72 7.72c-.78.78-.78 2.05 0 2.83L4 21.41c.39.39.9.59 1.41.59.51 0 1.02-.2 1.41-.59l7.78-7.78 2.81-2.81c.8-.78.8-2.07 0-2.86zM5.41 20L4 18.59l7.72-7.72 1.47 1.35L5.41 20z\"/>\n",
       "  </svg>\n",
       "      </button>\n",
       "      \n",
       "  <style>\n",
       "    .colab-df-container {\n",
       "      display:flex;\n",
       "      flex-wrap:wrap;\n",
       "      gap: 12px;\n",
       "    }\n",
       "\n",
       "    .colab-df-convert {\n",
       "      background-color: #E8F0FE;\n",
       "      border: none;\n",
       "      border-radius: 50%;\n",
       "      cursor: pointer;\n",
       "      display: none;\n",
       "      fill: #1967D2;\n",
       "      height: 32px;\n",
       "      padding: 0 0 0 0;\n",
       "      width: 32px;\n",
       "    }\n",
       "\n",
       "    .colab-df-convert:hover {\n",
       "      background-color: #E2EBFA;\n",
       "      box-shadow: 0px 1px 2px rgba(60, 64, 67, 0.3), 0px 1px 3px 1px rgba(60, 64, 67, 0.15);\n",
       "      fill: #174EA6;\n",
       "    }\n",
       "\n",
       "    [theme=dark] .colab-df-convert {\n",
       "      background-color: #3B4455;\n",
       "      fill: #D2E3FC;\n",
       "    }\n",
       "\n",
       "    [theme=dark] .colab-df-convert:hover {\n",
       "      background-color: #434B5C;\n",
       "      box-shadow: 0px 1px 3px 1px rgba(0, 0, 0, 0.15);\n",
       "      filter: drop-shadow(0px 1px 2px rgba(0, 0, 0, 0.3));\n",
       "      fill: #FFFFFF;\n",
       "    }\n",
       "  </style>\n",
       "\n",
       "      <script>\n",
       "        const buttonEl =\n",
       "          document.querySelector('#df-65054ed1-30e2-4559-b534-ccdc38f1e4cb button.colab-df-convert');\n",
       "        buttonEl.style.display =\n",
       "          google.colab.kernel.accessAllowed ? 'block' : 'none';\n",
       "\n",
       "        async function convertToInteractive(key) {\n",
       "          const element = document.querySelector('#df-65054ed1-30e2-4559-b534-ccdc38f1e4cb');\n",
       "          const dataTable =\n",
       "            await google.colab.kernel.invokeFunction('convertToInteractive',\n",
       "                                                     [key], {});\n",
       "          if (!dataTable) return;\n",
       "\n",
       "          const docLinkHtml = 'Like what you see? Visit the ' +\n",
       "            '<a target=\"_blank\" href=https://colab.research.google.com/notebooks/data_table.ipynb>data table notebook</a>'\n",
       "            + ' to learn more about interactive tables.';\n",
       "          element.innerHTML = '';\n",
       "          dataTable['output_type'] = 'display_data';\n",
       "          await google.colab.output.renderOutput(dataTable, element);\n",
       "          const docLink = document.createElement('div');\n",
       "          docLink.innerHTML = docLinkHtml;\n",
       "          element.appendChild(docLink);\n",
       "        }\n",
       "      </script>\n",
       "    </div>\n",
       "  </div>\n",
       "  "
      ],
      "text/plain": [
       "               출동소요시간\n",
       "발화요인대분류명             \n",
       "교통사고      1749.000000\n",
       "기계적요인     1864.000000\n",
       "기타        1669.652174\n",
       "미상        1869.745455\n",
       "방화         819.000000\n",
       "방화의심       797.000000\n",
       "부주의       1458.865333\n",
       "자연적인요인    1893.782609\n",
       "전기적요인     1554.500000\n",
       "화학적요인     1568.285714"
      ]
     },
     "execution_count": 18,
     "metadata": {},
     "output_type": "execute_result"
    }
   ],
   "source": [
    "df_add.groupby('발화요인대분류명').mean()"
   ]
  },
  {
   "cell_type": "code",
   "execution_count": null,
   "metadata": {
    "colab": {
     "base_uri": "https://localhost:8080/",
     "height": 320
    },
    "executionInfo": {
     "elapsed": 113,
     "status": "ok",
     "timestamp": 1657979265616,
     "user": {
      "displayName": "손상원",
      "userId": "14039168859267171092"
     },
     "user_tz": -540
    },
    "id": "VoTI1GYtL4oi",
    "outputId": "97dc7fe2-2cde-4eff-b683-a0ec225ade0a"
   },
   "outputs": [
    {
     "data": {
      "text/plain": [
       "(<BarContainer object of 10 artists>,\n",
       " array(['교통사고', '기계적요인', '기타', '미상', '방화', '방화의심', '부주의', '자연적인요인',\n",
       "        '전기적요인', '화학적요인'], dtype=object))"
      ]
     },
     "execution_count": 19,
     "metadata": {},
     "output_type": "execute_result"
    },
    {
     "data": {
      "image/png": "[encoded data removed]",
      "text/plain": [
       "<Figure size 432x288 with 1 Axes>"
      ]
     },
     "metadata": {
      "needs_background": "light"
     },
     "output_type": "display_data"
    }
   ],
   "source": [
    "plt.bar(np.sort(df_add['발화요인대분류명'].unique()), df_add.groupby('발화요인대분류명').mean()['출동소요시간']), np.sort(df_add['발화요인대분류명'].unique())"
   ]
  },
  {
   "cell_type": "markdown",
   "metadata": {
    "id": "paezRiqtMfvv"
   },
   "source": [
    "출동소요시간 역시 자연발생사건보다 방화사건의 경우 더 짧았음을 알 수 있었음.\n",
    "또한 출동소요시간과 화재의 심각성이 비례관계라고 추측한다면, 자연발생의 경우 화재시작부터 소방관이 현장에 도착할 때 까지 시간소요가 큰 점이 화재진압시간을 늘리는 역할을 하는 것을 알 수 있음."
   ]
  },
  {
   "cell_type": "code",
   "execution_count": null,
   "metadata": {
    "colab": {
     "base_uri": "https://localhost:8080/",
     "height": 363
    },
    "executionInfo": {
     "elapsed": 108,
     "status": "ok",
     "timestamp": 1657979265618,
     "user": {
      "displayName": "손상원",
      "userId": "14039168859267171092"
     },
     "user_tz": -540
    },
    "id": "it9HVIjJL4lo",
    "outputId": "57a80e9a-f4d5-473b-f80b-cb872e600abb"
   },
   "outputs": [
    {
     "data": {
      "text/html": [
       "\n",
       "  <div id=\"df-f1f05551-47aa-44ec-93be-3186b7f89490\">\n",
       "    <div class=\"colab-df-container\">\n",
       "      <div>\n",
       "<style scoped>\n",
       "    .dataframe tbody tr th:only-of-type {\n",
       "        vertical-align: middle;\n",
       "    }\n",
       "\n",
       "    .dataframe tbody tr th {\n",
       "        vertical-align: top;\n",
       "    }\n",
       "\n",
       "    .dataframe thead th {\n",
       "        text-align: right;\n",
       "    }\n",
       "</style>\n",
       "<table border=\"1\" class=\"dataframe\">\n",
       "  <thead>\n",
       "    <tr style=\"text-align: right;\">\n",
       "      <th></th>\n",
       "      <th>출동소요시간</th>\n",
       "    </tr>\n",
       "    <tr>\n",
       "      <th>특보내용</th>\n",
       "      <th></th>\n",
       "    </tr>\n",
       "  </thead>\n",
       "  <tbody>\n",
       "    <tr>\n",
       "      <th>강풍경보</th>\n",
       "      <td>1137.000000</td>\n",
       "    </tr>\n",
       "    <tr>\n",
       "      <th>강풍주의보</th>\n",
       "      <td>1057.888889</td>\n",
       "    </tr>\n",
       "    <tr>\n",
       "      <th>건조경보</th>\n",
       "      <td>1282.692308</td>\n",
       "    </tr>\n",
       "    <tr>\n",
       "      <th>건조주의보</th>\n",
       "      <td>1607.612903</td>\n",
       "    </tr>\n",
       "    <tr>\n",
       "      <th>대설주의보</th>\n",
       "      <td>1409.000000</td>\n",
       "    </tr>\n",
       "    <tr>\n",
       "      <th>풍랑경보</th>\n",
       "      <td>1774.666667</td>\n",
       "    </tr>\n",
       "    <tr>\n",
       "      <th>풍랑주의보</th>\n",
       "      <td>1525.209302</td>\n",
       "    </tr>\n",
       "    <tr>\n",
       "      <th>한파경보</th>\n",
       "      <td>1384.500000</td>\n",
       "    </tr>\n",
       "    <tr>\n",
       "      <th>한파주의보</th>\n",
       "      <td>975.800000</td>\n",
       "    </tr>\n",
       "  </tbody>\n",
       "</table>\n",
       "</div>\n",
       "      <button class=\"colab-df-convert\" onclick=\"convertToInteractive('df-f1f05551-47aa-44ec-93be-3186b7f89490')\"\n",
       "              title=\"Convert this dataframe to an interactive table.\"\n",
       "              style=\"display:none;\">\n",
       "        \n",
       "  <svg xmlns=\"http://www.w3.org/2000/svg\" height=\"24px\"viewBox=\"0 0 24 24\"\n",
       "       width=\"24px\">\n",
       "    <path d=\"M0 0h24v24H0V0z\" fill=\"none\"/>\n",
       "    <path d=\"M18.56 5.44l.94 2.06.94-2.06 2.06-.94-2.06-.94-.94-2.06-.94 2.06-2.06.94zm-11 1L8.5 8.5l.94-2.06 2.06-.94-2.06-.94L8.5 2.5l-.94 2.06-2.06.94zm10 10l.94 2.06.94-2.06 2.06-.94-2.06-.94-.94-2.06-.94 2.06-2.06.94z\"/><path d=\"M17.41 7.96l-1.37-1.37c-.4-.4-.92-.59-1.43-.59-.52 0-1.04.2-1.43.59L10.3 9.45l-7.72 7.72c-.78.78-.78 2.05 0 2.83L4 21.41c.39.39.9.59 1.41.59.51 0 1.02-.2 1.41-.59l7.78-7.78 2.81-2.81c.8-.78.8-2.07 0-2.86zM5.41 20L4 18.59l7.72-7.72 1.47 1.35L5.41 20z\"/>\n",
       "  </svg>\n",
       "      </button>\n",
       "      \n",
       "  <style>\n",
       "    .colab-df-container {\n",
       "      display:flex;\n",
       "      flex-wrap:wrap;\n",
       "      gap: 12px;\n",
       "    }\n",
       "\n",
       "    .colab-df-convert {\n",
       "      background-color: #E8F0FE;\n",
       "      border: none;\n",
       "      border-radius: 50%;\n",
       "      cursor: pointer;\n",
       "      display: none;\n",
       "      fill: #1967D2;\n",
       "      height: 32px;\n",
       "      padding: 0 0 0 0;\n",
       "      width: 32px;\n",
       "    }\n",
       "\n",
       "    .colab-df-convert:hover {\n",
       "      background-color: #E2EBFA;\n",
       "      box-shadow: 0px 1px 2px rgba(60, 64, 67, 0.3), 0px 1px 3px 1px rgba(60, 64, 67, 0.15);\n",
       "      fill: #174EA6;\n",
       "    }\n",
       "\n",
       "    [theme=dark] .colab-df-convert {\n",
       "      background-color: #3B4455;\n",
       "      fill: #D2E3FC;\n",
       "    }\n",
       "\n",
       "    [theme=dark] .colab-df-convert:hover {\n",
       "      background-color: #434B5C;\n",
       "      box-shadow: 0px 1px 3px 1px rgba(0, 0, 0, 0.15);\n",
       "      filter: drop-shadow(0px 1px 2px rgba(0, 0, 0, 0.3));\n",
       "      fill: #FFFFFF;\n",
       "    }\n",
       "  </style>\n",
       "\n",
       "      <script>\n",
       "        const buttonEl =\n",
       "          document.querySelector('#df-f1f05551-47aa-44ec-93be-3186b7f89490 button.colab-df-convert');\n",
       "        buttonEl.style.display =\n",
       "          google.colab.kernel.accessAllowed ? 'block' : 'none';\n",
       "\n",
       "        async function convertToInteractive(key) {\n",
       "          const element = document.querySelector('#df-f1f05551-47aa-44ec-93be-3186b7f89490');\n",
       "          const dataTable =\n",
       "            await google.colab.kernel.invokeFunction('convertToInteractive',\n",
       "                                                     [key], {});\n",
       "          if (!dataTable) return;\n",
       "\n",
       "          const docLinkHtml = 'Like what you see? Visit the ' +\n",
       "            '<a target=\"_blank\" href=https://colab.research.google.com/notebooks/data_table.ipynb>data table notebook</a>'\n",
       "            + ' to learn more about interactive tables.';\n",
       "          element.innerHTML = '';\n",
       "          dataTable['output_type'] = 'display_data';\n",
       "          await google.colab.output.renderOutput(dataTable, element);\n",
       "          const docLink = document.createElement('div');\n",
       "          docLink.innerHTML = docLinkHtml;\n",
       "          element.appendChild(docLink);\n",
       "        }\n",
       "      </script>\n",
       "    </div>\n",
       "  </div>\n",
       "  "
      ],
      "text/plain": [
       "            출동소요시간\n",
       "특보내용              \n",
       "강풍경보   1137.000000\n",
       "강풍주의보  1057.888889\n",
       "건조경보   1282.692308\n",
       "건조주의보  1607.612903\n",
       "대설주의보  1409.000000\n",
       "풍랑경보   1774.666667\n",
       "풍랑주의보  1525.209302\n",
       "한파경보   1384.500000\n",
       "한파주의보   975.800000"
      ]
     },
     "execution_count": 20,
     "metadata": {},
     "output_type": "execute_result"
    }
   ],
   "source": [
    "df_add.groupby('특보내용').mean()"
   ]
  },
  {
   "cell_type": "code",
   "execution_count": null,
   "metadata": {
    "colab": {
     "base_uri": "https://localhost:8080/",
     "height": 424
    },
    "executionInfo": {
     "elapsed": 109,
     "status": "ok",
     "timestamp": 1657979265621,
     "user": {
      "displayName": "손상원",
      "userId": "14039168859267171092"
     },
     "user_tz": -540
    },
    "id": "SmF99f8nO1es",
    "outputId": "515958d8-83e1-444d-830e-99e861ced35b"
   },
   "outputs": [
    {
     "data": {
      "text/html": [
       "\n",
       "  <div id=\"df-32e3f136-4b54-4f94-bdda-6d913d2272a8\">\n",
       "    <div class=\"colab-df-container\">\n",
       "      <div>\n",
       "<style scoped>\n",
       "    .dataframe tbody tr th:only-of-type {\n",
       "        vertical-align: middle;\n",
       "    }\n",
       "\n",
       "    .dataframe tbody tr th {\n",
       "        vertical-align: top;\n",
       "    }\n",
       "\n",
       "    .dataframe thead th {\n",
       "        text-align: right;\n",
       "    }\n",
       "</style>\n",
       "<table border=\"1\" class=\"dataframe\">\n",
       "  <thead>\n",
       "    <tr style=\"text-align: right;\">\n",
       "      <th></th>\n",
       "      <th>특보내용</th>\n",
       "      <th>출동소요시간</th>\n",
       "    </tr>\n",
       "  </thead>\n",
       "  <tbody>\n",
       "    <tr>\n",
       "      <th>1</th>\n",
       "      <td>건조경보</td>\n",
       "      <td>1615</td>\n",
       "    </tr>\n",
       "    <tr>\n",
       "      <th>14</th>\n",
       "      <td>건조주의보</td>\n",
       "      <td>2000</td>\n",
       "    </tr>\n",
       "    <tr>\n",
       "      <th>18</th>\n",
       "      <td>건조주의보</td>\n",
       "      <td>5301</td>\n",
       "    </tr>\n",
       "    <tr>\n",
       "      <th>22</th>\n",
       "      <td>건조주의보</td>\n",
       "      <td>1202</td>\n",
       "    </tr>\n",
       "    <tr>\n",
       "      <th>54</th>\n",
       "      <td>건조주의보</td>\n",
       "      <td>400</td>\n",
       "    </tr>\n",
       "    <tr>\n",
       "      <th>...</th>\n",
       "      <td>...</td>\n",
       "      <td>...</td>\n",
       "    </tr>\n",
       "    <tr>\n",
       "      <th>1018</th>\n",
       "      <td>건조경보</td>\n",
       "      <td>839</td>\n",
       "    </tr>\n",
       "    <tr>\n",
       "      <th>1021</th>\n",
       "      <td>건조주의보</td>\n",
       "      <td>658</td>\n",
       "    </tr>\n",
       "    <tr>\n",
       "      <th>1027</th>\n",
       "      <td>건조주의보</td>\n",
       "      <td>2000</td>\n",
       "    </tr>\n",
       "    <tr>\n",
       "      <th>1044</th>\n",
       "      <td>풍랑주의보</td>\n",
       "      <td>1206</td>\n",
       "    </tr>\n",
       "    <tr>\n",
       "      <th>1045</th>\n",
       "      <td>풍랑주의보</td>\n",
       "      <td>1615</td>\n",
       "    </tr>\n",
       "  </tbody>\n",
       "</table>\n",
       "<p>141 rows × 2 columns</p>\n",
       "</div>\n",
       "      <button class=\"colab-df-convert\" onclick=\"convertToInteractive('df-32e3f136-4b54-4f94-bdda-6d913d2272a8')\"\n",
       "              title=\"Convert this dataframe to an interactive table.\"\n",
       "              style=\"display:none;\">\n",
       "        \n",
       "  <svg xmlns=\"http://www.w3.org/2000/svg\" height=\"24px\"viewBox=\"0 0 24 24\"\n",
       "       width=\"24px\">\n",
       "    <path d=\"M0 0h24v24H0V0z\" fill=\"none\"/>\n",
       "    <path d=\"M18.56 5.44l.94 2.06.94-2.06 2.06-.94-2.06-.94-.94-2.06-.94 2.06-2.06.94zm-11 1L8.5 8.5l.94-2.06 2.06-.94-2.06-.94L8.5 2.5l-.94 2.06-2.06.94zm10 10l.94 2.06.94-2.06 2.06-.94-2.06-.94-.94-2.06-.94 2.06-2.06.94z\"/><path d=\"M17.41 7.96l-1.37-1.37c-.4-.4-.92-.59-1.43-.59-.52 0-1.04.2-1.43.59L10.3 9.45l-7.72 7.72c-.78.78-.78 2.05 0 2.83L4 21.41c.39.39.9.59 1.41.59.51 0 1.02-.2 1.41-.59l7.78-7.78 2.81-2.81c.8-.78.8-2.07 0-2.86zM5.41 20L4 18.59l7.72-7.72 1.47 1.35L5.41 20z\"/>\n",
       "  </svg>\n",
       "      </button>\n",
       "      \n",
       "  <style>\n",
       "    .colab-df-container {\n",
       "      display:flex;\n",
       "      flex-wrap:wrap;\n",
       "      gap: 12px;\n",
       "    }\n",
       "\n",
       "    .colab-df-convert {\n",
       "      background-color: #E8F0FE;\n",
       "      border: none;\n",
       "      border-radius: 50%;\n",
       "      cursor: pointer;\n",
       "      display: none;\n",
       "      fill: #1967D2;\n",
       "      height: 32px;\n",
       "      padding: 0 0 0 0;\n",
       "      width: 32px;\n",
       "    }\n",
       "\n",
       "    .colab-df-convert:hover {\n",
       "      background-color: #E2EBFA;\n",
       "      box-shadow: 0px 1px 2px rgba(60, 64, 67, 0.3), 0px 1px 3px 1px rgba(60, 64, 67, 0.15);\n",
       "      fill: #174EA6;\n",
       "    }\n",
       "\n",
       "    [theme=dark] .colab-df-convert {\n",
       "      background-color: #3B4455;\n",
       "      fill: #D2E3FC;\n",
       "    }\n",
       "\n",
       "    [theme=dark] .colab-df-convert:hover {\n",
       "      background-color: #434B5C;\n",
       "      box-shadow: 0px 1px 3px 1px rgba(0, 0, 0, 0.15);\n",
       "      filter: drop-shadow(0px 1px 2px rgba(0, 0, 0, 0.3));\n",
       "      fill: #FFFFFF;\n",
       "    }\n",
       "  </style>\n",
       "\n",
       "      <script>\n",
       "        const buttonEl =\n",
       "          document.querySelector('#df-32e3f136-4b54-4f94-bdda-6d913d2272a8 button.colab-df-convert');\n",
       "        buttonEl.style.display =\n",
       "          google.colab.kernel.accessAllowed ? 'block' : 'none';\n",
       "\n",
       "        async function convertToInteractive(key) {\n",
       "          const element = document.querySelector('#df-32e3f136-4b54-4f94-bdda-6d913d2272a8');\n",
       "          const dataTable =\n",
       "            await google.colab.kernel.invokeFunction('convertToInteractive',\n",
       "                                                     [key], {});\n",
       "          if (!dataTable) return;\n",
       "\n",
       "          const docLinkHtml = 'Like what you see? Visit the ' +\n",
       "            '<a target=\"_blank\" href=https://colab.research.google.com/notebooks/data_table.ipynb>data table notebook</a>'\n",
       "            + ' to learn more about interactive tables.';\n",
       "          element.innerHTML = '';\n",
       "          dataTable['output_type'] = 'display_data';\n",
       "          await google.colab.output.renderOutput(dataTable, element);\n",
       "          const docLink = document.createElement('div');\n",
       "          docLink.innerHTML = docLinkHtml;\n",
       "          element.appendChild(docLink);\n",
       "        }\n",
       "      </script>\n",
       "    </div>\n",
       "  </div>\n",
       "  "
      ],
      "text/plain": [
       "       특보내용  출동소요시간\n",
       "1      건조경보    1615\n",
       "14    건조주의보    2000\n",
       "18    건조주의보    5301\n",
       "22    건조주의보    1202\n",
       "54    건조주의보     400\n",
       "...     ...     ...\n",
       "1018   건조경보     839\n",
       "1021  건조주의보     658\n",
       "1027  건조주의보    2000\n",
       "1044  풍랑주의보    1206\n",
       "1045  풍랑주의보    1615\n",
       "\n",
       "[141 rows x 2 columns]"
      ]
     },
     "execution_count": 21,
     "metadata": {},
     "output_type": "execute_result"
    }
   ],
   "source": [
    "df_warn = df[['특보내용','출동소요시간']].dropna()\n",
    "df_warn"
   ]
  },
  {
   "cell_type": "code",
   "execution_count": null,
   "metadata": {
    "colab": {
     "base_uri": "https://localhost:8080/",
     "height": 283
    },
    "executionInfo": {
     "elapsed": 532,
     "status": "ok",
     "timestamp": 1657979881865,
     "user": {
      "displayName": "손상원",
      "userId": "14039168859267171092"
     },
     "user_tz": -540
    },
    "id": "s47t2esMNRG5",
    "outputId": "236b3499-db30-4187-aead-068c83bf7ada"
   },
   "outputs": [
    {
     "data": {
      "text/plain": [
       "<BarContainer object of 9 artists>"
      ]
     },
     "execution_count": 24,
     "metadata": {},
     "output_type": "execute_result"
    },
    {
     "data": {
      "image/png": "[encoded data removed]",
      "text/plain": [
       "<Figure size 432x288 with 1 Axes>"
      ]
     },
     "metadata": {
      "needs_background": "light"
     },
     "output_type": "display_data"
    }
   ],
   "source": [
    "plt.bar(np.sort(df_warn['특보내용'].unique()), df_warn.groupby('특보내용').mean()['출동소요시간'])"
   ]
  },
  {
   "cell_type": "markdown",
   "metadata": {
    "id": "rkA5W5QwPXkY"
   },
   "source": [
    "생각보다 경보에 따라서 출동시간은 큰 차이가 없었음. 경보는 출동시간과 관계없이 화재를 강하게 하는 요소로 볼 수 있을듯? (그만큼 기상환경이 화재발생에 유리하다는 뜻)"
   ]
  },
  {
   "cell_type": "markdown",
   "metadata": {
    "id": "79nR0C0NRk2n"
   },
   "source": [
    "# 발화지점"
   ]
  },
  {
   "cell_type": "code",
   "execution_count": null,
   "metadata": {
    "id": "h5h1rn8XRzwU"
   },
   "outputs": [],
   "source": []
  }
 ],
 "metadata": {
  "colab": {
   "authorship_tag": "ABX9TyMZxqtK23wCj/VlKbk//tTN",
   "collapsed_sections": [
    "xxBsqKl7OCbA"
   ],
   "name": "Untitled0.ipynb",
   "provenance": []
  },
  "kernelspec": {
   "display_name": "Python 3 (ipykernel)",
   "language": "python",
   "name": "python3"
  },
  "language_info": {
   "codemirror_mode": {
    "name": "ipython",
    "version": 3
   },
   "file_extension": ".py",
   "mimetype": "text/x-python",
   "name": "python",
   "nbconvert_exporter": "python",
   "pygments_lexer": "ipython3",
   "version": "3.9.12"
  }
 },
 "nbformat": 4,
 "nbformat_minor": 1
}
