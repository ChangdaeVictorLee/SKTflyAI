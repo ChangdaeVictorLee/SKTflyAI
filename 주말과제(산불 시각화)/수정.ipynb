{
 "cells": [
  {
   "cell_type": "code",
   "execution_count": 17,
   "id": "18771a13",
   "metadata": {},
   "outputs": [],
   "source": [
    "import os\n",
    "import seaborn as sns\n",
    "import pandas as pd\n",
    "import matplotlib.pyplot as plt\n",
    "import numpy as np\n",
    "%config InlineBackend.figure_format = 'retina' # 그래프를 더 높은 해상도로 출력\n",
    "%matplotlib inline"
   ]
  },
  {
   "cell_type": "code",
   "execution_count": 2,
   "id": "746db0cb",
   "metadata": {},
   "outputs": [],
   "source": [
    "#한글 폰트 깨짐 방지\n",
    "import warnings\n",
    "warnings.filterwarnings(action='ignore')\n",
    "\n",
    "if os.name == 'posix':\n",
    "    plt.rc(\"font\", family=\"AppleGothic\")\n",
    "\n",
    "else:\n",
    "    plt.rc(\"font\", family=\"Malgun Gothic\")\n",
    "plt.rc(\"axes\", unicode_minus=False)"
   ]
  },
  {
   "cell_type": "code",
   "execution_count": 3,
   "id": "a490ea46",
   "metadata": {
    "scrolled": true
   },
   "outputs": [
    {
     "data": {
      "text/html": [
       "<div>\n",
       "<style scoped>\n",
       "    .dataframe tbody tr th:only-of-type {\n",
       "        vertical-align: middle;\n",
       "    }\n",
       "\n",
       "    .dataframe tbody tr th {\n",
       "        vertical-align: top;\n",
       "    }\n",
       "\n",
       "    .dataframe thead th {\n",
       "        text-align: right;\n",
       "    }\n",
       "</style>\n",
       "<table border=\"1\" class=\"dataframe\">\n",
       "  <thead>\n",
       "    <tr style=\"text-align: right;\">\n",
       "      <th></th>\n",
       "      <th>일련번호</th>\n",
       "      <th>인명피해수</th>\n",
       "      <th>재산피해금액</th>\n",
       "      <th>소방서명</th>\n",
       "      <th>서센터명</th>\n",
       "      <th>소방지역대명</th>\n",
       "      <th>화재발생일자</th>\n",
       "      <th>화재발생시간</th>\n",
       "      <th>접수일자</th>\n",
       "      <th>접수시각</th>\n",
       "      <th>...</th>\n",
       "      <th>발화원인</th>\n",
       "      <th>발화요인대분류명</th>\n",
       "      <th>전체인력수합계</th>\n",
       "      <th>동원장비수</th>\n",
       "      <th>날씨</th>\n",
       "      <th>온도</th>\n",
       "      <th>습도</th>\n",
       "      <th>시간단위풍속</th>\n",
       "      <th>시간단위풍향</th>\n",
       "      <th>특보내용</th>\n",
       "    </tr>\n",
       "  </thead>\n",
       "  <tbody>\n",
       "    <tr>\n",
       "      <th>0</th>\n",
       "      <td>1</td>\n",
       "      <td>0</td>\n",
       "      <td>0</td>\n",
       "      <td>강릉소방서</td>\n",
       "      <td>경포119안전센터</td>\n",
       "      <td>NaN</td>\n",
       "      <td>20110122</td>\n",
       "      <td>233500</td>\n",
       "      <td>20110122</td>\n",
       "      <td>233511</td>\n",
       "      <td>...</td>\n",
       "      <td>기타</td>\n",
       "      <td>방화의심</td>\n",
       "      <td>37</td>\n",
       "      <td>8</td>\n",
       "      <td>맑음</td>\n",
       "      <td>-1.0</td>\n",
       "      <td>30</td>\n",
       "      <td>45.0</td>\n",
       "      <td>8.0</td>\n",
       "      <td>NaN</td>\n",
       "    </tr>\n",
       "    <tr>\n",
       "      <th>1</th>\n",
       "      <td>2</td>\n",
       "      <td>0</td>\n",
       "      <td>184330</td>\n",
       "      <td>양양소방서</td>\n",
       "      <td>하조대119안전센터</td>\n",
       "      <td>NaN</td>\n",
       "      <td>20110131</td>\n",
       "      <td>181300</td>\n",
       "      <td>20110131</td>\n",
       "      <td>181311</td>\n",
       "      <td>...</td>\n",
       "      <td>기타</td>\n",
       "      <td>부주의</td>\n",
       "      <td>1872</td>\n",
       "      <td>71</td>\n",
       "      <td>맑음</td>\n",
       "      <td>1.0</td>\n",
       "      <td>10</td>\n",
       "      <td>225.0</td>\n",
       "      <td>8.0</td>\n",
       "      <td>건조경보</td>\n",
       "    </tr>\n",
       "    <tr>\n",
       "      <th>2</th>\n",
       "      <td>3</td>\n",
       "      <td>0</td>\n",
       "      <td>0</td>\n",
       "      <td>강릉소방서</td>\n",
       "      <td>경포119안전센터</td>\n",
       "      <td>NaN</td>\n",
       "      <td>20110201</td>\n",
       "      <td>210700</td>\n",
       "      <td>20110201</td>\n",
       "      <td>210710</td>\n",
       "      <td>...</td>\n",
       "      <td>기타</td>\n",
       "      <td>방화의심</td>\n",
       "      <td>184</td>\n",
       "      <td>15</td>\n",
       "      <td>맑음</td>\n",
       "      <td>1.0</td>\n",
       "      <td>550</td>\n",
       "      <td>135.0</td>\n",
       "      <td>4.0</td>\n",
       "      <td>NaN</td>\n",
       "    </tr>\n",
       "    <tr>\n",
       "      <th>3</th>\n",
       "      <td>4</td>\n",
       "      <td>0</td>\n",
       "      <td>4864</td>\n",
       "      <td>홍천소방서</td>\n",
       "      <td>서석119안전센터</td>\n",
       "      <td>내촌119지역대</td>\n",
       "      <td>20110211</td>\n",
       "      <td>175000</td>\n",
       "      <td>20110211</td>\n",
       "      <td>175032</td>\n",
       "      <td>...</td>\n",
       "      <td>입산자실화</td>\n",
       "      <td>기타</td>\n",
       "      <td>171</td>\n",
       "      <td>9</td>\n",
       "      <td>구름많음</td>\n",
       "      <td>-2.0</td>\n",
       "      <td>29</td>\n",
       "      <td>225.0</td>\n",
       "      <td>4.0</td>\n",
       "      <td>NaN</td>\n",
       "    </tr>\n",
       "    <tr>\n",
       "      <th>4</th>\n",
       "      <td>5</td>\n",
       "      <td>0</td>\n",
       "      <td>50</td>\n",
       "      <td>원주소방서</td>\n",
       "      <td>흥업119안전센터</td>\n",
       "      <td>귀래119지역대</td>\n",
       "      <td>20110212</td>\n",
       "      <td>61800</td>\n",
       "      <td>20110212</td>\n",
       "      <td>61836</td>\n",
       "      <td>...</td>\n",
       "      <td>모닥불</td>\n",
       "      <td>부주의</td>\n",
       "      <td>94</td>\n",
       "      <td>9</td>\n",
       "      <td>구름많음</td>\n",
       "      <td>-6.0</td>\n",
       "      <td>44</td>\n",
       "      <td>225.0</td>\n",
       "      <td>4.0</td>\n",
       "      <td>NaN</td>\n",
       "    </tr>\n",
       "  </tbody>\n",
       "</table>\n",
       "<p>5 rows × 38 columns</p>\n",
       "</div>"
      ],
      "text/plain": [
       "   일련번호  인명피해수  재산피해금액   소방서명        서센터명    소방지역대명    화재발생일자  화재발생시간  \\\n",
       "0     1      0       0  강릉소방서   경포119안전센터       NaN  20110122  233500   \n",
       "1     2      0  184330  양양소방서  하조대119안전센터       NaN  20110131  181300   \n",
       "2     3      0       0  강릉소방서   경포119안전센터       NaN  20110201  210700   \n",
       "3     4      0    4864  홍천소방서   서석119안전센터  내촌119지역대  20110211  175000   \n",
       "4     5      0      50  원주소방서   흥업119안전센터  귀래119지역대  20110212   61800   \n",
       "\n",
       "       접수일자    접수시각  ...   발화원인  발화요인대분류명  전체인력수합계  동원장비수    날씨   온도   습도  \\\n",
       "0  20110122  233511  ...     기타      방화의심       37      8    맑음 -1.0   30   \n",
       "1  20110131  181311  ...     기타       부주의     1872     71    맑음  1.0   10   \n",
       "2  20110201  210710  ...     기타      방화의심      184     15    맑음  1.0  550   \n",
       "3  20110211  175032  ...  입산자실화        기타      171      9  구름많음 -2.0   29   \n",
       "4  20110212   61836  ...    모닥불       부주의       94      9  구름많음 -6.0   44   \n",
       "\n",
       "   시간단위풍속  시간단위풍향  특보내용  \n",
       "0    45.0     8.0   NaN  \n",
       "1   225.0     8.0  건조경보  \n",
       "2   135.0     4.0   NaN  \n",
       "3   225.0     4.0   NaN  \n",
       "4   225.0     4.0   NaN  \n",
       "\n",
       "[5 rows x 38 columns]"
      ]
     },
     "execution_count": 3,
     "metadata": {},
     "output_type": "execute_result"
    }
   ],
   "source": [
    "df = pd.read_csv('df.csv')\n",
    "df.head()"
   ]
  },
  {
   "cell_type": "code",
   "execution_count": 4,
   "id": "d7574032",
   "metadata": {
    "scrolled": true
   },
   "outputs": [
    {
     "data": {
      "text/plain": [
       "0      1800\n",
       "1    155952\n",
       "2     12300\n",
       "3     20500\n",
       "4     35009\n",
       "Name: 화재진압시간, dtype: int64"
      ]
     },
     "execution_count": 4,
     "metadata": {},
     "output_type": "execute_result"
    }
   ],
   "source": [
    "df['화재진압시간'].head()"
   ]
  },
  {
   "cell_type": "code",
   "execution_count": 20,
   "id": "26a2c22e",
   "metadata": {},
   "outputs": [
    {
     "data": {
      "text/plain": [
       "array([  0,   0,   0,   0,   0,   0,   0,   0,   0,   0,   0,   0,   0,\n",
       "         0,   0,  17,  58, 101, 147, 200], dtype=int64)"
      ]
     },
     "execution_count": 20,
     "metadata": {},
     "output_type": "execute_result"
    }
   ],
   "source": [
    "np.sort(df['화재진압시간'])[:20]"
   ]
  },
  {
   "cell_type": "code",
   "execution_count": 6,
   "id": "751a3abf",
   "metadata": {
    "scrolled": true
   },
   "outputs": [
    {
     "data": {
      "text/plain": [
       "0         0\n",
       "1       900\n",
       "2        60\n",
       "3       120\n",
       "4       180\n",
       "       ... \n",
       "1048      0\n",
       "1049    240\n",
       "1050     60\n",
       "1051     60\n",
       "1052     60\n",
       "Name: 화재진압시간, Length: 1053, dtype: int64"
      ]
     },
     "execution_count": 6,
     "metadata": {},
     "output_type": "execute_result"
    }
   ],
   "source": [
    "# 시간을 분으로 바꾸기\n",
    "(df['화재진압시간']//10000) * 60"
   ]
  },
  {
   "cell_type": "code",
   "execution_count": null,
   "id": "d43d898f",
   "metadata": {},
   "outputs": [],
   "source": []
  },
  {
   "cell_type": "code",
   "execution_count": null,
   "id": "f32cc593",
   "metadata": {},
   "outputs": [],
   "source": [
    "df['화재진압시간_h'] = df['화재진압시간']//10000\n",
    "df['화재진압시간_m'] = df['화재진압시간']//100-df['화재진압시간_h']*100\n",
    "df['화재진압시간(분)'] = df['화재진압시간_h']*60+df['화재진압시간_m']\n",
    "df"
   ]
  }
 ],
 "metadata": {
  "kernelspec": {
   "display_name": "Python 3 (ipykernel)",
   "language": "python",
   "name": "python3"
  },
  "language_info": {
   "codemirror_mode": {
    "name": "ipython",
    "version": 3
   },
   "file_extension": ".py",
   "mimetype": "text/x-python",
   "name": "python",
   "nbconvert_exporter": "python",
   "pygments_lexer": "ipython3",
   "version": "3.9.12"
  }
 },
 "nbformat": 4,
 "nbformat_minor": 5
}
