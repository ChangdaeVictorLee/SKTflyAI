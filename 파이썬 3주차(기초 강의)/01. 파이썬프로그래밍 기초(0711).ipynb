{
 "cells": [
  {
   "cell_type": "markdown",
   "id": "5639c53e",
   "metadata": {},
   "source": [
    "# Part 01 파이썬프로그래밍 기초 "
   ]
  },
  {
   "cell_type": "markdown",
   "id": "decaba9b",
   "metadata": {},
   "source": [
    "# 1번 파티준비"
   ]
  },
  {
   "cell_type": "code",
   "execution_count": null,
   "id": "d713a060",
   "metadata": {},
   "outputs": [],
   "source": [
    "ppl = int(input(\"참석자의 수를 입력하시오: \"))\n",
    "\n",
    "chicken = ppl *1\n",
    "beer = ppl*2\n",
    "cake = ppl*4\n",
    "\n",
    "print(\"준비해야 할 치킨의 수:\", chicken)\n",
    "print(\"준비해야 할 맥주의 수:\", beer)\n",
    "print(\"준비해야 할 케익의 수:\", cake)\n"
   ]
  },
  {
   "cell_type": "markdown",
   "id": "f0bcd5a2",
   "metadata": {},
   "source": [
    "# 2번"
   ]
  },
  {
   "cell_type": "code",
   "execution_count": null,
   "id": "25572da7",
   "metadata": {},
   "outputs": [],
   "source": [
    "name = str(input(\"이름을 입력하시오: \"))\n",
    "print(name + \" 씨, \" + \"안녕하세요?\" '\\n' + \"파이썬에 오신 것을 환영합니다.\")\n",
    "a = int(input(\"첫 번째 정수를 입력하시오: \"))\n",
    "b = int(input(\"두 번째 정수를 입력하시오: \"))\n",
    "print(str(a) , \"과\", str(b), \"의\", \"합은\", str(a+b), \"입니다.\")\n"
   ]
  },
  {
   "cell_type": "markdown",
   "id": "42d415e6",
   "metadata": {},
   "source": [
    "# 3번"
   ]
  },
  {
   "cell_type": "code",
   "execution_count": null,
   "id": "332b51c8",
   "metadata": {},
   "outputs": [],
   "source": [
    "line = str(input(\"문장: \"))\n",
    "\n",
    "temp = line.split(' ')\n",
    "\n",
    "length = len(temp[0])+len(temp[1])+len(temp[2])+len(temp[3])\n",
    "\n",
    "print(\"전체글자수:\", length)\n",
    "print(\"평균글자수:\", round(length / 4, 1))\n"
   ]
  },
  {
   "cell_type": "markdown",
   "id": "d012ee79",
   "metadata": {},
   "source": [
    "# 4번"
   ]
  },
  {
   "cell_type": "code",
   "execution_count": 7,
   "id": "c7059327",
   "metadata": {},
   "outputs": [
    {
     "name": "stdout",
     "output_type": "stream",
     "text": [
      "오늘 날짜를 입력하시오: 2022/04/04\n",
      "2022년 4월 4일\n"
     ]
    }
   ],
   "source": [
    "day = input(\"오늘 날짜를 입력하시오: \")\n",
    "day1 = day.split('/')\n",
    "print(day1[0] + '년 ' + str(int(day1[1])) + '월 ' + str(int(day1[2])) +'일')\n"
   ]
  },
  {
   "cell_type": "markdown",
   "id": "db9a3f37",
   "metadata": {},
   "source": [
    "# 4번 또 다른 방법"
   ]
  },
  {
   "cell_type": "code",
   "execution_count": 8,
   "id": "943fe04d",
   "metadata": {},
   "outputs": [
    {
     "name": "stdout",
     "output_type": "stream",
     "text": [
      "오늘 날짜를 입력하시오: 2005/03/03\n",
      "2005년 03월 03일\n"
     ]
    }
   ],
   "source": [
    "day = input(\"오늘 날짜를 입력하시오: \")\n",
    "year, month, day = day.split('/')\n",
    "\n",
    "print(\"{}년 {}월 {}일\".format(year, month, day))"
   ]
  },
  {
   "cell_type": "markdown",
   "id": "c6ecc423",
   "metadata": {},
   "source": [
    "# 5번 성적처리 결과 출력"
   ]
  },
  {
   "cell_type": "code",
   "execution_count": 9,
   "id": "f29d00e8",
   "metadata": {},
   "outputs": [
    {
     "name": "stdout",
     "output_type": "stream",
     "text": [
      "Scores: 77 88 100\n"
     ]
    }
   ],
   "source": [
    "scores = input(\"Scores: \")"
   ]
  },
  {
   "cell_type": "code",
   "execution_count": 10,
   "id": "8221da3c",
   "metadata": {},
   "outputs": [],
   "source": [
    "his, math, com = scores.split()"
   ]
  },
  {
   "cell_type": "code",
   "execution_count": 26,
   "id": "e6f77755",
   "metadata": {},
   "outputs": [],
   "source": [
    "his = int(his)\n",
    "math = int(math)\n",
    "com = int(com)"
   ]
  },
  {
   "cell_type": "code",
   "execution_count": 20,
   "id": "2c125b3c",
   "metadata": {},
   "outputs": [
    {
     "data": {
      "text/plain": [
       "'********REPORT********'"
      ]
     },
     "execution_count": 20,
     "metadata": {},
     "output_type": "execute_result"
    }
   ],
   "source": [
    "'{:*^22}'.format('REPORT')"
   ]
  },
  {
   "cell_type": "code",
   "execution_count": 36,
   "id": "ea620d52",
   "metadata": {},
   "outputs": [
    {
     "data": {
      "text/plain": [
       "'History:            77'"
      ]
     },
     "execution_count": 36,
     "metadata": {},
     "output_type": "execute_result"
    }
   ],
   "source": [
    "'History: {:>13}'.format(his)"
   ]
  },
  {
   "cell_type": "code",
   "execution_count": 41,
   "id": "3ea8f9b3",
   "metadata": {},
   "outputs": [
    {
     "name": "stdout",
     "output_type": "stream",
     "text": [
      "Scores: 77 80 100\n",
      "********REPORT********\n",
      "History:            77\n",
      "Mathematics:        80\n",
      "Computation:       100\n",
      "Total Score:       257\n",
      "Average Score:    85.7\n",
      "----------------------\n"
     ]
    }
   ],
   "source": [
    "scores = input(\"Scores: \")\n",
    "his, math, com = scores.split()\n",
    "\n",
    "his = int(his)\n",
    "math = int(math)\n",
    "com = int(com)\n",
    "\n",
    "total = his + math + com\n",
    "avg = round(total / 3,1)\n",
    "\n",
    "print('{:*^22}'.format('REPORT'))\n",
    "print('History: {:>13}'.format(his))\n",
    "print(\"Mathematics: {:>9}\".format(math))\n",
    "print(\"Computation: {:>9}\".format(com))\n",
    "print(\"Total Score: {:9}\".format(total))\n",
    "print(\"Average Score: {:7}\".format(avg))\n",
    "\n",
    "print('-'*22)\n"
   ]
  }
 ],
 "metadata": {
  "kernelspec": {
   "display_name": "Python 3 (ipykernel)",
   "language": "python",
   "name": "python3"
  },
  "language_info": {
   "codemirror_mode": {
    "name": "ipython",
    "version": 3
   },
   "file_extension": ".py",
   "mimetype": "text/x-python",
   "name": "python",
   "nbconvert_exporter": "python",
   "pygments_lexer": "ipython3",
   "version": "3.9.12"
  }
 },
 "nbformat": 4,
 "nbformat_minor": 5
}
