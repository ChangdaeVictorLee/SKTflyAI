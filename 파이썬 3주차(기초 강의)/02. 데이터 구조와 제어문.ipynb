{
 "cells": [
  {
   "cell_type": "code",
   "execution_count": 2,
   "id": "d758a079",
   "metadata": {
    "scrolled": true
   },
   "outputs": [
    {
     "name": "stdout",
     "output_type": "stream",
     "text": [
      "숫자는? 100\n",
      "입력한 숫자보다 낮습니다\n",
      "숫자는? 50\n",
      "입력한 숫자보다 낮습니다\n",
      "숫자는? 20\n",
      "입력한 숫자보다 높습니다\n",
      "숫자는? 40\n",
      "입력한 숫자보다 높습니다\n",
      "숫자는? 45\n",
      "입력한 숫자보다 높습니다\n",
      "숫자는? 48\n",
      "맞췄습니다.\n"
     ]
    }
   ],
   "source": [
    "# 숫자 맞추기 게임\n",
    "\n",
    "import random\n",
    "\n",
    "num = random.randint(1,100)\n",
    "\n",
    "while True:\n",
    "    guess = int(input(\"숫자는? \"))\n",
    "    if guess == num:\n",
    "        print('맞췄습니다.')\n",
    "        break\n",
    "    elif guess > num:\n",
    "        print('입력한 숫자보다 낮습니다')\n",
    "    else:\n",
    "        print('입력한 숫자보다 높습니다')"
   ]
  },
  {
   "cell_type": "markdown",
   "id": "9a72e869",
   "metadata": {},
   "source": [
    "# 1. 영문 월 이름 출력하기"
   ]
  },
  {
   "cell_type": "code",
   "execution_count": 3,
   "id": "e862df8c",
   "metadata": {},
   "outputs": [
    {
     "name": "stdout",
     "output_type": "stream",
     "text": [
      "월을 입력하세요: 12\n",
      "12월은 December입니다.\n"
     ]
    }
   ],
   "source": [
    "month_list = ['January', 'February', 'March', 'April', 'May', 'June', 'July', 'August', 'September', 'October', 'November', 'December']\n",
    "\n",
    "num = int(input(\"월을 입력하세요: \"))\n",
    "\n",
    "eng = month_list[num-1]\n",
    "\n",
    "print('{}월은 {}입니다.'.format(num,eng))"
   ]
  },
  {
   "cell_type": "markdown",
   "id": "b7eac07a",
   "metadata": {},
   "source": [
    "# 2. 리스트 메소드 연습"
   ]
  },
  {
   "cell_type": "code",
   "execution_count": 25,
   "id": "e61c26e5",
   "metadata": {},
   "outputs": [
    {
     "name": "stdout",
     "output_type": "stream",
     "text": [
      "Enter 5 integers: 10\n",
      "Enter 5 integers: 20\n",
      "Enter 5 integers: 30\n",
      "Enter 5 integers: 55\n",
      "Enter 5 integers: 66\n",
      "[10, 20, 30, 40, 50, 10, 20, 30, 55, 66]\n",
      "평균: 66.2\n"
     ]
    }
   ],
   "source": [
    "list = []\n",
    "for i in range(5):\n",
    "    temp = int(input('Enter 5 integers: '))\n",
    "    list.append(temp)\n",
    "print(list)\n",
    "\n",
    "average = round(sum(list) / 5, 1)\n",
    "\n",
    "print('평균: {}'.format(average))"
   ]
  },
  {
   "cell_type": "markdown",
   "id": "f6a80fbe",
   "metadata": {},
   "source": [
    "# 3. 여러 개의 수 한번에 입력 받아 평균 구하기"
   ]
  },
  {
   "cell_type": "code",
   "execution_count": 36,
   "id": "0663824e",
   "metadata": {},
   "outputs": [
    {
     "name": "stdout",
     "output_type": "stream",
     "text": [
      "Enter 5 integers: 12 34 56 78 1 2 3 4 5 6\n",
      "[12, 34, 56, 78, 1, 2, 3, 4, 5, 6]\n",
      "평균: 20.1\n"
     ]
    }
   ],
   "source": [
    "num = input('Enter 5 integers: ')\n",
    "\n",
    "list = num.split(' ')\n",
    "\n",
    "for i in range(len(list)):\n",
    "    list[i] = int(list[i])\n",
    "\n",
    "print(list)\n",
    "avg = round(sum(list) / len(list), 1)\n",
    "\n",
    "print('평균: {}'.format(avg))\n"
   ]
  },
  {
   "cell_type": "markdown",
   "id": "d9b66733",
   "metadata": {},
   "source": [
    "# 4. 중복 단어 없애기"
   ]
  },
  {
   "cell_type": "code",
   "execution_count": 77,
   "id": "bd1a08fc",
   "metadata": {},
   "outputs": [
    {
     "name": "stdout",
     "output_type": "stream",
     "text": [
      "Enter Sentence: This Land Is my land this land is your land\n",
      "words: is land my this your\n"
     ]
    }
   ],
   "source": [
    "sentence = input('Enter Sentence: ')\n",
    "\n",
    "sentence = sentence.lower()\n",
    "\n",
    "words = sentence.split()\n",
    "\n",
    "words_sort = sorted(set(words))\n",
    "\n",
    "str = ' '.join(s for s in words_sort)\n",
    "print(\"words:\", str)"
   ]
  },
  {
   "cell_type": "markdown",
   "id": "525c105e",
   "metadata": {},
   "source": [
    "# 5. 수강 과목 학점 예측"
   ]
  },
  {
   "cell_type": "code",
   "execution_count": 83,
   "id": "59bed925",
   "metadata": {
    "scrolled": true
   },
   "outputs": [
    {
     "name": "stdout",
     "output_type": "stream",
     "text": [
      "수강 과목: 채플 영어 컴퓨팅사고 글쓰기 경제학 문학 파이썬\n",
      "결석한 과목: 영어 글쓰기 문학\n",
      "과제 미제출 과목: 채플 영어 글쓰기 경제학\n"
     ]
    }
   ],
   "source": [
    "sub = input(\"수강 과목: \")\n",
    "absence = input(\"결석한 과목: \")\n",
    "ass = input('과제 미제출 과목: ')"
   ]
  },
  {
   "cell_type": "code",
   "execution_count": 84,
   "id": "cb2deefc",
   "metadata": {},
   "outputs": [],
   "source": [
    "sub = set(sub.split())\n",
    "absence = set(absence.split())\n",
    "ass = set(ass.split())"
   ]
  },
  {
   "cell_type": "code",
   "execution_count": 85,
   "id": "644d2d91",
   "metadata": {},
   "outputs": [
    {
     "data": {
      "text/plain": [
       "({'경제학', '글쓰기', '문학', '영어', '채플', '컴퓨팅사고', '파이썬'},\n",
       " {'글쓰기', '문학', '영어'},\n",
       " {'경제학', '글쓰기', '영어', '채플'})"
      ]
     },
     "execution_count": 85,
     "metadata": {},
     "output_type": "execute_result"
    }
   ],
   "source": [
    "sub, absence, ass"
   ]
  },
  {
   "cell_type": "code",
   "execution_count": 91,
   "id": "6eeed9ae",
   "metadata": {},
   "outputs": [],
   "source": [
    "# 전체에서 결석/과제 미제출의 합집합을 빼야함\n",
    "A = sub.difference(ass.union(absence))"
   ]
  },
  {
   "cell_type": "code",
   "execution_count": 92,
   "id": "86e1f679",
   "metadata": {},
   "outputs": [],
   "source": [
    "# 결석/과제 미제출 교집합\n",
    "F = absence.intersection(ass)"
   ]
  },
  {
   "cell_type": "code",
   "execution_count": 93,
   "id": "79a06fa5",
   "metadata": {},
   "outputs": [
    {
     "data": {
      "text/plain": [
       "{'글쓰기', '영어'}"
      ]
     },
     "execution_count": 93,
     "metadata": {},
     "output_type": "execute_result"
    }
   ],
   "source": [
    "F"
   ]
  },
  {
   "cell_type": "code",
   "execution_count": 95,
   "id": "ff7cc6dd",
   "metadata": {},
   "outputs": [
    {
     "name": "stdout",
     "output_type": "stream",
     "text": [
      "A 예상 과목: {'컴퓨팅사고', '파이썬'}\n",
      "F 예상 과목: {'영어', '글쓰기'}\n"
     ]
    }
   ],
   "source": [
    "print('A 예상 과목:', A)\n",
    "print('F 예상 과목:', F)"
   ]
  },
  {
   "cell_type": "code",
   "execution_count": null,
   "id": "dd7feee6",
   "metadata": {},
   "outputs": [],
   "source": []
  },
  {
   "cell_type": "code",
   "execution_count": null,
   "id": "41a0fe81",
   "metadata": {},
   "outputs": [],
   "source": [
    "sub = input(\"수강 과목: \")\n",
    "absence = input(\"결석한 과목: \")\n",
    "ass = input('과제 미제출 과목: ')\n",
    "\n",
    "sub = set(sub.split())\n",
    "absence = set(absence.split())\n",
    "ass = set(ass.split())\n",
    "\n",
    "# 전체에서 결석/과제 미제출의 합집합을 빼야함\n",
    "A = sub.difference(ass.union(absence))\n",
    "\n",
    "# 결석/과제 미제출 교집합\n",
    "F = absence.intersection(ass)\n",
    "\n",
    "print('A 예상 과목:', A)\n",
    "print('F 예상 과목:', F)"
   ]
  },
  {
   "cell_type": "markdown",
   "id": "42b56ed5",
   "metadata": {},
   "source": [
    "# 6. 전화번호 분리"
   ]
  },
  {
   "cell_type": "code",
   "execution_count": 97,
   "id": "31d685ce",
   "metadata": {},
   "outputs": [
    {
     "name": "stdout",
     "output_type": "stream",
     "text": [
      "전화번호: 010-1234-2968\n"
     ]
    }
   ],
   "source": [
    "phone = input('전화번호: ')\n",
    "ph = phone.split('-')"
   ]
  },
  {
   "cell_type": "code",
   "execution_count": 98,
   "id": "f730a522",
   "metadata": {},
   "outputs": [
    {
     "data": {
      "text/plain": [
       "['010', '1234', '2968']"
      ]
     },
     "execution_count": 98,
     "metadata": {},
     "output_type": "execute_result"
    }
   ],
   "source": [
    "ph"
   ]
  },
  {
   "cell_type": "code",
   "execution_count": 105,
   "id": "6c3a709a",
   "metadata": {},
   "outputs": [
    {
     "name": "stdout",
     "output_type": "stream",
     "text": [
      "2 ##\n",
      "9 #########\n",
      "6 ######\n",
      "8 ########\n"
     ]
    }
   ],
   "source": [
    "for i in range(4):\n",
    "    print(ph[2][i], int(ph[2][i]) * '#')"
   ]
  },
  {
   "cell_type": "code",
   "execution_count": null,
   "id": "f2601f3b",
   "metadata": {},
   "outputs": [],
   "source": []
  },
  {
   "cell_type": "code",
   "execution_count": 106,
   "id": "f3ef6bcb",
   "metadata": {},
   "outputs": [
    {
     "name": "stdout",
     "output_type": "stream",
     "text": [
      "전화번호: 010-1234-1234\n",
      "1 #\n",
      "2 ##\n",
      "3 ###\n",
      "4 ####\n"
     ]
    }
   ],
   "source": [
    "phone = input('전화번호: ')\n",
    "ph = phone.split('-')\n",
    "\n",
    "for i in range(4):\n",
    "    print(ph[2][i], int(ph[2][i]) * '#')"
   ]
  },
  {
   "cell_type": "markdown",
   "id": "04768c4e",
   "metadata": {},
   "source": [
    "# 7. 구구단 출력"
   ]
  },
  {
   "cell_type": "code",
   "execution_count": 4,
   "id": "bc23b31c",
   "metadata": {
    "scrolled": true
   },
   "outputs": [
    {
     "name": "stdout",
     "output_type": "stream",
     "text": [
      "구구단 입력: 4\n",
      "가로 항목 수: 2\n",
      "04 x 01 = 04    04 x 02 = 08    \n",
      "04 x 03 = 12    04 x 04 = 16    \n",
      "04 x 05 = 20    04 x 06 = 24    \n",
      "04 x 07 = 28    04 x 08 = 32    \n",
      "04 x 09 = 36    "
     ]
    }
   ],
   "source": [
    "num = int(input(\"구구단 입력: \"))\n",
    "width = int(input(\"가로 항목 수: \"))\n",
    "for i in range(1, 10):\n",
    "    print(\"{:02d} x {:02d} = {:02d}\".format(num, i, num*i), end='    ')\n",
    "    if i%width==0:\n",
    "        print()"
   ]
  },
  {
   "cell_type": "code",
   "execution_count": 5,
   "id": "1e5d3895",
   "metadata": {},
   "outputs": [
    {
     "name": "stdout",
     "output_type": "stream",
     "text": [
      "구구단 입력: 15\n",
      "가로 항목 수: 12\n",
      "15 x 01 = 15    15 x 02 = 30    15 x 03 = 45    15 x 04 = 60    15 x 05 = 75    15 x 06 = 90    15 x 07 = 105    15 x 08 = 120    15 x 09 = 135    "
     ]
    }
   ],
   "source": [
    "n99dan = int(input(\"구구단 입력: \"))\n",
    "wLen = int(input(\"가로 항목 수: \"))\n",
    "\n",
    "for i in range(1,10):\n",
    "    if i % wLen == 0:\n",
    "        sp = '\\n'\n",
    "    else:\n",
    "        sp = '    '\n",
    "    print(\"%02d x %02d = %02d\"%(n99dan, i, i*n99dan), end = sp) "
   ]
  },
  {
   "cell_type": "markdown",
   "id": "8bbc24b9",
   "metadata": {},
   "source": [
    "# 8. 문장 분석하기2"
   ]
  },
  {
   "cell_type": "code",
   "execution_count": 120,
   "id": "236daa46",
   "metadata": {},
   "outputs": [
    {
     "name": "stdout",
     "output_type": "stream",
     "text": [
      "문장: 저는 파이썬 프로그래밍을 아주 좋아합니다\n"
     ]
    }
   ],
   "source": [
    "sentence = input('문장: ')\n"
   ]
  },
  {
   "cell_type": "code",
   "execution_count": 122,
   "id": "fe107f3a",
   "metadata": {},
   "outputs": [
    {
     "data": {
      "text/plain": [
       "['저는', '파이썬', '프로그래밍을', '아주', '좋아합니다']"
      ]
     },
     "execution_count": 122,
     "metadata": {},
     "output_type": "execute_result"
    }
   ],
   "source": [
    "sentence.split()"
   ]
  },
  {
   "cell_type": "code",
   "execution_count": 124,
   "id": "1c9954fe",
   "metadata": {},
   "outputs": [],
   "source": [
    "length = len(sentence.split())"
   ]
  },
  {
   "cell_type": "code",
   "execution_count": null,
   "id": "03c7bfcd",
   "metadata": {},
   "outputs": [],
   "source": []
  },
  {
   "cell_type": "code",
   "execution_count": 128,
   "id": "78d30299",
   "metadata": {},
   "outputs": [],
   "source": [
    "sum = 0\n",
    "for i in range(len(sentence.split())):\n",
    "    sum = sum +len(sentence.split()[i])\n",
    "    avg = round(sum / len(sentence.split()), 1)"
   ]
  },
  {
   "cell_type": "code",
   "execution_count": 129,
   "id": "3d61fe31",
   "metadata": {},
   "outputs": [
    {
     "data": {
      "text/plain": [
       "3.6"
      ]
     },
     "execution_count": 129,
     "metadata": {},
     "output_type": "execute_result"
    }
   ],
   "source": [
    "avg"
   ]
  },
  {
   "cell_type": "code",
   "execution_count": 121,
   "id": "df48ec11",
   "metadata": {},
   "outputs": [
    {
     "ename": "IndexError",
     "evalue": "Replacement index 0 out of range for positional args tuple",
     "output_type": "error",
     "traceback": [
      "\u001b[1;31m---------------------------------------------------------------------------\u001b[0m",
      "\u001b[1;31mIndexError\u001b[0m                                Traceback (most recent call last)",
      "Input \u001b[1;32mIn [121]\u001b[0m, in \u001b[0;36m<cell line: 1>\u001b[1;34m()\u001b[0m\n\u001b[1;32m----> 1\u001b[0m \u001b[38;5;28mprint\u001b[39m(\u001b[38;5;124;43m'\u001b[39;49m\u001b[38;5;124;43m위 문장의 단어 수는 \u001b[39;49m\u001b[38;5;132;43;01m{}\u001b[39;49;00m\u001b[38;5;124;43m개이며, 평균 글자 수는 \u001b[39;49m\u001b[38;5;132;43;01m{}\u001b[39;49;00m\u001b[38;5;124;43m개입니다.\u001b[39;49m\u001b[38;5;124;43m'\u001b[39;49m\u001b[38;5;241;43m.\u001b[39;49m\u001b[43mformat\u001b[49m\u001b[43m(\u001b[49m\u001b[43m)\u001b[49m)\n",
      "\u001b[1;31mIndexError\u001b[0m: Replacement index 0 out of range for positional args tuple"
     ]
    }
   ],
   "source": [
    "print('위 문장의 단어 수는 {}개이며, 평균 글자 수는 {}개입니다.'.format(length, ))"
   ]
  },
  {
   "cell_type": "code",
   "execution_count": null,
   "id": "25836e12",
   "metadata": {},
   "outputs": [],
   "source": []
  },
  {
   "cell_type": "code",
   "execution_count": 130,
   "id": "c21ac546",
   "metadata": {},
   "outputs": [
    {
     "name": "stdout",
     "output_type": "stream",
     "text": [
      "문장: 위 문장의 단어 수는\n",
      "위 문장의 단어 수는 4개이며, 평균 글자 수는 2.0개입니다.\n"
     ]
    }
   ],
   "source": [
    "sentence = input('문장: ')\n",
    "sentence.split()\n",
    "\n",
    "length = len(sentence.split())\n",
    "\n",
    "sum = 0\n",
    "for i in range(len(sentence.split())):\n",
    "    sum = sum +len(sentence.split()[i])\n",
    "avg = round(sum / len(sentence.split()), 1)\n",
    "    \n",
    "print('위 문장의 단어 수는 {}개이며, 평균 글자 수는 {}개입니다.'.format(length, avg))"
   ]
  },
  {
   "cell_type": "code",
   "execution_count": null,
   "id": "504b1f8e",
   "metadata": {},
   "outputs": [],
   "source": []
  },
  {
   "cell_type": "markdown",
   "id": "ddc55909",
   "metadata": {},
   "source": [
    "# 9. 주민등록번호 해석"
   ]
  },
  {
   "cell_type": "code",
   "execution_count": 11,
   "id": "979e83ef",
   "metadata": {},
   "outputs": [
    {
     "name": "stdout",
     "output_type": "stream",
     "text": [
      "이름: Dear Lover\n",
      "주민등록번호: 210204-4123456\n"
     ]
    }
   ],
   "source": [
    "name = input('이름: ')\n",
    "num = input('주민등록번호: ')\n",
    "\n"
   ]
  },
  {
   "cell_type": "code",
   "execution_count": 12,
   "id": "ea54154c",
   "metadata": {},
   "outputs": [
    {
     "data": {
      "text/plain": [
       "'Dear Lover'"
      ]
     },
     "execution_count": 12,
     "metadata": {},
     "output_type": "execute_result"
    }
   ],
   "source": [
    "name"
   ]
  },
  {
   "cell_type": "code",
   "execution_count": 13,
   "id": "7fa62994",
   "metadata": {},
   "outputs": [
    {
     "data": {
      "text/plain": [
       "'210204-4123456'"
      ]
     },
     "execution_count": 13,
     "metadata": {},
     "output_type": "execute_result"
    }
   ],
   "source": [
    "num"
   ]
  },
  {
   "cell_type": "code",
   "execution_count": 14,
   "id": "fab9aa08",
   "metadata": {},
   "outputs": [
    {
     "data": {
      "text/plain": [
       "'4'"
      ]
     },
     "execution_count": 14,
     "metadata": {},
     "output_type": "execute_result"
    }
   ],
   "source": [
    "num[7]"
   ]
  },
  {
   "cell_type": "code",
   "execution_count": 17,
   "id": "48b65fcc",
   "metadata": {},
   "outputs": [],
   "source": [
    "if int(num[7]) == 1 or int(num[7]) == 3:\n",
    "    sex = '남성'\n",
    "else:\n",
    "    sex = '여성'"
   ]
  },
  {
   "cell_type": "code",
   "execution_count": 18,
   "id": "f9877583",
   "metadata": {
    "scrolled": true
   },
   "outputs": [
    {
     "data": {
      "text/plain": [
       "'여성'"
      ]
     },
     "execution_count": 18,
     "metadata": {},
     "output_type": "execute_result"
    }
   ],
   "source": [
    "sex"
   ]
  },
  {
   "cell_type": "code",
   "execution_count": 19,
   "id": "aaf1b702",
   "metadata": {},
   "outputs": [],
   "source": [
    "if int(num[7]) == 1 or int(num[7]) == 2:\n",
    "    birth = '19' + num[:2]\n",
    "else:\n",
    "    birth = '20' + num[:2]"
   ]
  },
  {
   "cell_type": "code",
   "execution_count": 20,
   "id": "692ab133",
   "metadata": {},
   "outputs": [
    {
     "data": {
      "text/plain": [
       "'4'"
      ]
     },
     "execution_count": 20,
     "metadata": {},
     "output_type": "execute_result"
    }
   ],
   "source": [
    "num[7]"
   ]
  },
  {
   "cell_type": "code",
   "execution_count": 21,
   "id": "bf3c96fb",
   "metadata": {},
   "outputs": [
    {
     "data": {
      "text/plain": [
       "'2021'"
      ]
     },
     "execution_count": 21,
     "metadata": {},
     "output_type": "execute_result"
    }
   ],
   "source": [
    "birth"
   ]
  },
  {
   "cell_type": "code",
   "execution_count": null,
   "id": "5397fddd",
   "metadata": {},
   "outputs": [],
   "source": []
  },
  {
   "cell_type": "code",
   "execution_count": 144,
   "id": "f98c3a10",
   "metadata": {},
   "outputs": [
    {
     "name": "stdout",
     "output_type": "stream",
     "text": [
      "Dear Lover: 1921년생 남성\n"
     ]
    }
   ],
   "source": [
    "print('{}: {}년생 {}'.format(name, birth,sex))"
   ]
  },
  {
   "cell_type": "code",
   "execution_count": 23,
   "id": "680a53f5",
   "metadata": {},
   "outputs": [
    {
     "name": "stdout",
     "output_type": "stream",
     "text": [
      "이름: 홍길동\n",
      "주민등록번호: 880726 1023214\n",
      "홍길동: 1988년생 남성\n"
     ]
    }
   ],
   "source": [
    "name = input('이름: ')\n",
    "num = input('주민등록번호: ')\n",
    "\n",
    "if int(num[7]) == 1 or int(num[7]) == 3:\n",
    "    sex = '남성'\n",
    "else:\n",
    "    sex = '여성'\n",
    "\n",
    "if int(num[7]) == 1 or int(num[7]) == 2:\n",
    "    birth = '19' + num[:2]\n",
    "else:\n",
    "    birth = '20' + num[:2]\n",
    "    \n",
    "print('{}: {}년생 {}'.format(name, birth,sex))"
   ]
  },
  {
   "cell_type": "code",
   "execution_count": null,
   "id": "50f7e033",
   "metadata": {},
   "outputs": [],
   "source": [
    "name = input(\"이름: \")\n",
    "idNum = input(\"주민등록번호: \")\n",
    "idYear = int(idNum[0:2])\n",
    "idMon = int(idNum[2:4])\n",
    "idDD = int(idNum[4:6])\n",
    "idGen = idNum[7]\n",
    "if idGen == \"1\":\n",
    "    gender = \"남성\"\n",
    "    idYear += 1900\n",
    "elif idGen == '2':\n",
    "    gender = \"여성\"\n",
    "    idYear += 1900\n",
    "elif idGen == '3':\n",
    "    gender = \"남성\"\n",
    "    idYear += 2000\n",
    "else:   # idGen == 4\n",
    "    gender = \"여성\"\n",
    "    idYear += 2000\n",
    "print(\"{}: {}년생 {}\".format(name, idYear, gender)) "
   ]
  },
  {
   "cell_type": "markdown",
   "id": "7a75fe42",
   "metadata": {},
   "source": [
    "# 10. 성적처리 결과 출력"
   ]
  },
  {
   "cell_type": "code",
   "execution_count": 26,
   "id": "d86761a4",
   "metadata": {},
   "outputs": [
    {
     "name": "stdout",
     "output_type": "stream",
     "text": [
      "Scores: 77 88 100\n"
     ]
    }
   ],
   "source": [
    "s = input(\"Scores: \")"
   ]
  },
  {
   "cell_type": "code",
   "execution_count": 37,
   "id": "9348a913",
   "metadata": {},
   "outputs": [],
   "source": [
    "s.split()\n",
    "\n",
    "hist = s.split()[0]\n",
    "math = s.split()[1]\n",
    "comp = s.split()[2]\n"
   ]
  },
  {
   "cell_type": "code",
   "execution_count": 38,
   "id": "b2768727",
   "metadata": {},
   "outputs": [
    {
     "data": {
      "text/plain": [
       "('77', '88', '100')"
      ]
     },
     "execution_count": 38,
     "metadata": {},
     "output_type": "execute_result"
    }
   ],
   "source": [
    "hist, math, comp"
   ]
  },
  {
   "cell_type": "code",
   "execution_count": 45,
   "id": "daab3e32",
   "metadata": {},
   "outputs": [],
   "source": [
    "hist = int(hist)\n",
    "math = int(math)\n",
    "comp = int(comp)"
   ]
  },
  {
   "cell_type": "code",
   "execution_count": 54,
   "id": "cdb603d5",
   "metadata": {},
   "outputs": [],
   "source": [
    "total = hist+math+comp"
   ]
  },
  {
   "cell_type": "code",
   "execution_count": 55,
   "id": "52082778",
   "metadata": {},
   "outputs": [
    {
     "data": {
      "text/plain": [
       "265"
      ]
     },
     "execution_count": 55,
     "metadata": {},
     "output_type": "execute_result"
    }
   ],
   "source": [
    "total"
   ]
  },
  {
   "cell_type": "code",
   "execution_count": 58,
   "id": "cd70d05a",
   "metadata": {},
   "outputs": [],
   "source": [
    "avg = int(round(total / 3,0))"
   ]
  },
  {
   "cell_type": "code",
   "execution_count": 59,
   "id": "a2746947",
   "metadata": {},
   "outputs": [
    {
     "name": "stdout",
     "output_type": "stream",
     "text": [
      "        Report        \n"
     ]
    }
   ],
   "source": [
    "print('Report'.center(22))"
   ]
  },
  {
   "cell_type": "code",
   "execution_count": 60,
   "id": "618572be",
   "metadata": {},
   "outputs": [
    {
     "name": "stdout",
     "output_type": "stream",
     "text": [
      "********Report********\n"
     ]
    }
   ],
   "source": [
    "print(\"{:*^22}\".format(\"Report\"))"
   ]
  },
  {
   "cell_type": "code",
   "execution_count": 61,
   "id": "9e77fe35",
   "metadata": {},
   "outputs": [
    {
     "name": "stdout",
     "output_type": "stream",
     "text": [
      "History:            77\n"
     ]
    }
   ],
   "source": [
    "print(\"{:<15s}{:7d}\".format(\"History:\", hist))"
   ]
  },
  {
   "cell_type": "code",
   "execution_count": 62,
   "id": "aa353ddf",
   "metadata": {},
   "outputs": [
    {
     "name": "stdout",
     "output_type": "stream",
     "text": [
      "********Report********\n",
      "History:            77\n",
      "Mathematics:        88\n",
      "Computation:       100\n",
      "----------------------\n",
      "Total Score:       265\n",
      "Average Score:      88\n"
     ]
    }
   ],
   "source": [
    "print(\"{:*^22}\".format(\"Report\"))\n",
    "print(\"{:<15s}{:7d}\".format(\"History:\", hist))\n",
    "print(\"{:<15s}{:7d}\".format(\"Mathematics:\", math))\n",
    "print(\"{:<15s}{:7d}\".format(\"Computation:\", comp))\n",
    "print(\"-\" * 22)\n",
    "print(\"{:<15s}{:7d}\".format(\"Total Score:\", total))\n",
    "print(\"{:<15s}{:7d}\".format(\"Average Score:\", avg)) "
   ]
  },
  {
   "cell_type": "code",
   "execution_count": null,
   "id": "d38d71e3",
   "metadata": {},
   "outputs": [],
   "source": []
  }
 ],
 "metadata": {
  "kernelspec": {
   "display_name": "Python 3 (ipykernel)",
   "language": "python",
   "name": "python3"
  },
  "language_info": {
   "codemirror_mode": {
    "name": "ipython",
    "version": 3
   },
   "file_extension": ".py",
   "mimetype": "text/x-python",
   "name": "python",
   "nbconvert_exporter": "python",
   "pygments_lexer": "ipython3",
   "version": "3.9.12"
  }
 },
 "nbformat": 4,
 "nbformat_minor": 5
}
