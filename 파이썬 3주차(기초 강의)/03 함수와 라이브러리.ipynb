{
 "cells": [
  {
   "cell_type": "markdown",
   "id": "c22eff9d",
   "metadata": {},
   "source": [
    "# 1. 최댓값 출력하기"
   ]
  },
  {
   "cell_type": "code",
   "execution_count": null,
   "id": "e7e7e564",
   "metadata": {},
   "outputs": [],
   "source": [
    "def get_max(num1, num2):\n",
    "    num1 = int(input())"
   ]
  },
  {
   "cell_type": "code",
   "execution_count": 2,
   "id": "6dd600e1",
   "metadata": {},
   "outputs": [],
   "source": [
    "max_val = 0\n",
    "\n",
    "def get_max(a,b):\n",
    "    if a >= b:\n",
    "        return a\n",
    "    else:\n",
    "        return b"
   ]
  },
  {
   "cell_type": "code",
   "execution_count": 5,
   "id": "08925c1d",
   "metadata": {},
   "outputs": [
    {
     "name": "stdout",
     "output_type": "stream",
     "text": [
      "양의 정수 입력: 1\n",
      "현재까지 가장 큰 값: 1\n",
      "양의 정수 입력: 123\n",
      "현재까지 가장 큰 값: 123\n",
      "양의 정수 입력: 55\n",
      "현재까지 가장 큰 값: 123\n",
      "양의 정수 입력: 1568\n",
      "현재까지 가장 큰 값: 1568\n",
      "양의 정수 입력: 0\n",
      "프로그램을 종료합니다.\n"
     ]
    }
   ],
   "source": [
    "max_val = 0\n",
    "\n",
    "def get_max(a,b):\n",
    "    if a >= b:\n",
    "        return a\n",
    "    else:\n",
    "        return b\n",
    "\n",
    "while True:\n",
    "    num = int(input(\"양의 정수 입력: \"))\n",
    "    \n",
    "    if num !=0:\n",
    "        max_val = get_max(max_val, num)\n",
    "        print(\"현재까지 가장 큰 값: {}\".format(max_val))\n",
    "    if num ==0:\n",
    "        print('프로그램을 종료합니다.')\n",
    "        break"
   ]
  },
  {
   "cell_type": "markdown",
   "id": "d4fcba19",
   "metadata": {},
   "source": [
    "# 2. 여러 개 정수 입력 함수"
   ]
  },
  {
   "cell_type": "code",
   "execution_count": null,
   "id": "8d1bda49",
   "metadata": {},
   "outputs": [],
   "source": [
    "def int_list_input(*pr):\n",
    "    nums = []\n",
    "    if(len(pr)==0):\n",
    "        nums = list(map(int, input().split()))\n",
    "    else:    \n",
    "        nums = list(map(int, input(pr[0]).split()))\n",
    "    return nums\n",
    "\n",
    "prompt = input(\"Input prompt: \") + \": \"\n",
    "int_list1 = int_list_input(prompt)\n",
    "print(prompt, \"=\", int_list1)\n",
    "print(\"Add numbers: \", end='')\n",
    "int_list2 = int_list_input()\n",
    "print(\"sum of\", int_list2, \"is\", sum(int_list2))"
   ]
  },
  {
   "cell_type": "markdown",
   "id": "778d2b2c",
   "metadata": {},
   "source": [
    "# 3. 수식 계산하기"
   ]
  },
  {
   "cell_type": "code",
   "execution_count": null,
   "id": "c5123b4f",
   "metadata": {},
   "outputs": [],
   "source": [
    "def calc(expr):\n",
    "    Exp = expr.split('+')\n",
    "    if len(Exp) > 1:\n",
    "        r = 0\n",
    "        for e in Exp:\n",
    "            r += calc(e)\n",
    "        return r\n",
    "    Exp = expr.split('*')\n",
    "    if len(Exp) > 1:\n",
    "        r = 1\n",
    "        for e in Exp:\n",
    "            r *= calc(e)\n",
    "        return r\n",
    "    expr = expr.strip()\n",
    "    if expr.isdigit(): return(int(expr))\n",
    "    else: return -1   # ERROR\n",
    "expr = input(\"Expression: \")\n",
    "ans = calc(expr)\n",
    "print(\"Answer:\", ans)"
   ]
  },
  {
   "cell_type": "markdown",
   "id": "6d23db9b",
   "metadata": {},
   "source": [
    "# 4. datetime"
   ]
  },
  {
   "cell_type": "code",
   "execution_count": 31,
   "id": "43205a2d",
   "metadata": {},
   "outputs": [
    {
     "name": "stdout",
     "output_type": "stream",
     "text": [
      "기준 날짜 (yyyy/mm/dd): 2022/04/04\n",
      "지나간 날수 (일): 100\n",
      "2022년 4월 4일부터 100일 후는 2022년 7월 13일\n"
     ]
    }
   ],
   "source": [
    "import datetime as dt\n",
    "dates = input(\"기준 날짜 (yyyy/mm/dd): \").split('/')\n",
    "over = int(input(\"지나간 날수 (일): \"))\n",
    "y = int(dates[0])\n",
    "m = int(dates[1])\n",
    "d = int(dates[2])\n",
    "newday = dt.date(y, m, d)+dt.timedelta(days=over)\n",
    "print(\"{}년 {}월 {}일부터 {}일 후는 {}년 {}월 {}일\".format(y, m, d, over, newday.year, newday.month, newday.day))"
   ]
  },
  {
   "cell_type": "markdown",
   "id": "bc1c08f2",
   "metadata": {},
   "source": [
    "# 5. 구구단 풀기"
   ]
  },
  {
   "cell_type": "code",
   "execution_count": 32,
   "id": "bdfa6331",
   "metadata": {},
   "outputs": [
    {
     "name": "stdout",
     "output_type": "stream",
     "text": [
      "구구단 5문제 빨리풀기 테스트\n",
      "시작하려면 엔터키를 누루시오...\n",
      "(1) 3 x 9 = 27\n",
      "Correct!!!\n",
      "(2) 7 x 6 = 42\n",
      "Correct!!!\n",
      "(3) 4 x 8 = 22\n",
      "Incorrect. Try again.\n",
      "(3) 4 x 8 = 32\n",
      "Correct!!!\n",
      "(4) 5 x 5 = ;\n",
      "숫자를 입력하시오.\n",
      "(4) 5 x 5 = 25\n",
      "Correct!!!\n",
      "(5) 8 x 1 = 8\n",
      "Correct!!!\n",
      "5문제 성공, 시간은 9.72초 입니다.\n"
     ]
    }
   ],
   "source": [
    "import random\n",
    "import time\n",
    "\n",
    "print(\"구구단 5문제 빨리풀기 테스트\")\n",
    "input(\"시작하려면 엔터키를 누루시오...\")\n",
    "\n",
    "tStart = time.time()\n",
    "for i in range(1,6):\n",
    "    a = random.randint(1,9)\n",
    "    b = random.randint(1,9)\n",
    "    ans = input(\"({}) {} x {} = \".format(i, a, b))\n",
    "    while not ans.isdigit():\n",
    "        print(\"숫자를 입력하시오.\")\n",
    "        ans = input(\"({}) {} x {} = \".format(i, a, b))\n",
    "    while int(ans)!=a*b:\n",
    "        print(\"Incorrect. Try again.\")\n",
    "        ans = input(\"({}) {} x {} = \".format(i, a, b))\n",
    "    print(\"Correct!!!\")\n",
    "\n",
    "tFinish = time.time()\n",
    "tSolveTime = round(tFinish-tStart, 2)\n",
    "print(\"5문제 성공, 시간은 {}초 입니다.\".format(tSolveTime))"
   ]
  },
  {
   "cell_type": "code",
   "execution_count": null,
   "id": "54034635",
   "metadata": {},
   "outputs": [],
   "source": []
  }
 ],
 "metadata": {
  "kernelspec": {
   "display_name": "Python 3 (ipykernel)",
   "language": "python",
   "name": "python3"
  },
  "language_info": {
   "codemirror_mode": {
    "name": "ipython",
    "version": 3
   },
   "file_extension": ".py",
   "mimetype": "text/x-python",
   "name": "python",
   "nbconvert_exporter": "python",
   "pygments_lexer": "ipython3",
   "version": "3.9.12"
  }
 },
 "nbformat": 4,
 "nbformat_minor": 5
}
