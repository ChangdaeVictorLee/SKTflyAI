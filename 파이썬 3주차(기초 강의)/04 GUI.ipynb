{
 "cells": [
  {
   "cell_type": "code",
   "execution_count": 1,
   "id": "fad716c3",
   "metadata": {},
   "outputs": [],
   "source": [
    "import tkinter as tk\n",
    "\n"
   ]
  },
  {
   "cell_type": "code",
   "execution_count": 2,
   "id": "3dd536c5",
   "metadata": {},
   "outputs": [],
   "source": [
    "root = tk.Tk()\n",
    "w = tk.Label(root, text = \"Hello Tkinter!!!\")\n",
    "w.pack()\n",
    "\n",
    "root.mainloop()"
   ]
  },
  {
   "cell_type": "markdown",
   "id": "fc4e771a",
   "metadata": {},
   "source": [
    "# 1. 파일을 읽어 특정 문자열의 개수 세기"
   ]
  },
  {
   "cell_type": "code",
   "execution_count": 23,
   "id": "ca00efa0",
   "metadata": {},
   "outputs": [
    {
     "name": "stdout",
     "output_type": "stream",
     "text": [
      "enter text file name: python.txt\n"
     ]
    }
   ],
   "source": [
    "file = input('enter text file name: ')"
   ]
  },
  {
   "cell_type": "code",
   "execution_count": 25,
   "id": "7d7a4376",
   "metadata": {},
   "outputs": [],
   "source": [
    "with open(file,'r', encoding='utf-8') as f:\n",
    "    s = f.readlines()\n",
    "    "
   ]
  },
  {
   "cell_type": "code",
   "execution_count": 32,
   "id": "75492027",
   "metadata": {},
   "outputs": [
    {
     "data": {
      "text/plain": [
       "'python python\\n'"
      ]
     },
     "execution_count": 32,
     "metadata": {},
     "output_type": "execute_result"
    }
   ],
   "source": [
    "s[0]"
   ]
  },
  {
   "cell_type": "code",
   "execution_count": 34,
   "id": "d7285fa3",
   "metadata": {
    "scrolled": true
   },
   "outputs": [
    {
     "data": {
      "text/plain": [
       "['python python\\n',\n",
       " 'python python\\n',\n",
       " 'python python\\n',\n",
       " 'python python\\n',\n",
       " 'python python\\n',\n",
       " 'python python\\n',\n",
       " 'python python\\n',\n",
       " 'python python\\n',\n",
       " 'python pythons']"
      ]
     },
     "execution_count": 34,
     "metadata": {},
     "output_type": "execute_result"
    }
   ],
   "source": [
    "s"
   ]
  },
  {
   "cell_type": "code",
   "execution_count": 35,
   "id": "407d3ece",
   "metadata": {},
   "outputs": [
    {
     "data": {
      "text/plain": [
       "'python python\\n'"
      ]
     },
     "execution_count": 35,
     "metadata": {},
     "output_type": "execute_result"
    }
   ],
   "source": [
    "s[0]"
   ]
  },
  {
   "cell_type": "code",
   "execution_count": 38,
   "id": "2a047c3f",
   "metadata": {},
   "outputs": [
    {
     "name": "stdout",
     "output_type": "stream",
     "text": [
      "Enter words: Python\n"
     ]
    }
   ],
   "source": [
    "words = str(input(\"Enter words: \"))"
   ]
  },
  {
   "cell_type": "code",
   "execution_count": 39,
   "id": "6dc5c77e",
   "metadata": {},
   "outputs": [],
   "source": [
    "num = 0\n",
    "\n",
    "for i in range(len(s)):\n",
    "    num = num + s[i].count(words)"
   ]
  },
  {
   "cell_type": "code",
   "execution_count": 40,
   "id": "8c45ea52",
   "metadata": {},
   "outputs": [
    {
     "data": {
      "text/plain": [
       "0"
      ]
     },
     "execution_count": 40,
     "metadata": {},
     "output_type": "execute_result"
    }
   ],
   "source": [
    "num"
   ]
  },
  {
   "cell_type": "code",
   "execution_count": 43,
   "id": "0d2c0b3d",
   "metadata": {},
   "outputs": [],
   "source": [
    "for i in range(len(s)):\n",
    "    s[i] = s[i].lower()"
   ]
  },
  {
   "cell_type": "code",
   "execution_count": 44,
   "id": "ef851193",
   "metadata": {},
   "outputs": [
    {
     "data": {
      "text/plain": [
       "['python python\\n',\n",
       " 'python python\\n',\n",
       " 'python python\\n',\n",
       " 'python python\\n',\n",
       " 'python python\\n',\n",
       " 'python python\\n',\n",
       " 'python python\\n',\n",
       " 'python python\\n',\n",
       " 'python pythons']"
      ]
     },
     "execution_count": 44,
     "metadata": {},
     "output_type": "execute_result"
    }
   ],
   "source": [
    "s"
   ]
  },
  {
   "cell_type": "code",
   "execution_count": 54,
   "id": "accd06f6",
   "metadata": {},
   "outputs": [
    {
     "name": "stdout",
     "output_type": "stream",
     "text": [
      "Enter text file name: LICENSE.TXT\n",
      "Enter words: Python\n",
      "LICENSE.TXT 파일에 'Python' 단어가 59번 나옵니다.\n"
     ]
    }
   ],
   "source": [
    "file = input('Enter text file name: ')\n",
    "\n",
    "with open(file,'r', encoding='utf-8') as f:\n",
    "    s = f.readlines()\n",
    " \n",
    "    for i in range(len(s)):\n",
    "        s[i] = s[i].lower()\n",
    "\n",
    "    words = str(input(\"Enter words: \"))\n",
    "    words1 = words.lower()\n",
    "\n",
    "    num = 0\n",
    "\n",
    "    for i in range(len(s)):\n",
    "        num = num + s[i].count(words1)\n",
    "        \n",
    "print(\"{} 파일에 '{}' 단어가 {}번 나옵니다.\".format(file, words, num))        "
   ]
  },
  {
   "cell_type": "code",
   "execution_count": 56,
   "id": "2c4dfe49",
   "metadata": {},
   "outputs": [
    {
     "name": "stdout",
     "output_type": "stream",
     "text": [
      "Enter text file name: LICENSE.TXT\n",
      "Enter words: Python\n",
      "LICENSE.TXT 파일에 'Python' 단어가 44번 나옵니다.\n"
     ]
    }
   ],
   "source": [
    "file = input('Enter text file name: ')\n",
    "\n",
    "with open(file,'r', encoding='utf-8') as f:\n",
    "    s = f.readlines()\n",
    "\n",
    "    words = str(input(\"Enter words: \"))\n",
    "\n",
    "    num = 0\n",
    "\n",
    "    for i in range(len(s)):\n",
    "        num = num + s[i].count(words)\n",
    "        \n",
    "print(\"{} 파일에 '{}' 단어가 {}번 나옵니다.\".format(file, words, num))        "
   ]
  },
  {
   "cell_type": "code",
   "execution_count": null,
   "id": "8280f0dd",
   "metadata": {},
   "outputs": [],
   "source": []
  },
  {
   "cell_type": "markdown",
   "id": "e36dcc16",
   "metadata": {},
   "source": [
    "# 2. 특정 문자열을 포함하는 줄만 출력"
   ]
  },
  {
   "cell_type": "code",
   "execution_count": null,
   "id": "504c52a6",
   "metadata": {},
   "outputs": [],
   "source": [
    "file = input('Enter text file name: ')\n",
    "\n",
    "with open(file,'r', encoding='utf-8') as f:\n",
    "    s = f.readlines()\n",
    "\n",
    "    words = str(input(\"Enter words: \"))\n",
    "\n",
    "    num = 0\n",
    "\n",
    "    for i in range(len(s)):\n",
    "        num = num + s[i].count(words)\n",
    "        \n",
    "print(\"{} 파일에 '{}' 단어가 {}번 나옵니다.\".format(file, words, num))        "
   ]
  },
  {
   "cell_type": "code",
   "execution_count": 57,
   "id": "c16735ec",
   "metadata": {},
   "outputs": [
    {
     "name": "stdout",
     "output_type": "stream",
     "text": [
      "Enter text file name: LICENSE.TXT\n"
     ]
    }
   ],
   "source": [
    "file = input('Enter text file name: ')"
   ]
  },
  {
   "cell_type": "code",
   "execution_count": 63,
   "id": "f6392a8d",
   "metadata": {},
   "outputs": [
    {
     "name": "stdout",
     "output_type": "stream",
     "text": [
      "Enter text file name: LICENSE.TXT\n",
      "Enter words: Python interpreter\n",
      "(300) Redistribution of the Windows binary build of the Python interpreter\n",
      "(318) Python interpreter. The redistribution of the Python interpreter and\n"
     ]
    }
   ],
   "source": [
    "filename = input(\"Enter text file name: \")\n",
    "words = input(\"Enter words: \")\n",
    "with open(filename, 'r', encoding='utf-8') as f:\n",
    "    linenum = 0\n",
    "    for line in f:\n",
    "        linenum += 1\n",
    "        if line.find(words) != -1:\n",
    "            print(\"({}) {}\".format(linenum, line), end=\"\")\n"
   ]
  },
  {
   "cell_type": "code",
   "execution_count": 65,
   "id": "3b95bb0e",
   "metadata": {},
   "outputs": [
    {
     "name": "stdout",
     "output_type": "stream",
     "text": [
      "Enter text file name: LICENSE.TXT\n",
      "Enter words: Python\n",
      "(4) Python was created in the early 1990s by Guido van Rossum at Stichting\n",
      "(6) as a successor of a language called ABC.  Guido remains Python's\n",
      "(9) In 1995, Guido continued his work on Python at the Corporation for\n",
      "(14) In May 2000, Guido and the Python core development team moved to\n",
      "(15) BeOpen.com to form the BeOpen PythonLabs team.  In October of the same\n",
      "(16) year, the PythonLabs team moved to Digital Creations, which became\n",
      "(17) Zope Corporation.  In 2001, the Python Software Foundation (PSF, see\n",
      "(19) created specifically to own Python-related Intellectual Property.\n",
      "(22) All Python releases are Open Source (see http://www.opensource.org for\n",
      "(23) the Open Source Definition).  Historically, most, but not all, Python\n",
      "(44) (1) GPL-compatible doesn't mean that we're distributing Python under\n",
      "(45)     the GPL.  All Python licenses, unlike the GPL, let you distribute\n",
      "(47)     GPL-compatible licenses make it possible to combine Python with\n",
      "(62) Python software and documentation are licensed under the\n",
      "(63) Python Software Foundation License Version 2.\n",
      "(65) Starting with Python 3.8.6, examples, recipes, and other code in\n",
      "(69) Some software incorporated into Python is under different licenses.\n",
      "(76) 1. This LICENSE AGREEMENT is between the Python Software Foundation\n",
      "(78) otherwise using this software (\"Python\") in source or binary form and\n",
      "(84) distribute, and otherwise use Python alone or in any derivative version,\n",
      "(87) 2011, 2012, 2013, 2014, 2015, 2016, 2017, 2018, 2019, 2020, 2021, 2022 Python Software Foundation;\n",
      "(88) All Rights Reserved\" are retained in Python alone or in any derivative version\n",
      "(92) or incorporates Python or any part thereof, and wants to make\n",
      "(95) the changes made to Python.\n",
      "(97) 4. PSF is making Python available to Licensee on an \"AS IS\"\n",
      "(118) 8. By copying, installing or otherwise using Python, Licensee\n",
      "(134) 2. Subject to the terms and conditions of this BeOpen Python License\n",
      "(139) provided, however, that the BeOpen Python License is retained in the\n",
      "(164) third party.  As an exception, the \"BeOpen Python\" logos available at\n",
      "(179) (\"Licensee\") accessing and otherwise using Python 1.6.1 software in\n",
      "(185) prepare derivative works, distribute, and otherwise use Python 1.6.1\n",
      "(189) Reserved\" are retained in Python 1.6.1 alone or in any derivative\n",
      "(192) quotes): \"Python 1.6.1 is made available subject to the terms and\n",
      "(194) Python 1.6.1 may be located on the internet using the following\n",
      "(200) or incorporates Python 1.6.1 or any part thereof, and wants to make\n",
      "(203) the changes made to Python 1.6.1.\n",
      "(205) 4. CNRI is making Python 1.6.1 available to Licensee on an \"AS IS\"\n",
      "(226) on Python 1.6.1 that incorporate non-separable material that was\n",
      "(238) installing or otherwise using Python 1.6.1, Licensee agrees to be\n",
      "(300) Redistribution of the Windows binary build of the Python interpreter\n",
      "(317) defined above, not to Python itself or any programs running on the\n",
      "(318) Python interpreter. The redistribution of the Python interpreter and\n",
      "(319) libraries is governed by the Python Software License included with this\n"
     ]
    }
   ],
   "source": [
    "filename = input(\"Enter text file name: \")\n",
    "words = input(\"Enter words: \")\n",
    "with open(filename, 'r', encoding='utf-8') as f:\n",
    "    linenum = 0\n",
    "    for line in f:\n",
    "        linenum += 1\n",
    "        if line.count(words) != 0:\n",
    "            print(\"({}) {}\".format(linenum, line), end=\"\")\n"
   ]
  },
  {
   "cell_type": "code",
   "execution_count": null,
   "id": "dadfabd2",
   "metadata": {},
   "outputs": [],
   "source": []
  },
  {
   "cell_type": "code",
   "execution_count": null,
   "id": "4d6c2e6a",
   "metadata": {},
   "outputs": [],
   "source": []
  },
  {
   "cell_type": "code",
   "execution_count": null,
   "id": "463c01c8",
   "metadata": {},
   "outputs": [],
   "source": []
  }
 ],
 "metadata": {
  "kernelspec": {
   "display_name": "Python 3 (ipykernel)",
   "language": "python",
   "name": "python3"
  },
  "language_info": {
   "codemirror_mode": {
    "name": "ipython",
    "version": 3
   },
   "file_extension": ".py",
   "mimetype": "text/x-python",
   "name": "python",
   "nbconvert_exporter": "python",
   "pygments_lexer": "ipython3",
   "version": "3.9.12"
  }
 },
 "nbformat": 4,
 "nbformat_minor": 5
}
