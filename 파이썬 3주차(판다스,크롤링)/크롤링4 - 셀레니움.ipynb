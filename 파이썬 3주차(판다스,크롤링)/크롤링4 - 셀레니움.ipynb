{
 "cells": [
  {
   "cell_type": "code",
   "execution_count": null,
   "id": "e3a8d92f",
   "metadata": {},
   "outputs": [],
   "source": [
    "! pip install selenium"
   ]
  },
  {
   "cell_type": "code",
   "execution_count": null,
   "id": "bd35573b",
   "metadata": {},
   "outputs": [],
   "source": [
    "# 셀레니움은 계속 업데이트 되므로 계속 설치해주는 게 좋음"
   ]
  },
  {
   "attachments": {
    "image.png": {
     "image/png": "[encoded data removed]"
    }
   },
   "cell_type": "markdown",
   "id": "02069255",
   "metadata": {},
   "source": [
    "![image.png](attachment:image.png)"
   ]
  },
  {
   "cell_type": "code",
   "execution_count": null,
   "id": "e4b030ad",
   "metadata": {},
   "outputs": [],
   "source": [
    "from selenium import webdriver\n",
    "\n",
    "driver = webdriver.Chrome('./chromedriver')"
   ]
  },
  {
   "cell_type": "code",
   "execution_count": null,
   "id": "fee0bcb7",
   "metadata": {},
   "outputs": [],
   "source": [
    "driver.implicitly_wait(3)\n",
    "driver.get('https://google.com')"
   ]
  },
  {
   "cell_type": "markdown",
   "id": "b20fcfb1",
   "metadata": {},
   "source": [
    "### 마우스 클릭 기능"
   ]
  },
  {
   "cell_type": "markdown",
   "id": "17c51c71",
   "metadata": {},
   "source": [
    "### 네이버 로그인"
   ]
  },
  {
   "cell_type": "code",
   "execution_count": null,
   "id": "42622752",
   "metadata": {},
   "outputs": [],
   "source": [
    "from selenium import webdriver\n",
    "driver = webdriver.Chrome('./chromedriver')\n",
    "driver.implicitly_wait(3)\n",
    "driver.get('https://nid.naver.com/nidlogin.login')"
   ]
  },
  {
   "cell_type": "code",
   "execution_count": null,
   "id": "f3f2facd",
   "metadata": {},
   "outputs": [],
   "source": [
    "driver.find_element(\"id\", \"id\").send_keys())"
   ]
  },
  {
   "cell_type": "code",
   "execution_count": null,
   "id": "90b431aa",
   "metadata": {},
   "outputs": [],
   "source": [
    "driver.find_element(\"pw\", \"pw\")"
   ]
  },
  {
   "cell_type": "code",
   "execution_count": null,
   "id": "e4092277",
   "metadata": {},
   "outputs": [],
   "source": [
    "driver.find_element_by_name('id').send_keys('naver_id')\n",
    "driver.find_element_by_name('pw').send_keys('mypassword1234')"
   ]
  },
  {
   "cell_type": "code",
   "execution_count": null,
   "id": "fdc74304",
   "metadata": {},
   "outputs": [],
   "source": []
  },
  {
   "cell_type": "markdown",
   "id": "0216b1bb",
   "metadata": {},
   "source": [
    "# 셀레니움 업그레이드에 따른 해결방법"
   ]
  },
  {
   "cell_type": "code",
   "execution_count": null,
   "id": "133d4584",
   "metadata": {
    "scrolled": true
   },
   "outputs": [],
   "source": [
    "pip install webdriver_manager"
   ]
  },
  {
   "cell_type": "markdown",
   "id": "78a605ae",
   "metadata": {},
   "source": [
    "아래처럼 하는 걸 추천하지는 아님. By 메소드를 추천함\n",
    "x path 등등으로"
   ]
  },
  {
   "cell_type": "code",
   "execution_count": 4,
   "id": "a99034ff",
   "metadata": {},
   "outputs": [
    {
     "name": "stderr",
     "output_type": "stream",
     "text": [
      "C:\\Users\\019\\AppData\\Local\\Temp\\ipykernel_108\\3501637426.py:5: DeprecationWarning: executable_path has been deprecated, please pass in a Service object\n",
      "  driver = webdriver.Chrome('./chromedriver')\n"
     ]
    }
   ],
   "source": [
    "from selenium import webdriver\n",
    "from selenium.webdriver.common.by import By  # by 패키지를 써서 원하는 패키지를 편하게 불러올 수 있음\n",
    "import time\n",
    "\n",
    "driver = webdriver.Chrome('./chromedriver')\n",
    "\n",
    "time.sleep(2)\n",
    "\n",
    "driver.get(\"https://nid.naver.com/nidlogin.login\")\n",
    "\n",
    "id = driver.find_element('id', 'id')\n",
    "id.send_keys('')\n",
    "time.sleep(1)\n",
    "\n",
    "pw = driver.find_element('id', 'pw')\n",
    "pw.send_keys('')\n",
    "time.sleep(1)"
   ]
  },
  {
   "cell_type": "code",
   "execution_count": 5,
   "id": "9905f108",
   "metadata": {},
   "outputs": [],
   "source": [
    "btn = driver.find_element('id', 'log.login')\n",
    "btn.click()"
   ]
  },
  {
   "cell_type": "markdown",
   "id": "3b7c62ff",
   "metadata": {},
   "source": [
    "이렇게 로그인이 막혀 있으므로\n",
    "\n",
    "1. 타자를 하나하나 치는 것처럼 코딩하거나 2. 변수화 시켜서 붙여넣기 하듯이 진행"
   ]
  },
  {
   "cell_type": "code",
   "execution_count": 6,
   "id": "66569612",
   "metadata": {},
   "outputs": [
    {
     "name": "stdout",
     "output_type": "stream",
     "text": [
      "Collecting pyperclip\n",
      "  Downloading pyperclip-1.8.2.tar.gz (20 kB)\n",
      "Building wheels for collected packages: pyperclip\n",
      "  Building wheel for pyperclip (setup.py): started\n",
      "  Building wheel for pyperclip (setup.py): finished with status 'done'\n",
      "  Created wheel for pyperclip: filename=pyperclip-1.8.2-py3-none-any.whl size=11137 sha256=823b5707930f6e95582b0421c3dd63c51514af61c5faaf76ca002edb5173d095\n",
      "  Stored in directory: c:\\users\\019\\appdata\\local\\pip\\cache\\wheels\\0c\\09\\9e\\49e21a6840ef7955b06d47394afef0058f0378c0914e48b8b8\n",
      "Successfully built pyperclip\n",
      "Installing collected packages: pyperclip\n",
      "Successfully installed pyperclip-1.8.2\n"
     ]
    }
   ],
   "source": [
    "!pip install pyperclip"
   ]
  },
  {
   "cell_type": "markdown",
   "id": "b4f826ab",
   "metadata": {},
   "source": [
    "by 메소드로 진행"
   ]
  },
  {
   "cell_type": "code",
   "execution_count": 25,
   "id": "7df934b3",
   "metadata": {},
   "outputs": [
    {
     "name": "stderr",
     "output_type": "stream",
     "text": [
      "C:\\Users\\019\\AppData\\Local\\Temp\\ipykernel_108\\1189915444.py:8: DeprecationWarning: executable_path has been deprecated, please pass in a Service object\n",
      "  driver = webdriver.Chrome('./chromedriver')\n"
     ]
    }
   ],
   "source": [
    "from selenium import webdriver\n",
    "from selenium.webdriver.common.by import By  # by 패키지를 써서 원하는 패키지를 편하게 불러올 수 있음\n",
    "from selenium.webdriver.common.keys import Keys\n",
    "import pyperclip\n",
    "import time\n",
    "import random\n",
    "\n",
    "driver = webdriver.Chrome('./chromedriver')\n",
    "\n",
    "time.sleep(random.uniform(1,3))\n",
    "\n",
    "driver.get(\"https://nid.naver.com/nidlogin.login\")\n",
    "time.sleep(1)\n",
    "\n",
    "id_value = ''\n",
    "pw_value = ''\n",
    "\n",
    "id = driver.find_element(By.ID, 'id')\n",
    "# 아이디 창에 클릭하게끔\n",
    "id.click()\n",
    "# 여기서 복붙하도록 하기\n",
    "pyperclip.copy(id_value)\n",
    "# 키보드 키를 누름\n",
    "id.send_keys(Keys.CONTROL, 'v')\n",
    "\n",
    "time.sleep(random.uniform(1,3))\n",
    "\n",
    "pw = driver.find_element(By.ID, 'pw')\n",
    "# 아이디 창에 클릭하게끔\n",
    "pw.click()\n",
    "# 여기서 복붙하도록 하기\n",
    "pyperclip.copy(pw_value)\n",
    "# 키보드 키를 누름\n",
    "pw.send_keys(Keys.CONTROL, 'v')\n",
    "\n",
    "time.sleep(random.uniform(0.1,2))\n",
    "\n",
    "btn = driver.find_element(By.CLASS_NAME, 'btn_login')\n",
    "btn.click()"
   ]
  },
  {
   "cell_type": "code",
   "execution_count": 26,
   "id": "4777a606",
   "metadata": {},
   "outputs": [
    {
     "ename": "StaleElementReferenceException",
     "evalue": "Message: stale element reference: element is not attached to the page document\n  (Session info: chrome=103.0.5060.114)\nStacktrace:\nBacktrace:\n\tOrdinal0 [0x002D6463+2188387]\n\tOrdinal0 [0x0026E461+1762401]\n\tOrdinal0 [0x00183D78+802168]\n\tOrdinal0 [0x00186754+812884]\n\tOrdinal0 [0x00186612+812562]\n\tOrdinal0 [0x001868A0+813216]\n\tOrdinal0 [0x001B2346+992070]\n\tOrdinal0 [0x001B2424+992292]\n\tOrdinal0 [0x001AACA9+961705]\n\tOrdinal0 [0x001CC7DC+1099740]\n\tOrdinal0 [0x001A7FF4+950260]\n\tOrdinal0 [0x001CC9F4+1100276]\n\tOrdinal0 [0x001DCC22+1166370]\n\tOrdinal0 [0x001CC5F6+1099254]\n\tOrdinal0 [0x001A6BE0+945120]\n\tOrdinal0 [0x001A7AD6+948950]\n\tGetHandleVerifier [0x005771F2+2712546]\n\tGetHandleVerifier [0x0056886D+2652765]\n\tGetHandleVerifier [0x0036002A+520730]\n\tGetHandleVerifier [0x0035EE06+516086]\n\tOrdinal0 [0x0027468B+1787531]\n\tOrdinal0 [0x00278E88+1805960]\n\tOrdinal0 [0x00278F75+1806197]\n\tOrdinal0 [0x00281DF1+1842673]\n\tBaseThreadInitThunk [0x76516739+25]\n\tRtlGetFullPathName_UEx [0x77178FEF+1215]\n\tRtlGetFullPathName_UEx [0x77178FBD+1165]\n\t(No symbol) [0x00000000]\n",
     "output_type": "error",
     "traceback": [
      "\u001b[1;31m---------------------------------------------------------------------------\u001b[0m",
      "\u001b[1;31mStaleElementReferenceException\u001b[0m            Traceback (most recent call last)",
      "Input \u001b[1;32mIn [26]\u001b[0m, in \u001b[0;36m<cell line: 19>\u001b[1;34m()\u001b[0m\n\u001b[0;32m     16\u001b[0m captcha_value \u001b[38;5;241m=\u001b[39m \u001b[38;5;124m'\u001b[39m\u001b[38;5;124m일회용\u001b[39m\u001b[38;5;124m'\u001b[39m\n\u001b[0;32m     18\u001b[0m pyperclip\u001b[38;5;241m.\u001b[39mcopy(captcha_value)\n\u001b[1;32m---> 19\u001b[0m \u001b[38;5;28;43mid\u001b[39;49m\u001b[38;5;241;43m.\u001b[39;49m\u001b[43msend_keys\u001b[49m\u001b[43m(\u001b[49m\u001b[43mKeys\u001b[49m\u001b[38;5;241;43m.\u001b[39;49m\u001b[43mCONTROL\u001b[49m\u001b[43m,\u001b[49m\u001b[43m \u001b[49m\u001b[38;5;124;43m'\u001b[39;49m\u001b[38;5;124;43mv\u001b[39;49m\u001b[38;5;124;43m'\u001b[39;49m\u001b[43m)\u001b[49m\n\u001b[0;32m     21\u001b[0m time\u001b[38;5;241m.\u001b[39msleep(random\u001b[38;5;241m.\u001b[39muniform(\u001b[38;5;241m1\u001b[39m,\u001b[38;5;241m3\u001b[39m))\n\u001b[0;32m     23\u001b[0m btn \u001b[38;5;241m=\u001b[39m driver\u001b[38;5;241m.\u001b[39mfind_element(By\u001b[38;5;241m.\u001b[39mCLASS_NAME, \u001b[38;5;124m'\u001b[39m\u001b[38;5;124mbtn_login\u001b[39m\u001b[38;5;124m'\u001b[39m)\n",
      "File \u001b[1;32m~\\anaconda3\\lib\\site-packages\\selenium\\webdriver\\remote\\webelement.py:223\u001b[0m, in \u001b[0;36mWebElement.send_keys\u001b[1;34m(self, *value)\u001b[0m\n\u001b[0;32m    220\u001b[0m             remote_files\u001b[38;5;241m.\u001b[39mappend(\u001b[38;5;28mself\u001b[39m\u001b[38;5;241m.\u001b[39m_upload(file))\n\u001b[0;32m    221\u001b[0m         value \u001b[38;5;241m=\u001b[39m \u001b[38;5;124m'\u001b[39m\u001b[38;5;130;01m\\n\u001b[39;00m\u001b[38;5;124m'\u001b[39m\u001b[38;5;241m.\u001b[39mjoin(remote_files)\n\u001b[1;32m--> 223\u001b[0m \u001b[38;5;28;43mself\u001b[39;49m\u001b[38;5;241;43m.\u001b[39;49m\u001b[43m_execute\u001b[49m\u001b[43m(\u001b[49m\u001b[43mCommand\u001b[49m\u001b[38;5;241;43m.\u001b[39;49m\u001b[43mSEND_KEYS_TO_ELEMENT\u001b[49m\u001b[43m,\u001b[49m\n\u001b[0;32m    224\u001b[0m \u001b[43m              \u001b[49m\u001b[43m{\u001b[49m\u001b[38;5;124;43m'\u001b[39;49m\u001b[38;5;124;43mtext\u001b[39;49m\u001b[38;5;124;43m'\u001b[39;49m\u001b[43m:\u001b[49m\u001b[43m \u001b[49m\u001b[38;5;124;43m\"\u001b[39;49m\u001b[38;5;124;43m\"\u001b[39;49m\u001b[38;5;241;43m.\u001b[39;49m\u001b[43mjoin\u001b[49m\u001b[43m(\u001b[49m\u001b[43mkeys_to_typing\u001b[49m\u001b[43m(\u001b[49m\u001b[43mvalue\u001b[49m\u001b[43m)\u001b[49m\u001b[43m)\u001b[49m\u001b[43m,\u001b[49m\n\u001b[0;32m    225\u001b[0m \u001b[43m               \u001b[49m\u001b[38;5;124;43m'\u001b[39;49m\u001b[38;5;124;43mvalue\u001b[39;49m\u001b[38;5;124;43m'\u001b[39;49m\u001b[43m:\u001b[49m\u001b[43m \u001b[49m\u001b[43mkeys_to_typing\u001b[49m\u001b[43m(\u001b[49m\u001b[43mvalue\u001b[49m\u001b[43m)\u001b[49m\u001b[43m}\u001b[49m\u001b[43m)\u001b[49m\n",
      "File \u001b[1;32m~\\anaconda3\\lib\\site-packages\\selenium\\webdriver\\remote\\webelement.py:396\u001b[0m, in \u001b[0;36mWebElement._execute\u001b[1;34m(self, command, params)\u001b[0m\n\u001b[0;32m    394\u001b[0m     params \u001b[38;5;241m=\u001b[39m {}\n\u001b[0;32m    395\u001b[0m params[\u001b[38;5;124m'\u001b[39m\u001b[38;5;124mid\u001b[39m\u001b[38;5;124m'\u001b[39m] \u001b[38;5;241m=\u001b[39m \u001b[38;5;28mself\u001b[39m\u001b[38;5;241m.\u001b[39m_id\n\u001b[1;32m--> 396\u001b[0m \u001b[38;5;28;01mreturn\u001b[39;00m \u001b[38;5;28;43mself\u001b[39;49m\u001b[38;5;241;43m.\u001b[39;49m\u001b[43m_parent\u001b[49m\u001b[38;5;241;43m.\u001b[39;49m\u001b[43mexecute\u001b[49m\u001b[43m(\u001b[49m\u001b[43mcommand\u001b[49m\u001b[43m,\u001b[49m\u001b[43m \u001b[49m\u001b[43mparams\u001b[49m\u001b[43m)\u001b[49m\n",
      "File \u001b[1;32m~\\anaconda3\\lib\\site-packages\\selenium\\webdriver\\remote\\webdriver.py:435\u001b[0m, in \u001b[0;36mWebDriver.execute\u001b[1;34m(self, driver_command, params)\u001b[0m\n\u001b[0;32m    433\u001b[0m response \u001b[38;5;241m=\u001b[39m \u001b[38;5;28mself\u001b[39m\u001b[38;5;241m.\u001b[39mcommand_executor\u001b[38;5;241m.\u001b[39mexecute(driver_command, params)\n\u001b[0;32m    434\u001b[0m \u001b[38;5;28;01mif\u001b[39;00m response:\n\u001b[1;32m--> 435\u001b[0m     \u001b[38;5;28;43mself\u001b[39;49m\u001b[38;5;241;43m.\u001b[39;49m\u001b[43merror_handler\u001b[49m\u001b[38;5;241;43m.\u001b[39;49m\u001b[43mcheck_response\u001b[49m\u001b[43m(\u001b[49m\u001b[43mresponse\u001b[49m\u001b[43m)\u001b[49m\n\u001b[0;32m    436\u001b[0m     response[\u001b[38;5;124m'\u001b[39m\u001b[38;5;124mvalue\u001b[39m\u001b[38;5;124m'\u001b[39m] \u001b[38;5;241m=\u001b[39m \u001b[38;5;28mself\u001b[39m\u001b[38;5;241m.\u001b[39m_unwrap_value(\n\u001b[0;32m    437\u001b[0m         response\u001b[38;5;241m.\u001b[39mget(\u001b[38;5;124m'\u001b[39m\u001b[38;5;124mvalue\u001b[39m\u001b[38;5;124m'\u001b[39m, \u001b[38;5;28;01mNone\u001b[39;00m))\n\u001b[0;32m    438\u001b[0m     \u001b[38;5;28;01mreturn\u001b[39;00m response\n",
      "File \u001b[1;32m~\\anaconda3\\lib\\site-packages\\selenium\\webdriver\\remote\\errorhandler.py:247\u001b[0m, in \u001b[0;36mErrorHandler.check_response\u001b[1;34m(self, response)\u001b[0m\n\u001b[0;32m    245\u001b[0m         alert_text \u001b[38;5;241m=\u001b[39m value[\u001b[38;5;124m'\u001b[39m\u001b[38;5;124malert\u001b[39m\u001b[38;5;124m'\u001b[39m]\u001b[38;5;241m.\u001b[39mget(\u001b[38;5;124m'\u001b[39m\u001b[38;5;124mtext\u001b[39m\u001b[38;5;124m'\u001b[39m)\n\u001b[0;32m    246\u001b[0m     \u001b[38;5;28;01mraise\u001b[39;00m exception_class(message, screen, stacktrace, alert_text)  \u001b[38;5;66;03m# type: ignore[call-arg]  # mypy is not smart enough here\u001b[39;00m\n\u001b[1;32m--> 247\u001b[0m \u001b[38;5;28;01mraise\u001b[39;00m exception_class(message, screen, stacktrace)\n",
      "\u001b[1;31mStaleElementReferenceException\u001b[0m: Message: stale element reference: element is not attached to the page document\n  (Session info: chrome=103.0.5060.114)\nStacktrace:\nBacktrace:\n\tOrdinal0 [0x002D6463+2188387]\n\tOrdinal0 [0x0026E461+1762401]\n\tOrdinal0 [0x00183D78+802168]\n\tOrdinal0 [0x00186754+812884]\n\tOrdinal0 [0x00186612+812562]\n\tOrdinal0 [0x001868A0+813216]\n\tOrdinal0 [0x001B2346+992070]\n\tOrdinal0 [0x001B2424+992292]\n\tOrdinal0 [0x001AACA9+961705]\n\tOrdinal0 [0x001CC7DC+1099740]\n\tOrdinal0 [0x001A7FF4+950260]\n\tOrdinal0 [0x001CC9F4+1100276]\n\tOrdinal0 [0x001DCC22+1166370]\n\tOrdinal0 [0x001CC5F6+1099254]\n\tOrdinal0 [0x001A6BE0+945120]\n\tOrdinal0 [0x001A7AD6+948950]\n\tGetHandleVerifier [0x005771F2+2712546]\n\tGetHandleVerifier [0x0056886D+2652765]\n\tGetHandleVerifier [0x0036002A+520730]\n\tGetHandleVerifier [0x0035EE06+516086]\n\tOrdinal0 [0x0027468B+1787531]\n\tOrdinal0 [0x00278E88+1805960]\n\tOrdinal0 [0x00278F75+1806197]\n\tOrdinal0 [0x00281DF1+1842673]\n\tBaseThreadInitThunk [0x76516739+25]\n\tRtlGetFullPathName_UEx [0x77178FEF+1215]\n\tRtlGetFullPathName_UEx [0x77178FBD+1165]\n\t(No symbol) [0x00000000]\n"
     ]
    }
   ],
   "source": [
    "pw = driver.find_element(By.ID, 'pw')\n",
    "# 아이디 창에 클릭하게끔\n",
    "pw.click()\n",
    "# 여기서 복붙하도록 하기\n",
    "pyperclip.copy(pw_value)\n",
    "# 키보드 키를 누름\n",
    "pw.send_keys(Keys.CONTROL, 'v')\n",
    "\n",
    "time.sleep(random.uniform(1,3))\n",
    "\n",
    "captcha = driver.find_element(By.ID, 'captcha')\n",
    "captcha.click()\n",
    "\n",
    "time.sleep(random.uniform(1,3))\n",
    "\n",
    "captcha_value = '일회용'\n",
    "\n",
    "pyperclip.copy(captcha_value)\n",
    "id.send_keys(Keys.CONTROL, 'v')\n",
    "\n",
    "time.sleep(random.uniform(1,3))\n",
    "\n",
    "btn = driver.find_element(By.CLASS_NAME, 'btn_login')\n",
    "btn.click()"
   ]
  },
  {
   "cell_type": "markdown",
   "id": "9988a34f",
   "metadata": {},
   "source": [
    "# 셀레니움 구글 크롤링 실습"
   ]
  },
  {
   "cell_type": "code",
   "execution_count": 1,
   "id": "51e8845e",
   "metadata": {},
   "outputs": [],
   "source": [
    "# https://velog.io/@jungeun-dev/Python-%EC%9B%B9-%ED%81%AC%EB%A1%A4%EB%A7%81Selenium-%EA%B5%AC%EA%B8%80-%EC%9D%B4%EB%AF%B8%EC%A7%80-%EC%88%98%EC%A7%91"
   ]
  },
  {
   "cell_type": "code",
   "execution_count": 5,
   "id": "d9bf5ccc",
   "metadata": {},
   "outputs": [],
   "source": [
    "import selenium\n",
    "from selenium import webdriver"
   ]
  },
  {
   "cell_type": "code",
   "execution_count": null,
   "id": "25f7478a",
   "metadata": {},
   "outputs": [],
   "source": [
    "imgs = driver.find_elements_by_css_selector(\".rg_i.Q4LuWd\") #작게 뜬 이미지들 모두 선택(elements)\n",
    "for img in imgs:\n",
    "    try:\n",
    "        img.click()\n",
    "        time.sleep(2)\n",
    "        imgUrl = driver.find_element_by_xpath(\n",
    "                '//*[@id=\"Sva75c\"]/div/div/div[3]/div[2]/c-wiz/div/div[1]/div[1]/div[2]/div[1]/a/img').get_attribute(\n",
    "                \"src\") # 크게 뜬 이미지 선택하여 \"src\" 속성을 받아옴\n",
    "    path = \"C:\\\\Users\\\\paqgl\\\\PycharmProjects\\\\pythonProject_crawling\\\\bs4\\\\idols\\\\\" + name + \"\\\\\" #저장할 경로\n",
    "        urllib.request.urlretrieve(imgUrl, path + name + str(count) + \".jpg\") // \n",
    "        count = count + 1\n",
    "        if count > 260: #다운 받을 이미지 갯수 조정\n",
    "            break\n",
    "    except:\n",
    "            pass"
   ]
  },
  {
   "cell_type": "code",
   "execution_count": 6,
   "id": "b429b1bb",
   "metadata": {},
   "outputs": [
    {
     "name": "stderr",
     "output_type": "stream",
     "text": [
      "C:\\Users\\019\\AppData\\Local\\Temp\\ipykernel_6696\\3691889474.py:1: DeprecationWarning: executable_path has been deprecated, please pass in a Service object\n",
      "  driver = webdriver.Chrome('C:\\python/chromedriver.exe') # 크롬드라이버 설치한 경로 작성 필요\n"
     ]
    },
    {
     "ename": "AttributeError",
     "evalue": "'WebDriver' object has no attribute 'find_element_by_name'",
     "output_type": "error",
     "traceback": [
      "\u001b[1;31m---------------------------------------------------------------------------\u001b[0m",
      "\u001b[1;31mAttributeError\u001b[0m                            Traceback (most recent call last)",
      "Input \u001b[1;32mIn [6]\u001b[0m, in \u001b[0;36m<cell line: 3>\u001b[1;34m()\u001b[0m\n\u001b[0;32m      1\u001b[0m driver \u001b[38;5;241m=\u001b[39m webdriver\u001b[38;5;241m.\u001b[39mChrome(\u001b[38;5;124m'\u001b[39m\u001b[38;5;124mC:\u001b[39m\u001b[38;5;124m\\\u001b[39m\u001b[38;5;124mpython/chromedriver.exe\u001b[39m\u001b[38;5;124m'\u001b[39m) \u001b[38;5;66;03m# 크롬드라이버 설치한 경로 작성 필요 \u001b[39;00m\n\u001b[0;32m      2\u001b[0m driver\u001b[38;5;241m.\u001b[39mget(\u001b[38;5;124m\"\u001b[39m\u001b[38;5;124mhttps://www.google.com/search?q=\u001b[39m\u001b[38;5;132;01m%E\u001b[39;00m\u001b[38;5;124mA\u001b[39m\u001b[38;5;124m%\u001b[39m\u001b[38;5;124mB0\u001b[39m\u001b[38;5;132;01m%95%\u001b[39;00m\u001b[38;5;124mEC\u001b[39m\u001b[38;5;132;01m%95%\u001b[39;00m\u001b[38;5;124m84\u001b[39m\u001b[38;5;132;01m%E\u001b[39;00m\u001b[38;5;124mC\u001b[39m\u001b[38;5;124m%\u001b[39m\u001b[38;5;124mA7\u001b[39m\u001b[38;5;124m%\u001b[39m\u001b[38;5;124m80&source=lnms&tbm=isch&sa=X&ved=2ahUKEwityLmm7__4AhWml1YBHUUpAXsQ_AUoAXoECAIQAw&biw=1536&bih=714&dpr=1.25\u001b[39m\u001b[38;5;124m\"\u001b[39m) \u001b[38;5;66;03m# 구글 이미지 검색 url\u001b[39;00m\n\u001b[1;32m----> 3\u001b[0m elem \u001b[38;5;241m=\u001b[39m \u001b[43mdriver\u001b[49m\u001b[38;5;241;43m.\u001b[39;49m\u001b[43mfind_element_by_name\u001b[49m(\u001b[38;5;124m\"\u001b[39m\u001b[38;5;124mq\u001b[39m\u001b[38;5;124m\"\u001b[39m) \u001b[38;5;66;03m#구글 검색창 선택\u001b[39;00m\n\u001b[0;32m      4\u001b[0m elem\u001b[38;5;241m.\u001b[39msend_keys(name) \u001b[38;5;66;03m# 검색창에 검색할 내용(name)넣기\u001b[39;00m\n\u001b[0;32m      5\u001b[0m elem\u001b[38;5;241m.\u001b[39msend_keys(Keys\u001b[38;5;241m.\u001b[39mRETURN)\n",
      "\u001b[1;31mAttributeError\u001b[0m: 'WebDriver' object has no attribute 'find_element_by_name'"
     ]
    }
   ],
   "source": [
    "driver = webdriver.Chrome('C:\\python/chromedriver.exe') # 크롬드라이버 설치한 경로 작성 필요 \n",
    "driver.get(\"https://www.google.com/search?q=%EA%B0%95%EC%95%84%EC%A7%80&source=lnms&tbm=isch&sa=X&ved=2ahUKEwityLmm7__4AhWml1YBHUUpAXsQ_AUoAXoECAIQAw&biw=1536&bih=714&dpr=1.25\") # 구글 이미지 검색 url\n",
    "elem = driver.find_element_by_name(\"q\") #구글 검색창 선택\n",
    "elem.send_keys(name) # 검색창에 검색할 내용(name)넣기\n",
    "elem.send_keys(Keys.RETURN) # 검색할 내용을 넣고 enter를 치는것!"
   ]
  },
  {
   "cell_type": "code",
   "execution_count": null,
   "id": "88480e2c",
   "metadata": {},
   "outputs": [],
   "source": []
  }
 ],
 "metadata": {
  "kernelspec": {
   "display_name": "Python 3 (ipykernel)",
   "language": "python",
   "name": "python3"
  },
  "language_info": {
   "codemirror_mode": {
    "name": "ipython",
    "version": 3
   },
   "file_extension": ".py",
   "mimetype": "text/x-python",
   "name": "python",
   "nbconvert_exporter": "python",
   "pygments_lexer": "ipython3",
   "version": "3.9.12"
  }
 },
 "nbformat": 4,
 "nbformat_minor": 5
}
