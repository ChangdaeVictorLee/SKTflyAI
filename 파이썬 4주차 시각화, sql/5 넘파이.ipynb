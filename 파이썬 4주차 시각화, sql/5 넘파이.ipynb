{
 "cells": [
  {
   "cell_type": "markdown",
   "id": "0ed20281",
   "metadata": {},
   "source": [
    "실제 데이터가 없을 때 더미 데이터를 만들기 위해 주로 사용된다."
   ]
  },
  {
   "cell_type": "markdown",
   "id": "b7413dde",
   "metadata": {},
   "source": [
    "자율주행은 map ->x,y(2차원데이터)와 시간이 합쳐진 3차원 데이터, 여기에 환경을 따로 분리해서 사용한다고 함"
   ]
  },
  {
   "cell_type": "code",
   "execution_count": 1,
   "id": "e9f8d70c",
   "metadata": {},
   "outputs": [],
   "source": [
    "import numpy as np"
   ]
  },
  {
   "cell_type": "code",
   "execution_count": 10,
   "id": "8d904ba8",
   "metadata": {},
   "outputs": [
    {
     "name": "stdout",
     "output_type": "stream",
     "text": [
      "[1 2 3 4 5] <class 'numpy.ndarray'>\n",
      "(5,)\n",
      "1 2 3 4 5\n",
      "[4 5 6 4 5]\n"
     ]
    }
   ],
   "source": [
    "a1 = np.array([1,2,3,4,5])\n",
    "print(a1, type(a1))\n",
    "print(a1.shape)\n",
    "print(a1[0], a1[1], a1[2], a1[3], a1[4])\n",
    "a1[0] = 4\n",
    "a1[1] = 5\n",
    "a1[2] = 6\n",
    "print(a1)"
   ]
  },
  {
   "cell_type": "code",
   "execution_count": 13,
   "id": "ab443b24",
   "metadata": {},
   "outputs": [
    {
     "name": "stdout",
     "output_type": "stream",
     "text": [
      "[[1 2 3]\n",
      " [4 5 6]\n",
      " [7 8 9]]\n",
      "(3, 3)\n",
      "1 5 9\n"
     ]
    }
   ],
   "source": [
    "a2 = np.array([ [1,2,3], [4,5,6], [7,8,9]])\n",
    "print(a2)\n",
    "print(a2.shape)\n",
    "print(a2[0,0], a2[1, 1], a2[2,2])"
   ]
  },
  {
   "cell_type": "code",
   "execution_count": 25,
   "id": "cde5422a",
   "metadata": {},
   "outputs": [
    {
     "name": "stdout",
     "output_type": "stream",
     "text": [
      "[[[1 2 3]\n",
      "  [4 5 6]\n",
      "  [7 8 9]]\n",
      "\n",
      " [[1 2 3]\n",
      "  [4 5 6]\n",
      "  [7 8 9]]\n",
      "\n",
      " [[1 2 3]\n",
      "  [4 5 6]\n",
      "  [7 8 9]]]\n",
      "(3, 3, 3)\n"
     ]
    }
   ],
   "source": [
    "a3 = np.array([[[1, 2, 3], [4, 5, 6], [7, 8, 9]],\n",
    "[[1, 2, 3], [4, 5, 6], [7, 8, 9]],\n",
    "[[1, 2, 3], [4, 5, 6], [7, 8, 9]]])\n",
    "print(a3)\n",
    "print(a3.shape)\n",
    "# 3차원, 3행, 3열"
   ]
  },
  {
   "attachments": {
    "image.png": {
     "image/png": "[encoded data removed]"
    }
   },
   "cell_type": "markdown",
   "id": "0921a1e1",
   "metadata": {},
   "source": [
    "![image.png](attachment:image.png)"
   ]
  },
  {
   "cell_type": "markdown",
   "id": "183871b7",
   "metadata": {},
   "source": [
    "위에서 차원이라고 했지만 2차원이 몇 개 있는지를 나타내는 것이다. 4차원은 (3,3,3,3)으로 나타내어짐"
   ]
  },
  {
   "cell_type": "code",
   "execution_count": 23,
   "id": "b7988b74",
   "metadata": {},
   "outputs": [
    {
     "data": {
      "text/plain": [
       "array([[0., 0., 0.],\n",
       "       [0., 0., 0.],\n",
       "       [0., 0., 0.]])"
      ]
     },
     "execution_count": 23,
     "metadata": {},
     "output_type": "execute_result"
    }
   ],
   "source": [
    "# zeros()\n",
    "np.zeros((3,3))"
   ]
  },
  {
   "cell_type": "code",
   "execution_count": 24,
   "id": "8804c68c",
   "metadata": {},
   "outputs": [
    {
     "data": {
      "text/plain": [
       "array([[1., 1., 1.],\n",
       "       [1., 1., 1.],\n",
       "       [1., 1., 1.]])"
      ]
     },
     "execution_count": 24,
     "metadata": {},
     "output_type": "execute_result"
    }
   ],
   "source": [
    "# np.ones()\n",
    "np.ones((3, 3))"
   ]
  },
  {
   "cell_type": "code",
   "execution_count": 26,
   "id": "179b3941",
   "metadata": {},
   "outputs": [
    {
     "data": {
      "text/plain": [
       "array([[1.23, 1.23, 1.23],\n",
       "       [1.23, 1.23, 1.23],\n",
       "       [1.23, 1.23, 1.23]])"
      ]
     },
     "execution_count": 26,
     "metadata": {},
     "output_type": "execute_result"
    }
   ],
   "source": [
    "#full()\n",
    "np.full((3, 3), 1.23)"
   ]
  },
  {
   "cell_type": "markdown",
   "id": "b4d96a1a",
   "metadata": {},
   "source": [
    "자율주행을 만들 때,np.zeros로 전체를 0으로 만든 다음에 실제 면적을 open cv 등으로 잘라서 그 부분만 1을 제공해서 로봇이 다닐 수 있는 공간을 표시함."
   ]
  },
  {
   "cell_type": "code",
   "execution_count": 27,
   "id": "92290d7b",
   "metadata": {},
   "outputs": [
    {
     "data": {
      "text/plain": [
       "array([[1., 0., 0.],\n",
       "       [0., 1., 0.],\n",
       "       [0., 0., 1.]])"
      ]
     },
     "execution_count": 27,
     "metadata": {},
     "output_type": "execute_result"
    }
   ],
   "source": [
    "# eye(): 단위행렬(identity matrix) 생성\n",
    "np.eye(3)"
   ]
  },
  {
   "cell_type": "code",
   "execution_count": 28,
   "id": "94b584f2",
   "metadata": {},
   "outputs": [
    {
     "data": {
      "text/plain": [
       "array([[1., 0., 0.],\n",
       "       [1., 1., 0.],\n",
       "       [1., 1., 1.]])"
      ]
     },
     "execution_count": 28,
     "metadata": {},
     "output_type": "execute_result"
    }
   ],
   "source": [
    "# tri(): 삼각행렬 생성\n",
    "np.tri(3)"
   ]
  },
  {
   "cell_type": "code",
   "execution_count": 75,
   "id": "69a8ad20",
   "metadata": {},
   "outputs": [
    {
     "data": {
      "text/plain": [
       "array([1.03564678e-311, 2.32210854e-322, 0.00000000e+000, 0.00000000e+000,\n",
       "       0.00000000e+000, 1.16095484e-028, 3.65093134e+233, 4.25117084e-096,\n",
       "       9.80058441e+252, 1.23971686e+224])"
      ]
     },
     "execution_count": 75,
     "metadata": {},
     "output_type": "execute_result"
    }
   ],
   "source": [
    "np.empty(10)"
   ]
  },
  {
   "cell_type": "code",
   "execution_count": 76,
   "id": "71908c8d",
   "metadata": {},
   "outputs": [
    {
     "name": "stdout",
     "output_type": "stream",
     "text": [
      "[4 5 6 4 5]\n"
     ]
    },
    {
     "data": {
      "text/plain": [
       "array([0, 0, 0, 0, 0])"
      ]
     },
     "execution_count": 76,
     "metadata": {},
     "output_type": "execute_result"
    }
   ],
   "source": [
    "# _like(): 지정된 배열과 shape가 같은 행렬 생성\n",
    "print(a1)\n",
    "np.zeros_like(a1)"
   ]
  },
  {
   "cell_type": "code",
   "execution_count": 82,
   "id": "eeb17525",
   "metadata": {
    "scrolled": true
   },
   "outputs": [
    {
     "name": "stdout",
     "output_type": "stream",
     "text": [
      "[[1 2 3]\n",
      " [4 5 6]\n",
      " [7 8 9]]\n",
      "[[0 0 0]\n",
      " [0 0 0]\n",
      " [0 0 0]]\n",
      "[[1 1 1]\n",
      " [1 1 1]\n",
      " [1 1 1]]\n",
      "[[[10 10 10]\n",
      "  [10 10 10]\n",
      "  [10 10 10]]\n",
      "\n",
      " [[10 10 10]\n",
      "  [10 10 10]\n",
      "  [10 10 10]]\n",
      "\n",
      " [[10 10 10]\n",
      "  [10 10 10]\n",
      "  [10 10 10]]]\n",
      "[[1 1 1]\n",
      " [1 1 1]\n",
      " [1 1 1]]\n"
     ]
    }
   ],
   "source": [
    "print(a2)\n",
    "print(np.zeros_like(a2))\n",
    "print(np.ones_like(a2))\n",
    "print(np.full_like(a3, 10))\n",
    "print(np.empty_like(a2))"
   ]
  },
  {
   "cell_type": "code",
   "execution_count": 87,
   "id": "2a59c0c9",
   "metadata": {},
   "outputs": [
    {
     "data": {
      "text/plain": [
       "array([ 0,  2,  4,  6,  8, 10, 12, 14, 16, 18, 20, 22, 24, 26, 28])"
      ]
     },
     "execution_count": 87,
     "metadata": {},
     "output_type": "execute_result"
    }
   ],
   "source": [
    "# arange() 정수 범위로 배열 생성\n",
    "np.arange(0,30,2)"
   ]
  },
  {
   "cell_type": "code",
   "execution_count": 89,
   "id": "173aa78e",
   "metadata": {},
   "outputs": [
    {
     "data": {
      "text/plain": [
       "array([0.  , 0.25, 0.5 , 0.75, 1.  ])"
      ]
     },
     "execution_count": 89,
     "metadata": {},
     "output_type": "execute_result"
    }
   ],
   "source": [
    "# linspace(): 범위 내에서 균등 간격의 배열 생성\n",
    "np.linspace(0, 1, 5)"
   ]
  },
  {
   "cell_type": "code",
   "execution_count": 95,
   "id": "ffe62a43",
   "metadata": {},
   "outputs": [
    {
     "data": {
      "text/plain": [
       "array([0.1       , 0.14736842, 0.19473684, 0.24210526, 0.28947368,\n",
       "       0.33684211, 0.38421053, 0.43157895, 0.47894737, 0.52631579,\n",
       "       0.57368421, 0.62105263, 0.66842105, 0.71578947, 0.76315789,\n",
       "       0.81052632, 0.85789474, 0.90526316, 0.95263158, 1.        ])"
      ]
     },
     "execution_count": 95,
     "metadata": {},
     "output_type": "execute_result"
    }
   ],
   "source": [
    "np.linspace(0.1,1, 20)"
   ]
  },
  {
   "cell_type": "code",
   "execution_count": 96,
   "id": "24a9e90f",
   "metadata": {},
   "outputs": [
    {
     "data": {
      "text/plain": [
       "array([[0.68247174, 0.65630297, 0.62622682],\n",
       "       [0.69539916, 0.48656339, 0.43227327],\n",
       "       [0.77012999, 0.26872273, 0.05719155]])"
      ]
     },
     "execution_count": 96,
     "metadata": {},
     "output_type": "execute_result"
    }
   ],
   "source": [
    "# random.random(): 랜덤한 수의 배열 생성\n",
    "np.random.random((3,3))"
   ]
  },
  {
   "cell_type": "code",
   "execution_count": 97,
   "id": "c1937f1b",
   "metadata": {},
   "outputs": [
    {
     "data": {
      "text/plain": [
       "array([[5, 7, 4],\n",
       "       [4, 2, 5],\n",
       "       [6, 9, 7]])"
      ]
     },
     "execution_count": 97,
     "metadata": {},
     "output_type": "execute_result"
    }
   ],
   "source": [
    "#random.randint(): 일정 구간의 랜덤 정수의 배열 생성\n",
    "np.random.randint(0, 10, (3, 3))\n",
    "# 여기서 두번째 값(여기서는10)은 포함 안 됨\n",
    "# 3x3의 2차원 형태를 만들기, 채워지는 값은 0에서 10 사이의 값 중에서"
   ]
  },
  {
   "cell_type": "code",
   "execution_count": 114,
   "id": "5ca45c62",
   "metadata": {},
   "outputs": [
    {
     "data": {
      "text/plain": [
       "array([[1, 0, 1],\n",
       "       [1, 1, 1],\n",
       "       [0, 1, 0]])"
      ]
     },
     "execution_count": 114,
     "metadata": {},
     "output_type": "execute_result"
    }
   ],
   "source": [
    "# 여기서 두번째 값(여기서는2)는 포함 안 됨\n",
    "np.random.randint(0,2,(3,3))"
   ]
  },
  {
   "cell_type": "code",
   "execution_count": 115,
   "id": "d92dd348",
   "metadata": {},
   "outputs": [
    {
     "data": {
      "text/plain": [
       "array([[ 2.18840643,  0.93891939, -0.03341806],\n",
       "       [-0.96886179,  1.25196148,  0.216858  ],\n",
       "       [-1.23040426,  0.99729329,  0.01431345]])"
      ]
     },
     "execution_count": 115,
     "metadata": {},
     "output_type": "execute_result"
    }
   ],
   "source": [
    "# random.normal(): 정규분포(normal distribution)를 고려한 랜덤한 수의 배열 생성\n",
    "np.random.normal(0, 1, (3, 3))"
   ]
  },
  {
   "cell_type": "code",
   "execution_count": 117,
   "id": "bb4f8e66",
   "metadata": {},
   "outputs": [
    {
     "data": {
      "text/plain": [
       "array([[0.55564589, 0.15572656, 0.47906199],\n",
       "       [0.69230659, 0.95050545, 0.04543816],\n",
       "       [0.1806469 , 0.81620552, 0.48065498]])"
      ]
     },
     "execution_count": 117,
     "metadata": {},
     "output_type": "execute_result"
    }
   ],
   "source": [
    "# random.rand(): 균등분포(uniform distribution)를 고려한 랜덤한 수의 배열 생성\n",
    "np.random.rand(3, 3)"
   ]
  },
  {
   "cell_type": "code",
   "execution_count": 118,
   "id": "0a0c8dc1",
   "metadata": {},
   "outputs": [
    {
     "data": {
      "text/plain": [
       "array([[0.07552846, 0.1511797 , 0.48728177],\n",
       "       [0.4387194 , 0.73570446, 0.45698665],\n",
       "       [0.79892372, 0.16678343, 0.18511118]])"
      ]
     },
     "execution_count": 118,
     "metadata": {},
     "output_type": "execute_result"
    }
   ],
   "source": [
    "# random.rand(): 균등분포(uniform distribution)를 고려한 랜덤한 수의 배열 생성\n",
    "np.random.rand(3, 3)"
   ]
  },
  {
   "cell_type": "code",
   "execution_count": 119,
   "id": "3a967fe4",
   "metadata": {},
   "outputs": [
    {
     "data": {
      "text/plain": [
       "array([[ 0.10407791, -1.03183148,  1.14490992],\n",
       "       [-0.71425688, -0.36092128, -0.24196017],\n",
       "       [-0.79186369, -1.45703428, -0.37643268]])"
      ]
     },
     "execution_count": 119,
     "metadata": {},
     "output_type": "execute_result"
    }
   ],
   "source": [
    "# random.randn(): 표준 정규 분포(standard normal distribution)를 고려한\n",
    "# 랜덤한 수의 배열 생성\n",
    "np.random.randn(3,3)"
   ]
  },
  {
   "cell_type": "code",
   "execution_count": 125,
   "id": "16611ea8",
   "metadata": {},
   "outputs": [
    {
     "data": {
      "text/plain": [
       "array([0., 0., 0., 0., 0., 0., 0., 0., 0., 0., 0., 0., 0., 0., 0., 0., 0.,\n",
       "       0., 0., 0.])"
      ]
     },
     "execution_count": 125,
     "metadata": {},
     "output_type": "execute_result"
    }
   ],
   "source": [
    "np.zeros(20)"
   ]
  },
  {
   "cell_type": "code",
   "execution_count": 126,
   "id": "de8f170a",
   "metadata": {},
   "outputs": [
    {
     "data": {
      "text/plain": [
       "array([0, 0, 0, 0, 0, 0, 0, 0, 0, 0, 0, 0, 0, 0, 0, 0, 0, 0, 0, 0])"
      ]
     },
     "execution_count": 126,
     "metadata": {},
     "output_type": "execute_result"
    }
   ],
   "source": [
    "# 원래는 float로 나오는데 int로 할 수 있음\n",
    "np.zeros(20, dtype=int)"
   ]
  },
  {
   "cell_type": "code",
   "execution_count": 127,
   "id": "e94c95b1",
   "metadata": {},
   "outputs": [
    {
     "data": {
      "text/plain": [
       "array([[ True,  True,  True],\n",
       "       [ True,  True,  True],\n",
       "       [ True,  True,  True]])"
      ]
     },
     "execution_count": 127,
     "metadata": {},
     "output_type": "execute_result"
    }
   ],
   "source": [
    "np.ones((3, 3), dtype=bool)"
   ]
  },
  {
   "cell_type": "code",
   "execution_count": 128,
   "id": "ff1b19f7",
   "metadata": {},
   "outputs": [
    {
     "data": {
      "text/plain": [
       "array([[1., 1., 1.],\n",
       "       [1., 1., 1.],\n",
       "       [1., 1., 1.]])"
      ]
     },
     "execution_count": 128,
     "metadata": {},
     "output_type": "execute_result"
    }
   ],
   "source": [
    "np.full((3, 3), 1.0, dtype=float)"
   ]
  },
  {
   "cell_type": "code",
   "execution_count": 129,
   "id": "8d09f380",
   "metadata": {},
   "outputs": [
    {
     "data": {
      "text/plain": [
       "array('2020-01-01', dtype='datetime64[D]')"
      ]
     },
     "execution_count": 129,
     "metadata": {},
     "output_type": "execute_result"
    }
   ],
   "source": [
    "# 날짜 타입\n",
    "date = np.array('2020-01-01', dtype=np.datetime64)\n",
    "date"
   ]
  },
  {
   "cell_type": "code",
   "execution_count": 131,
   "id": "cc265d3c",
   "metadata": {},
   "outputs": [
    {
     "data": {
      "text/plain": [
       "array(['2020-01-01', '2020-01-02', '2020-01-03', '2020-01-04',\n",
       "       '2020-01-05', '2020-01-06', '2020-01-07', '2020-01-08',\n",
       "       '2020-01-09', '2020-01-10', '2020-01-11', '2020-01-12',\n",
       "       '2020-01-13', '2020-01-14', '2020-01-15', '2020-01-16'],\n",
       "      dtype='datetime64[D]')"
      ]
     },
     "execution_count": 131,
     "metadata": {},
     "output_type": "execute_result"
    }
   ],
   "source": [
    "date + np.arange(16)"
   ]
  },
  {
   "cell_type": "code",
   "execution_count": 133,
   "id": "1c0fb638",
   "metadata": {},
   "outputs": [
    {
     "data": {
      "text/plain": [
       "numpy.datetime64('2020-06-01T12:00')"
      ]
     },
     "execution_count": 133,
     "metadata": {},
     "output_type": "execute_result"
    }
   ],
   "source": [
    "# 시간까지 지정\n",
    "datetime = np.datetime64('2020-06-01 12:00')\n",
    "datetime"
   ]
  },
  {
   "cell_type": "code",
   "execution_count": 136,
   "id": "5af6a059",
   "metadata": {},
   "outputs": [
    {
     "data": {
      "text/plain": [
       "numpy.datetime64('2020-06-01T12:00:12.343000000')"
      ]
     },
     "execution_count": 136,
     "metadata": {},
     "output_type": "execute_result"
    }
   ],
   "source": [
    "# 나노 세컨즈\n",
    "datetime = np.datetime64('2020-06-01 12:00:12.343', 'ns')\n",
    "datetime"
   ]
  },
  {
   "cell_type": "markdown",
   "id": "9ccacbdb",
   "metadata": {},
   "source": [
    "### array_info(array)를 정의해둬서 array가 어떤지 바로 알 수 있음"
   ]
  },
  {
   "cell_type": "code",
   "execution_count": 139,
   "id": "b39a92f6",
   "metadata": {},
   "outputs": [],
   "source": [
    "def array_info(array):\n",
    "    print(array)\n",
    "    print(\"ndim:\", array.ndim)\n",
    "    print(\"shape:\", array.shape)\n",
    "    print(\"dtype:\", array.dtype)\n",
    "    print(\"size:\", array.size)\n",
    "    print(\"itemsize:\", array.itemsize)\n",
    "    print(\"nbytes:\", array.nbytes)\n",
    "    print(\"strides:\", array.strides)"
   ]
  },
  {
   "cell_type": "code",
   "execution_count": 140,
   "id": "60e2706c",
   "metadata": {},
   "outputs": [
    {
     "name": "stdout",
     "output_type": "stream",
     "text": [
      "[4 5 6 4 5]\n",
      "ndim: 1\n",
      "shape: (5,)\n",
      "dtype: int32\n",
      "size: 5\n",
      "itemsize: 4\n",
      "nbytes: 20\n",
      "strides: (4,)\n"
     ]
    }
   ],
   "source": [
    "array_info(a1)"
   ]
  },
  {
   "cell_type": "code",
   "execution_count": 141,
   "id": "b8a78d11",
   "metadata": {},
   "outputs": [
    {
     "name": "stdout",
     "output_type": "stream",
     "text": [
      "[4 5 6 4 5]\n",
      "4\n",
      "6\n",
      "5\n",
      "4\n"
     ]
    }
   ],
   "source": [
    "# 인덱싱\n",
    "print(a1)\n",
    "print(a1[0])\n",
    "print(a1[2])\n",
    "print(a1[-1])\n",
    "print(a1[-2])"
   ]
  },
  {
   "cell_type": "code",
   "execution_count": 142,
   "id": "feb7860c",
   "metadata": {},
   "outputs": [
    {
     "name": "stdout",
     "output_type": "stream",
     "text": [
      "[[1 2 3]\n",
      " [4 5 6]\n",
      " [7 8 9]]\n",
      "1\n",
      "3\n",
      "5\n",
      "9\n"
     ]
    }
   ],
   "source": [
    "print(a2)\n",
    "print(a2[0, 0]) # 0번쨰 행의 0번째 열\n",
    "print(a2[0, 2]) # 0번째 행의 2번쨰 열\n",
    "print(a2[1, 1]) # 1번째 행의 1번째 열\n",
    "print(a2[2, -1]) # 2번째 행의 -1번째 열"
   ]
  },
  {
   "cell_type": "code",
   "execution_count": 143,
   "id": "434f6432",
   "metadata": {},
   "outputs": [
    {
     "name": "stdout",
     "output_type": "stream",
     "text": [
      "[4 5 6 4 5]\n",
      "[4 5]\n",
      "[4 5 6 4 5]\n",
      "[4]\n",
      "[4 6 5]\n",
      "[5 4 6 5 4]\n"
     ]
    }
   ],
   "source": [
    "print(a1)\n",
    "print(a1[0:2])\n",
    "print(a1[0:])\n",
    "print(a1[:1])\n",
    "print(a1[::2])\n",
    "print(a1[::-1])"
   ]
  },
  {
   "cell_type": "code",
   "execution_count": 146,
   "id": "f95b51f0",
   "metadata": {},
   "outputs": [
    {
     "name": "stdout",
     "output_type": "stream",
     "text": [
      "[[1 2 3]\n",
      " [4 5 6]\n",
      " [7 8 9]]\n",
      "\n",
      "[4 5 6]\n",
      "\n",
      "[4 5 6]\n",
      "\n",
      "[[1 2]\n",
      " [4 5]]\n",
      "\n",
      "[[6 5 4]\n",
      " [9 8 7]]\n",
      "\n",
      "[[9 8 7]\n",
      " [6 5 4]\n",
      " [3 2 1]]\n"
     ]
    }
   ],
   "source": [
    "print(a2)\n",
    "print()\n",
    "print(a2[1])\n",
    "print()\n",
    "print(a2[1, :])\n",
    "print()\n",
    "print(a2[:2, :2])\n",
    "print()\n",
    "print(a2[1:, ::-1])\n",
    "print()\n",
    "print(a2[::-1, ::-1])"
   ]
  },
  {
   "cell_type": "code",
   "execution_count": 147,
   "id": "6eea3b37",
   "metadata": {},
   "outputs": [
    {
     "name": "stdout",
     "output_type": "stream",
     "text": [
      "[4 5 6 4 5]\n",
      "[5 6 5]\n"
     ]
    }
   ],
   "source": [
    "# 불리언 인덱싱(Boolean Indexing)\n",
    "print(a1)\n",
    "bi = [False, True, True, False, True]\n",
    "print(a1[bi])"
   ]
  },
  {
   "cell_type": "code",
   "execution_count": 154,
   "id": "fd720717",
   "metadata": {},
   "outputs": [
    {
     "name": "stdout",
     "output_type": "stream",
     "text": [
      "[4 5 6 4 5]\n",
      "4 6\n",
      "[4 6]\n"
     ]
    }
   ],
   "source": [
    "# fancy indexing\n",
    "print(a1)\n",
    "print(a1[0], a1[2])\n",
    "ind = [0, 2]\n",
    "print(a1[ind])"
   ]
  },
  {
   "cell_type": "code",
   "execution_count": 155,
   "id": "b82255b4",
   "metadata": {
    "scrolled": true
   },
   "outputs": [
    {
     "ename": "IndexError",
     "evalue": "too many indices for array: array is 1-dimensional, but 2 were indexed",
     "output_type": "error",
     "traceback": [
      "\u001b[1;31m---------------------------------------------------------------------------\u001b[0m",
      "\u001b[1;31mIndexError\u001b[0m                                Traceback (most recent call last)",
      "Input \u001b[1;32mIn [155]\u001b[0m, in \u001b[0;36m<cell line: 1>\u001b[1;34m()\u001b[0m\n\u001b[1;32m----> 1\u001b[0m \u001b[43ma1\u001b[49m\u001b[43m[\u001b[49m\u001b[38;5;241;43m0\u001b[39;49m\u001b[43m,\u001b[49m\u001b[38;5;241;43m2\u001b[39;49m\u001b[43m]\u001b[49m\n",
      "\u001b[1;31mIndexError\u001b[0m: too many indices for array: array is 1-dimensional, but 2 were indexed"
     ]
    }
   ],
   "source": [
    "a1[0,2]"
   ]
  },
  {
   "cell_type": "markdown",
   "id": "43243768",
   "metadata": {},
   "source": [
    "이렇게 ind로 만들어야만 fancy indexing이 가능함. 그냥은 안 됨"
   ]
  },
  {
   "cell_type": "code",
   "execution_count": 165,
   "id": "40e41570",
   "metadata": {},
   "outputs": [
    {
     "name": "stdout",
     "output_type": "stream",
     "text": [
      "[[1 2 3]\n",
      " [4 5 6]\n",
      " [7 8 9]]\n",
      "\n",
      "\n",
      "row = np.array([0, 2])\n",
      "col = np.array([1, 2])\n",
      "\n",
      "a2[row, col]는 이렇게 됨!\n",
      "[2 9]\n",
      "\n",
      "a2[:, col]는 이렇게 됨!\n",
      "[[2 3]\n",
      " [5 6]\n",
      " [8 9]]\n",
      "\n",
      "a2[row,1]는 이렇게 됨!\n",
      "[2 8]\n",
      "\n",
      "a2[2, col]는 이렇게 됨!\n",
      "[8 9]\n",
      "\n",
      "a2[row, 1:]는 이렇게 됨!\n",
      "[[2 3]\n",
      " [8 9]]\n",
      "\n",
      "[[5 6]\n",
      " [8 9]]\n"
     ]
    }
   ],
   "source": [
    "print(a2)\n",
    "print()\n",
    "\n",
    "# 0번째에서 1, 2번째에서 2 (좌표로 이해해도 됨)\n",
    "\n",
    "row = np.array([0, 2])\n",
    "col = np.array([1, 2])\n",
    "\n",
    "print('''\n",
    "row = np.array([0, 2])\n",
    "col = np.array([1, 2])\n",
    "''')\n",
    "\n",
    "print('a2[row, col]는 이렇게 됨!')\n",
    "print(a2[row, col])\n",
    "print()\n",
    "\n",
    "print('a2[:, col]는 이렇게 됨!')\n",
    "print(a2[:, col])\n",
    "print()\n",
    "\n",
    "print('a2[row,1]는 이렇게 됨!')\n",
    "print(a2[row, 1])\n",
    "print()\n",
    "\n",
    "print('a2[2, col]는 이렇게 됨!')\n",
    "print(a2[2, col])\n",
    "print()\n",
    "\n",
    "print('a2[row, 1:]는 이렇게 됨!')\n",
    "print(a2[row, 1:])\n",
    "print()\n",
    "\n",
    "print('a2[1:, col]는 이렇게 됨!')\n",
    "print(a2[1:, col])"
   ]
  },
  {
   "cell_type": "code",
   "execution_count": 166,
   "id": "82f13d6b",
   "metadata": {},
   "outputs": [
    {
     "name": "stdout",
     "output_type": "stream",
     "text": [
      "[4 5 6 4 5]\n",
      "[10  4  5  6  4  5]\n",
      "[4 5 6 4 5]\n",
      "[ 4  5 10  6  4  5]\n"
     ]
    }
   ],
   "source": [
    "print(a1)\n",
    "b1 = np.insert(a1, 0, 10)\n",
    "print(b1)\n",
    "print(a1)\n",
    "c1 = np.insert(a1, 2, 10)\n",
    "print(c1)"
   ]
  },
  {
   "cell_type": "code",
   "execution_count": 170,
   "id": "22738147",
   "metadata": {},
   "outputs": [
    {
     "name": "stdout",
     "output_type": "stream",
     "text": [
      "[[1 2 3]\n",
      " [4 5 6]\n",
      " [7 8 9]]\n",
      "b2는 1번째 행에 10을 추가함 / axis=0\n",
      "[[ 1  2  3]\n",
      " [10 10 10]\n",
      " [ 4  5  6]\n",
      " [ 7  8  9]]\n",
      "c2는 1번째 열에 10을 추가함 / axis=1\n",
      "[[ 1 10  2  3]\n",
      " [ 4 10  5  6]\n",
      " [ 7 10  8  9]]\n"
     ]
    }
   ],
   "source": [
    "# 2차원에서 insert로 값을 추가함\n",
    "\n",
    "print(a2)\n",
    "print(\"b2는 1번째 행에 10을 추가함 / axis=0\")\n",
    "b2 = np.insert(a2, 1, 10, axis=0)\n",
    "print(b2)\n",
    "print('c2는 1번째 열에 10을 추가함 / axis=1')\n",
    "c2 = np.insert(a2, 1, 10, axis=1)\n",
    "print(c2)"
   ]
  },
  {
   "cell_type": "code",
   "execution_count": 172,
   "id": "4b0b3855",
   "metadata": {},
   "outputs": [
    {
     "data": {
      "text/plain": [
       "array([[ 1,  2,  3, 10],\n",
       "       [ 4,  5,  6, 10],\n",
       "       [ 7,  8,  9, 10]])"
      ]
     },
     "execution_count": 172,
     "metadata": {},
     "output_type": "execute_result"
    }
   ],
   "source": [
    "np.insert(a2, 3, 10, axis=1)"
   ]
  },
  {
   "cell_type": "code",
   "execution_count": null,
   "id": "d6dcb581",
   "metadata": {},
   "outputs": [],
   "source": []
  }
 ],
 "metadata": {
  "kernelspec": {
   "display_name": "Python 3 (ipykernel)",
   "language": "python",
   "name": "python3"
  },
  "language_info": {
   "codemirror_mode": {
    "name": "ipython",
    "version": 3
   },
   "file_extension": ".py",
   "mimetype": "text/x-python",
   "name": "python",
   "nbconvert_exporter": "python",
   "pygments_lexer": "ipython3",
   "version": "3.9.12"
  }
 },
 "nbformat": 4,
 "nbformat_minor": 5
}
