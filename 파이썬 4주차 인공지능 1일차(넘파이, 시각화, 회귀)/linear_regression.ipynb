{
 "cells": [
  {
   "cell_type": "code",
   "execution_count": 11,
   "id": "9d173b33",
   "metadata": {},
   "outputs": [],
   "source": [
    "import numpy as np"
   ]
  },
  {
   "cell_type": "code",
   "execution_count": 12,
   "id": "99fa5562",
   "metadata": {},
   "outputs": [],
   "source": [
    "x = np.array([1,2,3,4,5,6,7,8])\n",
    "y = np.array([3,5,7,9,11,13,15,17])"
   ]
  },
  {
   "cell_type": "code",
   "execution_count": 13,
   "id": "7ebf0d88",
   "metadata": {},
   "outputs": [],
   "source": [
    "#y = ax+b \n",
    "a=0\n",
    "b=0"
   ]
  },
  {
   "cell_type": "code",
   "execution_count": 14,
   "id": "a04b99ad",
   "metadata": {},
   "outputs": [],
   "source": [
    "num = len(x)\n",
    "loop = 30000\n",
    "learning_rate = 0.01 # 0.05 하면 발산함 "
   ]
  },
  {
   "cell_type": "code",
   "execution_count": 15,
   "id": "c832ac23",
   "metadata": {},
   "outputs": [
    {
     "name": "stdout",
     "output_type": "stream",
     "text": [
      "2.000000000000004\n",
      "0.9999999999999796\n"
     ]
    }
   ],
   "source": [
    "#loss function = 시그마 ( (ax+b-y)^2 ) \n",
    "for i in range(loop):\n",
    "    gradient_a = np.sum(2 * ( a*x + b - y ) * x) / num #a관점 미분\n",
    "    gradient_b = np.sum(2 * ( a*x + b - y ) ) / num #b관점 미분\n",
    "\n",
    "    a -= learning_rate * gradient_a\n",
    "    b -= learning_rate * gradient_b\n",
    "\n",
    "\n",
    "print(a)\n",
    "print(b)"
   ]
  },
  {
   "cell_type": "code",
   "execution_count": null,
   "id": "0ff656da",
   "metadata": {},
   "outputs": [],
   "source": []
  }
 ],
 "metadata": {
  "kernelspec": {
   "display_name": "Python 3 (ipykernel)",
   "language": "python",
   "name": "python3"
  },
  "language_info": {
   "codemirror_mode": {
    "name": "ipython",
    "version": 3
   },
   "file_extension": ".py",
   "mimetype": "text/x-python",
   "name": "python",
   "nbconvert_exporter": "python",
   "pygments_lexer": "ipython3",
   "version": "3.9.12"
  }
 },
 "nbformat": 4,
 "nbformat_minor": 5
}
