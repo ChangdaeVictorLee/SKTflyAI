{
 "cells": [
  {
   "cell_type": "code",
   "execution_count": null,
   "id": "cda57f4e",
   "metadata": {},
   "outputs": [],
   "source": [
    "!pip install gtts playsound"
   ]
  },
  {
   "cell_type": "code",
   "execution_count": null,
   "id": "b1638501",
   "metadata": {
    "scrolled": false
   },
   "outputs": [],
   "source": [
    "from gtts import gTTS\n",
    "import playsound\n",
    "\n",
    "news = '''한국조폐공사는 손흥민의 영국 프로축구 프리미어리그(EPL) 골든부트(득점왕) 수상 기념 메달을 다음 달 출시한다고 19일 밝혔다.\n",
    "조폐공사는 지난해 출시한 손흥민 기념 메달과는 차별화해, 골든부트를 상징하는 요소를 디자인에 담을 계획이다.\n",
    "판매수익금 일부는 국내 유소년 축구 발전에 쓰인다.\n",
    "반장식 조폐공사 사장은 \"대한민국을 알리고 역사를 기념하는 것이 조폐공사의 사명감\"이라며 \"득점왕에 걸맞은 디자인과 기술력을 통해 그 가치를 담도록 노력하겠다\"고 말했다.\n",
    "손흥민은 2021∼2022시즌 EPL에서 아시아 선수 최초로 득점왕에 올랐다.\n",
    "'''\n",
    "\n",
    "tts=gTTS(text=news, lang='ko')\n",
    "tts.save(\"news.mp3\")\n",
    "playsound.playsound(\"news.mp3\", True)\n"
   ]
  },
  {
   "cell_type": "code",
   "execution_count": 1,
   "id": "3e198be4",
   "metadata": {
    "scrolled": true
   },
   "outputs": [
    {
     "name": "stdout",
     "output_type": "stream",
     "text": [
      "날짜를 입력해주세요 XXXX-XX-XX: 2022-05-05\n",
      "[*********************100%***********************]  1 of 1 completed\n",
      "애플의 시초가는163.9달러입니다\n",
      "애플의 종가는156.8달러입니다\n",
      "애플의 거래량은130525300건입니다\n"
     ]
    }
   ],
   "source": [
    "import yfinance as yf\n",
    "from gtts import gTTS\n",
    "import playsound\n",
    "\n",
    "# 애플 주가 읽어주는 어플\n",
    "day =input('날짜를 입력해주세요 XXXX-XX-XX: ')\n",
    "\n",
    "try:\n",
    "    aapl = yf.download('AAPL', start = day)\n",
    "\n",
    "    temp = aapl[aapl.index == day]\n",
    "\n",
    "    str1 = '애플의 시초가는'+ str(round(temp['Open'][0],1)) + '달러입니다'\n",
    "    str2 = '애플의 종가는'+ str(round(temp['Close'][0],1)) + '달러입니다'\n",
    "    str3 = '애플의 거래량은'+ str(temp['Volume'][0]) + '건입니다'\n",
    "\n",
    "    str = str1+ '\\n' + str2 +'\\n' + str3\n",
    "    print(str)\n",
    "    \n",
    "    tts=gTTS(text=str, lang='ko')\n",
    "    tts.save(\"aapl.mp3\")\n",
    "except:\n",
    "    print('날짜를 잘못 입력했습니다. 날짜 입력을 확인해주세요')\n",
    "    print('장이 안 여는 날을 입력시 에러가 발생합니다.')"
   ]
  },
  {
   "cell_type": "code",
   "execution_count": null,
   "id": "3a6f7beb",
   "metadata": {},
   "outputs": [],
   "source": []
  }
 ],
 "metadata": {
  "kernelspec": {
   "display_name": "Python 3 (ipykernel)",
   "language": "python",
   "name": "python3"
  },
  "language_info": {
   "codemirror_mode": {
    "name": "ipython",
    "version": 3
   },
   "file_extension": ".py",
   "mimetype": "text/x-python",
   "name": "python",
   "nbconvert_exporter": "python",
   "pygments_lexer": "ipython3",
   "version": "3.9.12"
  }
 },
 "nbformat": 4,
 "nbformat_minor": 5
}
