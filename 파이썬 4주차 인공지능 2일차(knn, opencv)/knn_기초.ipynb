{
 "cells": [
  {
   "cell_type": "code",
   "execution_count": 9,
   "id": "8620b88f",
   "metadata": {},
   "outputs": [
    {
     "data": {
      "text/plain": [
       "array([[32, 89],\n",
       "       [57, 13],\n",
       "       [ 8,  8],\n",
       "       [39,  1],\n",
       "       [59, 55],\n",
       "       [29, 60],\n",
       "       [33, 11],\n",
       "       [73, 83],\n",
       "       [64,  9],\n",
       "       [78, 20],\n",
       "       [25, 71],\n",
       "       [31, 48],\n",
       "       [59,  8],\n",
       "       [45, 85],\n",
       "       [30, 23],\n",
       "       [76, 49],\n",
       "       [74, 22],\n",
       "       [39, 85],\n",
       "       [59, 55],\n",
       "       [35, 72],\n",
       "       [ 4, 26],\n",
       "       [59, 20],\n",
       "       [96, 60],\n",
       "       [93, 54],\n",
       "       [ 3, 66]])"
      ]
     },
     "execution_count": 9,
     "metadata": {},
     "output_type": "execute_result"
    }
   ],
   "source": [
    "np.random.randint(0, 100, (25,2))"
   ]
  },
  {
   "cell_type": "code",
   "execution_count": 10,
   "id": "e3c25ae7",
   "metadata": {},
   "outputs": [
    {
     "data": {
      "text/plain": [
       "array([[98],\n",
       "       [81],\n",
       "       [13],\n",
       "       [76],\n",
       "       [62],\n",
       "       [80],\n",
       "       [92],\n",
       "       [65],\n",
       "       [67],\n",
       "       [33],\n",
       "       [80],\n",
       "       [65],\n",
       "       [86],\n",
       "       [46],\n",
       "       [43],\n",
       "       [87],\n",
       "       [40],\n",
       "       [52],\n",
       "       [13],\n",
       "       [24],\n",
       "       [ 3],\n",
       "       [60],\n",
       "       [34],\n",
       "       [90],\n",
       "       [93]])"
      ]
     },
     "execution_count": 10,
     "metadata": {},
     "output_type": "execute_result"
    }
   ],
   "source": [
    "np.random.randint(0, 100, (25,1))"
   ]
  },
  {
   "cell_type": "code",
   "execution_count": 11,
   "id": "7a47d587",
   "metadata": {},
   "outputs": [
    {
     "data": {
      "text/plain": [
       "array([[ 6., 84.],\n",
       "       [90., 66.],\n",
       "       [18., 97.],\n",
       "       [96., 20.],\n",
       "       [53., 40.],\n",
       "       [83.,  7.],\n",
       "       [48., 26.],\n",
       "       [97., 94.],\n",
       "       [83., 22.],\n",
       "       [ 6., 20.],\n",
       "       [ 7., 91.],\n",
       "       [73.,  5.],\n",
       "       [ 2., 38.],\n",
       "       [72., 24.],\n",
       "       [48., 31.],\n",
       "       [ 3., 91.],\n",
       "       [47.,  2.],\n",
       "       [ 7., 75.],\n",
       "       [63., 16.],\n",
       "       [12., 44.],\n",
       "       [83., 67.],\n",
       "       [98., 78.],\n",
       "       [98., 90.],\n",
       "       [95., 10.],\n",
       "       [ 6., 48.]], dtype=float32)"
      ]
     },
     "execution_count": 11,
     "metadata": {},
     "output_type": "execute_result"
    }
   ],
   "source": [
    "trainData"
   ]
  },
  {
   "cell_type": "code",
   "execution_count": 12,
   "id": "4ac074b4",
   "metadata": {},
   "outputs": [
    {
     "data": {
      "text/plain": [
       "array([[97., 94.],\n",
       "       [ 7., 91.],\n",
       "       [73.,  5.],\n",
       "       [ 2., 38.],\n",
       "       [72., 24.],\n",
       "       [47.,  2.],\n",
       "       [ 7., 75.],\n",
       "       [63., 16.],\n",
       "       [98., 78.],\n",
       "       [98., 90.]], dtype=float32)"
      ]
     },
     "execution_count": 12,
     "metadata": {},
     "output_type": "execute_result"
    }
   ],
   "source": [
    "red"
   ]
  },
  {
   "cell_type": "code",
   "execution_count": 16,
   "id": "8d6bf249",
   "metadata": {
    "scrolled": true
   },
   "outputs": [
    {
     "data": {
      "text/plain": [
       "array([1., 1., 1., 1., 1., 1., 1., 0., 1., 1., 0., 0., 0., 0., 1., 1., 0.,\n",
       "       0., 0., 1., 1., 0., 0., 1., 1.], dtype=float32)"
      ]
     },
     "execution_count": 16,
     "metadata": {},
     "output_type": "execute_result"
    }
   ],
   "source": [
    "response.ravel(order='k')"
   ]
  },
  {
   "cell_type": "code",
   "execution_count": 18,
   "id": "0b325be4",
   "metadata": {},
   "outputs": [
    {
     "data": {
      "text/plain": [
       "array([[1.],\n",
       "       [1.],\n",
       "       [1.],\n",
       "       [1.],\n",
       "       [1.],\n",
       "       [1.],\n",
       "       [1.],\n",
       "       [0.],\n",
       "       [1.],\n",
       "       [1.],\n",
       "       [0.],\n",
       "       [0.],\n",
       "       [0.],\n",
       "       [0.],\n",
       "       [1.],\n",
       "       [1.],\n",
       "       [0.],\n",
       "       [0.],\n",
       "       [0.],\n",
       "       [1.],\n",
       "       [1.],\n",
       "       [0.],\n",
       "       [0.],\n",
       "       [1.],\n",
       "       [1.]], dtype=float32)"
      ]
     },
     "execution_count": 18,
     "metadata": {},
     "output_type": "execute_result"
    }
   ],
   "source": [
    "response"
   ]
  },
  {
   "cell_type": "code",
   "execution_count": 17,
   "id": "cc2cc2b8",
   "metadata": {},
   "outputs": [
    {
     "data": {
      "text/plain": [
       "array([1., 1., 1., 1., 1., 1., 1., 0., 1., 1., 0., 0., 0., 0., 1., 1., 0.,\n",
       "       0., 0., 1., 1., 0., 0., 1., 1.], dtype=float32)"
      ]
     },
     "execution_count": 17,
     "metadata": {},
     "output_type": "execute_result"
    }
   ],
   "source": [
    "np.ravel(response)"
   ]
  },
  {
   "cell_type": "code",
   "execution_count": null,
   "id": "10af6bce",
   "metadata": {},
   "outputs": [],
   "source": [
    "# 옵션 'C'\n",
    "np.ravel(x, order='C') # default 값\n",
    "...:\n",
    "# Out: array([ 0, 1, 2, 3, 4, 5, 6, 7, 8, 9, 10, 11])\n",
    "\n",
    "# 옵션 'K'\n",
    "np.ravel(x, order='K')\n",
    "...:\n",
    "# Out: array([ 0, 1, 2, 3, 4, 5, 6, 7, 8, 9, 10, 11])\n",
    "\n",
    "# 옵션 'F'\n",
    "np.ravel(x, order='F')\n",
    "...:\n",
    "# Out: array([ 0, 4, 8, 1, 5, 9, 2, 6, 10, 3, 7, 11])"
   ]
  },
  {
   "cell_type": "markdown",
   "id": "6f9da1ac",
   "metadata": {},
   "source": [
    "# 완성본"
   ]
  },
  {
   "cell_type": "code",
   "execution_count": 30,
   "id": "3b77f308",
   "metadata": {
    "scrolled": true
   },
   "outputs": [
    {
     "name": "stdout",
     "output_type": "stream",
     "text": [
      "result :  [[0.]]\n",
      "neighbours : [[0. 0. 0.]]\n",
      "distance:  [[  1. 180. 250.]]\n"
     ]
    },
    {
     "data": {
      "image/png": "[encoded data removed]",
      "text/plain": [
       "<Figure size 432x288 with 1 Axes>"
      ]
     },
     "metadata": {
      "needs_background": "light"
     },
     "output_type": "display_data"
    }
   ],
   "source": [
    "import cv2\n",
    "import numpy as np\n",
    "from matplotlib import pyplot as plt\n",
    "\n",
    "# 각 데이터의 위치: 25 X 2 크기에 각각 0 ~ 100\n",
    "trainData = np.random.randint(0, 100, (25, 2)).astype(np.float32)\n",
    "# (ㅁ,ㅁ)가 25개로 구성된 array 만들기\n",
    "# 각 데이터는 0 or 1\n",
    "response = np.random.randint(0, 2, (25, 1)).astype(np.float32)\n",
    "# (ㅁ,)가 25개로 구성된 array 만들기\n",
    "\n",
    "# 값이 0인 데이터를 각각 화면 (x, y) 위치에 빨간색으로 칠합니다.\n",
    "red = trainData[response.ravel() == 0] \n",
    "\n",
    "'''ravel은 차원을 낮춤 / 기존의 (25,1)에서 (25,)로 낮춤\n",
    "이렇게 낮춘거를 0인 값을 True로 하는 masking을 맞추고 이를 traindData에 씌운 것\n",
    "즉 response에서 0인 값의 index와 동일한 trainData의 값은 red로 나머지는 blue로 만듦'''\n",
    "\n",
    "plt.scatter(red[:, 0], red[:, 1], 80, 'r', '^')\n",
    "# 값이 1인 데이터를 각각 화면 (x, y) 위치에 파란색으로 칠합니다.\n",
    "blue = trainData[response.ravel() == 1]\n",
    "plt.scatter(blue[:, 0], blue[:, 1], 80, 'b', 's')\n",
    "\n",
    "# (0 ~ 100, 0 ~ 100) 위치의 데이터를 하나 생성해 칠합니다.\n",
    "newcomer = np.random.randint(0, 100, (1, 2)).astype(np.float32)\n",
    "plt.scatter(newcomer[:, 0], newcomer[:, 1], 80, 'g', 'o')\n",
    "\n",
    "# 여기서 red 는 0, blue 는 1임\n",
    "\n",
    "knn = cv2.ml.KNearest_create() # 오픈cv에 있는 ml모델중 knn을 가져옴\n",
    "knn.train(trainData, cv2.ml.ROW_SAMPLE, response)\n",
    "# cv2.ml.ROW_SAMPLE : 배열의 길이을 전체 길이 1로 간주한다는 것\n",
    "\n",
    "ret, results, neighbours, dist = knn.findNearest(newcomer, 3)\n",
    "\n",
    "# 가까운 3개를 찾고, 거리를 고려하여 자신을 정합니다.\n",
    "print(\"result : \", results)\n",
    "print(\"neighbours :\", neighbours)\n",
    "print(\"distance: \", dist)\n",
    "plt.show()\n"
   ]
  },
  {
   "cell_type": "code",
   "execution_count": null,
   "id": "49e718eb",
   "metadata": {},
   "outputs": [],
   "source": []
  },
  {
   "cell_type": "code",
   "execution_count": null,
   "id": "2e6579c3",
   "metadata": {},
   "outputs": [],
   "source": []
  }
 ],
 "metadata": {
  "kernelspec": {
   "display_name": "Python 3 (ipykernel)",
   "language": "python",
   "name": "python3"
  },
  "language_info": {
   "codemirror_mode": {
    "name": "ipython",
    "version": 3
   },
   "file_extension": ".py",
   "mimetype": "text/x-python",
   "name": "python",
   "nbconvert_exporter": "python",
   "pygments_lexer": "ipython3",
   "version": "3.9.12"
  }
 },
 "nbformat": 4,
 "nbformat_minor": 5
}
