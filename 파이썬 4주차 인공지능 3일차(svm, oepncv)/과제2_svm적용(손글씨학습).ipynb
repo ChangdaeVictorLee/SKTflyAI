{
 "cells": [
  {
   "cell_type": "code",
   "execution_count": 1,
   "id": "3ffffe8d",
   "metadata": {},
   "outputs": [
    {
     "name": "stdout",
     "output_type": "stream",
     "text": [
      "(50, 100, 20, 20)\n",
      "(5000, 400)\n",
      "(5000, 1)\n"
     ]
    }
   ],
   "source": [
    "import cv2\n",
    "import numpy as np\n",
    "import matplotlib.pyplot as plt\n",
    "import glob\n",
    "\n",
    "img = cv2.imread('digits.png')\n",
    "gray = cv2.cvtColor(img, cv2.COLOR_BGR2GRAY)\n",
    "\n",
    "'''\n",
    "0이 500개, 1이 500개, ..., 10이 500개\n",
    "총 5000개의 글자가 있음\n",
    "\n",
    "0은 가로 5 x 세로 100을 차지하고 있음\n",
    "픽셀로 따지면 가로는 0~100픽셀, 세로는 0~2000픽셀\n",
    "'''\n",
    "\n",
    "# 세로로 50줄, 가로로 100줄로 사진을 나눕니다.\n",
    "cells = [np.hsplit(row, 100) for row in np.vsplit(gray, 50)]\n",
    "x = np.array(cells)\n",
    "print(x.shape)\n",
    "\n",
    "# 각 (20 X 20) 크기의 사진을 한 줄(1 X 400)으로 바꿉니다.\n",
    "train = x[:, :].reshape(-1, 400).astype(np.float32)\n",
    "print(train.shape)\n",
    "\n",
    "# 0이 500개, 1이 500개, ... 로 총 5,000개가 들어가는 (1 x 5000) 배열을 만듭니다.\n",
    "k = np.arange(10)\n",
    "train_labels = np.repeat(k, 500)[:, np.newaxis]\n",
    "print(train_labels.shape)\n",
    "\n",
    "\n"
   ]
  },
  {
   "cell_type": "code",
   "execution_count": 2,
   "id": "aed34845",
   "metadata": {},
   "outputs": [
    {
     "data": {
      "text/plain": [
       "(5000, 5000)"
      ]
     },
     "execution_count": 2,
     "metadata": {},
     "output_type": "execute_result"
    }
   ],
   "source": [
    "len(train), len(train_labels)"
   ]
  },
  {
   "cell_type": "code",
   "execution_count": 3,
   "id": "5c959ce9",
   "metadata": {},
   "outputs": [],
   "source": [
    "from sklearn.model_selection import train_test_split\n",
    "from sklearn.svm import SVC\n",
    "import numpy as np"
   ]
  },
  {
   "cell_type": "code",
   "execution_count": 4,
   "id": "356c92db",
   "metadata": {},
   "outputs": [],
   "source": [
    "X_train, X_test, y_train, y_test = train_test_split(train, train_labels, test_size=0.3)"
   ]
  },
  {
   "cell_type": "code",
   "execution_count": 5,
   "id": "0c6d3207",
   "metadata": {},
   "outputs": [
    {
     "data": {
      "text/plain": [
       "(3500, 400)"
      ]
     },
     "execution_count": 5,
     "metadata": {},
     "output_type": "execute_result"
    }
   ],
   "source": [
    "X_train.shape"
   ]
  },
  {
   "cell_type": "code",
   "execution_count": 6,
   "id": "6195504c",
   "metadata": {},
   "outputs": [
    {
     "data": {
      "text/plain": [
       "(1500, 400)"
      ]
     },
     "execution_count": 6,
     "metadata": {},
     "output_type": "execute_result"
    }
   ],
   "source": [
    "X_test.shape"
   ]
  },
  {
   "cell_type": "code",
   "execution_count": 7,
   "id": "1838b1ee",
   "metadata": {},
   "outputs": [
    {
     "data": {
      "text/plain": [
       "(3500, 1)"
      ]
     },
     "execution_count": 7,
     "metadata": {},
     "output_type": "execute_result"
    }
   ],
   "source": [
    "y_train.shape"
   ]
  },
  {
   "cell_type": "code",
   "execution_count": 8,
   "id": "7a79122e",
   "metadata": {},
   "outputs": [
    {
     "data": {
      "text/plain": [
       "(1500, 1)"
      ]
     },
     "execution_count": 8,
     "metadata": {},
     "output_type": "execute_result"
    }
   ],
   "source": [
    "y_test.shape"
   ]
  },
  {
   "cell_type": "code",
   "execution_count": 9,
   "id": "b8a660c0",
   "metadata": {},
   "outputs": [
    {
     "data": {
      "text/plain": [
       "(1500,)"
      ]
     },
     "execution_count": 9,
     "metadata": {},
     "output_type": "execute_result"
    }
   ],
   "source": [
    "y_test = y_test.ravel()\n",
    "y_test.shape"
   ]
  },
  {
   "cell_type": "code",
   "execution_count": 10,
   "id": "ca64e6cc",
   "metadata": {},
   "outputs": [
    {
     "data": {
      "text/plain": [
       "(3500,)"
      ]
     },
     "execution_count": 10,
     "metadata": {},
     "output_type": "execute_result"
    }
   ],
   "source": [
    "y_train = y_train.ravel()\n",
    "y_train.shape"
   ]
  },
  {
   "cell_type": "markdown",
   "id": "0d422424",
   "metadata": {},
   "source": [
    "### SVM 정확도"
   ]
  },
  {
   "cell_type": "code",
   "execution_count": 37,
   "id": "bde775b7",
   "metadata": {},
   "outputs": [
    {
     "name": "stdout",
     "output_type": "stream",
     "text": [
      "0.088\n"
     ]
    }
   ],
   "source": [
    "svm = SVC(C=1.0, gamma=0.1)\n",
    "model = svm.fit(X_train, y_train)\n",
    "\n",
    "score = model.score(X_test, y_test)\n",
    "print(round(score,3))"
   ]
  },
  {
   "cell_type": "markdown",
   "id": "f2d60e2b",
   "metadata": {},
   "source": [
    "https://yeoulcoding.me/106\n",
    "\n",
    "SVM 같은 경우에는 feature scale에 민감하게 영향을 받음. 스케일이 작은 특성이 완전히 무시됨. 그래서 8%라는 값이 나온듯\n",
    "\n",
    "standard scaler 사용해보자"
   ]
  },
  {
   "cell_type": "code",
   "execution_count": 47,
   "id": "df6f4f90",
   "metadata": {},
   "outputs": [
    {
     "data": {
      "text/plain": [
       "(5000, 5000)"
      ]
     },
     "execution_count": 47,
     "metadata": {},
     "output_type": "execute_result"
    }
   ],
   "source": [
    "len(train), len(train_labels)"
   ]
  },
  {
   "cell_type": "code",
   "execution_count": 48,
   "id": "42e957cd",
   "metadata": {},
   "outputs": [],
   "source": [
    "from sklearn.preprocessing import StandardScaler\n",
    "from sklearn.svm import SVC\n",
    "from sklearn.model_selection import train_test_split\n",
    "\n",
    "X_train, X_test, y_train, y_test = train_test_split(train, train_labels, test_size=0.3)\n",
    "\n",
    "scaler = StandardScaler()\n",
    "\n",
    "X_train_scaled = scaler.fit_transform(X_train.astype(np.float32))\n",
    "X_test_scaled = scaler.fit_transform(X_test.astype(np.float32))"
   ]
  },
  {
   "cell_type": "code",
   "execution_count": 49,
   "id": "948bdab6",
   "metadata": {},
   "outputs": [
    {
     "data": {
      "text/plain": [
       "(1500,)"
      ]
     },
     "execution_count": 49,
     "metadata": {},
     "output_type": "execute_result"
    }
   ],
   "source": [
    "y_test = y_test.ravel()\n",
    "y_test.shape"
   ]
  },
  {
   "cell_type": "code",
   "execution_count": 50,
   "id": "8d865d5c",
   "metadata": {},
   "outputs": [
    {
     "data": {
      "text/plain": [
       "(3500,)"
      ]
     },
     "execution_count": 50,
     "metadata": {},
     "output_type": "execute_result"
    }
   ],
   "source": [
    "y_train = y_train.ravel()\n",
    "y_train.shape"
   ]
  },
  {
   "cell_type": "code",
   "execution_count": 51,
   "id": "ca804178",
   "metadata": {},
   "outputs": [
    {
     "name": "stdout",
     "output_type": "stream",
     "text": [
      "0.183\n"
     ]
    }
   ],
   "source": [
    "svm = SVC(C=1.0, gamma=0.1)\n",
    "model = svm.fit(X_train_scaled, y_train)\n",
    "\n",
    "score = model.score(X_test_scaled, y_test)\n",
    "print(round(score,3))"
   ]
  },
  {
   "cell_type": "markdown",
   "id": "bd669174",
   "metadata": {},
   "source": [
    "https://stackoverflow.com/questions/45384185/what-is-the-difference-between-linearsvc-and-svckernel-linear\n",
    "\n",
    "LinearSVC랑 SVC의 차이점"
   ]
  },
  {
   "cell_type": "code",
   "execution_count": 57,
   "id": "21c45b7d",
   "metadata": {},
   "outputs": [
    {
     "name": "stdout",
     "output_type": "stream",
     "text": [
      "0.872\n"
     ]
    }
   ],
   "source": [
    "from sklearn.svm import LinearSVC\n",
    "\n",
    "lin_clf = LinearSVC(C = 0.1, max_iter = 100000, random_state=42)\n",
    "lin_clf.fit(X_train_scaled, y_train)\n",
    "\n",
    "score = lin_clf.score(X_test_scaled, y_test)\n",
    "\n",
    "print(round(score,3))"
   ]
  },
  {
   "cell_type": "markdown",
   "id": "00753e4e",
   "metadata": {},
   "source": []
  },
  {
   "attachments": {
    "image.png": {
     "image/png": "[encoded data removed]"
    }
   },
   "cell_type": "markdown",
   "id": "09d0df75",
   "metadata": {},
   "source": [
    "![image.png](attachment:image.png)"
   ]
  },
  {
   "cell_type": "markdown",
   "id": "38882497",
   "metadata": {},
   "source": [
    "https://blog.naver.com/PostView.nhn?isHttpsRedirect=true&blogId=gdpresent&logNo=221717231990&parentCategoryNo=&categoryNo=61&viewDate=&isShowPopularPosts=false&from=postView\n",
    "\n",
    "이 에러가 뜨면 max iter을 증가시켜보자"
   ]
  },
  {
   "cell_type": "code",
   "execution_count": 44,
   "id": "32ab79fa",
   "metadata": {},
   "outputs": [
    {
     "data": {
      "text/plain": [
       "array([5, 1, 8, 8, 1, 2, 0, 1, 2, 3, 6, 6, 7, 3, 4, 0, 6, 8, 0, 1])"
      ]
     },
     "execution_count": 44,
     "metadata": {},
     "output_type": "execute_result"
    }
   ],
   "source": [
    "y_pred[:100]"
   ]
  },
  {
   "cell_type": "code",
   "execution_count": 45,
   "id": "1a07835c",
   "metadata": {},
   "outputs": [
    {
     "data": {
      "text/plain": [
       "array([1, 3, 1, 1, 3, 9, 5, 3, 6, 1, 0, 8, 1, 1, 9, 0, 5, 5, 3, 7])"
      ]
     },
     "execution_count": 45,
     "metadata": {},
     "output_type": "execute_result"
    }
   ],
   "source": [
    "y_test[:100]"
   ]
  },
  {
   "cell_type": "markdown",
   "id": "a220e362",
   "metadata": {},
   "source": [
    "### 트리 정확도"
   ]
  },
  {
   "cell_type": "code",
   "execution_count": 18,
   "id": "48cf71d1",
   "metadata": {},
   "outputs": [
    {
     "name": "stdout",
     "output_type": "stream",
     "text": [
      "0.799\n"
     ]
    }
   ],
   "source": [
    "from sklearn import tree\n",
    "dt = tree.DecisionTreeClassifier()\n",
    "tree = dt.fit(X_train, y_train)\n",
    "score = tree.score(X_test, y_test)\n",
    "print(round(score,3))"
   ]
  },
  {
   "cell_type": "markdown",
   "id": "6cd085e8",
   "metadata": {},
   "source": [
    "### knn 정확도"
   ]
  },
  {
   "cell_type": "code",
   "execution_count": 19,
   "id": "efd8211f",
   "metadata": {},
   "outputs": [
    {
     "name": "stdout",
     "output_type": "stream",
     "text": [
      "0.943\n"
     ]
    }
   ],
   "source": [
    "# n=1\n",
    "from sklearn.neighbors import KNeighborsClassifier\n",
    "neigh = KNeighborsClassifier(n_neighbors=1)\n",
    "\n",
    "neigh.fit(X_train, y_train)\n",
    "\n",
    "score = neigh.score(X_test, y_test)\n",
    "print(round(score,3))"
   ]
  },
  {
   "cell_type": "code",
   "execution_count": 20,
   "id": "e2e25ed5",
   "metadata": {},
   "outputs": [
    {
     "name": "stdout",
     "output_type": "stream",
     "text": [
      "0.933\n"
     ]
    }
   ],
   "source": [
    "# n=2\n",
    "from sklearn.neighbors import KNeighborsClassifier\n",
    "neigh = KNeighborsClassifier(n_neighbors=2)\n",
    "\n",
    "neigh.fit(X_train, y_train)\n",
    "\n",
    "score = neigh.score(X_test, y_test)\n",
    "print(round(score,3))"
   ]
  },
  {
   "cell_type": "code",
   "execution_count": 21,
   "id": "2fa64913",
   "metadata": {},
   "outputs": [
    {
     "name": "stdout",
     "output_type": "stream",
     "text": [
      "0.94\n"
     ]
    }
   ],
   "source": [
    "# n =3\n",
    "from sklearn.neighbors import KNeighborsClassifier\n",
    "neigh = KNeighborsClassifier(n_neighbors=3)\n",
    "\n",
    "neigh.fit(X_train, y_train)\n",
    "\n",
    "score = neigh.score(X_test, y_test)\n",
    "print(round(score,3))"
   ]
  },
  {
   "cell_type": "code",
   "execution_count": 22,
   "id": "788ad1c1",
   "metadata": {},
   "outputs": [
    {
     "name": "stdout",
     "output_type": "stream",
     "text": [
      "0.94\n"
     ]
    }
   ],
   "source": [
    "# n =4\n",
    "from sklearn.neighbors import KNeighborsClassifier\n",
    "neigh = KNeighborsClassifier(n_neighbors=4)\n",
    "\n",
    "neigh.fit(X_train, y_train)\n",
    "\n",
    "score = neigh.score(X_test, y_test)\n",
    "print(round(score,3))"
   ]
  },
  {
   "cell_type": "code",
   "execution_count": 23,
   "id": "75aeaa4a",
   "metadata": {},
   "outputs": [
    {
     "name": "stdout",
     "output_type": "stream",
     "text": [
      "0.942\n"
     ]
    }
   ],
   "source": [
    "# n =5\n",
    "from sklearn.neighbors import KNeighborsClassifier\n",
    "neigh = KNeighborsClassifier(n_neighbors=5)\n",
    "\n",
    "neigh.fit(X_train, y_train)\n",
    "\n",
    "score = neigh.score(X_test, y_test)\n",
    "print(round(score,3))"
   ]
  },
  {
   "cell_type": "markdown",
   "id": "3589f80c",
   "metadata": {},
   "source": [
    "### 로지스틱 회귀"
   ]
  },
  {
   "cell_type": "code",
   "execution_count": 24,
   "id": "c2d17f23",
   "metadata": {},
   "outputs": [
    {
     "name": "stdout",
     "output_type": "stream",
     "text": [
      "0.873\n"
     ]
    },
    {
     "name": "stderr",
     "output_type": "stream",
     "text": [
      "C:\\Users\\019\\anaconda3\\lib\\site-packages\\sklearn\\linear_model\\_logistic.py:814: ConvergenceWarning: lbfgs failed to converge (status=1):\n",
      "STOP: TOTAL NO. of ITERATIONS REACHED LIMIT.\n",
      "\n",
      "Increase the number of iterations (max_iter) or scale the data as shown in:\n",
      "    https://scikit-learn.org/stable/modules/preprocessing.html\n",
      "Please also refer to the documentation for alternative solver options:\n",
      "    https://scikit-learn.org/stable/modules/linear_model.html#logistic-regression\n",
      "  n_iter_i = _check_optimize_result(\n"
     ]
    }
   ],
   "source": [
    "from sklearn.linear_model import LogisticRegression\n",
    "\n",
    "model = LogisticRegression()\n",
    "LR = model.fit(X_train, y_train)\n",
    "\n",
    "score = LR.score(X_test, y_test)\n",
    "print(round(score,3))"
   ]
  }
 ],
 "metadata": {
  "kernelspec": {
   "display_name": "Python 3 (ipykernel)",
   "language": "python",
   "name": "python3"
  },
  "language_info": {
   "codemirror_mode": {
    "name": "ipython",
    "version": 3
   },
   "file_extension": ".py",
   "mimetype": "text/x-python",
   "name": "python",
   "nbconvert_exporter": "python",
   "pygments_lexer": "ipython3",
   "version": "3.9.12"
  }
 },
 "nbformat": 4,
 "nbformat_minor": 5
}
