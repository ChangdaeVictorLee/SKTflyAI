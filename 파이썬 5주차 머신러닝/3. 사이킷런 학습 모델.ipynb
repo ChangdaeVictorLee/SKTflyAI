{
 "cells": [
  {
   "cell_type": "code",
   "execution_count": 50,
   "id": "fabcef22",
   "metadata": {
    "scrolled": true
   },
   "outputs": [
    {
     "data": {
      "text/html": [
       "<div>\n",
       "<style scoped>\n",
       "    .dataframe tbody tr th:only-of-type {\n",
       "        vertical-align: middle;\n",
       "    }\n",
       "\n",
       "    .dataframe tbody tr th {\n",
       "        vertical-align: top;\n",
       "    }\n",
       "\n",
       "    .dataframe thead th {\n",
       "        text-align: right;\n",
       "    }\n",
       "</style>\n",
       "<table border=\"1\" class=\"dataframe\">\n",
       "  <thead>\n",
       "    <tr style=\"text-align: right;\">\n",
       "      <th></th>\n",
       "      <th>status</th>\n",
       "      <th>height</th>\n",
       "      <th>weight</th>\n",
       "      <th>color</th>\n",
       "    </tr>\n",
       "  </thead>\n",
       "  <tbody>\n",
       "    <tr>\n",
       "      <th>0</th>\n",
       "      <td>먹어</td>\n",
       "      <td>7</td>\n",
       "      <td>2</td>\n",
       "      <td>1</td>\n",
       "    </tr>\n",
       "    <tr>\n",
       "      <th>1</th>\n",
       "      <td>먹지마</td>\n",
       "      <td>1</td>\n",
       "      <td>5</td>\n",
       "      <td>3</td>\n",
       "    </tr>\n",
       "    <tr>\n",
       "      <th>2</th>\n",
       "      <td>먹지마</td>\n",
       "      <td>5</td>\n",
       "      <td>1</td>\n",
       "      <td>4</td>\n",
       "    </tr>\n",
       "    <tr>\n",
       "      <th>3</th>\n",
       "      <td>먹어</td>\n",
       "      <td>1</td>\n",
       "      <td>1</td>\n",
       "      <td>7</td>\n",
       "    </tr>\n",
       "    <tr>\n",
       "      <th>4</th>\n",
       "      <td>먹지마</td>\n",
       "      <td>1</td>\n",
       "      <td>6</td>\n",
       "      <td>7</td>\n",
       "    </tr>\n",
       "  </tbody>\n",
       "</table>\n",
       "</div>"
      ],
      "text/plain": [
       "  status  height  weight  color\n",
       "0     먹어       7       2      1\n",
       "1    먹지마       1       5      3\n",
       "2    먹지마       5       1      4\n",
       "3     먹어       1       1      7\n",
       "4    먹지마       1       6      7"
      ]
     },
     "execution_count": 50,
     "metadata": {},
     "output_type": "execute_result"
    }
   ],
   "source": [
    "import pandas as pd\n",
    "import joblib\n",
    "from sklearn.ensemble import RandomForestClassifier\n",
    "from sklearn import metrics\n",
    "from sklearn.model_selection import train_test_split\n",
    "# 데이터 읽어 들이기\n",
    "mr = pd.read_csv(\"sample.csv\", header=0, encoding='cp949')\n",
    "mr.head()"
   ]
  },
  {
   "cell_type": "code",
   "execution_count": 72,
   "id": "11c12ee7",
   "metadata": {},
   "outputs": [
    {
     "name": "stdout",
     "output_type": "stream",
     "text": [
      "먹어\n",
      "\n",
      "\n",
      "height    7\n",
      "weight    2\n",
      "color     1\n",
      "Name: 0, dtype: object\n",
      "\n",
      "\n",
      "2\n"
     ]
    }
   ],
   "source": [
    "# iterrows는 데이터프레임에서 반복 가능한 객체로 반환하는 것\n",
    "# iterrows 탐구\n",
    "for row_index, row in mr.iterrows():\n",
    "    print(row.iloc[0])    \n",
    "    print('\\n')\n",
    "    print(row.iloc[1:])\n",
    "    print('\\n')\n",
    "    print(row.iloc[1:][1])\n",
    "    break"
   ]
  },
  {
   "cell_type": "code",
   "execution_count": 51,
   "id": "7decfaef",
   "metadata": {},
   "outputs": [],
   "source": [
    "# 데이터를 label 과 data 로 분리\n",
    "label = []\n",
    "data = []\n",
    "\n",
    "# iterrows는 데이터프레임에서 반복 가능한 객체로 반환하는 것\n",
    "for row_index, row in mr.iterrows():\n",
    "    label.append(row.iloc[0])\n",
    "    row_data = []\n",
    "    for v in row.iloc[1:]:\n",
    "        row_data.append(v)\n",
    "    data.append(row_data)"
   ]
  },
  {
   "cell_type": "code",
   "execution_count": 52,
   "id": "16d7f348",
   "metadata": {
    "scrolled": true
   },
   "outputs": [
    {
     "data": {
      "text/plain": [
       "['먹어',\n",
       " '먹지마',\n",
       " '먹지마',\n",
       " '먹어',\n",
       " '먹지마',\n",
       " '먹지마',\n",
       " '먹지마',\n",
       " '먹지마',\n",
       " '먹어',\n",
       " '먹지마',\n",
       " '먹지마',\n",
       " '먹지마',\n",
       " '먹지마',\n",
       " '먹어',\n",
       " '먹지마',\n",
       " '먹지마']"
      ]
     },
     "execution_count": 52,
     "metadata": {},
     "output_type": "execute_result"
    }
   ],
   "source": [
    "label"
   ]
  },
  {
   "cell_type": "code",
   "execution_count": 53,
   "id": "bc5dd2c5",
   "metadata": {},
   "outputs": [
    {
     "data": {
      "text/plain": [
       "[[7, 2, 1],\n",
       " [1, 5, 3],\n",
       " [5, 1, 4],\n",
       " [1, 1, 7],\n",
       " [1, 6, 7],\n",
       " [6, 2, 1],\n",
       " [3, 1, 5],\n",
       " [1, 4, 9],\n",
       " [2, 1, 1],\n",
       " [5, 7, 6],\n",
       " [1, 1, 1],\n",
       " [4, 2, 4],\n",
       " [4, 1, 10],\n",
       " [3, 8, 3],\n",
       " [2, 1, 3],\n",
       " [2, 1, 3]]"
      ]
     },
     "execution_count": 53,
     "metadata": {},
     "output_type": "execute_result"
    }
   ],
   "source": [
    "data"
   ]
  },
  {
   "cell_type": "code",
   "execution_count": 54,
   "id": "36dfe286",
   "metadata": {},
   "outputs": [],
   "source": [
    "# 학습 전용과 테스트 전용 데이터로 나누기\n",
    "data_train, data_test, label_train, label_test = train_test_split(data, label)"
   ]
  },
  {
   "cell_type": "code",
   "execution_count": 55,
   "id": "612af902",
   "metadata": {},
   "outputs": [
    {
     "data": {
      "text/plain": [
       "[[6, 2, 1],\n",
       " [1, 6, 7],\n",
       " [4, 2, 4],\n",
       " [2, 1, 3],\n",
       " [2, 1, 1],\n",
       " [3, 1, 5],\n",
       " [1, 1, 1],\n",
       " [5, 7, 6],\n",
       " [5, 1, 4],\n",
       " [1, 1, 7],\n",
       " [3, 8, 3],\n",
       " [7, 2, 1]]"
      ]
     },
     "execution_count": 55,
     "metadata": {},
     "output_type": "execute_result"
    }
   ],
   "source": [
    "data_train"
   ]
  },
  {
   "cell_type": "code",
   "execution_count": 56,
   "id": "957f238b",
   "metadata": {},
   "outputs": [
    {
     "data": {
      "text/plain": [
       "[[4, 1, 10], [1, 5, 3], [2, 1, 3], [1, 4, 9]]"
      ]
     },
     "execution_count": 56,
     "metadata": {},
     "output_type": "execute_result"
    }
   ],
   "source": [
    "data_test"
   ]
  },
  {
   "cell_type": "code",
   "execution_count": 57,
   "id": "8c446944",
   "metadata": {},
   "outputs": [
    {
     "data": {
      "text/plain": [
       "['먹지마',\n",
       " '먹지마',\n",
       " '먹지마',\n",
       " '먹지마',\n",
       " '먹어',\n",
       " '먹지마',\n",
       " '먹지마',\n",
       " '먹지마',\n",
       " '먹지마',\n",
       " '먹어',\n",
       " '먹어',\n",
       " '먹어']"
      ]
     },
     "execution_count": 57,
     "metadata": {},
     "output_type": "execute_result"
    }
   ],
   "source": [
    "label_train"
   ]
  },
  {
   "cell_type": "code",
   "execution_count": 58,
   "id": "9f99dbbe",
   "metadata": {},
   "outputs": [
    {
     "data": {
      "text/plain": [
       "['model.pkl']"
      ]
     },
     "execution_count": 58,
     "metadata": {},
     "output_type": "execute_result"
    }
   ],
   "source": [
    "# 데이터 학습시키기\n",
    "clf = RandomForestClassifier()\n",
    "clf.fit(data_train, label_train)\n",
    "# 모델 저장\n",
    "joblib.dump(clf, 'model.pkl')"
   ]
  },
  {
   "cell_type": "code",
   "execution_count": 59,
   "id": "cda81561",
   "metadata": {},
   "outputs": [],
   "source": [
    "# 데이터 예측하기\n",
    "predict = clf.predict(data_test)"
   ]
  },
  {
   "cell_type": "code",
   "execution_count": 60,
   "id": "39d88e52",
   "metadata": {},
   "outputs": [
    {
     "name": "stdout",
     "output_type": "stream",
     "text": [
      "정확도 = 1.0\n",
      "predict = ['먹지마' '먹지마' '먹지마' '먹지마']\n",
      "real = ['먹지마', '먹지마', '먹지마', '먹지마']\n"
     ]
    }
   ],
   "source": [
    "ac_score = metrics.accuracy_score(label_test, predict)\n",
    "print(\"정확도 =\", ac_score)\n",
    "print('predict =',predict)\n",
    "print('real =',label_test)"
   ]
  },
  {
   "cell_type": "code",
   "execution_count": 61,
   "id": "ee967d8b",
   "metadata": {},
   "outputs": [
    {
     "data": {
      "text/plain": [
       "1.0"
      ]
     },
     "execution_count": 61,
     "metadata": {},
     "output_type": "execute_result"
    }
   ],
   "source": [
    "ac_score"
   ]
  },
  {
   "cell_type": "markdown",
   "id": "2f469330",
   "metadata": {},
   "source": [
    "### 그렇다면 여기서 모델을 어떻게 배포하면 될까?"
   ]
  },
  {
   "cell_type": "code",
   "execution_count": null,
   "id": "99c3fb81",
   "metadata": {},
   "outputs": [],
   "source": []
  }
 ],
 "metadata": {
  "kernelspec": {
   "display_name": "Python 3 (ipykernel)",
   "language": "python",
   "name": "python3"
  },
  "language_info": {
   "codemirror_mode": {
    "name": "ipython",
    "version": 3
   },
   "file_extension": ".py",
   "mimetype": "text/x-python",
   "name": "python",
   "nbconvert_exporter": "python",
   "pygments_lexer": "ipython3",
   "version": "3.9.12"
  }
 },
 "nbformat": 4,
 "nbformat_minor": 5
}
