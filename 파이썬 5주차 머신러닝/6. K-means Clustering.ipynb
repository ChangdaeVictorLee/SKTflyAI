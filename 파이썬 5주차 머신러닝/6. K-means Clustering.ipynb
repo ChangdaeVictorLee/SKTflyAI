{
 "cells": [
  {
   "cell_type": "code",
   "execution_count": 1,
   "id": "1e702792",
   "metadata": {},
   "outputs": [],
   "source": [
    "from sklearn.datasets import make_blobs\n",
    "import pandas as pd\n",
    "import numpy as np\n",
    "import math\n",
    "import scipy as sp\n",
    "import seaborn as sns\n",
    "import matplotlib.pyplot as plt"
   ]
  },
  {
   "cell_type": "code",
   "execution_count": 2,
   "id": "35c4d860",
   "metadata": {},
   "outputs": [],
   "source": [
    "X, y =make_blobs(n_samples=100, centers=4, n_features=2, random_state=6)\n",
    "points = pd.DataFrame(X, y).reset_index(drop=True)"
   ]
  },
  {
   "cell_type": "code",
   "execution_count": 3,
   "id": "6afb3d0f",
   "metadata": {},
   "outputs": [
    {
     "data": {
      "text/html": [
       "<div>\n",
       "<style scoped>\n",
       "    .dataframe tbody tr th:only-of-type {\n",
       "        vertical-align: middle;\n",
       "    }\n",
       "\n",
       "    .dataframe tbody tr th {\n",
       "        vertical-align: top;\n",
       "    }\n",
       "\n",
       "    .dataframe thead th {\n",
       "        text-align: right;\n",
       "    }\n",
       "</style>\n",
       "<table border=\"1\" class=\"dataframe\">\n",
       "  <thead>\n",
       "    <tr style=\"text-align: right;\">\n",
       "      <th></th>\n",
       "      <th>0</th>\n",
       "      <th>1</th>\n",
       "    </tr>\n",
       "  </thead>\n",
       "  <tbody>\n",
       "    <tr>\n",
       "      <th>0</th>\n",
       "      <td>0.276181</td>\n",
       "      <td>-2.217047</td>\n",
       "    </tr>\n",
       "    <tr>\n",
       "      <th>1</th>\n",
       "      <td>7.927368</td>\n",
       "      <td>-9.761527</td>\n",
       "    </tr>\n",
       "    <tr>\n",
       "      <th>2</th>\n",
       "      <td>8.491428</td>\n",
       "      <td>-2.549749</td>\n",
       "    </tr>\n",
       "    <tr>\n",
       "      <th>3</th>\n",
       "      <td>-11.537102</td>\n",
       "      <td>2.434883</td>\n",
       "    </tr>\n",
       "    <tr>\n",
       "      <th>4</th>\n",
       "      <td>4.292259</td>\n",
       "      <td>-8.992204</td>\n",
       "    </tr>\n",
       "    <tr>\n",
       "      <th>...</th>\n",
       "      <td>...</td>\n",
       "      <td>...</td>\n",
       "    </tr>\n",
       "    <tr>\n",
       "      <th>95</th>\n",
       "      <td>0.874864</td>\n",
       "      <td>-2.051392</td>\n",
       "    </tr>\n",
       "    <tr>\n",
       "      <th>96</th>\n",
       "      <td>1.084631</td>\n",
       "      <td>-0.553542</td>\n",
       "    </tr>\n",
       "    <tr>\n",
       "      <th>97</th>\n",
       "      <td>7.968331</td>\n",
       "      <td>-3.231253</td>\n",
       "    </tr>\n",
       "    <tr>\n",
       "      <th>98</th>\n",
       "      <td>1.288840</td>\n",
       "      <td>-0.662518</td>\n",
       "    </tr>\n",
       "    <tr>\n",
       "      <th>99</th>\n",
       "      <td>1.432822</td>\n",
       "      <td>-3.001946</td>\n",
       "    </tr>\n",
       "  </tbody>\n",
       "</table>\n",
       "<p>100 rows × 2 columns</p>\n",
       "</div>"
      ],
      "text/plain": [
       "            0         1\n",
       "0    0.276181 -2.217047\n",
       "1    7.927368 -9.761527\n",
       "2    8.491428 -2.549749\n",
       "3  -11.537102  2.434883\n",
       "4    4.292259 -8.992204\n",
       "..        ...       ...\n",
       "95   0.874864 -2.051392\n",
       "96   1.084631 -0.553542\n",
       "97   7.968331 -3.231253\n",
       "98   1.288840 -0.662518\n",
       "99   1.432822 -3.001946\n",
       "\n",
       "[100 rows x 2 columns]"
      ]
     },
     "execution_count": 3,
     "metadata": {},
     "output_type": "execute_result"
    }
   ],
   "source": [
    "points"
   ]
  },
  {
   "cell_type": "code",
   "execution_count": 11,
   "id": "1a4c2fd2",
   "metadata": {},
   "outputs": [
    {
     "data": {
      "image/png": "[encoded data removed]",
      "text/plain": [
       "<Figure size 432x288 with 1 Axes>"
      ]
     },
     "metadata": {
      "needs_background": "light"
     },
     "output_type": "display_data"
    }
   ],
   "source": [
    "sns.scatterplot(x = 0, y= 1, data=points, palette='Set2')\n",
    "plt.show()"
   ]
  },
  {
   "cell_type": "code",
   "execution_count": 13,
   "id": "34e1f1f0",
   "metadata": {},
   "outputs": [
    {
     "data": {
      "text/html": [
       "<div>\n",
       "<style scoped>\n",
       "    .dataframe tbody tr th:only-of-type {\n",
       "        vertical-align: middle;\n",
       "    }\n",
       "\n",
       "    .dataframe tbody tr th {\n",
       "        vertical-align: top;\n",
       "    }\n",
       "\n",
       "    .dataframe thead th {\n",
       "        text-align: right;\n",
       "    }\n",
       "</style>\n",
       "<table border=\"1\" class=\"dataframe\">\n",
       "  <thead>\n",
       "    <tr style=\"text-align: right;\">\n",
       "      <th></th>\n",
       "      <th>0</th>\n",
       "      <th>1</th>\n",
       "    </tr>\n",
       "  </thead>\n",
       "  <tbody>\n",
       "    <tr>\n",
       "      <th>80</th>\n",
       "      <td>-8.842286</td>\n",
       "      <td>1.786914</td>\n",
       "    </tr>\n",
       "    <tr>\n",
       "      <th>84</th>\n",
       "      <td>4.510561</td>\n",
       "      <td>-9.305970</td>\n",
       "    </tr>\n",
       "    <tr>\n",
       "      <th>33</th>\n",
       "      <td>5.883975</td>\n",
       "      <td>-8.372845</td>\n",
       "    </tr>\n",
       "    <tr>\n",
       "      <th>81</th>\n",
       "      <td>-8.831594</td>\n",
       "      <td>1.690414</td>\n",
       "    </tr>\n",
       "  </tbody>\n",
       "</table>\n",
       "</div>"
      ],
      "text/plain": [
       "           0         1\n",
       "80 -8.842286  1.786914\n",
       "84  4.510561 -9.305970\n",
       "33  5.883975 -8.372845\n",
       "81 -8.831594  1.690414"
      ]
     },
     "execution_count": 13,
     "metadata": {},
     "output_type": "execute_result"
    }
   ],
   "source": [
    "centroids = points.sample(4, random_state=1)\n",
    "centroids"
   ]
  },
  {
   "cell_type": "code",
   "execution_count": 17,
   "id": "b41af732",
   "metadata": {},
   "outputs": [
    {
     "data": {
      "image/png": "[encoded data removed]",
      "text/plain": [
       "<Figure size 432x288 with 1 Axes>"
      ]
     },
     "metadata": {
      "needs_background": "light"
     },
     "output_type": "display_data"
    }
   ],
   "source": [
    "sns.scatterplot(x = 0, y= 1, data=points, palette='Set2')\n",
    "sns.scatterplot(x = 0, y= 1, data=centroids, palette='Set1')\n",
    "plt.show()"
   ]
  },
  {
   "cell_type": "code",
   "execution_count": 18,
   "id": "1c370b09",
   "metadata": {},
   "outputs": [
    {
     "data": {
      "text/html": [
       "<div>\n",
       "<style scoped>\n",
       "    .dataframe tbody tr th:only-of-type {\n",
       "        vertical-align: middle;\n",
       "    }\n",
       "\n",
       "    .dataframe tbody tr th {\n",
       "        vertical-align: top;\n",
       "    }\n",
       "\n",
       "    .dataframe thead th {\n",
       "        text-align: right;\n",
       "    }\n",
       "</style>\n",
       "<table border=\"1\" class=\"dataframe\">\n",
       "  <thead>\n",
       "    <tr style=\"text-align: right;\">\n",
       "      <th></th>\n",
       "      <th>0</th>\n",
       "      <th>1</th>\n",
       "      <th>cluster</th>\n",
       "    </tr>\n",
       "  </thead>\n",
       "  <tbody>\n",
       "    <tr>\n",
       "      <th>0</th>\n",
       "      <td>0.276181</td>\n",
       "      <td>-2.217047</td>\n",
       "      <td>1</td>\n",
       "    </tr>\n",
       "    <tr>\n",
       "      <th>1</th>\n",
       "      <td>7.927368</td>\n",
       "      <td>-9.761527</td>\n",
       "      <td>2</td>\n",
       "    </tr>\n",
       "    <tr>\n",
       "      <th>2</th>\n",
       "      <td>8.491428</td>\n",
       "      <td>-2.549749</td>\n",
       "      <td>2</td>\n",
       "    </tr>\n",
       "    <tr>\n",
       "      <th>3</th>\n",
       "      <td>-11.537102</td>\n",
       "      <td>2.434883</td>\n",
       "      <td>0</td>\n",
       "    </tr>\n",
       "    <tr>\n",
       "      <th>4</th>\n",
       "      <td>4.292259</td>\n",
       "      <td>-8.992204</td>\n",
       "      <td>1</td>\n",
       "    </tr>\n",
       "  </tbody>\n",
       "</table>\n",
       "</div>"
      ],
      "text/plain": [
       "           0         1  cluster\n",
       "0   0.276181 -2.217047        1\n",
       "1   7.927368 -9.761527        2\n",
       "2   8.491428 -2.549749        2\n",
       "3 -11.537102  2.434883        0\n",
       "4   4.292259 -8.992204        1"
      ]
     },
     "execution_count": 18,
     "metadata": {},
     "output_type": "execute_result"
    }
   ],
   "source": [
    "distance = sp.spatial.distance.cdist(points, centroids, 'euclidean')\n",
    "cluster_num = np.argmin(distance, axis=1)\n",
    "result = points.copy()\n",
    "result['cluster'] = np.array(cluster_num)\n",
    "result.head()"
   ]
  },
  {
   "cell_type": "code",
   "execution_count": 29,
   "id": "cbc49185",
   "metadata": {},
   "outputs": [
    {
     "data": {
      "text/plain": [
       "array([[ 9.95882274,  8.25728768,  8.32713673,  9.91059163],\n",
       "       [20.36142922,  3.44704228,  2.47060542, 20.29802411],\n",
       "       [17.86796877,  7.84179976,  6.38022419, 17.83440774],\n",
       "       [ 2.77162333, 19.88404187, 20.50124203,  2.80606584],\n",
       "       [16.99134122,  0.3822363 ,  1.70797157, 16.9219937 ]])"
      ]
     },
     "execution_count": 29,
     "metadata": {},
     "output_type": "execute_result"
    }
   ],
   "source": [
    "distance[:5]"
   ]
  },
  {
   "cell_type": "code",
   "execution_count": 25,
   "id": "f5e80dc5",
   "metadata": {},
   "outputs": [
    {
     "data": {
      "text/plain": [
       "array([1, 2, 2, 0, 1, 1, 2, 2, 3, 2, 2, 3, 2, 3, 2, 3, 2, 2, 2, 0, 2, 2,\n",
       "       1, 2, 2, 3, 2, 2, 3, 1, 2, 3, 2, 2, 2, 3, 2, 2, 2, 1, 2, 3, 0, 0,\n",
       "       3, 2, 1, 2, 3, 3, 2, 2, 2, 2, 2, 2, 2, 0, 1, 2, 2, 2, 2, 2, 3, 2,\n",
       "       3, 2, 3, 2, 0, 3, 2, 3, 2, 2, 2, 3, 2, 3, 0, 3, 2, 2, 1, 3, 0, 2,\n",
       "       3, 2, 2, 1, 2, 1, 0, 2, 2, 2, 2, 2], dtype=int64)"
      ]
     },
     "execution_count": 25,
     "metadata": {},
     "output_type": "execute_result"
    }
   ],
   "source": [
    "# 각 행별로 가장 작은 값의 인덱스 보여줌\n",
    "# 이 때 centroid가 총 4개 이므로 \n",
    "np.argmin(distance, axis=1)"
   ]
  },
  {
   "cell_type": "markdown",
   "id": "22f39a4a",
   "metadata": {},
   "source": [
    "# 첫번째 작업"
   ]
  },
  {
   "cell_type": "code",
   "execution_count": 21,
   "id": "6334acd6",
   "metadata": {
    "scrolled": false
   },
   "outputs": [
    {
     "data": {
      "image/png": "[encoded data removed]",
      "text/plain": [
       "<Figure size 432x288 with 1 Axes>"
      ]
     },
     "metadata": {
      "needs_background": "light"
     },
     "output_type": "display_data"
    }
   ],
   "source": [
    "sns.scatterplot(x = 0, y= 1, hue = 'cluster', data=result, palette='Set2')\n",
    "plt.show()"
   ]
  },
  {
   "cell_type": "code",
   "execution_count": 31,
   "id": "1f8c2628",
   "metadata": {},
   "outputs": [
    {
     "data": {
      "text/html": [
       "<div>\n",
       "<style scoped>\n",
       "    .dataframe tbody tr th:only-of-type {\n",
       "        vertical-align: middle;\n",
       "    }\n",
       "\n",
       "    .dataframe tbody tr th {\n",
       "        vertical-align: top;\n",
       "    }\n",
       "\n",
       "    .dataframe thead th {\n",
       "        text-align: right;\n",
       "    }\n",
       "</style>\n",
       "<table border=\"1\" class=\"dataframe\">\n",
       "  <thead>\n",
       "    <tr style=\"text-align: right;\">\n",
       "      <th></th>\n",
       "      <th>0</th>\n",
       "      <th>1</th>\n",
       "    </tr>\n",
       "    <tr>\n",
       "      <th>cluster</th>\n",
       "      <th></th>\n",
       "      <th></th>\n",
       "    </tr>\n",
       "  </thead>\n",
       "  <tbody>\n",
       "    <tr>\n",
       "      <th>0</th>\n",
       "      <td>-8.211603</td>\n",
       "      <td>2.420481</td>\n",
       "    </tr>\n",
       "    <tr>\n",
       "      <th>1</th>\n",
       "      <td>1.913263</td>\n",
       "      <td>-5.034035</td>\n",
       "    </tr>\n",
       "    <tr>\n",
       "      <th>2</th>\n",
       "      <td>6.180105</td>\n",
       "      <td>-5.007395</td>\n",
       "    </tr>\n",
       "    <tr>\n",
       "      <th>3</th>\n",
       "      <td>-5.728498</td>\n",
       "      <td>0.878158</td>\n",
       "    </tr>\n",
       "  </tbody>\n",
       "</table>\n",
       "</div>"
      ],
      "text/plain": [
       "                0         1\n",
       "cluster                    \n",
       "0       -8.211603  2.420481\n",
       "1        1.913263 -5.034035\n",
       "2        6.180105 -5.007395\n",
       "3       -5.728498  0.878158"
      ]
     },
     "execution_count": 31,
     "metadata": {},
     "output_type": "execute_result"
    }
   ],
   "source": [
    "centroids_2 = result.groupby('cluster').mean()\n",
    "centroids_2"
   ]
  },
  {
   "cell_type": "code",
   "execution_count": 33,
   "id": "e4e4a5e5",
   "metadata": {},
   "outputs": [
    {
     "data": {
      "text/html": [
       "<div>\n",
       "<style scoped>\n",
       "    .dataframe tbody tr th:only-of-type {\n",
       "        vertical-align: middle;\n",
       "    }\n",
       "\n",
       "    .dataframe tbody tr th {\n",
       "        vertical-align: top;\n",
       "    }\n",
       "\n",
       "    .dataframe thead th {\n",
       "        text-align: right;\n",
       "    }\n",
       "</style>\n",
       "<table border=\"1\" class=\"dataframe\">\n",
       "  <thead>\n",
       "    <tr style=\"text-align: right;\">\n",
       "      <th></th>\n",
       "      <th>0</th>\n",
       "      <th>1</th>\n",
       "      <th>cluster</th>\n",
       "    </tr>\n",
       "  </thead>\n",
       "  <tbody>\n",
       "    <tr>\n",
       "      <th>0</th>\n",
       "      <td>0.276181</td>\n",
       "      <td>-2.217047</td>\n",
       "      <td>1</td>\n",
       "    </tr>\n",
       "    <tr>\n",
       "      <th>1</th>\n",
       "      <td>7.927368</td>\n",
       "      <td>-9.761527</td>\n",
       "      <td>2</td>\n",
       "    </tr>\n",
       "    <tr>\n",
       "      <th>2</th>\n",
       "      <td>8.491428</td>\n",
       "      <td>-2.549749</td>\n",
       "      <td>2</td>\n",
       "    </tr>\n",
       "    <tr>\n",
       "      <th>3</th>\n",
       "      <td>-11.537102</td>\n",
       "      <td>2.434883</td>\n",
       "      <td>0</td>\n",
       "    </tr>\n",
       "    <tr>\n",
       "      <th>4</th>\n",
       "      <td>4.292259</td>\n",
       "      <td>-8.992204</td>\n",
       "      <td>2</td>\n",
       "    </tr>\n",
       "  </tbody>\n",
       "</table>\n",
       "</div>"
      ],
      "text/plain": [
       "           0         1  cluster\n",
       "0   0.276181 -2.217047        1\n",
       "1   7.927368 -9.761527        2\n",
       "2   8.491428 -2.549749        2\n",
       "3 -11.537102  2.434883        0\n",
       "4   4.292259 -8.992204        2"
      ]
     },
     "execution_count": 33,
     "metadata": {},
     "output_type": "execute_result"
    }
   ],
   "source": [
    "distance = sp.spatial.distance.cdist(points, centroids_2, 'euclidean')\n",
    "cluster_num = np.argmin(distance, axis=1)\n",
    "result = points.copy()\n",
    "result['cluster'] = np.array(cluster_num)\n",
    "result.head()"
   ]
  },
  {
   "cell_type": "markdown",
   "id": "a73c2921",
   "metadata": {},
   "source": [
    "# 두 번째 작업"
   ]
  },
  {
   "cell_type": "code",
   "execution_count": 34,
   "id": "94fd743c",
   "metadata": {},
   "outputs": [
    {
     "data": {
      "image/png": "[encoded data removed]",
      "text/plain": [
       "<Figure size 432x288 with 1 Axes>"
      ]
     },
     "metadata": {
      "needs_background": "light"
     },
     "output_type": "display_data"
    }
   ],
   "source": [
    "sns.scatterplot(x = 0, y= 1, hue = 'cluster', data=result, palette='Set2')\n",
    "plt.show()"
   ]
  },
  {
   "cell_type": "markdown",
   "id": "f5a22a6d",
   "metadata": {},
   "source": [
    "# 세번째 작업"
   ]
  },
  {
   "cell_type": "code",
   "execution_count": 35,
   "id": "55ae777b",
   "metadata": {
    "scrolled": true
   },
   "outputs": [
    {
     "data": {
      "image/png": "[encoded data removed]",
      "text/plain": [
       "<Figure size 432x288 with 1 Axes>"
      ]
     },
     "metadata": {
      "needs_background": "light"
     },
     "output_type": "display_data"
    }
   ],
   "source": [
    "centroids_3 = result.groupby('cluster').mean()\n",
    "\n",
    "distance = sp.spatial.distance.cdist(points, centroids_3, 'euclidean')\n",
    "cluster_num = np.argmin(distance, axis=1)\n",
    "result = points.copy()\n",
    "result['cluster'] = np.array(cluster_num)\n",
    "\n",
    "sns.scatterplot(x = 0, y= 1, hue = 'cluster', data=result, palette='Set2')\n",
    "plt.show()"
   ]
  },
  {
   "cell_type": "markdown",
   "id": "10153ec1",
   "metadata": {},
   "source": [
    "# 4번째 작업"
   ]
  },
  {
   "cell_type": "code",
   "execution_count": 36,
   "id": "f72b6745",
   "metadata": {},
   "outputs": [
    {
     "data": {
      "image/png": "[encoded data removed]",
      "text/plain": [
       "<Figure size 432x288 with 1 Axes>"
      ]
     },
     "metadata": {
      "needs_background": "light"
     },
     "output_type": "display_data"
    }
   ],
   "source": [
    "centroids_4 = result.groupby('cluster').mean()\n",
    "\n",
    "distance = sp.spatial.distance.cdist(points, centroids_4, 'euclidean')\n",
    "cluster_num = np.argmin(distance, axis=1)\n",
    "result = points.copy()\n",
    "result['cluster'] = np.array(cluster_num)\n",
    "\n",
    "sns.scatterplot(x = 0, y= 1, hue = 'cluster', data=result, palette='Set2')\n",
    "plt.show()"
   ]
  },
  {
   "cell_type": "markdown",
   "id": "497fb772",
   "metadata": {},
   "source": [
    "# sklearn Kmeans"
   ]
  },
  {
   "cell_type": "code",
   "execution_count": 41,
   "id": "0c6f046e",
   "metadata": {},
   "outputs": [
    {
     "data": {
      "text/plain": [
       "KMeans(n_clusters=4)"
      ]
     },
     "execution_count": 41,
     "metadata": {},
     "output_type": "execute_result"
    }
   ],
   "source": [
    "from sklearn.cluster import KMeans\n",
    "kmeans = KMeans(n_clusters=4)\n",
    "kmeans.fit(points)"
   ]
  },
  {
   "cell_type": "code",
   "execution_count": 43,
   "id": "724210f7",
   "metadata": {},
   "outputs": [
    {
     "data": {
      "text/html": [
       "<div>\n",
       "<style scoped>\n",
       "    .dataframe tbody tr th:only-of-type {\n",
       "        vertical-align: middle;\n",
       "    }\n",
       "\n",
       "    .dataframe tbody tr th {\n",
       "        vertical-align: top;\n",
       "    }\n",
       "\n",
       "    .dataframe thead th {\n",
       "        text-align: right;\n",
       "    }\n",
       "</style>\n",
       "<table border=\"1\" class=\"dataframe\">\n",
       "  <thead>\n",
       "    <tr style=\"text-align: right;\">\n",
       "      <th></th>\n",
       "      <th>0</th>\n",
       "      <th>1</th>\n",
       "      <th>cluster</th>\n",
       "    </tr>\n",
       "  </thead>\n",
       "  <tbody>\n",
       "    <tr>\n",
       "      <th>0</th>\n",
       "      <td>0.276181</td>\n",
       "      <td>-2.217047</td>\n",
       "      <td>0</td>\n",
       "    </tr>\n",
       "    <tr>\n",
       "      <th>1</th>\n",
       "      <td>7.927368</td>\n",
       "      <td>-9.761527</td>\n",
       "      <td>1</td>\n",
       "    </tr>\n",
       "    <tr>\n",
       "      <th>2</th>\n",
       "      <td>8.491428</td>\n",
       "      <td>-2.549749</td>\n",
       "      <td>2</td>\n",
       "    </tr>\n",
       "    <tr>\n",
       "      <th>3</th>\n",
       "      <td>-11.537102</td>\n",
       "      <td>2.434883</td>\n",
       "      <td>3</td>\n",
       "    </tr>\n",
       "    <tr>\n",
       "      <th>4</th>\n",
       "      <td>4.292259</td>\n",
       "      <td>-8.992204</td>\n",
       "      <td>1</td>\n",
       "    </tr>\n",
       "    <tr>\n",
       "      <th>...</th>\n",
       "      <td>...</td>\n",
       "      <td>...</td>\n",
       "      <td>...</td>\n",
       "    </tr>\n",
       "    <tr>\n",
       "      <th>95</th>\n",
       "      <td>0.874864</td>\n",
       "      <td>-2.051392</td>\n",
       "      <td>0</td>\n",
       "    </tr>\n",
       "    <tr>\n",
       "      <th>96</th>\n",
       "      <td>1.084631</td>\n",
       "      <td>-0.553542</td>\n",
       "      <td>0</td>\n",
       "    </tr>\n",
       "    <tr>\n",
       "      <th>97</th>\n",
       "      <td>7.968331</td>\n",
       "      <td>-3.231253</td>\n",
       "      <td>2</td>\n",
       "    </tr>\n",
       "    <tr>\n",
       "      <th>98</th>\n",
       "      <td>1.288840</td>\n",
       "      <td>-0.662518</td>\n",
       "      <td>0</td>\n",
       "    </tr>\n",
       "    <tr>\n",
       "      <th>99</th>\n",
       "      <td>1.432822</td>\n",
       "      <td>-3.001946</td>\n",
       "      <td>0</td>\n",
       "    </tr>\n",
       "  </tbody>\n",
       "</table>\n",
       "<p>100 rows × 3 columns</p>\n",
       "</div>"
      ],
      "text/plain": [
       "            0         1  cluster\n",
       "0    0.276181 -2.217047        0\n",
       "1    7.927368 -9.761527        1\n",
       "2    8.491428 -2.549749        2\n",
       "3  -11.537102  2.434883        3\n",
       "4    4.292259 -8.992204        1\n",
       "..        ...       ...      ...\n",
       "95   0.874864 -2.051392        0\n",
       "96   1.084631 -0.553542        0\n",
       "97   7.968331 -3.231253        2\n",
       "98   1.288840 -0.662518        0\n",
       "99   1.432822 -3.001946        0\n",
       "\n",
       "[100 rows x 3 columns]"
      ]
     },
     "execution_count": 43,
     "metadata": {},
     "output_type": "execute_result"
    }
   ],
   "source": [
    "result_by_sklearn = points.copy()\n",
    "result_by_sklearn['cluster'] = kmeans.labels_\n",
    "result_by_sklearn"
   ]
  },
  {
   "cell_type": "code",
   "execution_count": 47,
   "id": "18cb5b69",
   "metadata": {},
   "outputs": [
    {
     "data": {
      "text/plain": [
       "<AxesSubplot:xlabel='0', ylabel='1'>"
      ]
     },
     "execution_count": 47,
     "metadata": {},
     "output_type": "execute_result"
    },
    {
     "data": {
      "image/png": "[encoded data removed]",
      "text/plain": [
       "<Figure size 432x288 with 1 Axes>"
      ]
     },
     "metadata": {
      "needs_background": "light"
     },
     "output_type": "display_data"
    }
   ],
   "source": [
    "sns.scatterplot(x=0, y =1, hue='cluster', data=result_by_sklearn, palette = 'Set2')"
   ]
  }
 ],
 "metadata": {
  "kernelspec": {
   "display_name": "Python 3 (ipykernel)",
   "language": "python",
   "name": "python3"
  },
  "language_info": {
   "codemirror_mode": {
    "name": "ipython",
    "version": 3
   },
   "file_extension": ".py",
   "mimetype": "text/x-python",
   "name": "python",
   "nbconvert_exporter": "python",
   "pygments_lexer": "ipython3",
   "version": "3.9.12"
  }
 },
 "nbformat": 4,
 "nbformat_minor": 5
}
