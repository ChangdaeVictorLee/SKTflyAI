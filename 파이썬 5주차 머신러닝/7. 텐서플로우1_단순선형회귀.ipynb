{
  "cells": [
    {
      "cell_type": "markdown",
      "source": [
        "https://brunch.co.kr/@cookery/68\n",
        "\n",
        "https://evan-moon.github.io/2018/07/19/deep-learning-backpropagation/"
      ],
      "metadata": {
        "id": "ftzwIgTM0Kkq"
      },
      "id": "ftzwIgTM0Kkq"
    },
    {
      "cell_type": "markdown",
      "id": "e699b3f9-fd73-4dc5-aef8-a668d8ceda7b",
      "metadata": {
        "id": "e699b3f9-fd73-4dc5-aef8-a668d8ceda7b"
      },
      "source": [
        "# 주제 : 단순 선형회귀 (Simple Linear Regression)\n",
        "---"
      ]
    },
    {
      "cell_type": "markdown",
      "id": "545b8d29-97fa-449d-858a-737ca142deab",
      "metadata": {
        "id": "545b8d29-97fa-449d-858a-737ca142deab"
      },
      "source": [
        "Tensorflow의 기능을 이용하여, 선형회귀를 구현한다"
      ]
    },
    {
      "cell_type": "markdown",
      "id": "03a5c59b-66a7-43f0-9660-f33b7b6d3251",
      "metadata": {
        "id": "03a5c59b-66a7-43f0-9660-f33b7b6d3251"
      },
      "source": [
        "### 문제 0. 라이브러리"
      ]
    },
    {
      "cell_type": "code",
      "execution_count": 1,
      "id": "ddd862bd-20cb-4e0b-a4aa-57d341549002",
      "metadata": {
        "id": "ddd862bd-20cb-4e0b-a4aa-57d341549002"
      },
      "outputs": [],
      "source": [
        "import numpy as np\n",
        "import pandas as pd\n",
        "import matplotlib.pyplot as plt\n",
        "import seaborn as sns\n",
        "\n",
        "# warning 꺼주는 작업\n",
        "import warnings\n",
        "warnings.filterwarnings(action='ignore')"
      ]
    },
    {
      "cell_type": "markdown",
      "id": "9af0247f-bd67-41b3-aebc-81d77aa92435",
      "metadata": {
        "id": "9af0247f-bd67-41b3-aebc-81d77aa92435"
      },
      "source": [
        "### 문제 1. 텐서플로우 버전 확인"
      ]
    },
    {
      "cell_type": "code",
      "execution_count": 2,
      "id": "bab444e3-07e5-498c-8f43-c42e3b01e490",
      "metadata": {
        "id": "bab444e3-07e5-498c-8f43-c42e3b01e490",
        "colab": {
          "base_uri": "https://localhost:8080/"
        },
        "outputId": "8b432bb0-a58f-491b-fa97-2d4bccdc306b"
      },
      "outputs": [
        {
          "output_type": "stream",
          "name": "stdout",
          "text": [
            "2.8.2\n"
          ]
        }
      ],
      "source": [
        "import tensorflow as tf\n",
        "\n",
        "print(tf.__version__)"
      ]
    },
    {
      "cell_type": "markdown",
      "source": [
        "## tape.gradient 설명\n",
        "https://www.youtube.com/watch?v=pbCeMzN2rcc&ab_channel=Shin%27sLab"
      ],
      "metadata": {
        "id": "S4W8BpjRBiWu"
      },
      "id": "S4W8BpjRBiWu"
    },
    {
      "cell_type": "code",
      "source": [
        "test_list1 = np.array([1, 2, 3])\n",
        "test_list2 = np.array([10, 20, 30])\n",
        "\n",
        "t1 = tf.Variable(test_list1, dtype=tf.float32)\n",
        "t2 = tf.Variable(test_list2, dtype=tf.float32)\n",
        "\n",
        "with tf.GradientTape() as tape:\n",
        "    t3 = t1 * t2\n",
        "\n",
        "gradients = tape.gradient(t3, [t1, t2])\n",
        "print(gradients[0])\n",
        "\n",
        "print(gradients[1])"
      ],
      "metadata": {
        "colab": {
          "base_uri": "https://localhost:8080/"
        },
        "id": "SE4kSk86b3x9",
        "outputId": "92c2bf37-14ad-442a-9e12-14d8d0a6ae24"
      },
      "id": "SE4kSk86b3x9",
      "execution_count": 3,
      "outputs": [
        {
          "output_type": "stream",
          "name": "stdout",
          "text": [
            "tf.Tensor([10. 20. 30.], shape=(3,), dtype=float32)\n",
            "tf.Tensor([1. 2. 3.], shape=(3,), dtype=float32)\n"
          ]
        }
      ]
    },
    {
      "cell_type": "markdown",
      "source": [
        "gradients는 편미분 한다는 뜻임 그러므로 tape.gradient(t3, [t1,t2])는 t3를 t1으로 미분한 값이 0번째 값이고 t3를 t2로 미분한 값이 1번째 값임\n",
        "* t3 = t1 * t2 이므로 편미분했을 때 상수값만 남게 되고\n",
        "* t1으로 미분하면 t2, t2로 미분하면 t1이 남음"
      ],
      "metadata": {
        "id": "XPfm27orB1VY"
      },
      "id": "XPfm27orB1VY"
    },
    {
      "cell_type": "code",
      "source": [
        "t4 = t3 + t2\n",
        "\n",
        "with tf.GradientTape() as tape:\n",
        "  t3 = t1 * t2\n",
        "  t4 = t3 + t2\n",
        "\n",
        "gradients = tape.gradient(t4, [t1,t2,t3])\n",
        "print(gradients[0])\n",
        "print(gradients[1])\n",
        "print(gradients[2])"
      ],
      "metadata": {
        "colab": {
          "base_uri": "https://localhost:8080/"
        },
        "id": "YqdMIIDjB-yf",
        "outputId": "f1b96e08-be70-45b8-96d8-c049c7725cdc"
      },
      "id": "YqdMIIDjB-yf",
      "execution_count": 4,
      "outputs": [
        {
          "output_type": "stream",
          "name": "stdout",
          "text": [
            "tf.Tensor([10. 20. 30.], shape=(3,), dtype=float32)\n",
            "tf.Tensor([2. 3. 4.], shape=(3,), dtype=float32)\n",
            "tf.Tensor([1. 1. 1.], shape=(3,), dtype=float32)\n"
          ]
        }
      ]
    },
    {
      "cell_type": "markdown",
      "source": [
        "t4에 대해 t1, t2, t3로 미분하는 것임\n",
        "* t1, t2로 미분하면 위와 동일한 값이 나오고\n",
        "* t3로 미분하면 상수값 1이 남음 그래서 gradients[2]가 [1,1,1]로 나옴!"
      ],
      "metadata": {
        "id": "jGMo4-s5Cqg9"
      },
      "id": "jGMo4-s5Cqg9"
    },
    {
      "cell_type": "markdown",
      "id": "bd0ebce3-6e46-4a44-aa8b-09493d43b9df",
      "metadata": {
        "id": "bd0ebce3-6e46-4a44-aa8b-09493d43b9df"
      },
      "source": [
        "### 문제 2. 데이터 만들기"
      ]
    },
    {
      "cell_type": "code",
      "execution_count": 5,
      "id": "5a5f0a69-01e6-4c9d-9ed2-cdafc3fb9b54",
      "metadata": {
        "id": "5a5f0a69-01e6-4c9d-9ed2-cdafc3fb9b54"
      },
      "outputs": [],
      "source": [
        "# 임의 데이터 작성 : [공부 시간, 점수]\n",
        "\n",
        "data = [[2,81], [4,93], [6, 91], [8, 97]]"
      ]
    },
    {
      "cell_type": "markdown",
      "id": "d8af2d43-d2a3-4ca6-b769-7bcc14c1886d",
      "metadata": {
        "id": "d8af2d43-d2a3-4ca6-b769-7bcc14c1886d"
      },
      "source": [
        "### 문제 2. X, y 데이터로 분리"
      ]
    },
    {
      "cell_type": "markdown",
      "id": "a4903db9-55a7-48df-82ec-e025bb352f5c",
      "metadata": {
        "id": "a4903db9-55a7-48df-82ec-e025bb352f5c"
      },
      "source": [
        "* 종속변수와 독립변수로 분리"
      ]
    },
    {
      "cell_type": "code",
      "execution_count": 6,
      "id": "22b246d6-926e-451d-9cfc-ce4a3b31c349",
      "metadata": {
        "id": "22b246d6-926e-451d-9cfc-ce4a3b31c349"
      },
      "outputs": [],
      "source": [
        "# 파이썬의 리스트 내포 \n",
        "\n",
        "X = [i[0]for i in data]\n",
        "y = [i[1] for i in data]\n",
        "\n",
        "X = np.array(X)\n",
        "y = np.array(y)"
      ]
    },
    {
      "cell_type": "code",
      "source": [
        "X,y"
      ],
      "metadata": {
        "colab": {
          "base_uri": "https://localhost:8080/"
        },
        "id": "gC0Ce5PLr8FH",
        "outputId": "39d9d670-d092-4bd0-f829-732af24c5382"
      },
      "id": "gC0Ce5PLr8FH",
      "execution_count": 7,
      "outputs": [
        {
          "output_type": "execute_result",
          "data": {
            "text/plain": [
              "(array([2, 4, 6, 8]), array([81, 93, 91, 97]))"
            ]
          },
          "metadata": {},
          "execution_count": 7
        }
      ]
    },
    {
      "cell_type": "markdown",
      "id": "4ba4b8a4-c0e0-43eb-8aa3-6bc5c81e70bf",
      "metadata": {
        "id": "4ba4b8a4-c0e0-43eb-8aa3-6bc5c81e70bf"
      },
      "source": [
        "### 문제 3. 시각화"
      ]
    },
    {
      "cell_type": "code",
      "execution_count": 8,
      "id": "b998020f-9945-4c42-99c7-a2860429a429",
      "metadata": {
        "id": "b998020f-9945-4c42-99c7-a2860429a429",
        "colab": {
          "base_uri": "https://localhost:8080/",
          "height": 226
        },
        "outputId": "44564ecf-7124-4a68-a19c-023e0c130227"
      },
      "outputs": [
        {
          "output_type": "display_data",
          "data": {
            "text/plain": [
              "<Figure size 288x216 with 1 Axes>"
            ],
            "image/png": "[encoded data removed]"
          },
          "metadata": {
            "needs_background": "light"
          }
        }
      ],
      "source": [
        "# 데이터의 산점도\n",
        "\n",
        "plt.figure(figsize=(4,3))\n",
        "plt.scatter(X, y)\n",
        "plt.xlabel('Hour')\n",
        "plt.ylabel('Points')\n",
        "plt.show()"
      ]
    },
    {
      "cell_type": "code",
      "source": [
        "sns.scatterplot(X,y)"
      ],
      "metadata": {
        "id": "oA5neC8FR-XZ",
        "outputId": "e339f0bb-96b1-493f-fef4-fb842a2d13e7",
        "colab": {
          "base_uri": "https://localhost:8080/",
          "height": 283
        }
      },
      "id": "oA5neC8FR-XZ",
      "execution_count": 9,
      "outputs": [
        {
          "output_type": "execute_result",
          "data": {
            "text/plain": [
              "<matplotlib.axes._subplots.AxesSubplot at 0x7f59eba9f750>"
            ]
          },
          "metadata": {},
          "execution_count": 9
        },
        {
          "output_type": "display_data",
          "data": {
            "text/plain": [
              "<Figure size 432x288 with 1 Axes>"
            ],
            "image/png": "[encoded data removed]"
          },
          "metadata": {
            "needs_background": "light"
          }
        }
      ]
    },
    {
      "cell_type": "markdown",
      "id": "24b94744-34ba-47f9-a0a0-438e5d24ea48",
      "metadata": {
        "id": "24b94744-34ba-47f9-a0a0-438e5d24ea48"
      },
      "source": [
        "### 문제 4. 가설 "
      ]
    },
    {
      "cell_type": "markdown",
      "id": "08c191c4-edca-488b-b8b7-ae0a6a247210",
      "metadata": {
        "id": "08c191c4-edca-488b-b8b7-ae0a6a247210"
      },
      "source": [
        "* 가설 : $ \\hat{y}=Wx +b$"
      ]
    },
    {
      "cell_type": "code",
      "execution_count": 10,
      "id": "31222d65-c650-457e-bed4-6f62347fa430",
      "metadata": {
        "id": "31222d65-c650-457e-bed4-6f62347fa430"
      },
      "outputs": [],
      "source": [
        "# 임의의 초기값 설정, 변수를 텐서플로우 변수로 정의하는 이유는 자동미분기능(GradientTape)을 사용하기 위함\n",
        "\n",
        "W = tf.Variable(2.0)\n",
        "b = tf.Variable(0.5)\n",
        "\n",
        "hypothesis = W * X + b"
      ]
    },
    {
      "cell_type": "code",
      "source": [
        "hypothesis"
      ],
      "metadata": {
        "id": "ihEK60Vqd1UP",
        "colab": {
          "base_uri": "https://localhost:8080/"
        },
        "outputId": "99a41860-aa9d-45dc-cff6-d88d0a77c0b0"
      },
      "id": "ihEK60Vqd1UP",
      "execution_count": 11,
      "outputs": [
        {
          "output_type": "execute_result",
          "data": {
            "text/plain": [
              "<tf.Tensor: shape=(4,), dtype=float32, numpy=array([ 4.5,  8.5, 12.5, 16.5], dtype=float32)>"
            ]
          },
          "metadata": {},
          "execution_count": 11
        }
      ]
    },
    {
      "cell_type": "markdown",
      "id": "22279cd8-182d-4ff0-8c8c-623f1869a70b",
      "metadata": {
        "id": "22279cd8-182d-4ff0-8c8c-623f1869a70b"
      },
      "source": [
        "Tensor에서 numpy array로 변환은 .numpy()함수를 사용합니다"
      ]
    },
    {
      "cell_type": "code",
      "execution_count": 12,
      "id": "e9f1fc36-1db5-4a12-ab5f-d2616e907259",
      "metadata": {
        "id": "e9f1fc36-1db5-4a12-ab5f-d2616e907259",
        "colab": {
          "base_uri": "https://localhost:8080/"
        },
        "outputId": "69192139-0237-49a8-b8bc-03502edc2a2b"
      },
      "outputs": [
        {
          "output_type": "execute_result",
          "data": {
            "text/plain": [
              "(<tf.Variable 'Variable:0' shape=() dtype=float32, numpy=2.0>, 2.0)"
            ]
          },
          "metadata": {},
          "execution_count": 12
        }
      ],
      "source": [
        "# 초기값 확인\n",
        "#Tensor에서 numpy array로 변환은 .numpy()함수 사용\n",
        "\n",
        "W, W.numpy()"
      ]
    },
    {
      "cell_type": "markdown",
      "id": "855378f0-e220-4e93-b1fe-c1eb34dea075",
      "metadata": {
        "id": "855378f0-e220-4e93-b1fe-c1eb34dea075"
      },
      "source": [
        "#### 가설의 시각화 "
      ]
    },
    {
      "cell_type": "code",
      "execution_count": 14,
      "id": "21547443-bc60-4971-8c63-e8b3f129368f",
      "metadata": {
        "id": "21547443-bc60-4971-8c63-e8b3f129368f",
        "outputId": "c7406826-b88f-4b6c-e20c-a7d7e94ce776",
        "colab": {
          "base_uri": "https://localhost:8080/",
          "height": 428
        }
      },
      "outputs": [
        {
          "output_type": "display_data",
          "data": {
            "text/plain": [
              "<Figure size 720x504 with 1 Axes>"
            ],
            "image/png": "[encoded data removed]"
          },
          "metadata": {
            "needs_background": "light"
          }
        }
      ],
      "source": [
        "plt.figure(figsize = (10,7))\n",
        "plt.plot(X, hypothesis.numpy(), 'r--')\n",
        "# 원래 plot은 선을 그리는 건데 색+o로 하면 (bo, go) 점으로 찍힘\n",
        "plt.plot(X, y, 'bo')\n",
        "plt.show()"
      ]
    },
    {
      "cell_type": "markdown",
      "id": "16b383ae-2131-4757-a770-e0731e587bbd",
      "metadata": {
        "id": "16b383ae-2131-4757-a770-e0731e587bbd"
      },
      "source": [
        "### 6. 비용 함수 (Cost Function)"
      ]
    },
    {
      "cell_type": "markdown",
      "id": "2d39d625-1ed6-47fd-ab8b-33d74a85a217",
      "metadata": {
        "id": "2d39d625-1ed6-47fd-ab8b-33d74a85a217"
      },
      "source": [
        "$$ \\hat{y}=Wx +b$$\n",
        "$$ cost(W)=\\frac { 1 }{ m } \\sum _{i=1}^{m}{ ({ y-\\hat{y}_{ i } })^{ 2 } }  $$"
      ]
    },
    {
      "cell_type": "code",
      "execution_count": 15,
      "id": "c47c473b-f6db-420a-a7c1-63baca3a8e04",
      "metadata": {
        "id": "c47c473b-f6db-420a-a7c1-63baca3a8e04",
        "colab": {
          "base_uri": "https://localhost:8080/"
        },
        "outputId": "204e22fb-6dd0-4506-e413-e19736343a73"
      },
      "outputs": [
        {
          "output_type": "execute_result",
          "data": {
            "text/plain": [
              "6408.75"
            ]
          },
          "metadata": {},
          "execution_count": 15
        }
      ],
      "source": [
        "# 현재 손실\n",
        "cost = tf.reduce_mean(tf.square(hypothesis - y))\n",
        "cost.numpy()"
      ]
    },
    {
      "cell_type": "markdown",
      "id": "8e02bfd5-3f0f-405b-b365-4458f355783e",
      "metadata": {
        "id": "8e02bfd5-3f0f-405b-b365-4458f355783e"
      },
      "source": [
        "### 7. 학습\n",
        "#### 자동 미분 기능"
      ]
    },
    {
      "cell_type": "markdown",
      "id": "c01f60f7-d33b-4b6b-9e09-ec907a7e8c56",
      "metadata": {
        "id": "c01f60f7-d33b-4b6b-9e09-ec907a7e8c56"
      },
      "source": [
        "* 텐서플로우의 자동미분 기능을 사용"
      ]
    },
    {
      "cell_type": "code",
      "execution_count": null,
      "id": "6f7c13b2-f344-43a4-bdb4-e742db7121da",
      "metadata": {
        "id": "6f7c13b2-f344-43a4-bdb4-e742db7121da"
      },
      "outputs": [],
      "source": [
        "# 손실함수의 미분값을 계산하세요\n",
        "\n",
        "with tf.GradientTape() as tape:\n",
        "  hypothesis = W * X + b\n",
        "  cost = tf.reduce_mean(tf.square(hypothesis - y))\n",
        "\n",
        "# tape.gradient는 편미분을 해서 테이프에 기록하겠다는 뜻\n",
        "# cost를 W로 편미분한 값이 리스트 0번째 값\n",
        "# cost를 b로 편미분한 값이 리스트 1번째 값\n",
        "# 이여서 W_grad, b_grad로 구함\n",
        "W_grad, b_grad = tape.gradient(cost, [W,b])"
      ]
    },
    {
      "cell_type": "code",
      "execution_count": null,
      "id": "81727d05-e4fc-42ee-b0ae-fd08d86a47a4",
      "metadata": {
        "id": "81727d05-e4fc-42ee-b0ae-fd08d86a47a4",
        "colab": {
          "base_uri": "https://localhost:8080/"
        },
        "outputId": "b7557776-df07-43a6-a8cd-71baf381314e"
      },
      "outputs": [
        {
          "output_type": "execute_result",
          "data": {
            "text/plain": [
              "(-803.0, -160.0)"
            ]
          },
          "metadata": {},
          "execution_count": 24
        }
      ],
      "source": [
        "# W와 b 계산값을 출력\n",
        "\n",
        "W_grad.numpy(), b_grad.numpy()"
      ]
    },
    {
      "cell_type": "markdown",
      "id": "c1774e85-69c9-4d83-a210-40022523596f",
      "metadata": {
        "id": "c1774e85-69c9-4d83-a210-40022523596f"
      },
      "source": [
        "#### 가중치와 기울기 갱신"
      ]
    },
    {
      "cell_type": "code",
      "execution_count": null,
      "id": "5bd6c5d5-5318-4733-9bb4-cf5ff26b4ed4",
      "metadata": {
        "id": "5bd6c5d5-5318-4733-9bb4-cf5ff26b4ed4",
        "colab": {
          "base_uri": "https://localhost:8080/"
        },
        "outputId": "879881f2-2ed6-49a2-e941-45d4b27f476f"
      },
      "outputs": [
        {
          "output_type": "execute_result",
          "data": {
            "text/plain": [
              "<tf.Variable 'UnreadVariable' shape=() dtype=float32, numpy=2.1>"
            ]
          },
          "metadata": {},
          "execution_count": 25
        }
      ],
      "source": [
        "learning_rate = 0.01\n",
        "\n",
        "# assign_sub를 통해 W = W- (learning_rate * W_grad)\n",
        "# 를 구현함\n",
        "\n",
        "W.assign_sub(learning_rate * W_grad)\n",
        "b.assign_sub(learning_rate * b_grad)"
      ]
    },
    {
      "cell_type": "markdown",
      "source": [
        "![image.png](data:image/png;base64,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)"
      ],
      "metadata": {
        "id": "mhmOrjESlWeV"
      },
      "id": "mhmOrjESlWeV"
    },
    {
      "cell_type": "code",
      "execution_count": null,
      "id": "be0272a3-d78a-4e3c-a6a3-dc8c8505d57a",
      "metadata": {
        "id": "be0272a3-d78a-4e3c-a6a3-dc8c8505d57a",
        "colab": {
          "base_uri": "https://localhost:8080/"
        },
        "outputId": "7caeaddd-66c4-435f-df83-f6fdf21a1b86"
      },
      "outputs": [
        {
          "output_type": "execute_result",
          "data": {
            "text/plain": [
              "(10.03, 2.1)"
            ]
          },
          "metadata": {},
          "execution_count": 27
        }
      ],
      "source": [
        "# W와 b 계산값을 출력하세요\n",
        "\n",
        "W.numpy(), b.numpy()"
      ]
    },
    {
      "cell_type": "markdown",
      "id": "b385e5a5-860e-478b-9be4-492100dfecbb",
      "metadata": {
        "id": "b385e5a5-860e-478b-9be4-492100dfecbb"
      },
      "source": [
        "#### 현재 상태 시각화"
      ]
    },
    {
      "cell_type": "code",
      "execution_count": null,
      "id": "32adb49a-5b32-4969-8da3-55bfd0fc897f",
      "metadata": {
        "id": "32adb49a-5b32-4969-8da3-55bfd0fc897f",
        "colab": {
          "base_uri": "https://localhost:8080/",
          "height": 429
        },
        "outputId": "cf89a89a-7633-4733-b481-5c1ab2f96436"
      },
      "outputs": [
        {
          "output_type": "display_data",
          "data": {
            "text/plain": [
              "<Figure size 720x504 with 1 Axes>"
            ],
            "image/png": "[encoded data removed]"
          },
          "metadata": {
            "needs_background": "light"
          }
        }
      ],
      "source": [
        "hypothesis = W*X + b\n",
        "\n",
        "plt.figure(figsize = (10,7))\n",
        "plt.plot(X, hypothesis.numpy(), 'r--')\n",
        "plt.plot(X, y, 'go') # plot은 원래 선으로 그리는데 go 로 하면 점으로 찍힘\n",
        "plt.show()"
      ]
    },
    {
      "cell_type": "markdown",
      "id": "1c968e8a-11c2-4f81-9f9f-12fc10c874f5",
      "metadata": {
        "id": "1c968e8a-11c2-4f81-9f9f-12fc10c874f5"
      },
      "source": [
        "### 8. 경사하강법 (Gradient Descent)"
      ]
    },
    {
      "cell_type": "code",
      "execution_count": 27,
      "id": "d692e2dd-b92d-4f62-b3b8-ed94389cb4a1",
      "metadata": {
        "id": "d692e2dd-b92d-4f62-b3b8-ed94389cb4a1"
      },
      "outputs": [],
      "source": [
        "W = tf.Variable(2.9)\n",
        "b = tf.Variable(0.5)\n",
        "\n",
        "learning_rate = 0.01\n",
        "lr = 0.01\n",
        "epochs = 2000 # 위의 동작을 2000번 반복"
      ]
    },
    {
      "cell_type": "code",
      "source": [
        "for i in range(epochs+1):\n",
        "  with tf.GradientTape() as tape:\n",
        "    hypothesis = W*X + b\n",
        "    cost = tf.reduce_mean(tf.square(hypothesis-y))\n",
        "\n",
        "  W_grad, b_grad = tape.gradient(cost, [W, b])\n",
        "  W.assign_sub(lr*W_grad)\n",
        "  b.assign_sub(lr*b_grad)\n",
        "  \n",
        "  if i%10 == 0:\n",
        "    print(f\"{i:5} | W={W.numpy():.4f} | b={b.numpy():.4f} | cost={cost: .6f}\")\n",
        "  "
      ],
      "metadata": {
        "colab": {
          "base_uri": "https://localhost:8080/"
        },
        "id": "Y-U1o3Bbyurt",
        "outputId": "ea0a6a6d-fad9-43e9-9f5f-ab4b72f0cdd9"
      },
      "id": "Y-U1o3Bbyurt",
      "execution_count": 28,
      "outputs": [
        {
          "output_type": "stream",
          "name": "stdout",
          "text": [
            "    0 | W=10.3900 | b=2.0100 | cost= 5710.350098\n",
            "   10 | W=14.6615 | b=5.2296 | cost= 921.356567\n",
            "   20 | W=14.2668 | b=7.5873 | cost= 863.929199\n",
            "   30 | W=13.8844 | b=9.8695 | cost= 810.113647\n",
            "   40 | W=13.5141 | b=12.0788 | cost= 759.683044\n",
            "   50 | W=13.1558 | b=14.2175 | cost= 712.424255\n",
            "   60 | W=12.8088 | b=16.2879 | cost= 668.137756\n",
            "   70 | W=12.4730 | b=18.2921 | cost= 626.636780\n",
            "   80 | W=12.1479 | b=20.2322 | cost= 587.746033\n",
            "   90 | W=11.8331 | b=22.1103 | cost= 551.301331\n",
            "  100 | W=11.5285 | b=23.9284 | cost= 517.148865\n",
            "  110 | W=11.2335 | b=25.6884 | cost= 485.144318\n",
            "  120 | W=10.9480 | b=27.3922 | cost= 455.153015\n",
            "  130 | W=10.6717 | b=29.0415 | cost= 427.047974\n",
            "  140 | W=10.4041 | b=30.6381 | cost= 400.710419\n",
            "  150 | W=10.1451 | b=32.1837 | cost= 376.029510\n",
            "  160 | W=9.8944 | b=33.6799 | cost= 352.900818\n",
            "  170 | W=9.6517 | b=35.1282 | cost= 331.226929\n",
            "  180 | W=9.4167 | b=36.5303 | cost= 310.916260\n",
            "  190 | W=9.1893 | b=37.8876 | cost= 291.882935\n",
            "  200 | W=8.9691 | b=39.2015 | cost= 274.046814\n",
            "  210 | W=8.7560 | b=40.4734 | cost= 257.332275\n",
            "  220 | W=8.5497 | b=41.7046 | cost= 241.669296\n",
            "  230 | W=8.3499 | b=42.8965 | cost= 226.991226\n",
            "  240 | W=8.1566 | b=44.0504 | cost= 213.236603\n",
            "  250 | W=7.9694 | b=45.1673 | cost= 200.346939\n",
            "  260 | W=7.7882 | b=46.2485 | cost= 188.267990\n",
            "  270 | W=7.6128 | b=47.2952 | cost= 176.948715\n",
            "  280 | W=7.4431 | b=48.3085 | cost= 166.341492\n",
            "  290 | W=7.2787 | b=49.2893 | cost= 156.401367\n",
            "  300 | W=7.1196 | b=50.2388 | cost= 147.086487\n",
            "  310 | W=6.9656 | b=51.1580 | cost= 138.357422\n",
            "  320 | W=6.8164 | b=52.0478 | cost= 130.177414\n",
            "  330 | W=6.6721 | b=52.9091 | cost= 122.511810\n",
            "  340 | W=6.5324 | b=53.7430 | cost= 115.328392\n",
            "  350 | W=6.3971 | b=54.5501 | cost= 108.596748\n",
            "  360 | W=6.2662 | b=55.3315 | cost= 102.288467\n",
            "  370 | W=6.1394 | b=56.0879 | cost= 96.376968\n",
            "  380 | W=6.0167 | b=56.8202 | cost= 90.837311\n",
            "  390 | W=5.8979 | b=57.5290 | cost= 85.646080\n",
            "  400 | W=5.7830 | b=58.2152 | cost= 80.781250\n",
            "  410 | W=5.6716 | b=58.8795 | cost= 76.222511\n",
            "  420 | W=5.5639 | b=59.5225 | cost= 71.950493\n",
            "  430 | W=5.4596 | b=60.1449 | cost= 67.947136\n",
            "  440 | W=5.3586 | b=60.7475 | cost= 64.195618\n",
            "  450 | W=5.2609 | b=61.3308 | cost= 60.680038\n",
            "  460 | W=5.1662 | b=61.8955 | cost= 57.385551\n",
            "  470 | W=5.0746 | b=62.4422 | cost= 54.298279\n",
            "  480 | W=4.9860 | b=62.9713 | cost= 51.405190\n",
            "  490 | W=4.9001 | b=63.4836 | cost= 48.694061\n",
            "  500 | W=4.8170 | b=63.9795 | cost= 46.153404\n",
            "  510 | W=4.7366 | b=64.4595 | cost= 43.772598\n",
            "  520 | W=4.6587 | b=64.9242 | cost= 41.541553\n",
            "  530 | W=4.5833 | b=65.3740 | cost= 39.450867\n",
            "  540 | W=4.5104 | b=65.8095 | cost= 37.491623\n",
            "  550 | W=4.4397 | b=66.2310 | cost= 35.655624\n",
            "  560 | W=4.3713 | b=66.6391 | cost= 33.935051\n",
            "  570 | W=4.3051 | b=67.0341 | cost= 32.322693\n",
            "  580 | W=4.2411 | b=67.4165 | cost= 30.811789\n",
            "  590 | W=4.1790 | b=67.7867 | cost= 29.395920\n",
            "  600 | W=4.1190 | b=68.1451 | cost= 28.069046\n",
            "  610 | W=4.0608 | b=68.4920 | cost= 26.825640\n",
            "  620 | W=4.0046 | b=68.8278 | cost= 25.660450\n",
            "  630 | W=3.9501 | b=69.1529 | cost= 24.568493\n",
            "  640 | W=3.8974 | b=69.4676 | cost= 23.545280\n",
            "  650 | W=3.8463 | b=69.7723 | cost= 22.586433\n",
            "  660 | W=3.7969 | b=70.0672 | cost= 21.687891\n",
            "  670 | W=3.7491 | b=70.3526 | cost= 20.845886\n",
            "  680 | W=3.7027 | b=70.6290 | cost= 20.056774\n",
            "  690 | W=3.6579 | b=70.8965 | cost= 19.317337\n",
            "  700 | W=3.6145 | b=71.1555 | cost= 18.624388\n",
            "  710 | W=3.5725 | b=71.4062 | cost= 17.975048\n",
            "  720 | W=3.5318 | b=71.6489 | cost= 17.366518\n",
            "  730 | W=3.4925 | b=71.8838 | cost= 16.796310\n",
            "  740 | W=3.4544 | b=72.1112 | cost= 16.261915\n",
            "  750 | W=3.4175 | b=72.3314 | cost= 15.761154\n",
            "  760 | W=3.3818 | b=72.5445 | cost= 15.291851\n",
            "  770 | W=3.3472 | b=72.7508 | cost= 14.852098\n",
            "  780 | W=3.3137 | b=72.9505 | cost= 14.440009\n",
            "  790 | W=3.2813 | b=73.1439 | cost= 14.053819\n",
            "  800 | W=3.2500 | b=73.3310 | cost= 13.691942\n",
            "  810 | W=3.2196 | b=73.5122 | cost= 13.352820\n",
            "  820 | W=3.1902 | b=73.6876 | cost= 13.035003\n",
            "  830 | W=3.1618 | b=73.8573 | cost= 12.737198\n",
            "  840 | W=3.1342 | b=74.0217 | cost= 12.458087\n",
            "  850 | W=3.1076 | b=74.1808 | cost= 12.196555\n",
            "  860 | W=3.0818 | b=74.3348 | cost= 11.951487\n",
            "  870 | W=3.0568 | b=74.4839 | cost= 11.721824\n",
            "  880 | W=3.0326 | b=74.6282 | cost= 11.506618\n",
            "  890 | W=3.0092 | b=74.7680 | cost= 11.304940\n",
            "  900 | W=2.9865 | b=74.9032 | cost= 11.115941\n",
            "  910 | W=2.9646 | b=75.0341 | cost= 10.938822\n",
            "  920 | W=2.9433 | b=75.1609 | cost= 10.772862\n",
            "  930 | W=2.9228 | b=75.2836 | cost= 10.617330\n",
            "  940 | W=2.9029 | b=75.4023 | cost= 10.471590\n",
            "  950 | W=2.8836 | b=75.5173 | cost= 10.335010\n",
            "  960 | W=2.8650 | b=75.6286 | cost= 10.207032\n",
            "  970 | W=2.8469 | b=75.7363 | cost= 10.087099\n",
            "  980 | W=2.8294 | b=75.8406 | cost= 9.974686\n",
            "  990 | W=2.8125 | b=75.9416 | cost= 9.869359\n",
            " 1000 | W=2.7961 | b=76.0394 | cost= 9.770640\n",
            " 1010 | W=2.7803 | b=76.1340 | cost= 9.678154\n",
            " 1020 | W=2.7649 | b=76.2255 | cost= 9.591482\n",
            " 1030 | W=2.7501 | b=76.3142 | cost= 9.510267\n",
            " 1040 | W=2.7357 | b=76.4000 | cost= 9.434133\n",
            " 1050 | W=2.7218 | b=76.4831 | cost= 9.362807\n",
            " 1060 | W=2.7083 | b=76.5636 | cost= 9.295967\n",
            " 1070 | W=2.6952 | b=76.6414 | cost= 9.233305\n",
            " 1080 | W=2.6826 | b=76.7168 | cost= 9.174614\n",
            " 1090 | W=2.6704 | b=76.7898 | cost= 9.119604\n",
            " 1100 | W=2.6585 | b=76.8604 | cost= 9.068078\n",
            " 1110 | W=2.6471 | b=76.9288 | cost= 9.019753\n",
            " 1120 | W=2.6360 | b=76.9950 | cost= 8.974488\n",
            " 1130 | W=2.6253 | b=77.0590 | cost= 8.932073\n",
            " 1140 | W=2.6149 | b=77.1211 | cost= 8.892311\n",
            " 1150 | W=2.6048 | b=77.1811 | cost= 8.855063\n",
            " 1160 | W=2.5951 | b=77.2393 | cost= 8.820144\n",
            " 1170 | W=2.5856 | b=77.2955 | cost= 8.787426\n",
            " 1180 | W=2.5765 | b=77.3500 | cost= 8.756783\n",
            " 1190 | W=2.5677 | b=77.4027 | cost= 8.728055\n",
            " 1200 | W=2.5591 | b=77.4538 | cost= 8.701128\n",
            " 1210 | W=2.5508 | b=77.5032 | cost= 8.675889\n",
            " 1220 | W=2.5428 | b=77.5510 | cost= 8.652248\n",
            " 1230 | W=2.5350 | b=77.5973 | cost= 8.630090\n",
            " 1240 | W=2.5275 | b=77.6422 | cost= 8.609346\n",
            " 1250 | W=2.5203 | b=77.6856 | cost= 8.589882\n",
            " 1260 | W=2.5132 | b=77.7276 | cost= 8.571640\n",
            " 1270 | W=2.5064 | b=77.7682 | cost= 8.554569\n",
            " 1280 | W=2.4998 | b=77.8076 | cost= 8.538553\n",
            " 1290 | W=2.4934 | b=77.8457 | cost= 8.523550\n",
            " 1300 | W=2.4872 | b=77.8826 | cost= 8.509480\n",
            " 1310 | W=2.4813 | b=77.9183 | cost= 8.496305\n",
            " 1320 | W=2.4755 | b=77.9529 | cost= 8.483971\n",
            " 1330 | W=2.4699 | b=77.9863 | cost= 8.472402\n",
            " 1340 | W=2.4644 | b=78.0187 | cost= 8.461546\n",
            " 1350 | W=2.4592 | b=78.0501 | cost= 8.451389\n",
            " 1360 | W=2.4541 | b=78.0804 | cost= 8.441875\n",
            " 1370 | W=2.4492 | b=78.1098 | cost= 8.432960\n",
            " 1380 | W=2.4444 | b=78.1383 | cost= 8.424595\n",
            " 1390 | W=2.4398 | b=78.1658 | cost= 8.416751\n",
            " 1400 | W=2.4353 | b=78.1925 | cost= 8.409400\n",
            " 1410 | W=2.4310 | b=78.2183 | cost= 8.402517\n",
            " 1420 | W=2.4268 | b=78.2433 | cost= 8.396086\n",
            " 1430 | W=2.4228 | b=78.2674 | cost= 8.390029\n",
            " 1440 | W=2.4188 | b=78.2908 | cost= 8.384377\n",
            " 1450 | W=2.4150 | b=78.3135 | cost= 8.379081\n",
            " 1460 | W=2.4114 | b=78.3354 | cost= 8.374099\n",
            " 1470 | W=2.4078 | b=78.3567 | cost= 8.369437\n",
            " 1480 | W=2.4044 | b=78.3772 | cost= 8.365071\n",
            " 1490 | W=2.4010 | b=78.3971 | cost= 8.360976\n",
            " 1500 | W=2.3978 | b=78.4164 | cost= 8.357142\n",
            " 1510 | W=2.3947 | b=78.4351 | cost= 8.353549\n",
            " 1520 | W=2.3916 | b=78.4531 | cost= 8.350174\n",
            " 1530 | W=2.3887 | b=78.4706 | cost= 8.347016\n",
            " 1540 | W=2.3859 | b=78.4875 | cost= 8.344069\n",
            " 1550 | W=2.3831 | b=78.5039 | cost= 8.341297\n",
            " 1560 | W=2.3805 | b=78.5197 | cost= 8.338694\n",
            " 1570 | W=2.3779 | b=78.5351 | cost= 8.336266\n",
            " 1580 | W=2.3754 | b=78.5499 | cost= 8.333993\n",
            " 1590 | W=2.3730 | b=78.5643 | cost= 8.331850\n",
            " 1600 | W=2.3707 | b=78.5782 | cost= 8.329845\n",
            " 1610 | W=2.3684 | b=78.5917 | cost= 8.327966\n",
            " 1620 | W=2.3662 | b=78.6048 | cost= 8.326200\n",
            " 1630 | W=2.3641 | b=78.6174 | cost= 8.324570\n",
            " 1640 | W=2.3621 | b=78.6296 | cost= 8.323014\n",
            " 1650 | W=2.3601 | b=78.6415 | cost= 8.321568\n",
            " 1660 | W=2.3582 | b=78.6529 | cost= 8.320213\n",
            " 1670 | W=2.3563 | b=78.6640 | cost= 8.318940\n",
            " 1680 | W=2.3545 | b=78.6747 | cost= 8.317760\n",
            " 1690 | W=2.3528 | b=78.6851 | cost= 8.316644\n",
            " 1700 | W=2.3511 | b=78.6952 | cost= 8.315588\n",
            " 1710 | W=2.3494 | b=78.7049 | cost= 8.314607\n",
            " 1720 | W=2.3479 | b=78.7144 | cost= 8.313697\n",
            " 1730 | W=2.3463 | b=78.7235 | cost= 8.312827\n",
            " 1740 | W=2.3449 | b=78.7323 | cost= 8.312013\n",
            " 1750 | W=2.3434 | b=78.7409 | cost= 8.311274\n",
            " 1760 | W=2.3420 | b=78.7492 | cost= 8.310557\n",
            " 1770 | W=2.3407 | b=78.7572 | cost= 8.309884\n",
            " 1780 | W=2.3394 | b=78.7650 | cost= 8.309269\n",
            " 1790 | W=2.3381 | b=78.7725 | cost= 8.308696\n",
            " 1800 | W=2.3369 | b=78.7797 | cost= 8.308147\n",
            " 1810 | W=2.3357 | b=78.7868 | cost= 8.307627\n",
            " 1820 | W=2.3346 | b=78.7936 | cost= 8.307157\n",
            " 1830 | W=2.3335 | b=78.8002 | cost= 8.306699\n",
            " 1840 | W=2.3324 | b=78.8066 | cost= 8.306287\n",
            " 1850 | W=2.3314 | b=78.8128 | cost= 8.305872\n",
            " 1860 | W=2.3304 | b=78.8187 | cost= 8.305511\n",
            " 1870 | W=2.3294 | b=78.8245 | cost= 8.305165\n",
            " 1880 | W=2.3285 | b=78.8301 | cost= 8.304839\n",
            " 1890 | W=2.3276 | b=78.8356 | cost= 8.304544\n",
            " 1900 | W=2.3267 | b=78.8408 | cost= 8.304251\n",
            " 1910 | W=2.3258 | b=78.8459 | cost= 8.303984\n",
            " 1920 | W=2.3250 | b=78.8508 | cost= 8.303735\n",
            " 1930 | W=2.3242 | b=78.8556 | cost= 8.303498\n",
            " 1940 | W=2.3234 | b=78.8602 | cost= 8.303277\n",
            " 1950 | W=2.3227 | b=78.8647 | cost= 8.303073\n",
            " 1960 | W=2.3220 | b=78.8690 | cost= 8.302878\n",
            " 1970 | W=2.3212 | b=78.8732 | cost= 8.302709\n",
            " 1980 | W=2.3206 | b=78.8773 | cost= 8.302527\n",
            " 1990 | W=2.3199 | b=78.8812 | cost= 8.302371\n",
            " 2000 | W=2.3193 | b=78.8850 | cost= 8.302218\n"
          ]
        }
      ]
    },
    {
      "cell_type": "code",
      "source": [
        "# lr을 너무 작게 하면 학습이 너무 오래 걸림\n",
        "W = tf.Variable(2.9)\n",
        "b = tf.Variable(0.5)\n",
        "\n",
        "lr = 0.001\n",
        "epochs = 20000 # 위의 동작을 2000번 반복\n",
        "\n",
        "for i in range(epochs+1):\n",
        "  with tf.GradientTape() as tape:\n",
        "    hypothesis = W*X + b\n",
        "    cost = tf.reduce_mean(tf.square(hypothesis-y))\n",
        "\n",
        "  W_grad, b_grad = tape.gradient(cost, [W, b])\n",
        "  W.assign_sub(lr*W_grad)\n",
        "  b.assign_sub(lr*b_grad)\n",
        "  \n",
        "  if i%2000 == 0:\n",
        "    print(f\"{i:5} | W={W.numpy():.4f} | b={b.numpy():.4f} | cost={cost: .6f}\")\n",
        "  "
      ],
      "metadata": {
        "colab": {
          "base_uri": "https://localhost:8080/"
        },
        "id": "kP4hg5OJozSu",
        "outputId": "9dc3ae27-2e8b-4c5c-cdfe-673df919506a"
      },
      "id": "kP4hg5OJozSu",
      "execution_count": 30,
      "outputs": [
        {
          "output_type": "stream",
          "name": "stdout",
          "text": [
            "    0 | W=3.6490 | b=0.6510 | cost= 5710.350098\n",
            " 2000 | W=8.9950 | b=39.0471 | cost= 274.551208\n",
            " 4000 | W=5.7998 | b=58.1147 | cost= 81.056976\n",
            " 6000 | W=4.1295 | b=68.0823 | cost= 28.181976\n",
            " 8000 | W=3.2564 | b=73.2928 | cost= 13.733016\n",
            "10000 | W=2.7999 | b=76.0166 | cost= 9.784677\n",
            "12000 | W=2.5614 | b=77.4404 | cost= 8.705734\n",
            "14000 | W=2.4366 | b=78.1846 | cost= 8.410903\n",
            "16000 | W=2.3715 | b=78.5736 | cost= 8.330323\n",
            "18000 | W=2.3374 | b=78.7771 | cost= 8.308301\n",
            "20000 | W=2.3196 | b=78.8829 | cost= 8.302296\n"
          ]
        }
      ]
    },
    {
      "cell_type": "code",
      "execution_count": 31,
      "id": "cd2c9ef6-a2b6-4ab3-9577-3e31b8c1faea",
      "metadata": {
        "id": "cd2c9ef6-a2b6-4ab3-9577-3e31b8c1faea",
        "colab": {
          "base_uri": "https://localhost:8080/"
        },
        "outputId": "d49b9e2d-93ba-4bca-9316-5b96ea9fbe3f"
      },
      "outputs": [
        {
          "output_type": "stream",
          "name": "stdout",
          "text": [
            "    0 | W=77.8000 | b=15.6000 | cost= 5710.350098\n",
            "  100 | W=nan | b=nan | cost= nan\n",
            "  200 | W=nan | b=nan | cost= nan\n",
            "  300 | W=nan | b=nan | cost= nan\n",
            "  400 | W=nan | b=nan | cost= nan\n",
            "  500 | W=nan | b=nan | cost= nan\n",
            "  600 | W=nan | b=nan | cost= nan\n",
            "  700 | W=nan | b=nan | cost= nan\n",
            "  800 | W=nan | b=nan | cost= nan\n",
            "  900 | W=nan | b=nan | cost= nan\n",
            " 1000 | W=nan | b=nan | cost= nan\n",
            " 1100 | W=nan | b=nan | cost= nan\n",
            " 1200 | W=nan | b=nan | cost= nan\n",
            " 1300 | W=nan | b=nan | cost= nan\n",
            " 1400 | W=nan | b=nan | cost= nan\n",
            " 1500 | W=nan | b=nan | cost= nan\n",
            " 1600 | W=nan | b=nan | cost= nan\n",
            " 1700 | W=nan | b=nan | cost= nan\n",
            " 1800 | W=nan | b=nan | cost= nan\n",
            " 1900 | W=nan | b=nan | cost= nan\n",
            " 2000 | W=nan | b=nan | cost= nan\n"
          ]
        }
      ],
      "source": [
        "# 그러나 lr을 너무 크게 하면 학습이 정상적으로 이뤄지지 않음\n",
        "W = tf.Variable(2.9)\n",
        "b = tf.Variable(0.5)\n",
        "\n",
        "lr = 0.1\n",
        "epochs = 2000 # 위의 동작을 2000번 반복\n",
        "\n",
        "for i in range(epochs+1):\n",
        "  with tf.GradientTape() as tape:\n",
        "    hypothesis = W*X + b\n",
        "    cost = tf.reduce_mean(tf.square(hypothesis-y))\n",
        "\n",
        "  W_grad, b_grad = tape.gradient(cost, [W, b])\n",
        "  W.assign_sub(lr*W_grad)\n",
        "  b.assign_sub(lr*b_grad)\n",
        "  \n",
        "  if i%100 == 0:\n",
        "    print(f\"{i:5} | W={W.numpy():.4f} | b={b.numpy():.4f} | cost={cost: .6f}\")\n",
        "  "
      ]
    },
    {
      "cell_type": "markdown",
      "id": "08be816c-a6f0-4b55-a54f-c35219cb8f3f",
      "metadata": {
        "id": "08be816c-a6f0-4b55-a54f-c35219cb8f3f"
      },
      "source": [
        "#### 학습결과 시각화"
      ]
    },
    {
      "cell_type": "code",
      "execution_count": null,
      "id": "a99e534d-f317-4016-96ee-775537c66f00",
      "metadata": {
        "id": "a99e534d-f317-4016-96ee-775537c66f00",
        "colab": {
          "base_uri": "https://localhost:8080/",
          "height": 428
        },
        "outputId": "471c9972-19be-4a25-80ee-1f150013beac"
      },
      "outputs": [
        {
          "output_type": "display_data",
          "data": {
            "text/plain": [
              "<Figure size 720x504 with 1 Axes>"
            ],
            "image/png": "[encoded data removed]"
          },
          "metadata": {
            "needs_background": "light"
          }
        }
      ],
      "source": [
        "hypothesis = W*X + b\n",
        "\n",
        "plt.figure(figsize = (10,7))\n",
        "plt.plot(X, hypothesis.numpy(), 'r--')\n",
        "plt.plot(X, y, 'go') # plot은 원래 선으로 그리는데 go 로 하면 점으로 찍힘\n",
        "plt.show()"
      ]
    },
    {
      "cell_type": "markdown",
      "id": "2a345c62-177c-4fb7-ad3a-d9b9311430c2",
      "metadata": {
        "id": "2a345c62-177c-4fb7-ad3a-d9b9311430c2"
      },
      "source": [
        "### 9. 예측하기"
      ]
    },
    {
      "cell_type": "markdown",
      "id": "b234c2c1-c176-4180-bb8f-f9c9228ddebd",
      "metadata": {
        "id": "b234c2c1-c176-4180-bb8f-f9c9228ddebd"
      },
      "source": [
        "> * 5시간 공부하면 몇점 받을 수 있을까?"
      ]
    },
    {
      "cell_type": "code",
      "execution_count": null,
      "id": "a1a442ae-f6e6-4384-9a17-3df570f392b0",
      "metadata": {
        "id": "a1a442ae-f6e6-4384-9a17-3df570f392b0",
        "colab": {
          "base_uri": "https://localhost:8080/"
        },
        "outputId": "ae70782f-ba58-455a-ff65-ac9a019ea988"
      },
      "outputs": [
        {
          "output_type": "execute_result",
          "data": {
            "text/plain": [
              "(2.069289, 80.1381)"
            ]
          },
          "metadata": {},
          "execution_count": 44
        }
      ],
      "source": [
        "W.numpy(), b.numpy()"
      ]
    },
    {
      "cell_type": "code",
      "execution_count": null,
      "id": "53f5c012-8c51-4a2d-a2e3-082ee4725448",
      "metadata": {
        "id": "53f5c012-8c51-4a2d-a2e3-082ee4725448",
        "colab": {
          "base_uri": "https://localhost:8080/"
        },
        "outputId": "28a55d65-b544-4ce1-a7e2-ebced1bbb7c5"
      },
      "outputs": [
        {
          "output_type": "execute_result",
          "data": {
            "text/plain": [
              "90.48454"
            ]
          },
          "metadata": {},
          "execution_count": 45
        }
      ],
      "source": [
        "(5 * W + b).numpy()"
      ]
    },
    {
      "cell_type": "markdown",
      "id": "af707327-ce64-432b-a5ab-9797df160370",
      "metadata": {
        "id": "af707327-ce64-432b-a5ab-9797df160370"
      },
      "source": [
        "끝"
      ]
    }
  ],
  "metadata": {
    "kernelspec": {
      "display_name": "Python 3",
      "name": "python3"
    },
    "language_info": {
      "name": "python"
    },
    "colab": {
      "name": "텐서플로우1-단순선형회귀.ipynb",
      "provenance": [],
      "collapsed_sections": []
    },
    "accelerator": "TPU",
    "gpuClass": "standard"
  },
  "nbformat": 4,
  "nbformat_minor": 5
}