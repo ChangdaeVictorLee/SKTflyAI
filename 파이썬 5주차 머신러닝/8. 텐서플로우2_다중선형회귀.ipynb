{
  "cells": [
    {
      "cell_type": "markdown",
      "id": "0459c35c-45c5-46ee-bdbd-3c83de0342e6",
      "metadata": {
        "id": "0459c35c-45c5-46ee-bdbd-3c83de0342e6"
      },
      "source": [
        "# 주제 : 다중 선형회귀 (Multiple Linear Regression)\n",
        "---"
      ]
    },
    {
      "cell_type": "markdown",
      "id": "59d40881-1f52-4783-b7f1-e944134ab740",
      "metadata": {
        "id": "59d40881-1f52-4783-b7f1-e944134ab740"
      },
      "source": [
        "* 독립 변수가 2개 이상인 데이터의 선형 회귀문제"
      ]
    },
    {
      "cell_type": "markdown",
      "id": "d5bade6a-81f6-46c1-ad4d-044e0bfafda8",
      "metadata": {
        "id": "d5bade6a-81f6-46c1-ad4d-044e0bfafda8"
      },
      "source": [
        "### 문제 1. 라이브러리"
      ]
    },
    {
      "cell_type": "code",
      "execution_count": null,
      "id": "c63440f8-ef13-4474-ac49-4b27ab6f84d3",
      "metadata": {
        "id": "c63440f8-ef13-4474-ac49-4b27ab6f84d3"
      },
      "outputs": [],
      "source": [
        "import tensorflow as tf"
      ]
    },
    {
      "cell_type": "code",
      "execution_count": null,
      "id": "276645b0-3d6e-4644-99a5-6879291ce5c4",
      "metadata": {
        "id": "276645b0-3d6e-4644-99a5-6879291ce5c4"
      },
      "outputs": [],
      "source": [
        "import numpy as np\n",
        "import pandas as pd\n",
        "import matplotlib.pyplot as plt\n",
        "\n",
        "# warning 꺼주는 작업\n",
        "import warnings\n",
        "warnings.filterwarnings(action='ignore')"
      ]
    },
    {
      "cell_type": "markdown",
      "id": "207ed436-b577-4caf-aa99-4f7b0277a8b9",
      "metadata": {
        "id": "207ed436-b577-4caf-aa99-4f7b0277a8b9"
      },
      "source": [
        "### 문제 2. 데이터 만들기"
      ]
    },
    {
      "cell_type": "code",
      "execution_count": null,
      "id": "0da9b7e2-d4bf-482a-b235-80d3a0a0d553",
      "metadata": {
        "id": "0da9b7e2-d4bf-482a-b235-80d3a0a0d553"
      },
      "outputs": [],
      "source": [
        "x1_data = [1, 0, 3, 0, 5]\n",
        "x2_data = [0, 2, 0, 4, 0]\n",
        "y_data = [1, 2, 3, 4, 5]"
      ]
    },
    {
      "cell_type": "markdown",
      "id": "aa620daa-ea20-4d4b-9756-39d552daa5de",
      "metadata": {
        "id": "aa620daa-ea20-4d4b-9756-39d552daa5de"
      },
      "source": [
        "### 문제 3. 경사하강법"
      ]
    },
    {
      "cell_type": "markdown",
      "id": "26bd0c3c-1338-4df9-b03e-9995dded0a2e",
      "metadata": {
        "id": "26bd0c3c-1338-4df9-b03e-9995dded0a2e"
      },
      "source": [
        "가설: $$  \\hat{y}=W_1x_1 + W_2x_2 +b  $$"
      ]
    },
    {
      "cell_type": "markdown",
      "id": "9f9fc05a-c2b0-44e2-9e48-424293f9e50a",
      "metadata": {
        "id": "9f9fc05a-c2b0-44e2-9e48-424293f9e50a"
      },
      "source": [
        "#### 변수 초기화"
      ]
    },
    {
      "cell_type": "code",
      "execution_count": null,
      "id": "fb06eec9-f7c9-488a-a4c8-92eff292e5e7",
      "metadata": {
        "id": "fb06eec9-f7c9-488a-a4c8-92eff292e5e7"
      },
      "outputs": [],
      "source": [
        "W1 = tf.Variable(tf.random.uniform((1,), -10.0, 10.0))\n",
        "W2 = tf.Variable(tf.random.uniform((1,), -10.0, 10.0))\n",
        "b = tf.Variable(tf.random.uniform((1,), -10.0, 10.0))\n",
        "\n",
        "learning_rate = tf.constant(0.001)\n",
        "epochs = 1000\n",
        "costs = []"
      ]
    },
    {
      "cell_type": "code",
      "execution_count": null,
      "id": "e0b1f5d8-f4bc-4933-b85c-14f0f2166ad5",
      "metadata": {
        "id": "e0b1f5d8-f4bc-4933-b85c-14f0f2166ad5",
        "colab": {
          "base_uri": "https://localhost:8080/"
        },
        "outputId": "04d2426e-9072-46f6-c82a-aceb0152c2f3"
      },
      "outputs": [
        {
          "output_type": "stream",
          "name": "stdout",
          "text": [
            "[5.4233723] [-4.4943905] [4.189768]\n"
          ]
        }
      ],
      "source": [
        "# 가중치가 배열 형태 \n",
        "\n",
        "print(W1.numpy(), W2.numpy(), b.numpy())"
      ]
    },
    {
      "cell_type": "markdown",
      "id": "5e7f2784-0408-4890-81ce-506fdae26211",
      "metadata": {
        "id": "5e7f2784-0408-4890-81ce-506fdae26211"
      },
      "source": [
        "#### 경사하강법"
      ]
    },
    {
      "cell_type": "code",
      "source": [
        "# 변수초기화\n",
        "W1 = tf.Variable(tf.random.uniform((1,), -10.0, 10.0))\n",
        "W2 = tf.Variable(tf.random.uniform((1,), -10.0, 10.0))\n",
        "b = tf.Variable(tf.random.uniform((1,), -10.0, 10.0))\n",
        "\n",
        "learning_rate = tf.constant(0.001)\n",
        "epochs = 1000\n",
        "costs = []"
      ],
      "metadata": {
        "id": "UxaJdYFQp3xw"
      },
      "id": "UxaJdYFQp3xw",
      "execution_count": null,
      "outputs": []
    },
    {
      "cell_type": "code",
      "execution_count": null,
      "id": "717a4c2b-6433-432e-9190-3749215ef911",
      "metadata": {
        "id": "717a4c2b-6433-432e-9190-3749215ef911",
        "colab": {
          "base_uri": "https://localhost:8080/"
        },
        "outputId": "d1c500af-36ae-4824-ec6a-fd9514924ea7"
      },
      "outputs": [
        {
          "output_type": "stream",
          "name": "stdout",
          "text": [
            "    0 | 297.473877 | 2.6859 | -7.6190 | 1.96164\n",
            "  100 | 52.474243 | 0.9303 | -3.2646 | 2.73183\n",
            "  200 | 10.838371 | 0.4088 | -1.3970 | 3.05463\n",
            "  300 | 3.475053 | 0.2489 | -0.5900 | 3.14532\n",
            "  400 | 2.087007 | 0.2060 | -0.2326 | 3.13016\n",
            "  500 | 1.755012 | 0.2045 | -0.0653 | 3.07003\n",
            "  600 | 1.614336 | 0.2181 | 0.0215 | 2.99215\n",
            "  700 | 1.512270 | 0.2374 | 0.0739 | 2.90829\n",
            "  800 | 1.421588 | 0.2586 | 0.1114 | 2.82344\n",
            "  900 | 1.337220 | 0.2802 | 0.1422 | 2.73966\n",
            " 1000 | 1.258012 | 0.3015 | 0.1696 | 2.65777\n"
          ]
        }
      ],
      "source": [
        "for i in range(epochs+1):\n",
        "  with tf.GradientTape() as tape:\n",
        "    hypothesis = W1 * x1_data + W2 * x2_data + b\n",
        "    cost = tf.reduce_mean(tf.square(hypothesis - y_data))\n",
        "    costs.append(cost.numpy())\n",
        "\n",
        "  W1_grad, W2_grad, b_grad = tape.gradient(cost, [W1, W2, b])\n",
        "  W1.assign_sub(learning_rate * W1_grad)\n",
        "  W2.assign_sub(learning_rate * W2_grad)\n",
        "  b.assign_sub(learning_rate * b_grad)\n",
        "\n",
        "  if i % 100 == 0:\n",
        "    print(\"{:5} | {:.6f} | {:.4f} | {:.4f} | {:.6}\".format(i, cost.numpy(), W1.numpy()[0], W2.numpy()[0], b.numpy()[0]))"
      ]
    },
    {
      "cell_type": "markdown",
      "id": "eb4fa8aa-8482-4bb8-8b01-0a1a31325bf1",
      "metadata": {
        "id": "eb4fa8aa-8482-4bb8-8b01-0a1a31325bf1"
      },
      "source": [
        "#### 비용 변환 시각화"
      ]
    },
    {
      "cell_type": "markdown",
      "id": "aef8f983-4b8b-434e-93b1-df08fa8a047f",
      "metadata": {
        "id": "aef8f983-4b8b-434e-93b1-df08fa8a047f"
      },
      "source": [
        "학습이 진행되면서 Cost가 어떻게 변화하는지 그래프로 표시해보자"
      ]
    },
    {
      "cell_type": "code",
      "execution_count": null,
      "id": "9ef0d4a4-c298-4f3d-83b8-d395afe04f31",
      "metadata": {
        "id": "9ef0d4a4-c298-4f3d-83b8-d395afe04f31",
        "colab": {
          "base_uri": "https://localhost:8080/",
          "height": 442
        },
        "outputId": "ea21f3fd-14c2-43e0-deb7-373d6c607813"
      },
      "outputs": [
        {
          "output_type": "display_data",
          "data": {
            "text/plain": [
              "<Figure size 720x504 with 1 Axes>"
            ],
            "image/png": "[encoded data removed]"
          },
          "metadata": {
            "needs_background": "light"
          }
        }
      ],
      "source": [
        "plt.figure(figsize=(10,7))\n",
        "plt.plot(costs)\n",
        "plt.xlabel('epoch')\n",
        "plt.ylabel('cost')\n",
        "plt.show()"
      ]
    },
    {
      "cell_type": "markdown",
      "id": "c2db3a2f-3542-463c-8ac7-2b47b8ffab3c",
      "metadata": {
        "id": "c2db3a2f-3542-463c-8ac7-2b47b8ffab3c"
      },
      "source": [
        "### 문제 1. 데이터 만들기"
      ]
    },
    {
      "cell_type": "markdown",
      "id": "c54ea3d0-de44-41cd-b95f-f18f969e8236",
      "metadata": {
        "id": "c54ea3d0-de44-41cd-b95f-f18f969e8236"
      },
      "source": [
        "* 독립 변수가 3개인 다중 회귀문제 "
      ]
    },
    {
      "cell_type": "markdown",
      "source": [
        "# 경사하강법 한 번만 해보기"
      ],
      "metadata": {
        "id": "F81xs8BFr2vA"
      },
      "id": "F81xs8BFr2vA"
    },
    {
      "cell_type": "code",
      "execution_count": null,
      "metadata": {
        "id": "6f7c13b2-f344-43a4-bdb4-e742db7121da"
      },
      "outputs": [],
      "source": [
        "x1_data = [1, 0, 3, 0, 5]\n",
        "x2_data = [0, 2, 0, 4, 0]\n",
        "x3_data = [1, 1, 2, 2, 4]\n",
        "y_data = [1, 2, 3, 4, 5]\n",
        "\n",
        "with tf.GradientTape() as tape:\n",
        "    hypothesis = W1 * x1_data + W2 * x2_data + W3 * x3_data + b\n",
        "    cost = tf.reduce_mean(tf.square(hypothesis - y_data))\n",
        "\n",
        "W1_grad, W2_grad, W3_grad, b_grad = tape.gradient(cost, [W1, W2, W3, b])"
      ],
      "id": "6f7c13b2-f344-43a4-bdb4-e742db7121da"
    },
    {
      "cell_type": "code",
      "execution_count": null,
      "metadata": {
        "id": "81727d05-e4fc-42ee-b0ae-fd08d86a47a4",
        "colab": {
          "base_uri": "https://localhost:8080/"
        },
        "outputId": "42dcbdb4-91ff-48da-dd83-a40a5bae4d06"
      },
      "outputs": [
        {
          "output_type": "execute_result",
          "data": {
            "text/plain": [
              "(array([-0.15239716], dtype=float32),\n",
              " array([-0.35353506], dtype=float32),\n",
              " array([-0.40902495], dtype=float32),\n",
              " array([1.8021398], dtype=float32))"
            ]
          },
          "metadata": {},
          "execution_count": 21
        }
      ],
      "source": [
        "# W와 b 계산값을 출력\n",
        "\n",
        "W1_grad.numpy(), W2_grad.numpy(), W3_grad.numpy(), b_grad.numpy()"
      ],
      "id": "81727d05-e4fc-42ee-b0ae-fd08d86a47a4"
    },
    {
      "cell_type": "code",
      "execution_count": null,
      "metadata": {
        "id": "5bd6c5d5-5318-4733-9bb4-cf5ff26b4ed4",
        "colab": {
          "base_uri": "https://localhost:8080/"
        },
        "outputId": "a47d52e0-2f10-4bdd-dd38-f247ece7e2b7"
      },
      "outputs": [
        {
          "output_type": "execute_result",
          "data": {
            "text/plain": [
              "(array([2.2824671], dtype=float32),\n",
              " array([1.0354878], dtype=float32),\n",
              " array([-3.573686], dtype=float32),\n",
              " array([5.6917048], dtype=float32))"
            ]
          },
          "metadata": {},
          "execution_count": 24
        }
      ],
      "source": [
        "# 가중치와 기울기 갱신\n",
        "learning_rate = 0.01\n",
        "\n",
        "W1.assign_sub(learning_rate * W1_grad)\n",
        "W2.assign_sub(learning_rate * W2_grad)\n",
        "W3.assign_sub(learning_rate * W3_grad)\n",
        "b.assign_sub(learning_rate * b_grad)\n",
        "\n",
        "W1.numpy(), W2.numpy(), W3.numpy(), b.numpy()"
      ],
      "id": "5bd6c5d5-5318-4733-9bb4-cf5ff26b4ed4"
    },
    {
      "cell_type": "markdown",
      "source": [
        "# 경사하강법 lr =1000"
      ],
      "metadata": {
        "id": "JD-Cmgvar5P1"
      },
      "id": "JD-Cmgvar5P1"
    },
    {
      "cell_type": "code",
      "execution_count": null,
      "id": "d52e56b8-3a8c-4288-a0c9-8bb89bda484f",
      "metadata": {
        "id": "d52e56b8-3a8c-4288-a0c9-8bb89bda484f"
      },
      "outputs": [],
      "source": [
        "x1_data = [1, 0, 3, 0, 5]\n",
        "x2_data = [0, 2, 0, 4, 0]\n",
        "x3_data = [1, 1, 2, 2, 4]\n",
        "y_data = [1, 2, 3, 4, 5]"
      ]
    },
    {
      "cell_type": "markdown",
      "id": "1475a383-5839-4c9e-be0e-d74605034267",
      "metadata": {
        "id": "1475a383-5839-4c9e-be0e-d74605034267"
      },
      "source": [
        "#### 경사하강법"
      ]
    },
    {
      "cell_type": "code",
      "execution_count": null,
      "id": "cfce82ff-8699-4e43-b778-2445d4e5261c",
      "metadata": {
        "id": "cfce82ff-8699-4e43-b778-2445d4e5261c",
        "colab": {
          "base_uri": "https://localhost:8080/"
        },
        "outputId": "124c3518-2972-47ce-dba6-b997fb0c4d4a"
      },
      "outputs": [
        {
          "output_type": "stream",
          "name": "stdout",
          "text": [
            "    0 번째 | cost: 229.677094 | W1: 5.5635 | W2: -0.1412 | W3: -1.7348 | b: 8.52442\n",
            "  100 번째 | cost: 13.501703 | W1: 2.6064 | W2: 0.1179 | W3: -3.8823 | b: 7.56942\n",
            "  200 번째 | cost: 9.857802 | W1: 2.2604 | W2: 0.4675 | W3: -3.9643 | b: 7.33073\n",
            "  300 번째 | cost: 8.993056 | W1: 2.1996 | W2: 0.6525 | W3: -3.9083 | b: 7.12347\n",
            "  400 번째 | cost: 8.408121 | W1: 2.1921 | W2: 0.7542 | W3: -3.8526 | b: 6.91226\n",
            "  500 번째 | cost: 7.894829 | W1: 2.2008 | W2: 0.8202 | W3: -3.8022 | b: 6.70186\n",
            "  600 번째 | cost: 7.418922 | W1: 2.2152 | W2: 0.8709 | W3: -3.7549 | b: 6.49559\n",
            "  700 번째 | cost: 6.973259 | W1: 2.2313 | W2: 0.9146 | W3: -3.7097 | b: 6.29478\n",
            "  800 번째 | cost: 6.555181 | W1: 2.2478 | W2: 0.9546 | W3: -3.6659 | b: 6.09985\n",
            "  900 번째 | cost: 6.162862 | W1: 2.2639 | W2: 0.9923 | W3: -3.6233 | b: 5.91087\n",
            " 1000 번째 | cost: 5.794690 | W1: 2.2794 | W2: 1.0284 | W3: -3.5819 | b: 5.72775\n"
          ]
        }
      ],
      "source": [
        "# 변수초기화\n",
        "W1 = tf.Variable(tf.random.uniform((1,), -10.0, 10.0))\n",
        "W2 = tf.Variable(tf.random.uniform((1,), -10.0, 10.0))\n",
        "W3 = tf.Variable(tf.random.uniform((1,), -10.0, 10.0))\n",
        "b = tf.Variable(tf.random.uniform((1,), -10.0, 10.0))\n",
        "\n",
        "learning_rate = tf.constant(0.001)\n",
        "epochs = 1000\n",
        "costs = []\n",
        "\n",
        "for i in range(epochs+1):\n",
        "  with tf.GradientTape() as tape:\n",
        "    hypothesis = W1 * x1_data + W2 * x2_data + W3 * x3_data + b\n",
        "    cost = tf.reduce_mean(tf.square(hypothesis - y_data))\n",
        "    costs.append(cost.numpy())\n",
        "\n",
        "  W1_grad, W2_grad, W3_grad, b_grad = tape.gradient(cost, [W1, W2,W3, b])\n",
        "  W1.assign_sub(learning_rate * W1_grad)\n",
        "  W2.assign_sub(learning_rate * W2_grad)\n",
        "  W3.assign_sub(learning_rate * W3_grad)\n",
        "  b.assign_sub(learning_rate * b_grad)\n",
        "\n",
        "  if i % 100 == 0:\n",
        "    print(\"{:5} 번째 | cost: {:.6f} | W1: {:.4f} | W2: {:.4f} | W3: {:.4f} | b: {:.6}\".format(i, cost.numpy(), W1.numpy()[0], W2.numpy()[0], W3.numpy()[0], b.numpy()[0]))"
      ]
    },
    {
      "cell_type": "markdown",
      "id": "a3662b5a-4eea-4be0-a560-f1e05b9d4f59",
      "metadata": {
        "id": "a3662b5a-4eea-4be0-a560-f1e05b9d4f59"
      },
      "source": [
        "#### 결과 시각화 "
      ]
    },
    {
      "cell_type": "code",
      "execution_count": null,
      "id": "4b9de1ca-c66b-4f7b-9d49-700ccdf32d7d",
      "metadata": {
        "id": "4b9de1ca-c66b-4f7b-9d49-700ccdf32d7d",
        "colab": {
          "base_uri": "https://localhost:8080/",
          "height": 442
        },
        "outputId": "3129dab2-1d09-42f2-e753-a60425356cfa"
      },
      "outputs": [
        {
          "output_type": "display_data",
          "data": {
            "text/plain": [
              "<Figure size 720x504 with 1 Axes>"
            ],
            "image/png": "[encoded data removed]"
          },
          "metadata": {
            "needs_background": "light"
          }
        }
      ],
      "source": [
        "plt.figure(figsize=(10,7))\n",
        "plt.plot(costs)\n",
        "plt.xlabel('epoch')\n",
        "plt.ylabel('cost')\n",
        "plt.show()"
      ]
    },
    {
      "cell_type": "markdown",
      "id": "ad5da625-5b84-4c96-a5aa-c336442a3178",
      "metadata": {
        "id": "ad5da625-5b84-4c96-a5aa-c336442a3178"
      },
      "source": [
        "끝"
      ]
    }
  ],
  "metadata": {
    "kernelspec": {
      "display_name": "myml",
      "language": "python",
      "name": "myml"
    },
    "language_info": {
      "codemirror_mode": {
        "name": "ipython",
        "version": 3
      },
      "file_extension": ".py",
      "mimetype": "text/x-python",
      "name": "python",
      "nbconvert_exporter": "python",
      "pygments_lexer": "ipython3",
      "version": "3.8.0"
    },
    "colab": {
      "name": "텐서플로우2-다중선형회귀.ipynb",
      "provenance": [],
      "collapsed_sections": []
    }
  },
  "nbformat": 4,
  "nbformat_minor": 5
}