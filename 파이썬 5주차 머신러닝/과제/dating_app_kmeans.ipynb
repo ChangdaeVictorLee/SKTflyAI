{
 "cells": [
  {
   "cell_type": "markdown",
   "id": "56a38c17",
   "metadata": {},
   "source": [
    "https://www.kaggle.com/datasets/andrewmvd/okcupid-profiles\n"
   ]
  },
  {
   "cell_type": "code",
   "execution_count": 1,
   "id": "9125774e",
   "metadata": {},
   "outputs": [],
   "source": [
    "import pandas as pd\n",
    "import numpy as np\n",
    "import math\n",
    "import scipy as sp\n",
    "import seaborn as sns\n",
    "import matplotlib.pyplot as plt"
   ]
  },
  {
   "cell_type": "code",
   "execution_count": 2,
   "id": "35ed1ccb",
   "metadata": {},
   "outputs": [],
   "source": [
    "profile = pd.read_csv(\"okcupid_profiles.csv\")"
   ]
  },
  {
   "cell_type": "code",
   "execution_count": 3,
   "id": "168e9e95",
   "metadata": {},
   "outputs": [
    {
     "data": {
      "text/plain": [
       "Index(['age', 'status', 'sex', 'orientation', 'body_type', 'diet', 'drinks',\n",
       "       'drugs', 'education', 'ethnicity', 'height', 'income', 'job',\n",
       "       'last_online', 'location', 'offspring', 'pets', 'religion', 'sign',\n",
       "       'smokes', 'speaks', 'essay0', 'essay1', 'essay2', 'essay3', 'essay4',\n",
       "       'essay5', 'essay6', 'essay7', 'essay8', 'essay9'],\n",
       "      dtype='object')"
      ]
     },
     "execution_count": 3,
     "metadata": {},
     "output_type": "execute_result"
    }
   ],
   "source": [
    "profile.columns"
   ]
  },
  {
   "cell_type": "code",
   "execution_count": 4,
   "id": "bf8c9e23",
   "metadata": {
    "scrolled": true
   },
   "outputs": [
    {
     "data": {
      "text/html": [
       "<div>\n",
       "<style scoped>\n",
       "    .dataframe tbody tr th:only-of-type {\n",
       "        vertical-align: middle;\n",
       "    }\n",
       "\n",
       "    .dataframe tbody tr th {\n",
       "        vertical-align: top;\n",
       "    }\n",
       "\n",
       "    .dataframe thead th {\n",
       "        text-align: right;\n",
       "    }\n",
       "</style>\n",
       "<table border=\"1\" class=\"dataframe\">\n",
       "  <thead>\n",
       "    <tr style=\"text-align: right;\">\n",
       "      <th></th>\n",
       "      <th>age</th>\n",
       "      <th>status</th>\n",
       "      <th>sex</th>\n",
       "      <th>height</th>\n",
       "      <th>education</th>\n",
       "      <th>body_type</th>\n",
       "      <th>orientation</th>\n",
       "    </tr>\n",
       "  </thead>\n",
       "  <tbody>\n",
       "    <tr>\n",
       "      <th>0</th>\n",
       "      <td>22</td>\n",
       "      <td>single</td>\n",
       "      <td>m</td>\n",
       "      <td>75.0</td>\n",
       "      <td>working on college/university</td>\n",
       "      <td>a little extra</td>\n",
       "      <td>straight</td>\n",
       "    </tr>\n",
       "    <tr>\n",
       "      <th>1</th>\n",
       "      <td>35</td>\n",
       "      <td>single</td>\n",
       "      <td>m</td>\n",
       "      <td>70.0</td>\n",
       "      <td>working on space camp</td>\n",
       "      <td>average</td>\n",
       "      <td>straight</td>\n",
       "    </tr>\n",
       "    <tr>\n",
       "      <th>2</th>\n",
       "      <td>38</td>\n",
       "      <td>available</td>\n",
       "      <td>m</td>\n",
       "      <td>68.0</td>\n",
       "      <td>graduated from masters program</td>\n",
       "      <td>thin</td>\n",
       "      <td>straight</td>\n",
       "    </tr>\n",
       "    <tr>\n",
       "      <th>3</th>\n",
       "      <td>23</td>\n",
       "      <td>single</td>\n",
       "      <td>m</td>\n",
       "      <td>71.0</td>\n",
       "      <td>working on college/university</td>\n",
       "      <td>thin</td>\n",
       "      <td>straight</td>\n",
       "    </tr>\n",
       "    <tr>\n",
       "      <th>4</th>\n",
       "      <td>29</td>\n",
       "      <td>single</td>\n",
       "      <td>m</td>\n",
       "      <td>66.0</td>\n",
       "      <td>graduated from college/university</td>\n",
       "      <td>athletic</td>\n",
       "      <td>straight</td>\n",
       "    </tr>\n",
       "    <tr>\n",
       "      <th>...</th>\n",
       "      <td>...</td>\n",
       "      <td>...</td>\n",
       "      <td>...</td>\n",
       "      <td>...</td>\n",
       "      <td>...</td>\n",
       "      <td>...</td>\n",
       "      <td>...</td>\n",
       "    </tr>\n",
       "    <tr>\n",
       "      <th>59941</th>\n",
       "      <td>59</td>\n",
       "      <td>single</td>\n",
       "      <td>f</td>\n",
       "      <td>62.0</td>\n",
       "      <td>graduated from college/university</td>\n",
       "      <td>NaN</td>\n",
       "      <td>straight</td>\n",
       "    </tr>\n",
       "    <tr>\n",
       "      <th>59942</th>\n",
       "      <td>24</td>\n",
       "      <td>single</td>\n",
       "      <td>m</td>\n",
       "      <td>72.0</td>\n",
       "      <td>working on college/university</td>\n",
       "      <td>fit</td>\n",
       "      <td>straight</td>\n",
       "    </tr>\n",
       "    <tr>\n",
       "      <th>59943</th>\n",
       "      <td>42</td>\n",
       "      <td>single</td>\n",
       "      <td>m</td>\n",
       "      <td>71.0</td>\n",
       "      <td>graduated from masters program</td>\n",
       "      <td>average</td>\n",
       "      <td>straight</td>\n",
       "    </tr>\n",
       "    <tr>\n",
       "      <th>59944</th>\n",
       "      <td>27</td>\n",
       "      <td>single</td>\n",
       "      <td>m</td>\n",
       "      <td>73.0</td>\n",
       "      <td>working on college/university</td>\n",
       "      <td>athletic</td>\n",
       "      <td>straight</td>\n",
       "    </tr>\n",
       "    <tr>\n",
       "      <th>59945</th>\n",
       "      <td>39</td>\n",
       "      <td>single</td>\n",
       "      <td>m</td>\n",
       "      <td>68.0</td>\n",
       "      <td>graduated from masters program</td>\n",
       "      <td>average</td>\n",
       "      <td>gay</td>\n",
       "    </tr>\n",
       "  </tbody>\n",
       "</table>\n",
       "<p>59946 rows × 7 columns</p>\n",
       "</div>"
      ],
      "text/plain": [
       "       age     status sex  height                          education  \\\n",
       "0       22     single   m    75.0      working on college/university   \n",
       "1       35     single   m    70.0              working on space camp   \n",
       "2       38  available   m    68.0     graduated from masters program   \n",
       "3       23     single   m    71.0      working on college/university   \n",
       "4       29     single   m    66.0  graduated from college/university   \n",
       "...    ...        ...  ..     ...                                ...   \n",
       "59941   59     single   f    62.0  graduated from college/university   \n",
       "59942   24     single   m    72.0      working on college/university   \n",
       "59943   42     single   m    71.0     graduated from masters program   \n",
       "59944   27     single   m    73.0      working on college/university   \n",
       "59945   39     single   m    68.0     graduated from masters program   \n",
       "\n",
       "            body_type orientation  \n",
       "0      a little extra    straight  \n",
       "1             average    straight  \n",
       "2                thin    straight  \n",
       "3                thin    straight  \n",
       "4            athletic    straight  \n",
       "...               ...         ...  \n",
       "59941             NaN    straight  \n",
       "59942             fit    straight  \n",
       "59943         average    straight  \n",
       "59944        athletic    straight  \n",
       "59945         average         gay  \n",
       "\n",
       "[59946 rows x 7 columns]"
      ]
     },
     "execution_count": 4,
     "metadata": {},
     "output_type": "execute_result"
    }
   ],
   "source": [
    "# 속성이 너무 많아서 정리함\n",
    "profile_short = profile[['age', 'status', 'sex', 'height', 'education', 'body_type', 'orientation']]\n",
    "profile_short"
   ]
  },
  {
   "cell_type": "code",
   "execution_count": 5,
   "id": "7ade4f4d",
   "metadata": {},
   "outputs": [],
   "source": [
    "profile_short = profile_short.dropna()"
   ]
  },
  {
   "cell_type": "code",
   "execution_count": 6,
   "id": "7e3ba6b9",
   "metadata": {
    "scrolled": true
   },
   "outputs": [
    {
     "data": {
      "text/plain": [
       "array(['single', 'available', 'seeing someone', 'married', 'unknown'],\n",
       "      dtype=object)"
      ]
     },
     "execution_count": 6,
     "metadata": {},
     "output_type": "execute_result"
    }
   ],
   "source": [
    "profile_short.status.unique()"
   ]
  },
  {
   "cell_type": "code",
   "execution_count": 7,
   "id": "8bb0b3c0",
   "metadata": {},
   "outputs": [
    {
     "data": {
      "text/plain": [
       "array(['m', 'f'], dtype=object)"
      ]
     },
     "execution_count": 7,
     "metadata": {},
     "output_type": "execute_result"
    }
   ],
   "source": [
    "profile_short.sex.unique()"
   ]
  },
  {
   "cell_type": "code",
   "execution_count": 8,
   "id": "3e76af9f",
   "metadata": {},
   "outputs": [
    {
     "data": {
      "text/plain": [
       "array(['working on college/university', 'working on space camp',\n",
       "       'graduated from masters program',\n",
       "       'graduated from college/university', 'working on two-year college',\n",
       "       'graduated from high school', 'working on masters program',\n",
       "       'graduated from space camp', 'college/university',\n",
       "       'dropped out of space camp', 'graduated from ph.d program',\n",
       "       'graduated from law school', 'working on ph.d program',\n",
       "       'two-year college', 'graduated from two-year college',\n",
       "       'working on med school', 'dropped out of college/university',\n",
       "       'space camp', 'graduated from med school',\n",
       "       'dropped out of high school', 'working on high school',\n",
       "       'masters program', 'dropped out of ph.d program',\n",
       "       'dropped out of two-year college', 'dropped out of med school',\n",
       "       'high school', 'working on law school', 'law school',\n",
       "       'dropped out of masters program', 'ph.d program',\n",
       "       'dropped out of law school', 'med school'], dtype=object)"
      ]
     },
     "execution_count": 8,
     "metadata": {},
     "output_type": "execute_result"
    }
   ],
   "source": [
    "profile_short.education.unique()"
   ]
  },
  {
   "cell_type": "code",
   "execution_count": 9,
   "id": "26728a11",
   "metadata": {},
   "outputs": [
    {
     "data": {
      "text/plain": [
       "array(['a little extra', 'average', 'thin', 'athletic', 'fit', 'skinny',\n",
       "       'curvy', 'full figured', 'jacked', 'used up', 'overweight',\n",
       "       'rather not say'], dtype=object)"
      ]
     },
     "execution_count": 9,
     "metadata": {},
     "output_type": "execute_result"
    }
   ],
   "source": [
    "profile_short.body_type.unique()"
   ]
  },
  {
   "cell_type": "code",
   "execution_count": 10,
   "id": "0fe52f70",
   "metadata": {},
   "outputs": [
    {
     "data": {
      "text/plain": [
       "array(['straight', 'bisexual', 'gay'], dtype=object)"
      ]
     },
     "execution_count": 10,
     "metadata": {},
     "output_type": "execute_result"
    }
   ],
   "source": [
    "profile_short.orientation.unique()"
   ]
  },
  {
   "cell_type": "markdown",
   "id": "ab9b2d9f",
   "metadata": {},
   "source": [
    "가장 기본적으로 status 바꾸기\n",
    "'single', 'available', 'seeing someone', 'married', 'unknown'\n",
    "각각 숫자로 바꾸자"
   ]
  },
  {
   "cell_type": "code",
   "execution_count": 11,
   "id": "1be59103",
   "metadata": {},
   "outputs": [],
   "source": [
    "from sklearn.preprocessing import LabelEncoder\n",
    "\n",
    "encoder = LabelEncoder()\n",
    "encoder.fit(profile_short['status'])\n",
    "labels = encoder.transform(profile_short['status'])"
   ]
  },
  {
   "cell_type": "code",
   "execution_count": 12,
   "id": "6c829b50",
   "metadata": {
    "scrolled": true
   },
   "outputs": [
    {
     "name": "stderr",
     "output_type": "stream",
     "text": [
      "C:\\Users\\019\\AppData\\Local\\Temp\\ipykernel_7628\\3081456574.py:1: SettingWithCopyWarning: \n",
      "A value is trying to be set on a copy of a slice from a DataFrame.\n",
      "Try using .loc[row_indexer,col_indexer] = value instead\n",
      "\n",
      "See the caveats in the documentation: https://pandas.pydata.org/pandas-docs/stable/user_guide/indexing.html#returning-a-view-versus-a-copy\n",
      "  profile_short['status_label'] = labels\n"
     ]
    }
   ],
   "source": [
    "profile_short['status_label'] = labels"
   ]
  },
  {
   "cell_type": "code",
   "execution_count": 13,
   "id": "820fac8d",
   "metadata": {
    "scrolled": true
   },
   "outputs": [
    {
     "data": {
      "text/html": [
       "<div>\n",
       "<style scoped>\n",
       "    .dataframe tbody tr th:only-of-type {\n",
       "        vertical-align: middle;\n",
       "    }\n",
       "\n",
       "    .dataframe tbody tr th {\n",
       "        vertical-align: top;\n",
       "    }\n",
       "\n",
       "    .dataframe thead th {\n",
       "        text-align: right;\n",
       "    }\n",
       "</style>\n",
       "<table border=\"1\" class=\"dataframe\">\n",
       "  <thead>\n",
       "    <tr style=\"text-align: right;\">\n",
       "      <th></th>\n",
       "      <th>age</th>\n",
       "      <th>status</th>\n",
       "      <th>sex</th>\n",
       "      <th>height</th>\n",
       "      <th>education</th>\n",
       "      <th>body_type</th>\n",
       "      <th>orientation</th>\n",
       "      <th>status_label</th>\n",
       "    </tr>\n",
       "  </thead>\n",
       "  <tbody>\n",
       "    <tr>\n",
       "      <th>0</th>\n",
       "      <td>22</td>\n",
       "      <td>single</td>\n",
       "      <td>m</td>\n",
       "      <td>75.0</td>\n",
       "      <td>working on college/university</td>\n",
       "      <td>a little extra</td>\n",
       "      <td>straight</td>\n",
       "      <td>3</td>\n",
       "    </tr>\n",
       "    <tr>\n",
       "      <th>1</th>\n",
       "      <td>35</td>\n",
       "      <td>single</td>\n",
       "      <td>m</td>\n",
       "      <td>70.0</td>\n",
       "      <td>working on space camp</td>\n",
       "      <td>average</td>\n",
       "      <td>straight</td>\n",
       "      <td>3</td>\n",
       "    </tr>\n",
       "    <tr>\n",
       "      <th>2</th>\n",
       "      <td>38</td>\n",
       "      <td>available</td>\n",
       "      <td>m</td>\n",
       "      <td>68.0</td>\n",
       "      <td>graduated from masters program</td>\n",
       "      <td>thin</td>\n",
       "      <td>straight</td>\n",
       "      <td>0</td>\n",
       "    </tr>\n",
       "    <tr>\n",
       "      <th>3</th>\n",
       "      <td>23</td>\n",
       "      <td>single</td>\n",
       "      <td>m</td>\n",
       "      <td>71.0</td>\n",
       "      <td>working on college/university</td>\n",
       "      <td>thin</td>\n",
       "      <td>straight</td>\n",
       "      <td>3</td>\n",
       "    </tr>\n",
       "    <tr>\n",
       "      <th>4</th>\n",
       "      <td>29</td>\n",
       "      <td>single</td>\n",
       "      <td>m</td>\n",
       "      <td>66.0</td>\n",
       "      <td>graduated from college/university</td>\n",
       "      <td>athletic</td>\n",
       "      <td>straight</td>\n",
       "      <td>3</td>\n",
       "    </tr>\n",
       "  </tbody>\n",
       "</table>\n",
       "</div>"
      ],
      "text/plain": [
       "   age     status sex  height                          education  \\\n",
       "0   22     single   m    75.0      working on college/university   \n",
       "1   35     single   m    70.0              working on space camp   \n",
       "2   38  available   m    68.0     graduated from masters program   \n",
       "3   23     single   m    71.0      working on college/university   \n",
       "4   29     single   m    66.0  graduated from college/university   \n",
       "\n",
       "        body_type orientation  status_label  \n",
       "0  a little extra    straight             3  \n",
       "1         average    straight             3  \n",
       "2            thin    straight             0  \n",
       "3            thin    straight             3  \n",
       "4        athletic    straight             3  "
      ]
     },
     "execution_count": 13,
     "metadata": {},
     "output_type": "execute_result"
    }
   ],
   "source": [
    "profile_short.head()"
   ]
  },
  {
   "cell_type": "code",
   "execution_count": 23,
   "id": "c1bd3581",
   "metadata": {},
   "outputs": [],
   "source": [
    "from sklearn.preprocessing import LabelEncoder\n",
    "\n",
    "encoder = LabelEncoder()\n",
    "encoder.fit(profile_short['body_type'])\n",
    "labels = encoder.transform(profile_short['body_type'])"
   ]
  },
  {
   "cell_type": "code",
   "execution_count": 29,
   "id": "96b70bc6",
   "metadata": {},
   "outputs": [
    {
     "data": {
      "text/plain": [
       "array([ 0,  2, 10, ...,  2,  1,  2])"
      ]
     },
     "execution_count": 29,
     "metadata": {},
     "output_type": "execute_result"
    }
   ],
   "source": [
    "labels"
   ]
  },
  {
   "cell_type": "code",
   "execution_count": 24,
   "id": "a6a279d0",
   "metadata": {
    "scrolled": false
   },
   "outputs": [
    {
     "name": "stderr",
     "output_type": "stream",
     "text": [
      "C:\\Users\\019\\AppData\\Local\\Temp\\ipykernel_7628\\3727441913.py:1: SettingWithCopyWarning: \n",
      "A value is trying to be set on a copy of a slice from a DataFrame.\n",
      "Try using .loc[row_indexer,col_indexer] = value instead\n",
      "\n",
      "See the caveats in the documentation: https://pandas.pydata.org/pandas-docs/stable/user_guide/indexing.html#returning-a-view-versus-a-copy\n",
      "  profile_short['body_type_label'] = labels\n"
     ]
    }
   ],
   "source": [
    "profile_short['body_type_label'] = labels"
   ]
  },
  {
   "cell_type": "code",
   "execution_count": 32,
   "id": "19634fa7",
   "metadata": {},
   "outputs": [
    {
     "data": {
      "text/plain": [
       "(0        a little extra\n",
       " 1               average\n",
       " 2                  thin\n",
       " 3                  thin\n",
       " 4              athletic\n",
       "               ...      \n",
       " 59937              thin\n",
       " 59942               fit\n",
       " 59943           average\n",
       " 59944          athletic\n",
       " 59945           average\n",
       " Name: body_type, Length: 48929, dtype: object,\n",
       " array([ 0,  2, 10, ...,  2,  1,  2]))"
      ]
     },
     "execution_count": 32,
     "metadata": {},
     "output_type": "execute_result"
    }
   ],
   "source": [
    "profile_short['body_type'], labels"
   ]
  },
  {
   "cell_type": "markdown",
   "id": "f83a742b",
   "metadata": {},
   "source": [
    "## available: 0 married: 1 seeing someone: 2 single: 3 unknown: 4"
   ]
  },
  {
   "cell_type": "code",
   "execution_count": 33,
   "id": "f42235e5",
   "metadata": {},
   "outputs": [
    {
     "data": {
      "text/html": [
       "<div>\n",
       "<style scoped>\n",
       "    .dataframe tbody tr th:only-of-type {\n",
       "        vertical-align: middle;\n",
       "    }\n",
       "\n",
       "    .dataframe tbody tr th {\n",
       "        vertical-align: top;\n",
       "    }\n",
       "\n",
       "    .dataframe thead th {\n",
       "        text-align: right;\n",
       "    }\n",
       "</style>\n",
       "<table border=\"1\" class=\"dataframe\">\n",
       "  <thead>\n",
       "    <tr style=\"text-align: right;\">\n",
       "      <th></th>\n",
       "      <th>age</th>\n",
       "      <th>status</th>\n",
       "      <th>sex</th>\n",
       "      <th>height</th>\n",
       "      <th>education</th>\n",
       "      <th>body_type</th>\n",
       "      <th>orientation</th>\n",
       "      <th>status_label</th>\n",
       "      <th>body_type_label</th>\n",
       "    </tr>\n",
       "  </thead>\n",
       "  <tbody>\n",
       "    <tr>\n",
       "      <th>0</th>\n",
       "      <td>22</td>\n",
       "      <td>single</td>\n",
       "      <td>m</td>\n",
       "      <td>75.0</td>\n",
       "      <td>working on college/university</td>\n",
       "      <td>a little extra</td>\n",
       "      <td>straight</td>\n",
       "      <td>3</td>\n",
       "      <td>0</td>\n",
       "    </tr>\n",
       "    <tr>\n",
       "      <th>1</th>\n",
       "      <td>35</td>\n",
       "      <td>single</td>\n",
       "      <td>m</td>\n",
       "      <td>70.0</td>\n",
       "      <td>working on space camp</td>\n",
       "      <td>average</td>\n",
       "      <td>straight</td>\n",
       "      <td>3</td>\n",
       "      <td>2</td>\n",
       "    </tr>\n",
       "    <tr>\n",
       "      <th>2</th>\n",
       "      <td>38</td>\n",
       "      <td>available</td>\n",
       "      <td>m</td>\n",
       "      <td>68.0</td>\n",
       "      <td>graduated from masters program</td>\n",
       "      <td>thin</td>\n",
       "      <td>straight</td>\n",
       "      <td>0</td>\n",
       "      <td>10</td>\n",
       "    </tr>\n",
       "    <tr>\n",
       "      <th>3</th>\n",
       "      <td>23</td>\n",
       "      <td>single</td>\n",
       "      <td>m</td>\n",
       "      <td>71.0</td>\n",
       "      <td>working on college/university</td>\n",
       "      <td>thin</td>\n",
       "      <td>straight</td>\n",
       "      <td>3</td>\n",
       "      <td>10</td>\n",
       "    </tr>\n",
       "    <tr>\n",
       "      <th>4</th>\n",
       "      <td>29</td>\n",
       "      <td>single</td>\n",
       "      <td>m</td>\n",
       "      <td>66.0</td>\n",
       "      <td>graduated from college/university</td>\n",
       "      <td>athletic</td>\n",
       "      <td>straight</td>\n",
       "      <td>3</td>\n",
       "      <td>1</td>\n",
       "    </tr>\n",
       "    <tr>\n",
       "      <th>...</th>\n",
       "      <td>...</td>\n",
       "      <td>...</td>\n",
       "      <td>...</td>\n",
       "      <td>...</td>\n",
       "      <td>...</td>\n",
       "      <td>...</td>\n",
       "      <td>...</td>\n",
       "      <td>...</td>\n",
       "      <td>...</td>\n",
       "    </tr>\n",
       "    <tr>\n",
       "      <th>59937</th>\n",
       "      <td>32</td>\n",
       "      <td>single</td>\n",
       "      <td>m</td>\n",
       "      <td>69.0</td>\n",
       "      <td>working on masters program</td>\n",
       "      <td>thin</td>\n",
       "      <td>bisexual</td>\n",
       "      <td>3</td>\n",
       "      <td>10</td>\n",
       "    </tr>\n",
       "    <tr>\n",
       "      <th>59942</th>\n",
       "      <td>24</td>\n",
       "      <td>single</td>\n",
       "      <td>m</td>\n",
       "      <td>72.0</td>\n",
       "      <td>working on college/university</td>\n",
       "      <td>fit</td>\n",
       "      <td>straight</td>\n",
       "      <td>3</td>\n",
       "      <td>4</td>\n",
       "    </tr>\n",
       "    <tr>\n",
       "      <th>59943</th>\n",
       "      <td>42</td>\n",
       "      <td>single</td>\n",
       "      <td>m</td>\n",
       "      <td>71.0</td>\n",
       "      <td>graduated from masters program</td>\n",
       "      <td>average</td>\n",
       "      <td>straight</td>\n",
       "      <td>3</td>\n",
       "      <td>2</td>\n",
       "    </tr>\n",
       "    <tr>\n",
       "      <th>59944</th>\n",
       "      <td>27</td>\n",
       "      <td>single</td>\n",
       "      <td>m</td>\n",
       "      <td>73.0</td>\n",
       "      <td>working on college/university</td>\n",
       "      <td>athletic</td>\n",
       "      <td>straight</td>\n",
       "      <td>3</td>\n",
       "      <td>1</td>\n",
       "    </tr>\n",
       "    <tr>\n",
       "      <th>59945</th>\n",
       "      <td>39</td>\n",
       "      <td>single</td>\n",
       "      <td>m</td>\n",
       "      <td>68.0</td>\n",
       "      <td>graduated from masters program</td>\n",
       "      <td>average</td>\n",
       "      <td>gay</td>\n",
       "      <td>3</td>\n",
       "      <td>2</td>\n",
       "    </tr>\n",
       "  </tbody>\n",
       "</table>\n",
       "<p>48929 rows × 9 columns</p>\n",
       "</div>"
      ],
      "text/plain": [
       "       age     status sex  height                          education  \\\n",
       "0       22     single   m    75.0      working on college/university   \n",
       "1       35     single   m    70.0              working on space camp   \n",
       "2       38  available   m    68.0     graduated from masters program   \n",
       "3       23     single   m    71.0      working on college/university   \n",
       "4       29     single   m    66.0  graduated from college/university   \n",
       "...    ...        ...  ..     ...                                ...   \n",
       "59937   32     single   m    69.0         working on masters program   \n",
       "59942   24     single   m    72.0      working on college/university   \n",
       "59943   42     single   m    71.0     graduated from masters program   \n",
       "59944   27     single   m    73.0      working on college/university   \n",
       "59945   39     single   m    68.0     graduated from masters program   \n",
       "\n",
       "            body_type orientation  status_label  body_type_label  \n",
       "0      a little extra    straight             3                0  \n",
       "1             average    straight             3                2  \n",
       "2                thin    straight             0               10  \n",
       "3                thin    straight             3               10  \n",
       "4            athletic    straight             3                1  \n",
       "...               ...         ...           ...              ...  \n",
       "59937            thin    bisexual             3               10  \n",
       "59942             fit    straight             3                4  \n",
       "59943         average    straight             3                2  \n",
       "59944        athletic    straight             3                1  \n",
       "59945         average         gay             3                2  \n",
       "\n",
       "[48929 rows x 9 columns]"
      ]
     },
     "execution_count": 33,
     "metadata": {},
     "output_type": "execute_result"
    }
   ],
   "source": [
    "profile_short"
   ]
  },
  {
   "cell_type": "markdown",
   "id": "57158764",
   "metadata": {},
   "source": [
    "# 먼저 남녀로 구분해서 데이터 바꾸기"
   ]
  },
  {
   "cell_type": "code",
   "execution_count": 34,
   "id": "44a37e43",
   "metadata": {},
   "outputs": [],
   "source": [
    "p_male = profile_short[profile_short['sex'] == 'm']"
   ]
  },
  {
   "cell_type": "code",
   "execution_count": 35,
   "id": "c576feba",
   "metadata": {},
   "outputs": [],
   "source": [
    "p_male = p_male.reset_index(drop=True)"
   ]
  },
  {
   "cell_type": "code",
   "execution_count": 36,
   "id": "4d5fecb7",
   "metadata": {},
   "outputs": [],
   "source": [
    "p_female = profile_short[profile_short['sex'] == 'f']"
   ]
  },
  {
   "cell_type": "code",
   "execution_count": 37,
   "id": "61c0e3c4",
   "metadata": {},
   "outputs": [],
   "source": [
    "p_female = p_female.reset_index(drop=True)"
   ]
  },
  {
   "cell_type": "code",
   "execution_count": 38,
   "id": "77d6c435",
   "metadata": {},
   "outputs": [
    {
     "data": {
      "text/html": [
       "<div>\n",
       "<style scoped>\n",
       "    .dataframe tbody tr th:only-of-type {\n",
       "        vertical-align: middle;\n",
       "    }\n",
       "\n",
       "    .dataframe tbody tr th {\n",
       "        vertical-align: top;\n",
       "    }\n",
       "\n",
       "    .dataframe thead th {\n",
       "        text-align: right;\n",
       "    }\n",
       "</style>\n",
       "<table border=\"1\" class=\"dataframe\">\n",
       "  <thead>\n",
       "    <tr style=\"text-align: right;\">\n",
       "      <th></th>\n",
       "      <th>age</th>\n",
       "      <th>status</th>\n",
       "      <th>sex</th>\n",
       "      <th>height</th>\n",
       "      <th>education</th>\n",
       "      <th>body_type</th>\n",
       "      <th>orientation</th>\n",
       "      <th>status_label</th>\n",
       "      <th>body_type_label</th>\n",
       "    </tr>\n",
       "  </thead>\n",
       "  <tbody>\n",
       "    <tr>\n",
       "      <th>0</th>\n",
       "      <td>32</td>\n",
       "      <td>single</td>\n",
       "      <td>f</td>\n",
       "      <td>65.0</td>\n",
       "      <td>graduated from college/university</td>\n",
       "      <td>fit</td>\n",
       "      <td>straight</td>\n",
       "      <td>3</td>\n",
       "      <td>4</td>\n",
       "    </tr>\n",
       "    <tr>\n",
       "      <th>1</th>\n",
       "      <td>31</td>\n",
       "      <td>single</td>\n",
       "      <td>f</td>\n",
       "      <td>65.0</td>\n",
       "      <td>graduated from college/university</td>\n",
       "      <td>average</td>\n",
       "      <td>straight</td>\n",
       "      <td>3</td>\n",
       "      <td>2</td>\n",
       "    </tr>\n",
       "    <tr>\n",
       "      <th>2</th>\n",
       "      <td>30</td>\n",
       "      <td>single</td>\n",
       "      <td>f</td>\n",
       "      <td>66.0</td>\n",
       "      <td>graduated from high school</td>\n",
       "      <td>skinny</td>\n",
       "      <td>straight</td>\n",
       "      <td>3</td>\n",
       "      <td>9</td>\n",
       "    </tr>\n",
       "    <tr>\n",
       "      <th>3</th>\n",
       "      <td>29</td>\n",
       "      <td>single</td>\n",
       "      <td>f</td>\n",
       "      <td>62.0</td>\n",
       "      <td>working on college/university</td>\n",
       "      <td>thin</td>\n",
       "      <td>straight</td>\n",
       "      <td>3</td>\n",
       "      <td>10</td>\n",
       "    </tr>\n",
       "    <tr>\n",
       "      <th>4</th>\n",
       "      <td>39</td>\n",
       "      <td>single</td>\n",
       "      <td>f</td>\n",
       "      <td>65.0</td>\n",
       "      <td>graduated from college/university</td>\n",
       "      <td>fit</td>\n",
       "      <td>straight</td>\n",
       "      <td>3</td>\n",
       "      <td>4</td>\n",
       "    </tr>\n",
       "    <tr>\n",
       "      <th>...</th>\n",
       "      <td>...</td>\n",
       "      <td>...</td>\n",
       "      <td>...</td>\n",
       "      <td>...</td>\n",
       "      <td>...</td>\n",
       "      <td>...</td>\n",
       "      <td>...</td>\n",
       "      <td>...</td>\n",
       "      <td>...</td>\n",
       "    </tr>\n",
       "    <tr>\n",
       "      <th>19427</th>\n",
       "      <td>28</td>\n",
       "      <td>single</td>\n",
       "      <td>f</td>\n",
       "      <td>61.0</td>\n",
       "      <td>graduated from college/university</td>\n",
       "      <td>average</td>\n",
       "      <td>straight</td>\n",
       "      <td>3</td>\n",
       "      <td>2</td>\n",
       "    </tr>\n",
       "    <tr>\n",
       "      <th>19428</th>\n",
       "      <td>28</td>\n",
       "      <td>single</td>\n",
       "      <td>f</td>\n",
       "      <td>64.0</td>\n",
       "      <td>working on masters program</td>\n",
       "      <td>athletic</td>\n",
       "      <td>straight</td>\n",
       "      <td>3</td>\n",
       "      <td>1</td>\n",
       "    </tr>\n",
       "    <tr>\n",
       "      <th>19429</th>\n",
       "      <td>26</td>\n",
       "      <td>single</td>\n",
       "      <td>f</td>\n",
       "      <td>69.0</td>\n",
       "      <td>graduated from college/university</td>\n",
       "      <td>full figured</td>\n",
       "      <td>straight</td>\n",
       "      <td>3</td>\n",
       "      <td>5</td>\n",
       "    </tr>\n",
       "    <tr>\n",
       "      <th>19430</th>\n",
       "      <td>43</td>\n",
       "      <td>single</td>\n",
       "      <td>f</td>\n",
       "      <td>63.0</td>\n",
       "      <td>graduated from masters program</td>\n",
       "      <td>average</td>\n",
       "      <td>straight</td>\n",
       "      <td>3</td>\n",
       "      <td>2</td>\n",
       "    </tr>\n",
       "    <tr>\n",
       "      <th>19431</th>\n",
       "      <td>25</td>\n",
       "      <td>single</td>\n",
       "      <td>f</td>\n",
       "      <td>61.0</td>\n",
       "      <td>graduated from college/university</td>\n",
       "      <td>average</td>\n",
       "      <td>straight</td>\n",
       "      <td>3</td>\n",
       "      <td>2</td>\n",
       "    </tr>\n",
       "  </tbody>\n",
       "</table>\n",
       "<p>19432 rows × 9 columns</p>\n",
       "</div>"
      ],
      "text/plain": [
       "       age  status sex  height                          education  \\\n",
       "0       32  single   f    65.0  graduated from college/university   \n",
       "1       31  single   f    65.0  graduated from college/university   \n",
       "2       30  single   f    66.0         graduated from high school   \n",
       "3       29  single   f    62.0      working on college/university   \n",
       "4       39  single   f    65.0  graduated from college/university   \n",
       "...    ...     ...  ..     ...                                ...   \n",
       "19427   28  single   f    61.0  graduated from college/university   \n",
       "19428   28  single   f    64.0         working on masters program   \n",
       "19429   26  single   f    69.0  graduated from college/university   \n",
       "19430   43  single   f    63.0     graduated from masters program   \n",
       "19431   25  single   f    61.0  graduated from college/university   \n",
       "\n",
       "          body_type orientation  status_label  body_type_label  \n",
       "0               fit    straight             3                4  \n",
       "1           average    straight             3                2  \n",
       "2            skinny    straight             3                9  \n",
       "3              thin    straight             3               10  \n",
       "4               fit    straight             3                4  \n",
       "...             ...         ...           ...              ...  \n",
       "19427       average    straight             3                2  \n",
       "19428      athletic    straight             3                1  \n",
       "19429  full figured    straight             3                5  \n",
       "19430       average    straight             3                2  \n",
       "19431       average    straight             3                2  \n",
       "\n",
       "[19432 rows x 9 columns]"
      ]
     },
     "execution_count": 38,
     "metadata": {},
     "output_type": "execute_result"
    }
   ],
   "source": [
    "p_female"
   ]
  },
  {
   "cell_type": "code",
   "execution_count": 39,
   "id": "d7e03890",
   "metadata": {},
   "outputs": [
    {
     "data": {
      "text/html": [
       "<div>\n",
       "<style scoped>\n",
       "    .dataframe tbody tr th:only-of-type {\n",
       "        vertical-align: middle;\n",
       "    }\n",
       "\n",
       "    .dataframe tbody tr th {\n",
       "        vertical-align: top;\n",
       "    }\n",
       "\n",
       "    .dataframe thead th {\n",
       "        text-align: right;\n",
       "    }\n",
       "</style>\n",
       "<table border=\"1\" class=\"dataframe\">\n",
       "  <thead>\n",
       "    <tr style=\"text-align: right;\">\n",
       "      <th></th>\n",
       "      <th>age</th>\n",
       "      <th>status</th>\n",
       "      <th>sex</th>\n",
       "      <th>height</th>\n",
       "      <th>education</th>\n",
       "      <th>body_type</th>\n",
       "      <th>orientation</th>\n",
       "      <th>status_label</th>\n",
       "      <th>body_type_label</th>\n",
       "    </tr>\n",
       "  </thead>\n",
       "  <tbody>\n",
       "    <tr>\n",
       "      <th>0</th>\n",
       "      <td>22</td>\n",
       "      <td>single</td>\n",
       "      <td>m</td>\n",
       "      <td>75.0</td>\n",
       "      <td>working on college/university</td>\n",
       "      <td>a little extra</td>\n",
       "      <td>straight</td>\n",
       "      <td>3</td>\n",
       "      <td>0</td>\n",
       "    </tr>\n",
       "    <tr>\n",
       "      <th>1</th>\n",
       "      <td>35</td>\n",
       "      <td>single</td>\n",
       "      <td>m</td>\n",
       "      <td>70.0</td>\n",
       "      <td>working on space camp</td>\n",
       "      <td>average</td>\n",
       "      <td>straight</td>\n",
       "      <td>3</td>\n",
       "      <td>2</td>\n",
       "    </tr>\n",
       "    <tr>\n",
       "      <th>2</th>\n",
       "      <td>38</td>\n",
       "      <td>available</td>\n",
       "      <td>m</td>\n",
       "      <td>68.0</td>\n",
       "      <td>graduated from masters program</td>\n",
       "      <td>thin</td>\n",
       "      <td>straight</td>\n",
       "      <td>0</td>\n",
       "      <td>10</td>\n",
       "    </tr>\n",
       "    <tr>\n",
       "      <th>3</th>\n",
       "      <td>23</td>\n",
       "      <td>single</td>\n",
       "      <td>m</td>\n",
       "      <td>71.0</td>\n",
       "      <td>working on college/university</td>\n",
       "      <td>thin</td>\n",
       "      <td>straight</td>\n",
       "      <td>3</td>\n",
       "      <td>10</td>\n",
       "    </tr>\n",
       "    <tr>\n",
       "      <th>4</th>\n",
       "      <td>29</td>\n",
       "      <td>single</td>\n",
       "      <td>m</td>\n",
       "      <td>66.0</td>\n",
       "      <td>graduated from college/university</td>\n",
       "      <td>athletic</td>\n",
       "      <td>straight</td>\n",
       "      <td>3</td>\n",
       "      <td>1</td>\n",
       "    </tr>\n",
       "  </tbody>\n",
       "</table>\n",
       "</div>"
      ],
      "text/plain": [
       "   age     status sex  height                          education  \\\n",
       "0   22     single   m    75.0      working on college/university   \n",
       "1   35     single   m    70.0              working on space camp   \n",
       "2   38  available   m    68.0     graduated from masters program   \n",
       "3   23     single   m    71.0      working on college/university   \n",
       "4   29     single   m    66.0  graduated from college/university   \n",
       "\n",
       "        body_type orientation  status_label  body_type_label  \n",
       "0  a little extra    straight             3                0  \n",
       "1         average    straight             3                2  \n",
       "2            thin    straight             0               10  \n",
       "3            thin    straight             3               10  \n",
       "4        athletic    straight             3                1  "
      ]
     },
     "execution_count": 39,
     "metadata": {},
     "output_type": "execute_result"
    }
   ],
   "source": [
    "p_male.head()"
   ]
  },
  {
   "cell_type": "code",
   "execution_count": 40,
   "id": "63f64966",
   "metadata": {},
   "outputs": [
    {
     "data": {
      "text/html": [
       "<div>\n",
       "<style scoped>\n",
       "    .dataframe tbody tr th:only-of-type {\n",
       "        vertical-align: middle;\n",
       "    }\n",
       "\n",
       "    .dataframe tbody tr th {\n",
       "        vertical-align: top;\n",
       "    }\n",
       "\n",
       "    .dataframe thead th {\n",
       "        text-align: right;\n",
       "    }\n",
       "</style>\n",
       "<table border=\"1\" class=\"dataframe\">\n",
       "  <thead>\n",
       "    <tr style=\"text-align: right;\">\n",
       "      <th></th>\n",
       "      <th>age</th>\n",
       "      <th>status</th>\n",
       "      <th>sex</th>\n",
       "      <th>height</th>\n",
       "      <th>education</th>\n",
       "      <th>body_type</th>\n",
       "      <th>orientation</th>\n",
       "      <th>status_label</th>\n",
       "      <th>body_type_label</th>\n",
       "    </tr>\n",
       "  </thead>\n",
       "  <tbody>\n",
       "    <tr>\n",
       "      <th>0</th>\n",
       "      <td>32</td>\n",
       "      <td>single</td>\n",
       "      <td>f</td>\n",
       "      <td>65.0</td>\n",
       "      <td>graduated from college/university</td>\n",
       "      <td>fit</td>\n",
       "      <td>straight</td>\n",
       "      <td>3</td>\n",
       "      <td>4</td>\n",
       "    </tr>\n",
       "    <tr>\n",
       "      <th>1</th>\n",
       "      <td>31</td>\n",
       "      <td>single</td>\n",
       "      <td>f</td>\n",
       "      <td>65.0</td>\n",
       "      <td>graduated from college/university</td>\n",
       "      <td>average</td>\n",
       "      <td>straight</td>\n",
       "      <td>3</td>\n",
       "      <td>2</td>\n",
       "    </tr>\n",
       "    <tr>\n",
       "      <th>2</th>\n",
       "      <td>30</td>\n",
       "      <td>single</td>\n",
       "      <td>f</td>\n",
       "      <td>66.0</td>\n",
       "      <td>graduated from high school</td>\n",
       "      <td>skinny</td>\n",
       "      <td>straight</td>\n",
       "      <td>3</td>\n",
       "      <td>9</td>\n",
       "    </tr>\n",
       "    <tr>\n",
       "      <th>3</th>\n",
       "      <td>29</td>\n",
       "      <td>single</td>\n",
       "      <td>f</td>\n",
       "      <td>62.0</td>\n",
       "      <td>working on college/university</td>\n",
       "      <td>thin</td>\n",
       "      <td>straight</td>\n",
       "      <td>3</td>\n",
       "      <td>10</td>\n",
       "    </tr>\n",
       "    <tr>\n",
       "      <th>4</th>\n",
       "      <td>39</td>\n",
       "      <td>single</td>\n",
       "      <td>f</td>\n",
       "      <td>65.0</td>\n",
       "      <td>graduated from college/university</td>\n",
       "      <td>fit</td>\n",
       "      <td>straight</td>\n",
       "      <td>3</td>\n",
       "      <td>4</td>\n",
       "    </tr>\n",
       "  </tbody>\n",
       "</table>\n",
       "</div>"
      ],
      "text/plain": [
       "   age  status sex  height                          education body_type  \\\n",
       "0   32  single   f    65.0  graduated from college/university       fit   \n",
       "1   31  single   f    65.0  graduated from college/university   average   \n",
       "2   30  single   f    66.0         graduated from high school    skinny   \n",
       "3   29  single   f    62.0      working on college/university      thin   \n",
       "4   39  single   f    65.0  graduated from college/university       fit   \n",
       "\n",
       "  orientation  status_label  body_type_label  \n",
       "0    straight             3                4  \n",
       "1    straight             3                2  \n",
       "2    straight             3                9  \n",
       "3    straight             3               10  \n",
       "4    straight             3                4  "
      ]
     },
     "execution_count": 40,
     "metadata": {},
     "output_type": "execute_result"
    }
   ],
   "source": [
    "p_female.head()"
   ]
  },
  {
   "cell_type": "markdown",
   "id": "84b9dbfc",
   "metadata": {},
   "source": [
    "## 성별에서 age, height, status로 kmeans 돌려보자"
   ]
  },
  {
   "cell_type": "markdown",
   "id": "828d22e4",
   "metadata": {},
   "source": [
    "available: 0 married: 1 seeing someone: 2 single: 3 unknown: 4"
   ]
  },
  {
   "cell_type": "code",
   "execution_count": 21,
   "id": "9b08350f",
   "metadata": {},
   "outputs": [
    {
     "data": {
      "image/png": "[encoded data removed]",
      "text/plain": [
       "<Figure size 432x288 with 1 Axes>"
      ]
     },
     "metadata": {
      "needs_background": "light"
     },
     "output_type": "display_data"
    }
   ],
   "source": [
    "# 대부분이 single이라 의미없을 듯\n",
    "sns.scatterplot(x = 'age', y= 'height', hue = 'status_label', data=p_female, palette='Set2')\n",
    "plt.show()"
   ]
  },
  {
   "cell_type": "code",
   "execution_count": 41,
   "id": "0bd46d0a",
   "metadata": {},
   "outputs": [
    {
     "data": {
      "image/png": "[encoded data removed]",
      "text/plain": [
       "<Figure size 432x288 with 1 Axes>"
      ]
     },
     "metadata": {
      "needs_background": "light"
     },
     "output_type": "display_data"
    }
   ],
   "source": [
    "# 대부분이 single이라 의미없을 듯\n",
    "sns.scatterplot(x = 'age', y= 'height', hue = 'body_type_label', data=p_female, palette='Set2')\n",
    "plt.show()"
   ]
  },
  {
   "cell_type": "markdown",
   "id": "90ebbfdb",
   "metadata": {},
   "source": [
    "# scikit learn - age, height"
   ]
  },
  {
   "cell_type": "code",
   "execution_count": 42,
   "id": "d9807ad5",
   "metadata": {
    "scrolled": true
   },
   "outputs": [
    {
     "data": {
      "text/plain": [
       "KMeans(n_clusters=4)"
      ]
     },
     "execution_count": 42,
     "metadata": {},
     "output_type": "execute_result"
    }
   ],
   "source": [
    "from sklearn.cluster import KMeans\n",
    "kmeans = KMeans(n_clusters=4)\n",
    "kmeans.fit(p_male[['age','height']])"
   ]
  },
  {
   "cell_type": "code",
   "execution_count": 43,
   "id": "3400d312",
   "metadata": {},
   "outputs": [
    {
     "data": {
      "text/html": [
       "<div>\n",
       "<style scoped>\n",
       "    .dataframe tbody tr th:only-of-type {\n",
       "        vertical-align: middle;\n",
       "    }\n",
       "\n",
       "    .dataframe tbody tr th {\n",
       "        vertical-align: top;\n",
       "    }\n",
       "\n",
       "    .dataframe thead th {\n",
       "        text-align: right;\n",
       "    }\n",
       "</style>\n",
       "<table border=\"1\" class=\"dataframe\">\n",
       "  <thead>\n",
       "    <tr style=\"text-align: right;\">\n",
       "      <th></th>\n",
       "      <th>age</th>\n",
       "      <th>height</th>\n",
       "      <th>cluster</th>\n",
       "    </tr>\n",
       "  </thead>\n",
       "  <tbody>\n",
       "    <tr>\n",
       "      <th>0</th>\n",
       "      <td>22</td>\n",
       "      <td>75.0</td>\n",
       "      <td>3</td>\n",
       "    </tr>\n",
       "    <tr>\n",
       "      <th>1</th>\n",
       "      <td>35</td>\n",
       "      <td>70.0</td>\n",
       "      <td>0</td>\n",
       "    </tr>\n",
       "    <tr>\n",
       "      <th>2</th>\n",
       "      <td>38</td>\n",
       "      <td>68.0</td>\n",
       "      <td>2</td>\n",
       "    </tr>\n",
       "    <tr>\n",
       "      <th>3</th>\n",
       "      <td>23</td>\n",
       "      <td>71.0</td>\n",
       "      <td>3</td>\n",
       "    </tr>\n",
       "    <tr>\n",
       "      <th>4</th>\n",
       "      <td>29</td>\n",
       "      <td>66.0</td>\n",
       "      <td>0</td>\n",
       "    </tr>\n",
       "    <tr>\n",
       "      <th>...</th>\n",
       "      <td>...</td>\n",
       "      <td>...</td>\n",
       "      <td>...</td>\n",
       "    </tr>\n",
       "    <tr>\n",
       "      <th>29492</th>\n",
       "      <td>32</td>\n",
       "      <td>69.0</td>\n",
       "      <td>0</td>\n",
       "    </tr>\n",
       "    <tr>\n",
       "      <th>29493</th>\n",
       "      <td>24</td>\n",
       "      <td>72.0</td>\n",
       "      <td>3</td>\n",
       "    </tr>\n",
       "    <tr>\n",
       "      <th>29494</th>\n",
       "      <td>42</td>\n",
       "      <td>71.0</td>\n",
       "      <td>2</td>\n",
       "    </tr>\n",
       "    <tr>\n",
       "      <th>29495</th>\n",
       "      <td>27</td>\n",
       "      <td>73.0</td>\n",
       "      <td>3</td>\n",
       "    </tr>\n",
       "    <tr>\n",
       "      <th>29496</th>\n",
       "      <td>39</td>\n",
       "      <td>68.0</td>\n",
       "      <td>2</td>\n",
       "    </tr>\n",
       "  </tbody>\n",
       "</table>\n",
       "<p>29497 rows × 3 columns</p>\n",
       "</div>"
      ],
      "text/plain": [
       "       age  height  cluster\n",
       "0       22    75.0        3\n",
       "1       35    70.0        0\n",
       "2       38    68.0        2\n",
       "3       23    71.0        3\n",
       "4       29    66.0        0\n",
       "...    ...     ...      ...\n",
       "29492   32    69.0        0\n",
       "29493   24    72.0        3\n",
       "29494   42    71.0        2\n",
       "29495   27    73.0        3\n",
       "29496   39    68.0        2\n",
       "\n",
       "[29497 rows x 3 columns]"
      ]
     },
     "execution_count": 43,
     "metadata": {},
     "output_type": "execute_result"
    }
   ],
   "source": [
    "result_by_sklearn = p_male[['age','height']].copy()\n",
    "result_by_sklearn['cluster'] = kmeans.labels_\n",
    "result_by_sklearn"
   ]
  },
  {
   "cell_type": "code",
   "execution_count": 45,
   "id": "cfb4f95c",
   "metadata": {
    "scrolled": true
   },
   "outputs": [
    {
     "data": {
      "text/plain": [
       "<AxesSubplot:xlabel='age', ylabel='height'>"
      ]
     },
     "execution_count": 45,
     "metadata": {},
     "output_type": "execute_result"
    },
    {
     "data": {
      "image/png": "[encoded data removed]",
      "text/plain": [
       "<Figure size 432x288 with 1 Axes>"
      ]
     },
     "metadata": {
      "needs_background": "light"
     },
     "output_type": "display_data"
    }
   ],
   "source": [
    "sns.scatterplot(x='age', y ='height', hue='cluster', data=result_by_sklearn, palette = 'Set2')"
   ]
  },
  {
   "cell_type": "code",
   "execution_count": 46,
   "id": "b8aead4a",
   "metadata": {
    "scrolled": true
   },
   "outputs": [
    {
     "data": {
      "text/plain": [
       "KMeans(n_clusters=3)"
      ]
     },
     "execution_count": 46,
     "metadata": {},
     "output_type": "execute_result"
    }
   ],
   "source": [
    "from sklearn.cluster import KMeans\n",
    "kmeans = KMeans(n_clusters=3)\n",
    "kmeans.fit(p_male[['age','height']])"
   ]
  },
  {
   "cell_type": "code",
   "execution_count": 47,
   "id": "64ecf075",
   "metadata": {},
   "outputs": [
    {
     "data": {
      "text/html": [
       "<div>\n",
       "<style scoped>\n",
       "    .dataframe tbody tr th:only-of-type {\n",
       "        vertical-align: middle;\n",
       "    }\n",
       "\n",
       "    .dataframe tbody tr th {\n",
       "        vertical-align: top;\n",
       "    }\n",
       "\n",
       "    .dataframe thead th {\n",
       "        text-align: right;\n",
       "    }\n",
       "</style>\n",
       "<table border=\"1\" class=\"dataframe\">\n",
       "  <thead>\n",
       "    <tr style=\"text-align: right;\">\n",
       "      <th></th>\n",
       "      <th>age</th>\n",
       "      <th>height</th>\n",
       "      <th>cluster</th>\n",
       "    </tr>\n",
       "  </thead>\n",
       "  <tbody>\n",
       "    <tr>\n",
       "      <th>0</th>\n",
       "      <td>22</td>\n",
       "      <td>75.0</td>\n",
       "      <td>1</td>\n",
       "    </tr>\n",
       "    <tr>\n",
       "      <th>1</th>\n",
       "      <td>35</td>\n",
       "      <td>70.0</td>\n",
       "      <td>2</td>\n",
       "    </tr>\n",
       "    <tr>\n",
       "      <th>2</th>\n",
       "      <td>38</td>\n",
       "      <td>68.0</td>\n",
       "      <td>2</td>\n",
       "    </tr>\n",
       "    <tr>\n",
       "      <th>3</th>\n",
       "      <td>23</td>\n",
       "      <td>71.0</td>\n",
       "      <td>1</td>\n",
       "    </tr>\n",
       "    <tr>\n",
       "      <th>4</th>\n",
       "      <td>29</td>\n",
       "      <td>66.0</td>\n",
       "      <td>1</td>\n",
       "    </tr>\n",
       "    <tr>\n",
       "      <th>...</th>\n",
       "      <td>...</td>\n",
       "      <td>...</td>\n",
       "      <td>...</td>\n",
       "    </tr>\n",
       "    <tr>\n",
       "      <th>29492</th>\n",
       "      <td>32</td>\n",
       "      <td>69.0</td>\n",
       "      <td>2</td>\n",
       "    </tr>\n",
       "    <tr>\n",
       "      <th>29493</th>\n",
       "      <td>24</td>\n",
       "      <td>72.0</td>\n",
       "      <td>1</td>\n",
       "    </tr>\n",
       "    <tr>\n",
       "      <th>29494</th>\n",
       "      <td>42</td>\n",
       "      <td>71.0</td>\n",
       "      <td>2</td>\n",
       "    </tr>\n",
       "    <tr>\n",
       "      <th>29495</th>\n",
       "      <td>27</td>\n",
       "      <td>73.0</td>\n",
       "      <td>1</td>\n",
       "    </tr>\n",
       "    <tr>\n",
       "      <th>29496</th>\n",
       "      <td>39</td>\n",
       "      <td>68.0</td>\n",
       "      <td>2</td>\n",
       "    </tr>\n",
       "  </tbody>\n",
       "</table>\n",
       "<p>29497 rows × 3 columns</p>\n",
       "</div>"
      ],
      "text/plain": [
       "       age  height  cluster\n",
       "0       22    75.0        1\n",
       "1       35    70.0        2\n",
       "2       38    68.0        2\n",
       "3       23    71.0        1\n",
       "4       29    66.0        1\n",
       "...    ...     ...      ...\n",
       "29492   32    69.0        2\n",
       "29493   24    72.0        1\n",
       "29494   42    71.0        2\n",
       "29495   27    73.0        1\n",
       "29496   39    68.0        2\n",
       "\n",
       "[29497 rows x 3 columns]"
      ]
     },
     "execution_count": 47,
     "metadata": {},
     "output_type": "execute_result"
    }
   ],
   "source": [
    "result_by_sklearn = p_male[['age','height']].copy()\n",
    "result_by_sklearn['cluster'] = kmeans.labels_\n",
    "result_by_sklearn"
   ]
  },
  {
   "cell_type": "code",
   "execution_count": 48,
   "id": "3c288941",
   "metadata": {
    "scrolled": true
   },
   "outputs": [
    {
     "data": {
      "text/plain": [
       "<AxesSubplot:xlabel='age', ylabel='height'>"
      ]
     },
     "execution_count": 48,
     "metadata": {},
     "output_type": "execute_result"
    },
    {
     "data": {
      "image/png": "[encoded data removed]",
      "text/plain": [
       "<Figure size 432x288 with 1 Axes>"
      ]
     },
     "metadata": {
      "needs_background": "light"
     },
     "output_type": "display_data"
    }
   ],
   "source": [
    "sns.scatterplot(x='age', y ='height', hue='cluster', data=result_by_sklearn, palette = 'Set2')"
   ]
  },
  {
   "cell_type": "markdown",
   "id": "49855197",
   "metadata": {},
   "source": [
    "# scikit learn - height, bodytype"
   ]
  },
  {
   "cell_type": "code",
   "execution_count": 71,
   "id": "012338ee",
   "metadata": {},
   "outputs": [
    {
     "data": {
      "text/plain": [
       "KMeans(n_clusters=10)"
      ]
     },
     "execution_count": 71,
     "metadata": {},
     "output_type": "execute_result"
    }
   ],
   "source": [
    "from sklearn.cluster import KMeans\n",
    "kmeans = KMeans(n_clusters=10)\n",
    "kmeans.fit(p_male[['height','body_type_label']])"
   ]
  },
  {
   "cell_type": "code",
   "execution_count": 72,
   "id": "94f3f046",
   "metadata": {
    "scrolled": true
   },
   "outputs": [
    {
     "data": {
      "text/html": [
       "<div>\n",
       "<style scoped>\n",
       "    .dataframe tbody tr th:only-of-type {\n",
       "        vertical-align: middle;\n",
       "    }\n",
       "\n",
       "    .dataframe tbody tr th {\n",
       "        vertical-align: top;\n",
       "    }\n",
       "\n",
       "    .dataframe thead th {\n",
       "        text-align: right;\n",
       "    }\n",
       "</style>\n",
       "<table border=\"1\" class=\"dataframe\">\n",
       "  <thead>\n",
       "    <tr style=\"text-align: right;\">\n",
       "      <th></th>\n",
       "      <th>height</th>\n",
       "      <th>body_type_label</th>\n",
       "      <th>cluster</th>\n",
       "    </tr>\n",
       "  </thead>\n",
       "  <tbody>\n",
       "    <tr>\n",
       "      <th>0</th>\n",
       "      <td>75.0</td>\n",
       "      <td>0</td>\n",
       "      <td>3</td>\n",
       "    </tr>\n",
       "    <tr>\n",
       "      <th>1</th>\n",
       "      <td>70.0</td>\n",
       "      <td>2</td>\n",
       "      <td>6</td>\n",
       "    </tr>\n",
       "    <tr>\n",
       "      <th>2</th>\n",
       "      <td>68.0</td>\n",
       "      <td>10</td>\n",
       "      <td>9</td>\n",
       "    </tr>\n",
       "    <tr>\n",
       "      <th>3</th>\n",
       "      <td>71.0</td>\n",
       "      <td>10</td>\n",
       "      <td>2</td>\n",
       "    </tr>\n",
       "    <tr>\n",
       "      <th>4</th>\n",
       "      <td>66.0</td>\n",
       "      <td>1</td>\n",
       "      <td>5</td>\n",
       "    </tr>\n",
       "    <tr>\n",
       "      <th>...</th>\n",
       "      <td>...</td>\n",
       "      <td>...</td>\n",
       "      <td>...</td>\n",
       "    </tr>\n",
       "    <tr>\n",
       "      <th>29492</th>\n",
       "      <td>69.0</td>\n",
       "      <td>10</td>\n",
       "      <td>2</td>\n",
       "    </tr>\n",
       "    <tr>\n",
       "      <th>29493</th>\n",
       "      <td>72.0</td>\n",
       "      <td>4</td>\n",
       "      <td>7</td>\n",
       "    </tr>\n",
       "    <tr>\n",
       "      <th>29494</th>\n",
       "      <td>71.0</td>\n",
       "      <td>2</td>\n",
       "      <td>0</td>\n",
       "    </tr>\n",
       "    <tr>\n",
       "      <th>29495</th>\n",
       "      <td>73.0</td>\n",
       "      <td>1</td>\n",
       "      <td>0</td>\n",
       "    </tr>\n",
       "    <tr>\n",
       "      <th>29496</th>\n",
       "      <td>68.0</td>\n",
       "      <td>2</td>\n",
       "      <td>6</td>\n",
       "    </tr>\n",
       "  </tbody>\n",
       "</table>\n",
       "<p>29497 rows × 3 columns</p>\n",
       "</div>"
      ],
      "text/plain": [
       "       height  body_type_label  cluster\n",
       "0        75.0                0        3\n",
       "1        70.0                2        6\n",
       "2        68.0               10        9\n",
       "3        71.0               10        2\n",
       "4        66.0                1        5\n",
       "...       ...              ...      ...\n",
       "29492    69.0               10        2\n",
       "29493    72.0                4        7\n",
       "29494    71.0                2        0\n",
       "29495    73.0                1        0\n",
       "29496    68.0                2        6\n",
       "\n",
       "[29497 rows x 3 columns]"
      ]
     },
     "execution_count": 72,
     "metadata": {},
     "output_type": "execute_result"
    }
   ],
   "source": [
    "result_by_sklearn = p_male[['height','body_type_label']].copy()\n",
    "result_by_sklearn['cluster'] = kmeans.labels_\n",
    "result_by_sklearn"
   ]
  },
  {
   "cell_type": "code",
   "execution_count": 74,
   "id": "5a6a8cb9",
   "metadata": {},
   "outputs": [
    {
     "data": {
      "text/plain": [
       "<AxesSubplot:xlabel='height', ylabel='body_type_label'>"
      ]
     },
     "execution_count": 74,
     "metadata": {},
     "output_type": "execute_result"
    },
    {
     "data": {
      "image/png": "[encoded data removed]",
      "text/plain": [
       "<Figure size 432x288 with 1 Axes>"
      ]
     },
     "metadata": {
      "needs_background": "light"
     },
     "output_type": "display_data"
    }
   ],
   "source": [
    "sns.scatterplot(x='height', y='body_type_label', hue='cluster', data=result_by_sklearn, palette = 'Set2')"
   ]
  },
  {
   "cell_type": "markdown",
   "id": "18c1ac35",
   "metadata": {},
   "source": [
    "# scikit learn - age, status"
   ]
  },
  {
   "cell_type": "code",
   "execution_count": 62,
   "id": "ddc88736",
   "metadata": {},
   "outputs": [
    {
     "data": {
      "text/plain": [
       "KMeans(n_clusters=4)"
      ]
     },
     "execution_count": 62,
     "metadata": {},
     "output_type": "execute_result"
    }
   ],
   "source": [
    "from sklearn.cluster import KMeans\n",
    "kmeans = KMeans(n_clusters=4)\n",
    "kmeans.fit(p_male[['age','status_label']])"
   ]
  },
  {
   "cell_type": "code",
   "execution_count": 63,
   "id": "41100b91",
   "metadata": {},
   "outputs": [
    {
     "data": {
      "text/html": [
       "<div>\n",
       "<style scoped>\n",
       "    .dataframe tbody tr th:only-of-type {\n",
       "        vertical-align: middle;\n",
       "    }\n",
       "\n",
       "    .dataframe tbody tr th {\n",
       "        vertical-align: top;\n",
       "    }\n",
       "\n",
       "    .dataframe thead th {\n",
       "        text-align: right;\n",
       "    }\n",
       "</style>\n",
       "<table border=\"1\" class=\"dataframe\">\n",
       "  <thead>\n",
       "    <tr style=\"text-align: right;\">\n",
       "      <th></th>\n",
       "      <th>age</th>\n",
       "      <th>status_label</th>\n",
       "      <th>cluster</th>\n",
       "    </tr>\n",
       "  </thead>\n",
       "  <tbody>\n",
       "    <tr>\n",
       "      <th>0</th>\n",
       "      <td>22</td>\n",
       "      <td>3</td>\n",
       "      <td>1</td>\n",
       "    </tr>\n",
       "    <tr>\n",
       "      <th>1</th>\n",
       "      <td>35</td>\n",
       "      <td>3</td>\n",
       "      <td>3</td>\n",
       "    </tr>\n",
       "    <tr>\n",
       "      <th>2</th>\n",
       "      <td>38</td>\n",
       "      <td>0</td>\n",
       "      <td>0</td>\n",
       "    </tr>\n",
       "    <tr>\n",
       "      <th>3</th>\n",
       "      <td>23</td>\n",
       "      <td>3</td>\n",
       "      <td>1</td>\n",
       "    </tr>\n",
       "    <tr>\n",
       "      <th>4</th>\n",
       "      <td>29</td>\n",
       "      <td>3</td>\n",
       "      <td>3</td>\n",
       "    </tr>\n",
       "    <tr>\n",
       "      <th>...</th>\n",
       "      <td>...</td>\n",
       "      <td>...</td>\n",
       "      <td>...</td>\n",
       "    </tr>\n",
       "    <tr>\n",
       "      <th>29492</th>\n",
       "      <td>32</td>\n",
       "      <td>3</td>\n",
       "      <td>3</td>\n",
       "    </tr>\n",
       "    <tr>\n",
       "      <th>29493</th>\n",
       "      <td>24</td>\n",
       "      <td>3</td>\n",
       "      <td>1</td>\n",
       "    </tr>\n",
       "    <tr>\n",
       "      <th>29494</th>\n",
       "      <td>42</td>\n",
       "      <td>3</td>\n",
       "      <td>0</td>\n",
       "    </tr>\n",
       "    <tr>\n",
       "      <th>29495</th>\n",
       "      <td>27</td>\n",
       "      <td>3</td>\n",
       "      <td>1</td>\n",
       "    </tr>\n",
       "    <tr>\n",
       "      <th>29496</th>\n",
       "      <td>39</td>\n",
       "      <td>3</td>\n",
       "      <td>0</td>\n",
       "    </tr>\n",
       "  </tbody>\n",
       "</table>\n",
       "<p>29497 rows × 3 columns</p>\n",
       "</div>"
      ],
      "text/plain": [
       "       age  status_label  cluster\n",
       "0       22             3        1\n",
       "1       35             3        3\n",
       "2       38             0        0\n",
       "3       23             3        1\n",
       "4       29             3        3\n",
       "...    ...           ...      ...\n",
       "29492   32             3        3\n",
       "29493   24             3        1\n",
       "29494   42             3        0\n",
       "29495   27             3        1\n",
       "29496   39             3        0\n",
       "\n",
       "[29497 rows x 3 columns]"
      ]
     },
     "execution_count": 63,
     "metadata": {},
     "output_type": "execute_result"
    }
   ],
   "source": [
    "result_by_sklearn = p_male[['age','status_label']].copy()\n",
    "result_by_sklearn['cluster'] = kmeans.labels_\n",
    "result_by_sklearn"
   ]
  },
  {
   "cell_type": "code",
   "execution_count": 65,
   "id": "91411b85",
   "metadata": {
    "scrolled": true
   },
   "outputs": [
    {
     "data": {
      "text/plain": [
       "<AxesSubplot:xlabel='status_label', ylabel='age'>"
      ]
     },
     "execution_count": 65,
     "metadata": {},
     "output_type": "execute_result"
    },
    {
     "data": {
      "image/png": "[encoded data removed]",
      "text/plain": [
       "<Figure size 432x288 with 1 Axes>"
      ]
     },
     "metadata": {
      "needs_background": "light"
     },
     "output_type": "display_data"
    }
   ],
   "source": [
    "sns.scatterplot(y='age', x='status_label', hue='cluster', data=result_by_sklearn, palette = 'Set2')"
   ]
  },
  {
   "cell_type": "code",
   "execution_count": null,
   "id": "a60aa740",
   "metadata": {},
   "outputs": [],
   "source": []
  }
 ],
 "metadata": {
  "kernelspec": {
   "display_name": "Python 3 (ipykernel)",
   "language": "python",
   "name": "python3"
  },
  "language_info": {
   "codemirror_mode": {
    "name": "ipython",
    "version": 3
   },
   "file_extension": ".py",
   "mimetype": "text/x-python",
   "name": "python",
   "nbconvert_exporter": "python",
   "pygments_lexer": "ipython3",
   "version": "3.9.12"
  }
 },
 "nbformat": 4,
 "nbformat_minor": 5
}
